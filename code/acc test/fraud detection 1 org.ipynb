{
 "cells": [
  {
   "cell_type": "code",
   "execution_count": 320,
   "metadata": {
    "_cell_guid": "79c7e3d0-c299-4dcb-8224-4455121ee9b0",
    "_uuid": "d629ff2d2480ee46fbb7e2d37f6b5fab8052498a"
   },
   "outputs": [],
   "source": [
    "import numpy as np\n",
    "import pandas as pd\n",
    "import matplotlib.pyplot as plt\n",
    "import seaborn as sns\n",
    "from sklearn.model_selection import train_test_split\n",
    "from sklearn.linear_model import LogisticRegression\n",
    "from sklearn.metrics import classification_report\n",
    "from sklearn.tree import DecisionTreeClassifier\n",
    "from sklearn.metrics import accuracy_score\n",
    "from sklearn.model_selection import GridSearchCV\n",
    "from sklearn.svm import SVC\n",
    "%matplotlib inline\n",
    "import warnings\n",
    "warnings.filterwarnings(\"ignore\")"
   ]
  },
  {
   "cell_type": "code",
   "execution_count": 321,
   "metadata": {},
   "outputs": [],
   "source": [
    "df = pd.read_csv('file(3).csv')"
   ]
  },
  {
   "cell_type": "code",
   "execution_count": 322,
   "metadata": {},
   "outputs": [
    {
     "data": {
      "text/plain": [
       "(10302, 25)"
      ]
     },
     "execution_count": 322,
     "metadata": {},
     "output_type": "execute_result"
    }
   ],
   "source": [
    "df.shape"
   ]
  },
  {
   "cell_type": "code",
   "execution_count": 323,
   "metadata": {},
   "outputs": [
    {
     "data": {
      "text/html": [
       "<div>\n",
       "<style scoped>\n",
       "    .dataframe tbody tr th:only-of-type {\n",
       "        vertical-align: middle;\n",
       "    }\n",
       "\n",
       "    .dataframe tbody tr th {\n",
       "        vertical-align: top;\n",
       "    }\n",
       "\n",
       "    .dataframe thead th {\n",
       "        text-align: right;\n",
       "    }\n",
       "</style>\n",
       "<table border=\"1\" class=\"dataframe\">\n",
       "  <thead>\n",
       "    <tr style=\"text-align: right;\">\n",
       "      <th></th>\n",
       "      <th>ID</th>\n",
       "      <th>KIDSDRIV</th>\n",
       "      <th>AGE</th>\n",
       "      <th>HOMEKIDS</th>\n",
       "      <th>YOJ</th>\n",
       "      <th>INCOME</th>\n",
       "      <th>PARENT1</th>\n",
       "      <th>HOME_VAL</th>\n",
       "      <th>MSTATUS</th>\n",
       "      <th>GENDER</th>\n",
       "      <th>...</th>\n",
       "      <th>TIF</th>\n",
       "      <th>CAR_TYPE</th>\n",
       "      <th>RED_CAR</th>\n",
       "      <th>OLDCLAIM</th>\n",
       "      <th>CLM_FREQ</th>\n",
       "      <th>REVOKED</th>\n",
       "      <th>MVR_PTS</th>\n",
       "      <th>CLM_AMT</th>\n",
       "      <th>CAR_AGE</th>\n",
       "      <th>CLAIM_FLAG</th>\n",
       "    </tr>\n",
       "  </thead>\n",
       "  <tbody>\n",
       "    <tr>\n",
       "      <th>0</th>\n",
       "      <td>63581743</td>\n",
       "      <td>0</td>\n",
       "      <td>60.0</td>\n",
       "      <td>0</td>\n",
       "      <td>11.0</td>\n",
       "      <td>$67,349</td>\n",
       "      <td>No</td>\n",
       "      <td>$0</td>\n",
       "      <td>z_No</td>\n",
       "      <td>M</td>\n",
       "      <td>...</td>\n",
       "      <td>11</td>\n",
       "      <td>Minivan</td>\n",
       "      <td>yes</td>\n",
       "      <td>$4,461</td>\n",
       "      <td>2</td>\n",
       "      <td>No</td>\n",
       "      <td>3</td>\n",
       "      <td>$0</td>\n",
       "      <td>18.0</td>\n",
       "      <td>0</td>\n",
       "    </tr>\n",
       "    <tr>\n",
       "      <th>1</th>\n",
       "      <td>132761049</td>\n",
       "      <td>0</td>\n",
       "      <td>43.0</td>\n",
       "      <td>0</td>\n",
       "      <td>11.0</td>\n",
       "      <td>$91,449</td>\n",
       "      <td>No</td>\n",
       "      <td>$257,252</td>\n",
       "      <td>z_No</td>\n",
       "      <td>M</td>\n",
       "      <td>...</td>\n",
       "      <td>1</td>\n",
       "      <td>Minivan</td>\n",
       "      <td>yes</td>\n",
       "      <td>$0</td>\n",
       "      <td>0</td>\n",
       "      <td>No</td>\n",
       "      <td>0</td>\n",
       "      <td>$0</td>\n",
       "      <td>1.0</td>\n",
       "      <td>0</td>\n",
       "    </tr>\n",
       "    <tr>\n",
       "      <th>2</th>\n",
       "      <td>921317019</td>\n",
       "      <td>0</td>\n",
       "      <td>48.0</td>\n",
       "      <td>0</td>\n",
       "      <td>11.0</td>\n",
       "      <td>$52,881</td>\n",
       "      <td>No</td>\n",
       "      <td>$0</td>\n",
       "      <td>z_No</td>\n",
       "      <td>M</td>\n",
       "      <td>...</td>\n",
       "      <td>1</td>\n",
       "      <td>Van</td>\n",
       "      <td>yes</td>\n",
       "      <td>$0</td>\n",
       "      <td>0</td>\n",
       "      <td>No</td>\n",
       "      <td>2</td>\n",
       "      <td>$0</td>\n",
       "      <td>10.0</td>\n",
       "      <td>0</td>\n",
       "    </tr>\n",
       "    <tr>\n",
       "      <th>3</th>\n",
       "      <td>727598473</td>\n",
       "      <td>0</td>\n",
       "      <td>35.0</td>\n",
       "      <td>1</td>\n",
       "      <td>10.0</td>\n",
       "      <td>$16,039</td>\n",
       "      <td>No</td>\n",
       "      <td>$124,191</td>\n",
       "      <td>Yes</td>\n",
       "      <td>z_F</td>\n",
       "      <td>...</td>\n",
       "      <td>4</td>\n",
       "      <td>z_SUV</td>\n",
       "      <td>no</td>\n",
       "      <td>$38,690</td>\n",
       "      <td>2</td>\n",
       "      <td>No</td>\n",
       "      <td>3</td>\n",
       "      <td>$0</td>\n",
       "      <td>10.0</td>\n",
       "      <td>0</td>\n",
       "    </tr>\n",
       "    <tr>\n",
       "      <th>4</th>\n",
       "      <td>450221861</td>\n",
       "      <td>0</td>\n",
       "      <td>51.0</td>\n",
       "      <td>0</td>\n",
       "      <td>14.0</td>\n",
       "      <td>NaN</td>\n",
       "      <td>No</td>\n",
       "      <td>$306,251</td>\n",
       "      <td>Yes</td>\n",
       "      <td>M</td>\n",
       "      <td>...</td>\n",
       "      <td>7</td>\n",
       "      <td>Minivan</td>\n",
       "      <td>yes</td>\n",
       "      <td>$0</td>\n",
       "      <td>0</td>\n",
       "      <td>No</td>\n",
       "      <td>0</td>\n",
       "      <td>$0</td>\n",
       "      <td>6.0</td>\n",
       "      <td>0</td>\n",
       "    </tr>\n",
       "    <tr>\n",
       "      <th>5</th>\n",
       "      <td>743146596</td>\n",
       "      <td>0</td>\n",
       "      <td>50.0</td>\n",
       "      <td>0</td>\n",
       "      <td>NaN</td>\n",
       "      <td>$114,986</td>\n",
       "      <td>No</td>\n",
       "      <td>$243,925</td>\n",
       "      <td>Yes</td>\n",
       "      <td>z_F</td>\n",
       "      <td>...</td>\n",
       "      <td>1</td>\n",
       "      <td>z_SUV</td>\n",
       "      <td>no</td>\n",
       "      <td>$19,217</td>\n",
       "      <td>2</td>\n",
       "      <td>Yes</td>\n",
       "      <td>3</td>\n",
       "      <td>$0</td>\n",
       "      <td>17.0</td>\n",
       "      <td>0</td>\n",
       "    </tr>\n",
       "    <tr>\n",
       "      <th>6</th>\n",
       "      <td>871024631</td>\n",
       "      <td>0</td>\n",
       "      <td>34.0</td>\n",
       "      <td>1</td>\n",
       "      <td>12.0</td>\n",
       "      <td>$125,301</td>\n",
       "      <td>Yes</td>\n",
       "      <td>$0</td>\n",
       "      <td>z_No</td>\n",
       "      <td>z_F</td>\n",
       "      <td>...</td>\n",
       "      <td>1</td>\n",
       "      <td>Sports Car</td>\n",
       "      <td>no</td>\n",
       "      <td>$0</td>\n",
       "      <td>0</td>\n",
       "      <td>No</td>\n",
       "      <td>0</td>\n",
       "      <td>$2,946</td>\n",
       "      <td>7.0</td>\n",
       "      <td>1</td>\n",
       "    </tr>\n",
       "    <tr>\n",
       "      <th>7</th>\n",
       "      <td>792300541</td>\n",
       "      <td>0</td>\n",
       "      <td>54.0</td>\n",
       "      <td>0</td>\n",
       "      <td>NaN</td>\n",
       "      <td>$18,755</td>\n",
       "      <td>No</td>\n",
       "      <td>NaN</td>\n",
       "      <td>Yes</td>\n",
       "      <td>z_F</td>\n",
       "      <td>...</td>\n",
       "      <td>1</td>\n",
       "      <td>z_SUV</td>\n",
       "      <td>no</td>\n",
       "      <td>$0</td>\n",
       "      <td>0</td>\n",
       "      <td>No</td>\n",
       "      <td>0</td>\n",
       "      <td>$0</td>\n",
       "      <td>1.0</td>\n",
       "      <td>0</td>\n",
       "    </tr>\n",
       "    <tr>\n",
       "      <th>8</th>\n",
       "      <td>7945239</td>\n",
       "      <td>1</td>\n",
       "      <td>40.0</td>\n",
       "      <td>1</td>\n",
       "      <td>11.0</td>\n",
       "      <td>$50,815</td>\n",
       "      <td>Yes</td>\n",
       "      <td>$0</td>\n",
       "      <td>z_No</td>\n",
       "      <td>M</td>\n",
       "      <td>...</td>\n",
       "      <td>6</td>\n",
       "      <td>Minivan</td>\n",
       "      <td>no</td>\n",
       "      <td>$3,295</td>\n",
       "      <td>1</td>\n",
       "      <td>No</td>\n",
       "      <td>2</td>\n",
       "      <td>$6,477</td>\n",
       "      <td>1.0</td>\n",
       "      <td>1</td>\n",
       "    </tr>\n",
       "    <tr>\n",
       "      <th>9</th>\n",
       "      <td>3577610</td>\n",
       "      <td>0</td>\n",
       "      <td>44.0</td>\n",
       "      <td>2</td>\n",
       "      <td>12.0</td>\n",
       "      <td>$43,486</td>\n",
       "      <td>Yes</td>\n",
       "      <td>$0</td>\n",
       "      <td>z_No</td>\n",
       "      <td>z_F</td>\n",
       "      <td>...</td>\n",
       "      <td>10</td>\n",
       "      <td>z_SUV</td>\n",
       "      <td>no</td>\n",
       "      <td>$0</td>\n",
       "      <td>0</td>\n",
       "      <td>No</td>\n",
       "      <td>0</td>\n",
       "      <td>$0</td>\n",
       "      <td>10.0</td>\n",
       "      <td>0</td>\n",
       "    </tr>\n",
       "  </tbody>\n",
       "</table>\n",
       "<p>10 rows × 25 columns</p>\n",
       "</div>"
      ],
      "text/plain": [
       "          ID  KIDSDRIV   AGE  HOMEKIDS   YOJ    INCOME PARENT1  HOME_VAL  \\\n",
       "0   63581743         0  60.0         0  11.0   $67,349      No        $0   \n",
       "1  132761049         0  43.0         0  11.0   $91,449      No  $257,252   \n",
       "2  921317019         0  48.0         0  11.0   $52,881      No        $0   \n",
       "3  727598473         0  35.0         1  10.0   $16,039      No  $124,191   \n",
       "4  450221861         0  51.0         0  14.0       NaN      No  $306,251   \n",
       "5  743146596         0  50.0         0   NaN  $114,986      No  $243,925   \n",
       "6  871024631         0  34.0         1  12.0  $125,301     Yes        $0   \n",
       "7  792300541         0  54.0         0   NaN   $18,755      No       NaN   \n",
       "8    7945239         1  40.0         1  11.0   $50,815     Yes        $0   \n",
       "9    3577610         0  44.0         2  12.0   $43,486     Yes        $0   \n",
       "\n",
       "  MSTATUS GENDER  ... TIF    CAR_TYPE  RED_CAR OLDCLAIM CLM_FREQ  REVOKED  \\\n",
       "0    z_No      M  ...  11     Minivan      yes   $4,461        2       No   \n",
       "1    z_No      M  ...   1     Minivan      yes       $0        0       No   \n",
       "2    z_No      M  ...   1         Van      yes       $0        0       No   \n",
       "3     Yes    z_F  ...   4       z_SUV       no  $38,690        2       No   \n",
       "4     Yes      M  ...   7     Minivan      yes       $0        0       No   \n",
       "5     Yes    z_F  ...   1       z_SUV       no  $19,217        2      Yes   \n",
       "6    z_No    z_F  ...   1  Sports Car       no       $0        0       No   \n",
       "7     Yes    z_F  ...   1       z_SUV       no       $0        0       No   \n",
       "8    z_No      M  ...   6     Minivan       no   $3,295        1       No   \n",
       "9    z_No    z_F  ...  10       z_SUV       no       $0        0       No   \n",
       "\n",
       "  MVR_PTS CLM_AMT CAR_AGE  CLAIM_FLAG  \n",
       "0       3      $0    18.0           0  \n",
       "1       0      $0     1.0           0  \n",
       "2       2      $0    10.0           0  \n",
       "3       3      $0    10.0           0  \n",
       "4       0      $0     6.0           0  \n",
       "5       3      $0    17.0           0  \n",
       "6       0  $2,946     7.0           1  \n",
       "7       0      $0     1.0           0  \n",
       "8       2  $6,477     1.0           1  \n",
       "9       0      $0    10.0           0  \n",
       "\n",
       "[10 rows x 25 columns]"
      ]
     },
     "execution_count": 323,
     "metadata": {},
     "output_type": "execute_result"
    }
   ],
   "source": [
    "df.head(10)"
   ]
  },
  {
   "cell_type": "code",
   "execution_count": 324,
   "metadata": {},
   "outputs": [
    {
     "data": {
      "text/plain": [
       "ID              0\n",
       "KIDSDRIV        0\n",
       "AGE             7\n",
       "HOMEKIDS        0\n",
       "YOJ           548\n",
       "INCOME        570\n",
       "PARENT1         0\n",
       "HOME_VAL      575\n",
       "MSTATUS         0\n",
       "GENDER          0\n",
       "EDUCATION       0\n",
       "OCCUPATION    665\n",
       "TRAVTIME        0\n",
       "CAR_USE         0\n",
       "BLUEBOOK        0\n",
       "TIF             0\n",
       "CAR_TYPE        0\n",
       "RED_CAR         0\n",
       "OLDCLAIM        0\n",
       "CLM_FREQ        0\n",
       "REVOKED         0\n",
       "MVR_PTS         0\n",
       "CLM_AMT         0\n",
       "CAR_AGE       639\n",
       "CLAIM_FLAG      0\n",
       "dtype: int64"
      ]
     },
     "execution_count": 324,
     "metadata": {},
     "output_type": "execute_result"
    }
   ],
   "source": [
    "df.isna().sum()"
   ]
  },
  {
   "cell_type": "code",
   "execution_count": 325,
   "metadata": {},
   "outputs": [],
   "source": [
    "df.dropna(axis = 'index' , how = 'any' , inplace = True)\n",
    "df.drop(df[['KIDSDRIV' , 'AGE' , 'HOMEKIDS' , 'YOJ' , 'PARENT1' ,'CLM_AMT', 'HOME_VAL' , 'MSTATUS'\n",
    "            , 'GENDER' , 'EDUCATION' , 'TIF' , 'RED_CAR']], axis =1 , inplace = True)"
   ]
  },
  {
   "cell_type": "code",
   "execution_count": 326,
   "metadata": {},
   "outputs": [],
   "source": [
    "X = df.iloc[: ,1:-1 ]\n",
    "Y = df.iloc[: , -1]"
   ]
  },
  {
   "cell_type": "code",
   "execution_count": 327,
   "metadata": {},
   "outputs": [],
   "source": [
    "dummie1 = pd.get_dummies(df['OCCUPATION'])\n",
    "dummie2 = pd.get_dummies(df['CAR_USE'])\n",
    "dummie3 = pd.get_dummies(df['CAR_TYPE'])"
   ]
  },
  {
   "cell_type": "code",
   "execution_count": 328,
   "metadata": {},
   "outputs": [],
   "source": [
    "dummies = [dummie1 , dummie2 , dummie3]"
   ]
  },
  {
   "cell_type": "code",
   "execution_count": 329,
   "metadata": {},
   "outputs": [],
   "source": [
    "X.drop(['OCCUPATION', 'CAR_USE' , 'CAR_TYPE']  ,axis = 1, inplace = True)"
   ]
  },
  {
   "cell_type": "code",
   "execution_count": 330,
   "metadata": {},
   "outputs": [],
   "source": [
    "X = pd.concat([X , dummie1] , axis = 1)\n",
    "X = pd.concat([X , dummie2] , axis = 1)\n",
    "X = pd.concat([X , dummie3] , axis = 1)"
   ]
  },
  {
   "cell_type": "code",
   "execution_count": 331,
   "metadata": {},
   "outputs": [],
   "source": [
    "X['INCOME'] = X['INCOME'].str.replace('$' , '')\n",
    "X['INCOME'] = X['INCOME'].str.replace(',' , '')\n",
    "X['INCOME'] = X['INCOME'].astype(int)\n",
    "X['BLUEBOOK'] = X['BLUEBOOK'].str.replace('$' , '')\n",
    "X['BLUEBOOK'] = X['BLUEBOOK'].str.replace(',' , '')\n",
    "X['BLUEBOOK'] = X['BLUEBOOK'].astype(int)\n",
    "X['OLDCLAIM'] = X['OLDCLAIM'].str.replace('$' , '')\n",
    "X['OLDCLAIM'] = X['OLDCLAIM'].str.replace(',' , '')\n",
    "X['OLDCLAIM'] = X['OLDCLAIM'].astype(int)\n",
    "#X['CLM_AMT'] = X['CLM_AMT'].str.replace('$' , '')\n",
    "#X['CLM_AMT'] = X['CLM_AMT'].str.replace(',' , '')\n",
    "#X['CLM_AMT'] = X['CLM_AMT'].astype(int)"
   ]
  },
  {
   "cell_type": "code",
   "execution_count": 332,
   "metadata": {},
   "outputs": [],
   "source": [
    "from sklearn.preprocessing import LabelEncoder , OneHotEncoder\n",
    "from sklearn.model_selection import train_test_split\n",
    "from sklearn.linear_model import LogisticRegression\n",
    "from sklearn.metrics import confusion_matrix , classification_report , accuracy_score"
   ]
  },
  {
   "cell_type": "code",
   "execution_count": 333,
   "metadata": {},
   "outputs": [],
   "source": [
    "labelencoder = LabelEncoder()\n",
    "onehotencoder = OneHotEncoder()\n",
    "log_reg = LogisticRegression()"
   ]
  },
  {
   "cell_type": "code",
   "execution_count": 334,
   "metadata": {},
   "outputs": [],
   "source": [
    "X['REVOKED'] = labelencoder.fit_transform(X['REVOKED'])"
   ]
  },
  {
   "cell_type": "code",
   "execution_count": 344,
   "metadata": {},
   "outputs": [],
   "source": [
    "X.shape\n",
    "from sklearn.preprocessing import StandardScaler\n",
    "\n",
    "sc = StandardScaler()\n",
    "X = sc.fit_transform(X)"
   ]
  },
  {
   "cell_type": "code",
   "execution_count": 345,
   "metadata": {},
   "outputs": [],
   "source": [
    "X_train , X_test , Y_train , Y_test = train_test_split(X,Y , test_size = 0.9)"
   ]
  },
  {
   "cell_type": "code",
   "execution_count": 346,
   "metadata": {},
   "outputs": [
    {
     "data": {
      "text/plain": [
       "LogisticRegression()"
      ]
     },
     "execution_count": 346,
     "metadata": {},
     "output_type": "execute_result"
    }
   ],
   "source": [
    "log_reg.fit(X_train , Y_train)"
   ]
  },
  {
   "cell_type": "code",
   "execution_count": 347,
   "metadata": {},
   "outputs": [],
   "source": [
    "predictions = log_reg.predict(X_test)"
   ]
  },
  {
   "cell_type": "code",
   "execution_count": 348,
   "metadata": {},
   "outputs": [
    {
     "name": "stdout",
     "output_type": "stream",
     "text": [
      "              precision    recall  f1-score   support\n",
      "\n",
      "           0       0.78      0.93      0.85      5033\n",
      "           1       0.60      0.28      0.39      1859\n",
      "\n",
      "    accuracy                           0.76      6892\n",
      "   macro avg       0.69      0.61      0.62      6892\n",
      "weighted avg       0.73      0.76      0.72      6892\n",
      "\n"
     ]
    }
   ],
   "source": [
    "print(classification_report(Y_test , predictions))"
   ]
  },
  {
   "cell_type": "code",
   "execution_count": 349,
   "metadata": {},
   "outputs": [
    {
     "data": {
      "text/plain": [
       "array([[4688,  345],\n",
       "       [1333,  526]], dtype=int64)"
      ]
     },
     "execution_count": 349,
     "metadata": {},
     "output_type": "execute_result"
    }
   ],
   "source": [
    "confusion_matrix(Y_test , predictions)"
   ]
  },
  {
   "cell_type": "code",
   "execution_count": 350,
   "metadata": {},
   "outputs": [
    {
     "name": "stdout",
     "output_type": "stream",
     "text": [
      "0.6497388276262334\n",
      "\n",
      "              precision    recall  f1-score   support\n",
      "\n",
      "           0       0.76      0.75      0.76      5033\n",
      "           1       0.36      0.37      0.37      1859\n",
      "\n",
      "    accuracy                           0.65      6892\n",
      "   macro avg       0.56      0.56      0.56      6892\n",
      "weighted avg       0.66      0.65      0.65      6892\n",
      "\n"
     ]
    }
   ],
   "source": [
    "from sklearn.tree import DecisionTreeClassifier\n",
    "dtc = DecisionTreeClassifier()\n",
    "\n",
    "dtc.fit(X_train, Y_train)\n",
    "preds = dtc.predict(X_test)\n",
    "\n",
    "score = dtc.score(X_test, Y_test)\n",
    "print(score)\n",
    "print()\n",
    "print(classification_report(Y_test, preds))"
   ]
  },
  {
   "cell_type": "code",
   "execution_count": 355,
   "metadata": {},
   "outputs": [
    {
     "name": "stdout",
     "output_type": "stream",
     "text": [
      "74.52118398142774\n",
      "\n",
      "              precision    recall  f1-score   support\n",
      "\n",
      "           0       0.77      0.93      0.84      5033\n",
      "           1       0.57      0.24      0.34      1859\n",
      "\n",
      "    accuracy                           0.75      6892\n",
      "   macro avg       0.67      0.59      0.59      6892\n",
      "weighted avg       0.71      0.75      0.71      6892\n",
      "\n"
     ]
    }
   ],
   "source": [
    "from sklearn.ensemble import RandomForestClassifier\n",
    "rfc = RandomForestClassifier(random_state = 1)\n",
    "rfc.fit(X_train, Y_train)\n",
    "preds = rfc.predict(X_test)\n",
    "\n",
    "score = rfc.score(X_test, Y_test)\n",
    "print(score*100)\n",
    "print()\n",
    "print(classification_report(Y_test, preds))"
   ]
  },
  {
   "cell_type": "code",
   "execution_count": 359,
   "metadata": {},
   "outputs": [
    {
     "name": "stdout",
     "output_type": "stream",
     "text": [
      "Score with degree as 2, kernel as rbf, C as 1 is best\n",
      "Score: 0.7066163668020894\n",
      "Classification report:               precision    recall  f1-score   support\n",
      "\n",
      "           0       0.77      0.86      0.81      5033\n",
      "           1       0.44      0.30      0.36      1859\n",
      "\n",
      "    accuracy                           0.71      6892\n",
      "   macro avg       0.60      0.58      0.58      6892\n",
      "weighted avg       0.68      0.71      0.69      6892\n",
      "\n"
     ]
    }
   ],
   "source": [
    "degrees = [2,3,4,5,6,7,8]\n",
    "kernels = ['poly', 'rbf', 'sigmoid']\n",
    "c_value = [1,2,3]\n",
    "scores = {}\n",
    "for degree in degrees:\n",
    "    for kernel in kernels:\n",
    "        for c in c_value:\n",
    "            svc_t = SVC(kernel = kernel, degree = degree, C = c)\n",
    "            svc_t.fit(X_train, Y_train)\n",
    "            \n",
    "            preds = svc_t.predict(X_test)\n",
    "            score = svc_t.score(X_test,Y_test)\n",
    "#             print('Score with degree as {d}, kernel as {k}, C as {c} is:'.format(d = degree, k = kernel, c = c), score)\n",
    "            scores['Score with degree as {d}, kernel as {k}, C as {c} is best'.format(d = degree, k = kernel, c = c)] = score\n",
    "\n",
    "print(max(scores, key=scores.get))\n",
    "svc_tuned = SVC(kernel='sigmoid', degree = 2, C = 3)\n",
    "svc_tuned.fit(X_train, Y_train)\n",
    "\n",
    "preds = svc_tuned.predict(X_test)\n",
    "\n",
    "print('Score:' , svc_tuned.score(X_test, Y_test))\n",
    "print('Classification report:', classification_report(Y_test, preds))"
   ]
  },
  {
   "cell_type": "code",
   "execution_count": null,
   "metadata": {},
   "outputs": [],
   "source": []
  }
 ],
 "metadata": {
  "kernelspec": {
   "display_name": "Python 3",
   "language": "python",
   "name": "python3"
  },
  "language_info": {
   "codemirror_mode": {
    "name": "ipython",
    "version": 3
   },
   "file_extension": ".py",
   "mimetype": "text/x-python",
   "name": "python",
   "nbconvert_exporter": "python",
   "pygments_lexer": "ipython3",
   "version": "3.8.3"
  }
 },
 "nbformat": 4,
 "nbformat_minor": 4
}
