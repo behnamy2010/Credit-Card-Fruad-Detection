{
 "cells": [
  {
   "cell_type": "code",
   "execution_count": 1,
   "metadata": {
    "_cell_guid": "79c7e3d0-c299-4dcb-8224-4455121ee9b0",
    "_uuid": "d629ff2d2480ee46fbb7e2d37f6b5fab8052498a"
   },
   "outputs": [],
   "source": [
    "import numpy as np\n",
    "import pandas as pd\n",
    "import matplotlib.pyplot as plt\n",
    "import seaborn as sns\n",
    "from sklearn.model_selection import train_test_split\n",
    "from sklearn.linear_model import LogisticRegression\n",
    "from sklearn.metrics import classification_report\n",
    "from sklearn.tree import DecisionTreeClassifier\n",
    "from sklearn.metrics import accuracy_score\n",
    "from sklearn.model_selection import GridSearchCV\n",
    "from sklearn.svm import SVC\n",
    "%matplotlib inline\n",
    "import warnings\n",
    "warnings.filterwarnings(\"ignore\")"
   ]
  },
  {
   "cell_type": "code",
   "execution_count": 3,
   "metadata": {},
   "outputs": [],
   "source": [
    "df = pd.read_excel('sampled 3.xlsx')"
   ]
  },
  {
   "cell_type": "code",
   "execution_count": 4,
   "metadata": {},
   "outputs": [
    {
     "data": {
      "text/plain": [
       "(5366, 25)"
      ]
     },
     "execution_count": 4,
     "metadata": {},
     "output_type": "execute_result"
    }
   ],
   "source": [
    "df.shape"
   ]
  },
  {
   "cell_type": "code",
   "execution_count": 5,
   "metadata": {},
   "outputs": [
    {
     "data": {
      "text/html": [
       "<div>\n",
       "<style scoped>\n",
       "    .dataframe tbody tr th:only-of-type {\n",
       "        vertical-align: middle;\n",
       "    }\n",
       "\n",
       "    .dataframe tbody tr th {\n",
       "        vertical-align: top;\n",
       "    }\n",
       "\n",
       "    .dataframe thead th {\n",
       "        text-align: right;\n",
       "    }\n",
       "</style>\n",
       "<table border=\"1\" class=\"dataframe\">\n",
       "  <thead>\n",
       "    <tr style=\"text-align: right;\">\n",
       "      <th></th>\n",
       "      <th>ID</th>\n",
       "      <th>KIDSDRIV</th>\n",
       "      <th>AGE</th>\n",
       "      <th>HOMEKIDS</th>\n",
       "      <th>YOJ</th>\n",
       "      <th>INCOME</th>\n",
       "      <th>PARENT1</th>\n",
       "      <th>HOME_VAL</th>\n",
       "      <th>MSTATUS</th>\n",
       "      <th>GENDER</th>\n",
       "      <th>...</th>\n",
       "      <th>TIF</th>\n",
       "      <th>CAR_TYPE</th>\n",
       "      <th>RED_CAR</th>\n",
       "      <th>OLDCLAIM</th>\n",
       "      <th>CLM_FREQ</th>\n",
       "      <th>REVOKED</th>\n",
       "      <th>MVR_PTS</th>\n",
       "      <th>CLM_AMT</th>\n",
       "      <th>CAR_AGE</th>\n",
       "      <th>CLAIM_FLAG</th>\n",
       "    </tr>\n",
       "  </thead>\n",
       "  <tbody>\n",
       "    <tr>\n",
       "      <th>0</th>\n",
       "      <td>871024631</td>\n",
       "      <td>0</td>\n",
       "      <td>34.0</td>\n",
       "      <td>1</td>\n",
       "      <td>12.0</td>\n",
       "      <td>$125,301</td>\n",
       "      <td>Yes</td>\n",
       "      <td>$0</td>\n",
       "      <td>z_No</td>\n",
       "      <td>z_F</td>\n",
       "      <td>...</td>\n",
       "      <td>1</td>\n",
       "      <td>Sports Car</td>\n",
       "      <td>no</td>\n",
       "      <td>$0</td>\n",
       "      <td>0</td>\n",
       "      <td>No</td>\n",
       "      <td>0</td>\n",
       "      <td>$2,946</td>\n",
       "      <td>7.0</td>\n",
       "      <td>1</td>\n",
       "    </tr>\n",
       "    <tr>\n",
       "      <th>1</th>\n",
       "      <td>7945239</td>\n",
       "      <td>1</td>\n",
       "      <td>40.0</td>\n",
       "      <td>1</td>\n",
       "      <td>11.0</td>\n",
       "      <td>$50,815</td>\n",
       "      <td>Yes</td>\n",
       "      <td>$0</td>\n",
       "      <td>z_No</td>\n",
       "      <td>M</td>\n",
       "      <td>...</td>\n",
       "      <td>6</td>\n",
       "      <td>Minivan</td>\n",
       "      <td>no</td>\n",
       "      <td>$3,295</td>\n",
       "      <td>1</td>\n",
       "      <td>No</td>\n",
       "      <td>2</td>\n",
       "      <td>$6,477</td>\n",
       "      <td>1.0</td>\n",
       "      <td>1</td>\n",
       "    </tr>\n",
       "    <tr>\n",
       "      <th>2</th>\n",
       "      <td>892208080</td>\n",
       "      <td>1</td>\n",
       "      <td>37.0</td>\n",
       "      <td>2</td>\n",
       "      <td>NaN</td>\n",
       "      <td>$107,961</td>\n",
       "      <td>No</td>\n",
       "      <td>$333,680</td>\n",
       "      <td>Yes</td>\n",
       "      <td>M</td>\n",
       "      <td>...</td>\n",
       "      <td>1</td>\n",
       "      <td>Van</td>\n",
       "      <td>yes</td>\n",
       "      <td>$2,374</td>\n",
       "      <td>1</td>\n",
       "      <td>Yes</td>\n",
       "      <td>10</td>\n",
       "      <td>$4,021</td>\n",
       "      <td>7.0</td>\n",
       "      <td>1</td>\n",
       "    </tr>\n",
       "    <tr>\n",
       "      <th>3</th>\n",
       "      <td>77382913</td>\n",
       "      <td>0</td>\n",
       "      <td>34.0</td>\n",
       "      <td>0</td>\n",
       "      <td>10.0</td>\n",
       "      <td>$62,978</td>\n",
       "      <td>No</td>\n",
       "      <td>$0</td>\n",
       "      <td>z_No</td>\n",
       "      <td>z_F</td>\n",
       "      <td>...</td>\n",
       "      <td>1</td>\n",
       "      <td>z_SUV</td>\n",
       "      <td>no</td>\n",
       "      <td>$0</td>\n",
       "      <td>0</td>\n",
       "      <td>No</td>\n",
       "      <td>0</td>\n",
       "      <td>$2,501</td>\n",
       "      <td>1.0</td>\n",
       "      <td>1</td>\n",
       "    </tr>\n",
       "    <tr>\n",
       "      <th>4</th>\n",
       "      <td>308455362</td>\n",
       "      <td>0</td>\n",
       "      <td>53.0</td>\n",
       "      <td>0</td>\n",
       "      <td>14.0</td>\n",
       "      <td>$77,100</td>\n",
       "      <td>No</td>\n",
       "      <td>$0</td>\n",
       "      <td>z_No</td>\n",
       "      <td>z_F</td>\n",
       "      <td>...</td>\n",
       "      <td>1</td>\n",
       "      <td>Sports Car</td>\n",
       "      <td>no</td>\n",
       "      <td>$0</td>\n",
       "      <td>0</td>\n",
       "      <td>No</td>\n",
       "      <td>0</td>\n",
       "      <td>$6,077</td>\n",
       "      <td>11.0</td>\n",
       "      <td>1</td>\n",
       "    </tr>\n",
       "    <tr>\n",
       "      <th>5</th>\n",
       "      <td>665591504</td>\n",
       "      <td>0</td>\n",
       "      <td>53.0</td>\n",
       "      <td>0</td>\n",
       "      <td>11.0</td>\n",
       "      <td>$130,795</td>\n",
       "      <td>No</td>\n",
       "      <td>$0</td>\n",
       "      <td>z_No</td>\n",
       "      <td>M</td>\n",
       "      <td>...</td>\n",
       "      <td>6</td>\n",
       "      <td>Panel Truck</td>\n",
       "      <td>yes</td>\n",
       "      <td>$0</td>\n",
       "      <td>0</td>\n",
       "      <td>No</td>\n",
       "      <td>3</td>\n",
       "      <td>$1,267</td>\n",
       "      <td>10.0</td>\n",
       "      <td>1</td>\n",
       "    </tr>\n",
       "    <tr>\n",
       "      <th>6</th>\n",
       "      <td>588888550</td>\n",
       "      <td>0</td>\n",
       "      <td>45.0</td>\n",
       "      <td>0</td>\n",
       "      <td>0.0</td>\n",
       "      <td>$0</td>\n",
       "      <td>No</td>\n",
       "      <td>$106,859</td>\n",
       "      <td>Yes</td>\n",
       "      <td>z_F</td>\n",
       "      <td>...</td>\n",
       "      <td>1</td>\n",
       "      <td>z_SUV</td>\n",
       "      <td>no</td>\n",
       "      <td>$0</td>\n",
       "      <td>0</td>\n",
       "      <td>No</td>\n",
       "      <td>3</td>\n",
       "      <td>$2,920</td>\n",
       "      <td>5.0</td>\n",
       "      <td>1</td>\n",
       "    </tr>\n",
       "    <tr>\n",
       "      <th>7</th>\n",
       "      <td>162166370</td>\n",
       "      <td>0</td>\n",
       "      <td>59.0</td>\n",
       "      <td>0</td>\n",
       "      <td>12.0</td>\n",
       "      <td>$87,460</td>\n",
       "      <td>No</td>\n",
       "      <td>$0</td>\n",
       "      <td>z_No</td>\n",
       "      <td>M</td>\n",
       "      <td>...</td>\n",
       "      <td>1</td>\n",
       "      <td>Minivan</td>\n",
       "      <td>yes</td>\n",
       "      <td>$44,857</td>\n",
       "      <td>2</td>\n",
       "      <td>No</td>\n",
       "      <td>4</td>\n",
       "      <td>$4,111</td>\n",
       "      <td>1.0</td>\n",
       "      <td>1</td>\n",
       "    </tr>\n",
       "    <tr>\n",
       "      <th>8</th>\n",
       "      <td>235358484</td>\n",
       "      <td>0</td>\n",
       "      <td>28.0</td>\n",
       "      <td>1</td>\n",
       "      <td>13.0</td>\n",
       "      <td>$44,077</td>\n",
       "      <td>No</td>\n",
       "      <td>$170,598</td>\n",
       "      <td>Yes</td>\n",
       "      <td>z_F</td>\n",
       "      <td>...</td>\n",
       "      <td>6</td>\n",
       "      <td>z_SUV</td>\n",
       "      <td>no</td>\n",
       "      <td>$8,935</td>\n",
       "      <td>2</td>\n",
       "      <td>No</td>\n",
       "      <td>0</td>\n",
       "      <td>$6,857</td>\n",
       "      <td>1.0</td>\n",
       "      <td>1</td>\n",
       "    </tr>\n",
       "    <tr>\n",
       "      <th>9</th>\n",
       "      <td>528040687</td>\n",
       "      <td>0</td>\n",
       "      <td>43.0</td>\n",
       "      <td>0</td>\n",
       "      <td>13.0</td>\n",
       "      <td>$37,214</td>\n",
       "      <td>No</td>\n",
       "      <td>NaN</td>\n",
       "      <td>Yes</td>\n",
       "      <td>M</td>\n",
       "      <td>...</td>\n",
       "      <td>1</td>\n",
       "      <td>Panel Truck</td>\n",
       "      <td>yes</td>\n",
       "      <td>$0</td>\n",
       "      <td>0</td>\n",
       "      <td>No</td>\n",
       "      <td>3</td>\n",
       "      <td>$3,627</td>\n",
       "      <td>1.0</td>\n",
       "      <td>1</td>\n",
       "    </tr>\n",
       "  </tbody>\n",
       "</table>\n",
       "<p>10 rows × 25 columns</p>\n",
       "</div>"
      ],
      "text/plain": [
       "          ID  KIDSDRIV   AGE  HOMEKIDS   YOJ    INCOME PARENT1  HOME_VAL  \\\n",
       "0  871024631         0  34.0         1  12.0  $125,301     Yes        $0   \n",
       "1    7945239         1  40.0         1  11.0   $50,815     Yes        $0   \n",
       "2  892208080         1  37.0         2   NaN  $107,961      No  $333,680   \n",
       "3   77382913         0  34.0         0  10.0   $62,978      No        $0   \n",
       "4  308455362         0  53.0         0  14.0   $77,100      No        $0   \n",
       "5  665591504         0  53.0         0  11.0  $130,795      No        $0   \n",
       "6  588888550         0  45.0         0   0.0        $0      No  $106,859   \n",
       "7  162166370         0  59.0         0  12.0   $87,460      No        $0   \n",
       "8  235358484         0  28.0         1  13.0   $44,077      No  $170,598   \n",
       "9  528040687         0  43.0         0  13.0   $37,214      No       NaN   \n",
       "\n",
       "  MSTATUS GENDER  ... TIF     CAR_TYPE  RED_CAR OLDCLAIM CLM_FREQ  REVOKED  \\\n",
       "0    z_No    z_F  ...   1   Sports Car       no       $0        0       No   \n",
       "1    z_No      M  ...   6      Minivan       no   $3,295        1       No   \n",
       "2     Yes      M  ...   1          Van      yes   $2,374        1      Yes   \n",
       "3    z_No    z_F  ...   1        z_SUV       no       $0        0       No   \n",
       "4    z_No    z_F  ...   1   Sports Car       no       $0        0       No   \n",
       "5    z_No      M  ...   6  Panel Truck      yes       $0        0       No   \n",
       "6     Yes    z_F  ...   1        z_SUV       no       $0        0       No   \n",
       "7    z_No      M  ...   1      Minivan      yes  $44,857        2       No   \n",
       "8     Yes    z_F  ...   6        z_SUV       no   $8,935        2       No   \n",
       "9     Yes      M  ...   1  Panel Truck      yes       $0        0       No   \n",
       "\n",
       "  MVR_PTS CLM_AMT CAR_AGE  CLAIM_FLAG  \n",
       "0       0  $2,946     7.0           1  \n",
       "1       2  $6,477     1.0           1  \n",
       "2      10  $4,021     7.0           1  \n",
       "3       0  $2,501     1.0           1  \n",
       "4       0  $6,077    11.0           1  \n",
       "5       3  $1,267    10.0           1  \n",
       "6       3  $2,920     5.0           1  \n",
       "7       4  $4,111     1.0           1  \n",
       "8       0  $6,857     1.0           1  \n",
       "9       3  $3,627     1.0           1  \n",
       "\n",
       "[10 rows x 25 columns]"
      ]
     },
     "execution_count": 5,
     "metadata": {},
     "output_type": "execute_result"
    }
   ],
   "source": [
    "df.head(10)"
   ]
  },
  {
   "cell_type": "code",
   "execution_count": 6,
   "metadata": {},
   "outputs": [
    {
     "data": {
      "text/plain": [
       "ID              0\n",
       "KIDSDRIV        0\n",
       "AGE             6\n",
       "HOMEKIDS        0\n",
       "YOJ           308\n",
       "INCOME        283\n",
       "PARENT1         0\n",
       "HOME_VAL      320\n",
       "MSTATUS         0\n",
       "GENDER          0\n",
       "EDUCATION       0\n",
       "OCCUPATION    356\n",
       "TRAVTIME        0\n",
       "CAR_USE         0\n",
       "BLUEBOOK        0\n",
       "TIF             0\n",
       "CAR_TYPE        0\n",
       "RED_CAR         0\n",
       "OLDCLAIM        0\n",
       "CLM_FREQ        0\n",
       "REVOKED         0\n",
       "MVR_PTS         0\n",
       "CLM_AMT         0\n",
       "CAR_AGE       355\n",
       "CLAIM_FLAG      0\n",
       "dtype: int64"
      ]
     },
     "execution_count": 6,
     "metadata": {},
     "output_type": "execute_result"
    }
   ],
   "source": [
    "df.isna().sum()"
   ]
  },
  {
   "cell_type": "code",
   "execution_count": 7,
   "metadata": {},
   "outputs": [],
   "source": [
    "df.dropna(axis = 'index' , how = 'any' , inplace = True)\n",
    "df.drop(df[['KIDSDRIV' , 'AGE' , 'HOMEKIDS' , 'YOJ' , 'PARENT1' ,'CLM_AMT', 'HOME_VAL' , 'MSTATUS'\n",
    "            , 'GENDER' , 'EDUCATION' , 'TIF' , 'RED_CAR']], axis =1 , inplace = True)"
   ]
  },
  {
   "cell_type": "code",
   "execution_count": 8,
   "metadata": {},
   "outputs": [],
   "source": [
    "X = df.iloc[: ,1:-1 ]\n",
    "Y = df.iloc[: , -1]"
   ]
  },
  {
   "cell_type": "code",
   "execution_count": 9,
   "metadata": {},
   "outputs": [],
   "source": [
    "dummie1 = pd.get_dummies(df['OCCUPATION'])\n",
    "dummie2 = pd.get_dummies(df['CAR_USE'])\n",
    "dummie3 = pd.get_dummies(df['CAR_TYPE'])"
   ]
  },
  {
   "cell_type": "code",
   "execution_count": 10,
   "metadata": {},
   "outputs": [],
   "source": [
    "dummies = [dummie1 , dummie2 , dummie3]"
   ]
  },
  {
   "cell_type": "code",
   "execution_count": 11,
   "metadata": {},
   "outputs": [],
   "source": [
    "X.drop(['OCCUPATION', 'CAR_USE' , 'CAR_TYPE']  ,axis = 1, inplace = True)"
   ]
  },
  {
   "cell_type": "code",
   "execution_count": 12,
   "metadata": {},
   "outputs": [],
   "source": [
    "X = pd.concat([X , dummie1] , axis = 1)\n",
    "X = pd.concat([X , dummie2] , axis = 1)\n",
    "X = pd.concat([X , dummie3] , axis = 1)"
   ]
  },
  {
   "cell_type": "code",
   "execution_count": 13,
   "metadata": {},
   "outputs": [],
   "source": [
    "X['INCOME'] = X['INCOME'].str.replace('$' , '')\n",
    "X['INCOME'] = X['INCOME'].str.replace(',' , '')\n",
    "X['INCOME'] = X['INCOME'].astype(int)\n",
    "X['BLUEBOOK'] = X['BLUEBOOK'].str.replace('$' , '')\n",
    "X['BLUEBOOK'] = X['BLUEBOOK'].str.replace(',' , '')\n",
    "X['BLUEBOOK'] = X['BLUEBOOK'].astype(int)\n",
    "X['OLDCLAIM'] = X['OLDCLAIM'].str.replace('$' , '')\n",
    "X['OLDCLAIM'] = X['OLDCLAIM'].str.replace(',' , '')\n",
    "X['OLDCLAIM'] = X['OLDCLAIM'].astype(int)\n",
    "#X['CLM_AMT'] = X['CLM_AMT'].str.replace('$' , '')\n",
    "#X['CLM_AMT'] = X['CLM_AMT'].str.replace(',' , '')\n",
    "#X['CLM_AMT'] = X['CLM_AMT'].astype(int)"
   ]
  },
  {
   "cell_type": "code",
   "execution_count": 14,
   "metadata": {},
   "outputs": [],
   "source": [
    "from sklearn.preprocessing import LabelEncoder , OneHotEncoder\n",
    "from sklearn.model_selection import train_test_split\n",
    "from sklearn.linear_model import LogisticRegression\n",
    "from sklearn.metrics import confusion_matrix , classification_report , accuracy_score"
   ]
  },
  {
   "cell_type": "code",
   "execution_count": 15,
   "metadata": {},
   "outputs": [],
   "source": [
    "labelencoder = LabelEncoder()\n",
    "onehotencoder = OneHotEncoder()\n",
    "log_reg = LogisticRegression()"
   ]
  },
  {
   "cell_type": "code",
   "execution_count": 16,
   "metadata": {},
   "outputs": [],
   "source": [
    "X['REVOKED'] = labelencoder.fit_transform(X['REVOKED'])"
   ]
  },
  {
   "cell_type": "code",
   "execution_count": 17,
   "metadata": {},
   "outputs": [],
   "source": [
    "X.shape\n",
    "from sklearn.preprocessing import StandardScaler\n",
    "\n",
    "sc = StandardScaler()\n",
    "X = sc.fit_transform(X)"
   ]
  },
  {
   "cell_type": "code",
   "execution_count": 18,
   "metadata": {},
   "outputs": [],
   "source": [
    "X_train , X_test , Y_train , Y_test = train_test_split(X,Y , test_size = 0.9)"
   ]
  },
  {
   "cell_type": "code",
   "execution_count": 19,
   "metadata": {},
   "outputs": [
    {
     "data": {
      "text/plain": [
       "LogisticRegression()"
      ]
     },
     "execution_count": 19,
     "metadata": {},
     "output_type": "execute_result"
    }
   ],
   "source": [
    "log_reg.fit(X_train , Y_train)"
   ]
  },
  {
   "cell_type": "code",
   "execution_count": 20,
   "metadata": {},
   "outputs": [],
   "source": [
    "predictions = log_reg.predict(X_test)"
   ]
  },
  {
   "cell_type": "code",
   "execution_count": 21,
   "metadata": {},
   "outputs": [
    {
     "name": "stdout",
     "output_type": "stream",
     "text": [
      "              precision    recall  f1-score   support\n",
      "\n",
      "           0       0.63      0.65      0.64      1686\n",
      "           1       0.67      0.65      0.66      1863\n",
      "\n",
      "    accuracy                           0.65      3549\n",
      "   macro avg       0.65      0.65      0.65      3549\n",
      "weighted avg       0.65      0.65      0.65      3549\n",
      "\n"
     ]
    }
   ],
   "source": [
    "print(classification_report(Y_test , predictions))"
   ]
  },
  {
   "cell_type": "code",
   "execution_count": 22,
   "metadata": {},
   "outputs": [
    {
     "data": {
      "text/plain": [
       "array([[1096,  590],\n",
       "       [ 657, 1206]], dtype=int64)"
      ]
     },
     "execution_count": 22,
     "metadata": {},
     "output_type": "execute_result"
    }
   ],
   "source": [
    "confusion_matrix(Y_test , predictions)"
   ]
  },
  {
   "cell_type": "code",
   "execution_count": 23,
   "metadata": {},
   "outputs": [
    {
     "name": "stdout",
     "output_type": "stream",
     "text": [
      "0.5621301775147929\n",
      "\n",
      "              precision    recall  f1-score   support\n",
      "\n",
      "           0       0.54      0.56      0.55      1686\n",
      "           1       0.59      0.56      0.57      1863\n",
      "\n",
      "    accuracy                           0.56      3549\n",
      "   macro avg       0.56      0.56      0.56      3549\n",
      "weighted avg       0.56      0.56      0.56      3549\n",
      "\n"
     ]
    }
   ],
   "source": [
    "from sklearn.tree import DecisionTreeClassifier\n",
    "dtc = DecisionTreeClassifier()\n",
    "\n",
    "dtc.fit(X_train, Y_train)\n",
    "preds = dtc.predict(X_test)\n",
    "\n",
    "score = dtc.score(X_test, Y_test)\n",
    "print(score)\n",
    "print()\n",
    "print(classification_report(Y_test, preds))"
   ]
  },
  {
   "cell_type": "code",
   "execution_count": 24,
   "metadata": {},
   "outputs": [
    {
     "name": "stdout",
     "output_type": "stream",
     "text": [
      "64.75063398140321\n",
      "\n",
      "              precision    recall  f1-score   support\n",
      "\n",
      "           0       0.61      0.71      0.66      1686\n",
      "           1       0.69      0.59      0.64      1863\n",
      "\n",
      "    accuracy                           0.65      3549\n",
      "   macro avg       0.65      0.65      0.65      3549\n",
      "weighted avg       0.65      0.65      0.65      3549\n",
      "\n"
     ]
    }
   ],
   "source": [
    "from sklearn.ensemble import RandomForestClassifier\n",
    "rfc = RandomForestClassifier(random_state = 1)\n",
    "rfc.fit(X_train, Y_train)\n",
    "preds = rfc.predict(X_test)\n",
    "\n",
    "score = rfc.score(X_test, Y_test)\n",
    "print(score*100)\n",
    "print()\n",
    "print(classification_report(Y_test, preds))"
   ]
  },
  {
   "cell_type": "code",
   "execution_count": 25,
   "metadata": {},
   "outputs": [
    {
     "name": "stdout",
     "output_type": "stream",
     "text": [
      "Score with degree as 2, kernel as rbf, C as 1 is best\n",
      "Score: 0.6221470836855453\n",
      "Classification report:               precision    recall  f1-score   support\n",
      "\n",
      "           0       0.60      0.60      0.60      1686\n",
      "           1       0.64      0.64      0.64      1863\n",
      "\n",
      "    accuracy                           0.62      3549\n",
      "   macro avg       0.62      0.62      0.62      3549\n",
      "weighted avg       0.62      0.62      0.62      3549\n",
      "\n"
     ]
    }
   ],
   "source": [
    "degrees = [2,3,4,5,6,7,8]\n",
    "kernels = ['poly', 'rbf', 'sigmoid']\n",
    "c_value = [1,2,3]\n",
    "scores = {}\n",
    "for degree in degrees:\n",
    "    for kernel in kernels:\n",
    "        for c in c_value:\n",
    "            svc_t = SVC(kernel = kernel, degree = degree, C = c)\n",
    "            svc_t.fit(X_train, Y_train)\n",
    "            \n",
    "            preds = svc_t.predict(X_test)\n",
    "            score = svc_t.score(X_test,Y_test)\n",
    "#             print('Score with degree as {d}, kernel as {k}, C as {c} is:'.format(d = degree, k = kernel, c = c), score)\n",
    "            scores['Score with degree as {d}, kernel as {k}, C as {c} is best'.format(d = degree, k = kernel, c = c)] = score\n",
    "\n",
    "print(max(scores, key=scores.get))\n",
    "svc_tuned = SVC(kernel='sigmoid', degree = 2, C = 3)\n",
    "svc_tuned.fit(X_train, Y_train)\n",
    "\n",
    "preds = svc_tuned.predict(X_test)\n",
    "\n",
    "print('Score:' , svc_tuned.score(X_test, Y_test))\n",
    "print('Classification report:', classification_report(Y_test, preds))"
   ]
  },
  {
   "cell_type": "code",
   "execution_count": null,
   "metadata": {},
   "outputs": [],
   "source": []
  }
 ],
 "metadata": {
  "kernelspec": {
   "display_name": "Python 3",
   "language": "python",
   "name": "python3"
  },
  "language_info": {
   "codemirror_mode": {
    "name": "ipython",
    "version": 3
   },
   "file_extension": ".py",
   "mimetype": "text/x-python",
   "name": "python",
   "nbconvert_exporter": "python",
   "pygments_lexer": "ipython3",
   "version": "3.8.3"
  }
 },
 "nbformat": 4,
 "nbformat_minor": 4
}
