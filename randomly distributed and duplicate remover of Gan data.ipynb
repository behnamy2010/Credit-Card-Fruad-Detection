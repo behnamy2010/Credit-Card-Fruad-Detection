{
 "cells": [
  {
   "cell_type": "code",
   "execution_count": 1,
   "id": "80c476d6",
   "metadata": {},
   "outputs": [],
   "source": [
    "import pandas as pd\n",
    "import sklearn.metrics as metrique\n",
    "from pandas import Series\n",
    "from sklearn.preprocessing import StandardScaler, MinMaxScaler\n",
    "from matplotlib import pyplot\n",
    "from sklearn.model_selection import train_test_split\n",
    "import numpy as np\n",
    "from tensorflow.keras.callbacks import EarlyStopping\n",
    "#from tensorflow.keras.utils import np_utils\n",
    "from tensorflow.keras.callbacks import ModelCheckpoint\n",
    "from sklearn.metrics import accuracy_score\n",
    "from sklearn.metrics import classification_report, confusion_matrix\n",
    "from tensorflow.keras.models import Sequential\n",
    "from tensorflow.keras.layers import LSTM,GRU, Dense, Embedding, Dropout,Input, Attention, Layer, Concatenate, Permute, Dot, Multiply, Flatten\n",
    "from tensorflow.keras.layers import RepeatVector, Dense, Activation, Lambda\n",
    "from tensorflow.keras import backend as K, regularizers, Model, metrics\n",
    "from tensorflow.keras.backend import cast\n",
    "# demonstration of calculating metrics for a neural network model using sklearn\n",
    "from sklearn.metrics import accuracy_score\n",
    "from sklearn.metrics import precision_score\n",
    "from sklearn.metrics import recall_score\n",
    "from sklearn.metrics import confusion_matrix\n",
    "from sklearn.metrics import classification_report\n",
    "from sklearn.metrics import f1_score\n",
    "from sklearn.preprocessing import StandardScaler\n",
    "import warnings\n",
    "warnings.filterwarnings('ignore')"
   ]
  },
  {
   "cell_type": "code",
   "execution_count": 3,
   "id": "c2c978bd",
   "metadata": {},
   "outputs": [
    {
     "data": {
      "text/plain": [
       "((197521,), (197521, 18))"
      ]
     },
     "execution_count": 3,
     "metadata": {},
     "output_type": "execute_result"
    }
   ],
   "source": [
    "result = pd.concat([X_train, y_train], axis=1)\n",
    "result.drop_duplicates(inplace=True)\n",
    "y_train=result['Class']\n",
    "result.drop(['Class'],inplace=True,axis=1)\n",
    "X_train=result\n",
    "y_train.shape,X_train.shape"
   ]
  },
  {
   "cell_type": "code",
   "execution_count": 17,
   "id": "f73c1d31",
   "metadata": {},
   "outputs": [],
   "source": [
    "X_train.to_csv('324 X_resampled  + Gan + EllipticEnvelope+ duplicate remover.csv',index=False)\n",
    "y_train.to_csv('324 y_resampled  + Gan + EllipticEnvelope+ duplicate remover.csv',index=False)"
   ]
  },
  {
   "cell_type": "code",
   "execution_count": 40,
   "id": "a2ff1d41",
   "metadata": {},
   "outputs": [],
   "source": [
    "X_train = pd.read_csv('324 X_resampled  + Gan + EllipticEnvelope+ duplicate remover.csv', na_filter=True)\n",
    "y_train = pd.read_csv('324 y_resampled  + Gan + EllipticEnvelope+ duplicate remover.csv', na_filter=True)"
   ]
  },
  {
   "cell_type": "code",
   "execution_count": 41,
   "id": "d8169023",
   "metadata": {},
   "outputs": [],
   "source": [
    "result = pd.concat([X_train, y_train], axis=1)\n",
    "new_result=pd.DataFrame(result)"
   ]
  },
  {
   "cell_type": "code",
   "execution_count": 42,
   "id": "32a1fcc0",
   "metadata": {},
   "outputs": [],
   "source": [
    "temp1=pd.DataFrame(result.iloc[0:42])\n",
    "temp2=pd.DataFrame(result.iloc[194299:197522])\n",
    "temp = pd.concat([temp1, temp2], axis=0)\n",
    "result = result.drop(np.arange(194299,197520))\n",
    "result = result.drop(np.arange(0,42))"
   ]
  },
  {
   "cell_type": "code",
   "execution_count": 43,
   "id": "59758f43",
   "metadata": {},
   "outputs": [],
   "source": [
    "new_result.iloc[0:197522]=np.nan"
   ]
  },
  {
   "cell_type": "code",
   "execution_count": 44,
   "id": "537504b4",
   "metadata": {},
   "outputs": [
    {
     "data": {
      "text/plain": [
       "((3264, 19), (197521, 19))"
      ]
     },
     "execution_count": 44,
     "metadata": {},
     "output_type": "execute_result"
    }
   ],
   "source": [
    "temp.shape,new_result.shape"
   ]
  },
  {
   "cell_type": "code",
   "execution_count": 45,
   "id": "262991e7",
   "metadata": {},
   "outputs": [],
   "source": [
    "import random\n",
    "randomlist = random.sample(range(0, 197522), 3264)"
   ]
  },
  {
   "cell_type": "code",
   "execution_count": null,
   "id": "0f253e73",
   "metadata": {},
   "outputs": [],
   "source": [
    "kt=0\n",
    "kr=0\n",
    "for i in range(0,197522):\n",
    "        if (i in randomlist):\n",
    "            new_result.iloc[i]=temp.iloc[kt]\n",
    "            kt=kt+1\n",
    "        else:\n",
    "            new_result.iloc[i]=result.iloc[kr]\n",
    "            kr=kr+1"
   ]
  },
  {
   "cell_type": "code",
   "execution_count": null,
   "id": "b6cc6616",
   "metadata": {},
   "outputs": [],
   "source": [
    "new_result"
   ]
  },
  {
   "cell_type": "code",
   "execution_count": null,
   "id": "fe0edc32",
   "metadata": {},
   "outputs": [],
   "source": [
    "y_train=new_result['Class']\n",
    "new_result.drop(['Class'],inplace=True,axis=1)\n",
    "X_train=new_result\n",
    "y_train.shape,X_train.shape"
   ]
  },
  {
   "cell_type": "code",
   "execution_count": null,
   "id": "186446dd",
   "metadata": {},
   "outputs": [],
   "source": [
    "X_train = pd.to_csv('324 X_resampled  + randomly distributed Gan + EllipticEnvelope+ duplicate remover.csv', index=False)\n",
    "y_train = pd.to_csv('324 y_resampled  + randomly distributed Gan + EllipticEnvelope+ duplicate remover.csv', index=False)"
   ]
  },
  {
   "cell_type": "code",
   "execution_count": null,
   "id": "112a5451",
   "metadata": {},
   "outputs": [],
   "source": [
    "i"
   ]
  }
 ],
 "metadata": {
  "kernelspec": {
   "display_name": "Python 3",
   "language": "python",
   "name": "python3"
  },
  "language_info": {
   "codemirror_mode": {
    "name": "ipython",
    "version": 3
   },
   "file_extension": ".py",
   "mimetype": "text/x-python",
   "name": "python",
   "nbconvert_exporter": "python",
   "pygments_lexer": "ipython3",
   "version": "3.8.8"
  }
 },
 "nbformat": 4,
 "nbformat_minor": 5
}
