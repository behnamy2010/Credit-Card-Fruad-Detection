{
 "cells": [
  {
   "cell_type": "code",
   "execution_count": 1,
   "metadata": {
    "id": "gRu9kpkYyztz"
   },
   "outputs": [],
   "source": [
    "import pandas as pd\n",
    "import sklearn.metrics as metrique\n",
    "from pandas import Series\n",
    "from sklearn.preprocessing import StandardScaler, MinMaxScaler\n",
    "from matplotlib import pyplot\n",
    "from sklearn.model_selection import train_test_split\n",
    "import numpy as np\n",
    "from tensorflow.keras.callbacks import EarlyStopping\n",
    "#from tensorflow.keras.utils import np_utils\n",
    "from tensorflow.keras.callbacks import ModelCheckpoint\n",
    "from sklearn.metrics import accuracy_score\n",
    "from sklearn.metrics import classification_report, confusion_matrix\n",
    "from tensorflow.keras.models import Sequential\n",
    "from tensorflow.keras.layers import GRU, Dense, Embedding, Dropout,Input, Attention, Layer, Concatenate, Permute, Dot, Multiply, Flatten\n",
    "from tensorflow.keras.layers import RepeatVector, Dense, Activation, Lambda\n",
    "from tensorflow.keras import backend as K, regularizers, Model, metrics\n",
    "from tensorflow.keras.backend import cast"
   ]
  },
  {
   "cell_type": "code",
   "execution_count": 2,
   "metadata": {},
   "outputs": [],
   "source": [
    "x_train = pd.read_csv('324 X_resampled  + Gan + EllipticEnvelope.csv', na_filter=True)\n",
    "y_train = pd.read_csv('324 y_resampled  + Gan + EllipticEnvelope.csv', na_filter=True)\n",
    "x_test = pd.read_csv('324 test  X_resampled  + Gan + EllipticEnvelope.csv', na_filter=True)\n",
    "y_test = pd.read_csv('324 test  y_resampled  + Gan + EllipticEnvelope.csv', na_filter=True)\n"
   ]
  },
  {
   "cell_type": "code",
   "execution_count": null,
   "metadata": {},
   "outputs": [],
   "source": [
    "result = pd.concat([X_train, y_train], axis=1)\n",
    "result.drop_duplicates(inplace=True)\n",
    "y_train=result['Class']\n",
    "result.drop(['Class'],inplace=True,axis=1)\n",
    "X_train=result\n",
    "y_train.shape,X_train.shape"
   ]
  },
  {
   "cell_type": "code",
   "execution_count": 3,
   "metadata": {
    "id": "rz6JhCFr0Iin"
   },
   "outputs": [],
   "source": [
    "from sklearn.preprocessing import StandardScaler\n",
    "X_train = StandardScaler().fit_transform(x_train)\n",
    "X_test = StandardScaler().fit_transform(x_test)"
   ]
  },
  {
   "cell_type": "code",
   "execution_count": 4,
   "metadata": {
    "id": "t7l5EpLY0IqL"
   },
   "outputs": [],
   "source": [
    "X_train,X_val,y_train,y_val = train_test_split(X_train, y_train, test_size=0.1)"
   ]
  },
  {
   "cell_type": "code",
   "execution_count": 5,
   "metadata": {
    "colab": {
     "base_uri": "https://localhost:8080/"
    },
    "id": "a4uohF3BPMIU",
    "outputId": "b1d24e82-da51-42ca-f9ed-0d021c2538ea"
   },
   "outputs": [
    {
     "data": {
      "text/plain": [
       "(223909, 18)"
      ]
     },
     "execution_count": 5,
     "metadata": {},
     "output_type": "execute_result"
    }
   ],
   "source": [
    "X_train.shape"
   ]
  },
  {
   "cell_type": "code",
   "execution_count": 6,
   "metadata": {
    "colab": {
     "base_uri": "https://localhost:8080/"
    },
    "id": "4OaLUwRhPPhW",
    "outputId": "170cccab-ded4-4110-e701-3d103902a590"
   },
   "outputs": [
    {
     "data": {
      "text/plain": [
       "(85428, 18)"
      ]
     },
     "execution_count": 6,
     "metadata": {},
     "output_type": "execute_result"
    }
   ],
   "source": [
    "X_test.shape"
   ]
  },
  {
   "cell_type": "code",
   "execution_count": 7,
   "metadata": {},
   "outputs": [
    {
     "data": {
      "text/plain": [
       "(24879, 18)"
      ]
     },
     "execution_count": 7,
     "metadata": {},
     "output_type": "execute_result"
    }
   ],
   "source": [
    "X_val.shape"
   ]
  },
  {
   "cell_type": "code",
   "execution_count": 8,
   "metadata": {
    "id": "eN6iBsXh0UJj"
   },
   "outputs": [],
   "source": [
    "# X_train et X_val sont des dataframe qui contient les features\n",
    "train_GRU_X=X_train\n",
    "val_GRU_X=X_val\n",
    "test_GRU_X=X_test\n",
    "\n",
    "## Reshape input to be 3D [samples, timesteps, features] (format requis par GRU)\n",
    "train_GRU_X = train_GRU_X.reshape((train_GRU_X.shape[0], 1, train_GRU_X.shape[1]))\n",
    "val_GRU_X = val_GRU_X.reshape((val_GRU_X.shape[0], 1, val_GRU_X.shape[1]))\n",
    "test_GRU_X = test_GRU_X.reshape((test_GRU_X.shape[0], 1, test_GRU_X.shape[1]))\n",
    "\n",
    "## Recuperation des labels\n",
    "train_GRU_y=y_train\n",
    "val_GRU_y=y_val\n",
    "test_GRU_y=y_test"
   ]
  },
  {
   "cell_type": "code",
   "execution_count": 9,
   "metadata": {},
   "outputs": [],
   "source": [
    "model = Sequential()\n",
    "#model.add(GRU(50,dropout=0.3,recurrent_dropout=0.2, return_sequences=True))\n",
    "model.add(GRU(50,dropout=0.3,recurrent_dropout=0.2, return_sequences=True))\n",
    "model.add(Dense(1, activation='sigmoid'))"
   ]
  },
  {
   "cell_type": "code",
   "execution_count": 10,
   "metadata": {
    "id": "rw1IxnEn0i7d"
   },
   "outputs": [],
   "source": [
    "model.compile(loss='binary_crossentropy', optimizer='adam', metrics=['accuracy'])"
   ]
  },
  {
   "cell_type": "code",
   "execution_count": 11,
   "metadata": {
    "id": "_jVAHW330VTL"
   },
   "outputs": [
    {
     "name": "stdout",
     "output_type": "stream",
     "text": [
      "Epoch 1/100\n",
      "112/112 [==============================] - 4s 14ms/step - loss: 0.3449 - accuracy: 0.8961 - val_loss: 0.1027 - val_accuracy: 0.9935\n",
      "Epoch 2/100\n",
      "112/112 [==============================] - 1s 11ms/step - loss: 0.0778 - accuracy: 0.9885 - val_loss: 0.0237 - val_accuracy: 0.9993\n",
      "Epoch 3/100\n",
      "112/112 [==============================] - 1s 11ms/step - loss: 0.0307 - accuracy: 0.9965 - val_loss: 0.0102 - val_accuracy: 0.9994\n",
      "Epoch 4/100\n",
      "112/112 [==============================] - 1s 12ms/step - loss: 0.0175 - accuracy: 0.9981 - val_loss: 0.0065 - val_accuracy: 0.9994\n",
      "Epoch 5/100\n",
      "112/112 [==============================] - 1s 13ms/step - loss: 0.0123 - accuracy: 0.9985 - val_loss: 0.0051 - val_accuracy: 0.9994\n",
      "Epoch 6/100\n",
      "112/112 [==============================] - 1s 13ms/step - loss: 0.0096 - accuracy: 0.9987 - val_loss: 0.0044 - val_accuracy: 0.9994\n",
      "Epoch 7/100\n",
      "112/112 [==============================] - 1s 13ms/step - loss: 0.0080 - accuracy: 0.9988 - val_loss: 0.0041 - val_accuracy: 0.9994\n",
      "Epoch 8/100\n",
      "112/112 [==============================] - 1s 12ms/step - loss: 0.0072 - accuracy: 0.9989 - val_loss: 0.0039 - val_accuracy: 0.9994\n",
      "Epoch 9/100\n",
      "112/112 [==============================] - 1s 11ms/step - loss: 0.0066 - accuracy: 0.9989 - val_loss: 0.0038 - val_accuracy: 0.9994\n",
      "Epoch 10/100\n",
      "112/112 [==============================] - 1s 11ms/step - loss: 0.0058 - accuracy: 0.9991 - val_loss: 0.0038 - val_accuracy: 0.9994\n",
      "Epoch 11/100\n",
      "112/112 [==============================] - 1s 11ms/step - loss: 0.0053 - accuracy: 0.9991 - val_loss: 0.0037 - val_accuracy: 0.9994\n",
      "Epoch 12/100\n",
      "112/112 [==============================] - 1s 11ms/step - loss: 0.0050 - accuracy: 0.9992 - val_loss: 0.0037 - val_accuracy: 0.9994\n",
      "Epoch 13/100\n",
      "112/112 [==============================] - 1s 11ms/step - loss: 0.0048 - accuracy: 0.9992 - val_loss: 0.0038 - val_accuracy: 0.9994\n",
      "Epoch 14/100\n",
      "112/112 [==============================] - 1s 11ms/step - loss: 0.0047 - accuracy: 0.9992 - val_loss: 0.0037 - val_accuracy: 0.9994\n",
      "Epoch 15/100\n",
      "112/112 [==============================] - 1s 11ms/step - loss: 0.0045 - accuracy: 0.9993 - val_loss: 0.0037 - val_accuracy: 0.9994\n",
      "Epoch 16/100\n",
      "112/112 [==============================] - 1s 11ms/step - loss: 0.0043 - accuracy: 0.9992 - val_loss: 0.0037 - val_accuracy: 0.9994\n",
      "Epoch 17/100\n",
      "112/112 [==============================] - 1s 11ms/step - loss: 0.0043 - accuracy: 0.9992 - val_loss: 0.0037 - val_accuracy: 0.9994\n",
      "Epoch 18/100\n",
      "112/112 [==============================] - 1s 11ms/step - loss: 0.0042 - accuracy: 0.9992 - val_loss: 0.0036 - val_accuracy: 0.9994\n",
      "Epoch 19/100\n",
      "112/112 [==============================] - 1s 11ms/step - loss: 0.0042 - accuracy: 0.9992 - val_loss: 0.0036 - val_accuracy: 0.9994\n",
      "Epoch 20/100\n",
      "112/112 [==============================] - 1s 11ms/step - loss: 0.0040 - accuracy: 0.9993 - val_loss: 0.0036 - val_accuracy: 0.9994\n",
      "Epoch 21/100\n",
      "112/112 [==============================] - 1s 11ms/step - loss: 0.0039 - accuracy: 0.9993 - val_loss: 0.0035 - val_accuracy: 0.9994\n",
      "Epoch 22/100\n",
      "112/112 [==============================] - 1s 11ms/step - loss: 0.0038 - accuracy: 0.9992 - val_loss: 0.0035 - val_accuracy: 0.9994\n",
      "Epoch 23/100\n",
      "112/112 [==============================] - 1s 11ms/step - loss: 0.0038 - accuracy: 0.9993 - val_loss: 0.0035 - val_accuracy: 0.9994\n",
      "Epoch 24/100\n",
      "112/112 [==============================] - 1s 11ms/step - loss: 0.0036 - accuracy: 0.9993 - val_loss: 0.0035 - val_accuracy: 0.9993\n",
      "Epoch 25/100\n",
      "112/112 [==============================] - 1s 11ms/step - loss: 0.0036 - accuracy: 0.9993 - val_loss: 0.0034 - val_accuracy: 0.9993\n",
      "Epoch 26/100\n",
      "112/112 [==============================] - 1s 11ms/step - loss: 0.0037 - accuracy: 0.9993 - val_loss: 0.0035 - val_accuracy: 0.9993\n",
      "Epoch 27/100\n",
      "112/112 [==============================] - 1s 11ms/step - loss: 0.0036 - accuracy: 0.9993 - val_loss: 0.0034 - val_accuracy: 0.9994\n",
      "Epoch 28/100\n",
      "112/112 [==============================] - 1s 11ms/step - loss: 0.0036 - accuracy: 0.9993 - val_loss: 0.0034 - val_accuracy: 0.9994\n",
      "Epoch 29/100\n",
      "112/112 [==============================] - 1s 11ms/step - loss: 0.0034 - accuracy: 0.9994 - val_loss: 0.0035 - val_accuracy: 0.9993\n",
      "Epoch 30/100\n",
      "112/112 [==============================] - 1s 11ms/step - loss: 0.0034 - accuracy: 0.9993 - val_loss: 0.0034 - val_accuracy: 0.9993\n",
      "Epoch 31/100\n",
      "112/112 [==============================] - 1s 11ms/step - loss: 0.0034 - accuracy: 0.9993 - val_loss: 0.0034 - val_accuracy: 0.9993\n",
      "Epoch 32/100\n",
      "112/112 [==============================] - 1s 11ms/step - loss: 0.0033 - accuracy: 0.9994 - val_loss: 0.0033 - val_accuracy: 0.9993\n",
      "Epoch 33/100\n",
      "112/112 [==============================] - 1s 11ms/step - loss: 0.0033 - accuracy: 0.9994 - val_loss: 0.0033 - val_accuracy: 0.9993\n",
      "Epoch 34/100\n",
      "112/112 [==============================] - 1s 11ms/step - loss: 0.0033 - accuracy: 0.9993 - val_loss: 0.0033 - val_accuracy: 0.9993\n",
      "Epoch 35/100\n",
      "112/112 [==============================] - 1s 11ms/step - loss: 0.0032 - accuracy: 0.9994 - val_loss: 0.0033 - val_accuracy: 0.9994\n",
      "Epoch 36/100\n",
      "112/112 [==============================] - 1s 11ms/step - loss: 0.0032 - accuracy: 0.9994 - val_loss: 0.0033 - val_accuracy: 0.9994\n",
      "Epoch 37/100\n",
      "112/112 [==============================] - 1s 11ms/step - loss: 0.0031 - accuracy: 0.9994 - val_loss: 0.0032 - val_accuracy: 0.9994\n",
      "Epoch 38/100\n",
      "112/112 [==============================] - 1s 11ms/step - loss: 0.0031 - accuracy: 0.9994 - val_loss: 0.0032 - val_accuracy: 0.9994\n",
      "Epoch 39/100\n",
      "112/112 [==============================] - 1s 11ms/step - loss: 0.0031 - accuracy: 0.9993 - val_loss: 0.0032 - val_accuracy: 0.9994\n",
      "Epoch 40/100\n",
      "112/112 [==============================] - 1s 11ms/step - loss: 0.0030 - accuracy: 0.9994 - val_loss: 0.0032 - val_accuracy: 0.9994\n",
      "Epoch 41/100\n",
      "112/112 [==============================] - 1s 11ms/step - loss: 0.0031 - accuracy: 0.9994 - val_loss: 0.0033 - val_accuracy: 0.9994\n",
      "Epoch 42/100\n",
      "112/112 [==============================] - 1s 11ms/step - loss: 0.0031 - accuracy: 0.9994 - val_loss: 0.0032 - val_accuracy: 0.9994\n",
      "Epoch 43/100\n",
      "112/112 [==============================] - 1s 11ms/step - loss: 0.0029 - accuracy: 0.9994 - val_loss: 0.0032 - val_accuracy: 0.9994\n",
      "Epoch 44/100\n",
      "112/112 [==============================] - 1s 11ms/step - loss: 0.0031 - accuracy: 0.9994 - val_loss: 0.0032 - val_accuracy: 0.9994\n",
      "Epoch 45/100\n",
      "112/112 [==============================] - 1s 11ms/step - loss: 0.0030 - accuracy: 0.9994 - val_loss: 0.0032 - val_accuracy: 0.9994\n",
      "Epoch 46/100\n",
      "112/112 [==============================] - 1s 11ms/step - loss: 0.0031 - accuracy: 0.9994 - val_loss: 0.0032 - val_accuracy: 0.9994\n",
      "Epoch 47/100\n",
      "112/112 [==============================] - 1s 11ms/step - loss: 0.0030 - accuracy: 0.9994 - val_loss: 0.0032 - val_accuracy: 0.9994\n",
      "Epoch 48/100\n",
      "112/112 [==============================] - 1s 11ms/step - loss: 0.0030 - accuracy: 0.9994 - val_loss: 0.0032 - val_accuracy: 0.9994\n",
      "Epoch 49/100\n",
      "112/112 [==============================] - 1s 11ms/step - loss: 0.0029 - accuracy: 0.9994 - val_loss: 0.0032 - val_accuracy: 0.9994\n",
      "Epoch 50/100\n",
      "112/112 [==============================] - 1s 11ms/step - loss: 0.0030 - accuracy: 0.9994 - val_loss: 0.0033 - val_accuracy: 0.9994\n",
      "Epoch 51/100\n",
      "112/112 [==============================] - 1s 11ms/step - loss: 0.0030 - accuracy: 0.9994 - val_loss: 0.0032 - val_accuracy: 0.9994\n",
      "Epoch 52/100\n",
      "112/112 [==============================] - 1s 11ms/step - loss: 0.0029 - accuracy: 0.9994 - val_loss: 0.0031 - val_accuracy: 0.9994\n",
      "Epoch 53/100\n",
      "112/112 [==============================] - 1s 11ms/step - loss: 0.0028 - accuracy: 0.9994 - val_loss: 0.0032 - val_accuracy: 0.9994\n",
      "Epoch 54/100\n",
      "112/112 [==============================] - 1s 11ms/step - loss: 0.0029 - accuracy: 0.9994 - val_loss: 0.0032 - val_accuracy: 0.9994\n",
      "Epoch 55/100\n",
      "112/112 [==============================] - 1s 11ms/step - loss: 0.0029 - accuracy: 0.9994 - val_loss: 0.0031 - val_accuracy: 0.9994\n",
      "Epoch 56/100\n",
      "112/112 [==============================] - 1s 11ms/step - loss: 0.0028 - accuracy: 0.9994 - val_loss: 0.0031 - val_accuracy: 0.9994\n",
      "Epoch 57/100\n",
      "112/112 [==============================] - 1s 11ms/step - loss: 0.0028 - accuracy: 0.9995 - val_loss: 0.0032 - val_accuracy: 0.9994\n",
      "Epoch 58/100\n",
      "112/112 [==============================] - 1s 11ms/step - loss: 0.0027 - accuracy: 0.9995 - val_loss: 0.0032 - val_accuracy: 0.9994\n",
      "Epoch 59/100\n",
      "112/112 [==============================] - 1s 11ms/step - loss: 0.0028 - accuracy: 0.9994 - val_loss: 0.0031 - val_accuracy: 0.9994\n",
      "Epoch 60/100\n",
      "112/112 [==============================] - 1s 11ms/step - loss: 0.0028 - accuracy: 0.9994 - val_loss: 0.0032 - val_accuracy: 0.9994\n",
      "Epoch 61/100\n",
      "112/112 [==============================] - 1s 11ms/step - loss: 0.0028 - accuracy: 0.9994 - val_loss: 0.0032 - val_accuracy: 0.9994\n",
      "Epoch 62/100\n",
      "112/112 [==============================] - 1s 11ms/step - loss: 0.0029 - accuracy: 0.9994 - val_loss: 0.0032 - val_accuracy: 0.9994\n",
      "Epoch 63/100\n",
      "112/112 [==============================] - 1s 11ms/step - loss: 0.0028 - accuracy: 0.9994 - val_loss: 0.0030 - val_accuracy: 0.9994\n",
      "Epoch 64/100\n",
      "112/112 [==============================] - 1s 11ms/step - loss: 0.0027 - accuracy: 0.9995 - val_loss: 0.0032 - val_accuracy: 0.9994\n",
      "Epoch 65/100\n",
      "112/112 [==============================] - 1s 11ms/step - loss: 0.0028 - accuracy: 0.9994 - val_loss: 0.0032 - val_accuracy: 0.9994\n",
      "Epoch 66/100\n",
      "112/112 [==============================] - 1s 11ms/step - loss: 0.0028 - accuracy: 0.9995 - val_loss: 0.0032 - val_accuracy: 0.9994\n",
      "Epoch 67/100\n",
      "112/112 [==============================] - 1s 11ms/step - loss: 0.0028 - accuracy: 0.9994 - val_loss: 0.0032 - val_accuracy: 0.9994\n",
      "Epoch 68/100\n",
      "112/112 [==============================] - 1s 11ms/step - loss: 0.0027 - accuracy: 0.9994 - val_loss: 0.0032 - val_accuracy: 0.9994\n",
      "Epoch 69/100\n",
      "112/112 [==============================] - 1s 11ms/step - loss: 0.0028 - accuracy: 0.9994 - val_loss: 0.0032 - val_accuracy: 0.9994\n",
      "Epoch 70/100\n",
      "112/112 [==============================] - 1s 11ms/step - loss: 0.0028 - accuracy: 0.9994 - val_loss: 0.0031 - val_accuracy: 0.9994\n",
      "Epoch 71/100\n",
      "112/112 [==============================] - 1s 12ms/step - loss: 0.0027 - accuracy: 0.9994 - val_loss: 0.0032 - val_accuracy: 0.9994\n",
      "Epoch 72/100\n",
      "112/112 [==============================] - 1s 11ms/step - loss: 0.0026 - accuracy: 0.9995 - val_loss: 0.0031 - val_accuracy: 0.9994\n",
      "Epoch 73/100\n",
      "112/112 [==============================] - 1s 12ms/step - loss: 0.0026 - accuracy: 0.9995 - val_loss: 0.0032 - val_accuracy: 0.9994\n",
      "Epoch 74/100\n",
      "112/112 [==============================] - 1s 11ms/step - loss: 0.0027 - accuracy: 0.9995 - val_loss: 0.0032 - val_accuracy: 0.9994\n",
      "Epoch 75/100\n",
      "112/112 [==============================] - 1s 12ms/step - loss: 0.0026 - accuracy: 0.9995 - val_loss: 0.0032 - val_accuracy: 0.9994\n",
      "Epoch 76/100\n",
      "112/112 [==============================] - 1s 12ms/step - loss: 0.0027 - accuracy: 0.9994 - val_loss: 0.0031 - val_accuracy: 0.9994\n",
      "Epoch 77/100\n",
      "112/112 [==============================] - 1s 11ms/step - loss: 0.0026 - accuracy: 0.9994 - val_loss: 0.0031 - val_accuracy: 0.9994\n",
      "Epoch 78/100\n",
      "112/112 [==============================] - 1s 11ms/step - loss: 0.0026 - accuracy: 0.9995 - val_loss: 0.0032 - val_accuracy: 0.9994\n",
      "Epoch 79/100\n",
      "112/112 [==============================] - 1s 11ms/step - loss: 0.0026 - accuracy: 0.9994 - val_loss: 0.0031 - val_accuracy: 0.9994\n",
      "Epoch 80/100\n",
      "112/112 [==============================] - 1s 12ms/step - loss: 0.0026 - accuracy: 0.9994 - val_loss: 0.0031 - val_accuracy: 0.9994\n",
      "Epoch 81/100\n",
      "112/112 [==============================] - 1s 11ms/step - loss: 0.0026 - accuracy: 0.9995 - val_loss: 0.0031 - val_accuracy: 0.9994\n",
      "Epoch 82/100\n",
      "112/112 [==============================] - 1s 11ms/step - loss: 0.0025 - accuracy: 0.9995 - val_loss: 0.0031 - val_accuracy: 0.9994\n",
      "Epoch 83/100\n",
      "112/112 [==============================] - 1s 11ms/step - loss: 0.0026 - accuracy: 0.9994 - val_loss: 0.0032 - val_accuracy: 0.9994\n",
      "Epoch 84/100\n",
      "112/112 [==============================] - 1s 11ms/step - loss: 0.0027 - accuracy: 0.9995 - val_loss: 0.0032 - val_accuracy: 0.9994\n",
      "Epoch 85/100\n",
      "112/112 [==============================] - 1s 11ms/step - loss: 0.0025 - accuracy: 0.9995 - val_loss: 0.0032 - val_accuracy: 0.9994\n",
      "Epoch 86/100\n",
      "112/112 [==============================] - 1s 11ms/step - loss: 0.0026 - accuracy: 0.9994 - val_loss: 0.0031 - val_accuracy: 0.9994\n",
      "Epoch 87/100\n",
      "112/112 [==============================] - 1s 11ms/step - loss: 0.0025 - accuracy: 0.9995 - val_loss: 0.0031 - val_accuracy: 0.9994\n",
      "Epoch 88/100\n",
      "112/112 [==============================] - 1s 11ms/step - loss: 0.0026 - accuracy: 0.9994 - val_loss: 0.0031 - val_accuracy: 0.9994\n",
      "Epoch 89/100\n",
      "112/112 [==============================] - 1s 11ms/step - loss: 0.0025 - accuracy: 0.9995 - val_loss: 0.0031 - val_accuracy: 0.9994\n",
      "Epoch 90/100\n",
      "112/112 [==============================] - 1s 11ms/step - loss: 0.0025 - accuracy: 0.9994 - val_loss: 0.0032 - val_accuracy: 0.9994\n",
      "Epoch 91/100\n",
      "112/112 [==============================] - 1s 11ms/step - loss: 0.0026 - accuracy: 0.9995 - val_loss: 0.0031 - val_accuracy: 0.9994\n",
      "Epoch 92/100\n",
      "112/112 [==============================] - 1s 11ms/step - loss: 0.0026 - accuracy: 0.9995 - val_loss: 0.0032 - val_accuracy: 0.9994\n",
      "Epoch 93/100\n",
      "112/112 [==============================] - 1s 11ms/step - loss: 0.0025 - accuracy: 0.9994 - val_loss: 0.0032 - val_accuracy: 0.9994\n",
      "Epoch 94/100\n",
      "112/112 [==============================] - 1s 11ms/step - loss: 0.0025 - accuracy: 0.9994 - val_loss: 0.0032 - val_accuracy: 0.9994\n",
      "Epoch 95/100\n",
      "112/112 [==============================] - 1s 11ms/step - loss: 0.0026 - accuracy: 0.9995 - val_loss: 0.0031 - val_accuracy: 0.9994\n",
      "Epoch 96/100\n",
      "112/112 [==============================] - 1s 11ms/step - loss: 0.0024 - accuracy: 0.9995 - val_loss: 0.0033 - val_accuracy: 0.9994\n",
      "Epoch 97/100\n",
      "112/112 [==============================] - 1s 11ms/step - loss: 0.0025 - accuracy: 0.9995 - val_loss: 0.0032 - val_accuracy: 0.9994\n",
      "Epoch 98/100\n",
      "112/112 [==============================] - 1s 11ms/step - loss: 0.0026 - accuracy: 0.9995 - val_loss: 0.0032 - val_accuracy: 0.9994\n",
      "Epoch 99/100\n",
      "112/112 [==============================] - 1s 11ms/step - loss: 0.0026 - accuracy: 0.9995 - val_loss: 0.0031 - val_accuracy: 0.9994\n",
      "Epoch 100/100\n",
      "112/112 [==============================] - 1s 11ms/step - loss: 0.0025 - accuracy: 0.9995 - val_loss: 0.0032 - val_accuracy: 0.9994\n"
     ]
    }
   ],
   "source": [
    "history=model.fit(train_GRU_X, train_GRU_y,epochs=100,batch_size=2000, validation_data=(val_GRU_X, val_GRU_y))"
   ]
  },
  {
   "cell_type": "code",
   "execution_count": 12,
   "metadata": {
    "colab": {
     "base_uri": "https://localhost:8080/",
     "height": 281
    },
    "id": "hYW2snaetW2W",
    "outputId": "29228cf1-7ac4-4936-d3f1-162b72c11932"
   },
   "outputs": [
    {
     "data": {
      "image/png": "[encoded data removed]",
      "text/plain": [
       "<Figure size 432x288 with 2 Axes>"
      ]
     },
     "metadata": {
      "needs_background": "light"
     },
     "output_type": "display_data"
    }
   ],
   "source": [
    "# plot loss during training\n",
    "pyplot.subplot(211)\n",
    "pyplot.title('Loss')\n",
    "pyplot.plot(history.history['loss'], label='train')\n",
    "pyplot.plot(history.history['val_loss'], label='val')\n",
    "pyplot.legend()\n",
    "# plot accuracy during training\n",
    "pyplot.subplot(212)\n",
    "pyplot.title('Accuracy')\n",
    "pyplot.plot(history.history['accuracy'], label='train')\n",
    "pyplot.plot(history.history['val_accuracy'], label='val')\n",
    "pyplot.legend()\n",
    "pyplot.tight_layout()\n",
    "pyplot.show()"
   ]
  },
  {
   "cell_type": "code",
   "execution_count": 13,
   "metadata": {
    "id": "lUAD5FIS3Z1I"
   },
   "outputs": [],
   "source": [
    "# predict probabilities for test set\n",
    "yhat_probs = model.predict(test_GRU_X, verbose=0)> 0.5\n",
    "# reduce to 1d array\n",
    "yhat_probs = yhat_probs[:, 0]"
   ]
  },
  {
   "cell_type": "code",
   "execution_count": 14,
   "metadata": {
    "colab": {
     "base_uri": "https://localhost:8080/"
    },
    "id": "eiN2cjwX4Dzp",
    "outputId": "86ee0069-2931-41b4-bbb3-90a6a3940a21"
   },
   "outputs": [
    {
     "name": "stdout",
     "output_type": "stream",
     "text": [
      "Accuracy: 0.999532\n",
      "Precision: 0.880597\n",
      "Recall: 0.830986\n",
      "Recall: 0.855072\n",
      "              precision    recall  f1-score   support\n",
      "\n",
      "           0       1.00      1.00      1.00     85286\n",
      "           1       0.88      0.83      0.86       142\n",
      "\n",
      "    accuracy                           1.00     85428\n",
      "   macro avg       0.94      0.92      0.93     85428\n",
      "weighted avg       1.00      1.00      1.00     85428\n",
      "\n"
     ]
    }
   ],
   "source": [
    "# demonstration of calculating metrics for a neural network model using sklearn\n",
    "from sklearn.metrics import accuracy_score\n",
    "from sklearn.metrics import precision_score\n",
    "from sklearn.metrics import recall_score\n",
    "from sklearn.metrics import confusion_matrix\n",
    "from sklearn.metrics import classification_report\n",
    "from sklearn.metrics import f1_score\n",
    "\n",
    "# accuracy: (tp + tn) / (p + n)\n",
    "accuracy = accuracy_score(test_GRU_y, yhat_probs)\n",
    "print('Accuracy: %f' % accuracy)\n",
    "# precision tp / (tp + fp)\n",
    "precision = precision_score(test_GRU_y, yhat_probs)\n",
    "print('Precision: %f' % precision)\n",
    "# recall: tp / (tp + fn)\n",
    "recall = recall_score(test_GRU_y, yhat_probs)\n",
    "print('Recall: %f' % recall)\n",
    "#F1 = 2 * (precision * recall) / (precision + recall)\n",
    "f1=f1_score(test_GRU_y, yhat_probs)\n",
    "print('f1: %f' % f1)\n",
    "\n",
    "print(classification_report(test_GRU_y, yhat_probs))"
   ]
  },
  {
   "cell_type": "code",
   "execution_count": 15,
   "metadata": {
    "id": "02D_-hIJ4JiB"
   },
   "outputs": [],
   "source": [
    "%matplotlib inline\n",
    "from sklearn.metrics import confusion_matrix\n",
    "import itertools\n",
    "import matplotlib.pyplot as plt"
   ]
  },
  {
   "cell_type": "code",
   "execution_count": 16,
   "metadata": {
    "id": "D5jRpnhBCKKM"
   },
   "outputs": [],
   "source": [
    "cm = confusion_matrix(y_true=test_GRU_y, y_pred=yhat_probs)"
   ]
  },
  {
   "cell_type": "code",
   "execution_count": 17,
   "metadata": {
    "id": "G6wvKPIQCKYs"
   },
   "outputs": [],
   "source": [
    "def plot_confusion_matrix(cm, classes,\n",
    "                        normalize=False,\n",
    "                        title='Confusion matrix',\n",
    "                        cmap=plt.cm.Blues):\n",
    "    \"\"\"\n",
    "    This function prints and plots the confusion matrix.\n",
    "    Normalization can be applied by setting `normalize=True`.\n",
    "    \"\"\"\n",
    "    plt.imshow(cm, interpolation='nearest', cmap=cmap)\n",
    "    plt.title(title)\n",
    "    plt.colorbar()\n",
    "    tick_marks = np.arange(len(classes))\n",
    "    plt.xticks(tick_marks, classes, rotation=45)\n",
    "    plt.yticks(tick_marks, classes)\n",
    "\n",
    "    if normalize:\n",
    "        cm = cm.astype('float') / cm.sum(axis=1)[:, np.newaxis]\n",
    "        print(\"Normalized confusion matrix\")\n",
    "    else:\n",
    "        print('Confusion matrix, without normalization')\n",
    "\n",
    "    print(cm)\n",
    "\n",
    "    thresh = cm.max() / 2.\n",
    "    for i, j in itertools.product(range(cm.shape[0]), range(cm.shape[1])):\n",
    "        plt.text(j, i, cm[i, j],\n",
    "            horizontalalignment=\"center\",\n",
    "            color=\"white\" if cm[i, j] > thresh else \"black\")\n",
    "\n",
    "    plt.tight_layout()\n",
    "    plt.ylabel('True label')\n",
    "    plt.xlabel('Predicted label')\n",
    "labels = ['Normal','Fraud']"
   ]
  },
  {
   "cell_type": "code",
   "execution_count": 18,
   "metadata": {
    "colab": {
     "base_uri": "https://localhost:8080/",
     "height": 362
    },
    "id": "K3CQINI1VyI8",
    "outputId": "4d02c5dc-54cc-4414-d8da-fe62508573c9"
   },
   "outputs": [
    {
     "name": "stdout",
     "output_type": "stream",
     "text": [
      "Confusion matrix, without normalization\n",
      "[[85270    16]\n",
      " [   24   118]]\n"
     ]
    },
    {
     "data": {
      "image/png": "[encoded data removed]",
      "text/plain": [
       "<Figure size 432x288 with 2 Axes>"
      ]
     },
     "metadata": {
      "needs_background": "light"
     },
     "output_type": "display_data"
    }
   ],
   "source": [
    "plot_confusion_matrix(cm=cm, classes=labels, title='GRU')"
   ]
  },
  {
   "cell_type": "code",
   "execution_count": 19,
   "metadata": {
    "id": "9eyxl7gxDjKk"
   },
   "outputs": [],
   "source": [
    "class attention(Layer):\n",
    "    def __init__(self,**kwargs):\n",
    "        super(attention,self).__init__(**kwargs)\n",
    "\n",
    "    def build(self,input_shape):\n",
    "        self.W=self.add_weight(name=\"att_weight\",shape=(input_shape[-1],1),initializer=\"normal\")\n",
    "        self.b=self.add_weight(name=\"att_bias\",shape=(input_shape[1],1),initializer=\"zeros\")        \n",
    "        super(attention, self).build(input_shape)\n",
    "\n",
    "    def call(self,x):\n",
    "        et=K.squeeze(K.tanh(K.dot(x,self.W)+self.b),axis=-1)\n",
    "        at=K.softmax(et)\n",
    "        at=K.expand_dims(at,axis=-1)\n",
    "        output=x*at\n",
    "        return K.sum(output,axis=1)\n",
    "\n",
    "    def compute_output_shape(self,input_shape):\n",
    "        return (input_shape[0],input_shape[-1])\n",
    "\n",
    "    def get_config(self):\n",
    "        return super(attention,self).get_config()"
   ]
  },
  {
   "cell_type": "code",
   "execution_count": 20,
   "metadata": {
    "id": "UdJq4u3EC_Sy"
   },
   "outputs": [],
   "source": [
    "# inputs1=Input((1,18))\n",
    "# att_in=GRU(50,return_sequences=True,dropout=0.3,recurrent_dropout=0.2)(inputs1)\n",
    "# att_in_1=GRU(50,return_sequences=True,dropout=0.3,recurrent_dropout=0.2)(att_in)\n",
    "# att_out=attention()(att_in_1)\n",
    "# outputs1=Dense(1,activation='sigmoid',trainable=True)(att_out)\n",
    "# model1=Model(inputs1,outputs1)"
   ]
  },
  {
   "cell_type": "code",
   "execution_count": 21,
   "metadata": {},
   "outputs": [],
   "source": [
    "inputs1=Input((1,18))\n",
    "att_in=GRU(50,return_sequences=True,dropout=0.3,recurrent_dropout=0.2)(inputs1)\n",
    "#att_in_1=GRU(50,return_sequences=True,dropout=0.3,recurrent_dropout=0.2)(att_in)\n",
    "att_out=attention()(att_in)\n",
    "outputs1=Dense(1,activation='sigmoid',trainable=True)(att_out)\n",
    "model1=Model(inputs1,outputs1)"
   ]
  },
  {
   "cell_type": "code",
   "execution_count": 22,
   "metadata": {
    "id": "vl454wu1C_sr"
   },
   "outputs": [],
   "source": [
    "model1.compile(loss='binary_crossentropy', optimizer='adam', metrics=['accuracy'])"
   ]
  },
  {
   "cell_type": "code",
   "execution_count": 23,
   "metadata": {
    "id": "wvr6t9ivDryi"
   },
   "outputs": [
    {
     "name": "stdout",
     "output_type": "stream",
     "text": [
      "Epoch 1/100\n",
      "75/75 [==============================] - 4s 22ms/step - loss: 0.3875 - accuracy: 0.9055 - val_loss: 0.1619 - val_accuracy: 0.9879\n",
      "Epoch 2/100\n",
      "75/75 [==============================] - 1s 18ms/step - loss: 0.1251 - accuracy: 0.9799 - val_loss: 0.0502 - val_accuracy: 0.9965\n",
      "Epoch 3/100\n",
      "75/75 [==============================] - 1s 18ms/step - loss: 0.0562 - accuracy: 0.9923 - val_loss: 0.0212 - val_accuracy: 0.9992\n",
      "Epoch 4/100\n",
      "75/75 [==============================] - 1s 18ms/step - loss: 0.0317 - accuracy: 0.9963 - val_loss: 0.0119 - val_accuracy: 0.9994\n",
      "Epoch 5/100\n",
      "75/75 [==============================] - 1s 18ms/step - loss: 0.0212 - accuracy: 0.9977 - val_loss: 0.0082 - val_accuracy: 0.9994\n",
      "Epoch 6/100\n",
      "75/75 [==============================] - 1s 18ms/step - loss: 0.0156 - accuracy: 0.9982 - val_loss: 0.0064 - val_accuracy: 0.9994\n",
      "Epoch 7/100\n",
      "75/75 [==============================] - 1s 18ms/step - loss: 0.0127 - accuracy: 0.9985 - val_loss: 0.0055 - val_accuracy: 0.9994\n",
      "Epoch 8/100\n",
      "75/75 [==============================] - 1s 17ms/step - loss: 0.0106 - accuracy: 0.9987 - val_loss: 0.0049 - val_accuracy: 0.9994\n",
      "Epoch 9/100\n",
      "75/75 [==============================] - 1s 17ms/step - loss: 0.0092 - accuracy: 0.9989 - val_loss: 0.0045 - val_accuracy: 0.9994\n",
      "Epoch 10/100\n",
      "75/75 [==============================] - 1s 17ms/step - loss: 0.0082 - accuracy: 0.9989 - val_loss: 0.0043 - val_accuracy: 0.9994\n",
      "Epoch 11/100\n",
      "75/75 [==============================] - 1s 17ms/step - loss: 0.0077 - accuracy: 0.9989 - val_loss: 0.0041 - val_accuracy: 0.9994\n",
      "Epoch 12/100\n",
      "75/75 [==============================] - 1s 17ms/step - loss: 0.0070 - accuracy: 0.9990 - val_loss: 0.0040 - val_accuracy: 0.9994\n",
      "Epoch 13/100\n",
      "75/75 [==============================] - 1s 17ms/step - loss: 0.0063 - accuracy: 0.9990 - val_loss: 0.0039 - val_accuracy: 0.9994\n",
      "Epoch 14/100\n",
      "75/75 [==============================] - 1s 17ms/step - loss: 0.0060 - accuracy: 0.9991 - val_loss: 0.0039 - val_accuracy: 0.9994\n",
      "Epoch 15/100\n",
      "75/75 [==============================] - 1s 17ms/step - loss: 0.0056 - accuracy: 0.9991 - val_loss: 0.0038 - val_accuracy: 0.9993\n",
      "Epoch 16/100\n",
      "75/75 [==============================] - 1s 17ms/step - loss: 0.0053 - accuracy: 0.9992 - val_loss: 0.0038 - val_accuracy: 0.9993\n",
      "Epoch 17/100\n",
      "75/75 [==============================] - 1s 17ms/step - loss: 0.0053 - accuracy: 0.9991 - val_loss: 0.0038 - val_accuracy: 0.9994\n",
      "Epoch 18/100\n",
      "75/75 [==============================] - 1s 17ms/step - loss: 0.0052 - accuracy: 0.9991 - val_loss: 0.0037 - val_accuracy: 0.9994\n",
      "Epoch 19/100\n",
      "75/75 [==============================] - 1s 17ms/step - loss: 0.0049 - accuracy: 0.9992 - val_loss: 0.0037 - val_accuracy: 0.9994\n",
      "Epoch 20/100\n",
      "75/75 [==============================] - 1s 17ms/step - loss: 0.0048 - accuracy: 0.9991 - val_loss: 0.0037 - val_accuracy: 0.9994\n",
      "Epoch 21/100\n",
      "75/75 [==============================] - 1s 17ms/step - loss: 0.0047 - accuracy: 0.9991 - val_loss: 0.0037 - val_accuracy: 0.9994\n",
      "Epoch 22/100\n",
      "75/75 [==============================] - 1s 17ms/step - loss: 0.0046 - accuracy: 0.9992 - val_loss: 0.0037 - val_accuracy: 0.9994\n",
      "Epoch 23/100\n",
      "75/75 [==============================] - 1s 17ms/step - loss: 0.0044 - accuracy: 0.9992 - val_loss: 0.0037 - val_accuracy: 0.9994\n",
      "Epoch 24/100\n",
      "75/75 [==============================] - 1s 17ms/step - loss: 0.0043 - accuracy: 0.9993 - val_loss: 0.0037 - val_accuracy: 0.9994\n",
      "Epoch 25/100\n",
      "75/75 [==============================] - 1s 17ms/step - loss: 0.0042 - accuracy: 0.9992 - val_loss: 0.0037 - val_accuracy: 0.9994\n",
      "Epoch 26/100\n",
      "75/75 [==============================] - 1s 17ms/step - loss: 0.0042 - accuracy: 0.9993 - val_loss: 0.0037 - val_accuracy: 0.9994\n",
      "Epoch 27/100\n",
      "75/75 [==============================] - 1s 17ms/step - loss: 0.0042 - accuracy: 0.9992 - val_loss: 0.0037 - val_accuracy: 0.9994\n",
      "Epoch 28/100\n",
      "75/75 [==============================] - 1s 17ms/step - loss: 0.0042 - accuracy: 0.9993 - val_loss: 0.0037 - val_accuracy: 0.9994\n",
      "Epoch 29/100\n",
      "75/75 [==============================] - 1s 17ms/step - loss: 0.0041 - accuracy: 0.9992 - val_loss: 0.0036 - val_accuracy: 0.9994\n",
      "Epoch 30/100\n",
      "75/75 [==============================] - 1s 17ms/step - loss: 0.0039 - accuracy: 0.9993 - val_loss: 0.0036 - val_accuracy: 0.9994\n",
      "Epoch 31/100\n",
      "75/75 [==============================] - 1s 17ms/step - loss: 0.0039 - accuracy: 0.9993 - val_loss: 0.0036 - val_accuracy: 0.9994\n",
      "Epoch 32/100\n",
      "75/75 [==============================] - 1s 17ms/step - loss: 0.0040 - accuracy: 0.9993 - val_loss: 0.0036 - val_accuracy: 0.9994\n",
      "Epoch 33/100\n",
      "75/75 [==============================] - 1s 17ms/step - loss: 0.0038 - accuracy: 0.9993 - val_loss: 0.0036 - val_accuracy: 0.9994\n",
      "Epoch 34/100\n",
      "75/75 [==============================] - 1s 17ms/step - loss: 0.0037 - accuracy: 0.9993 - val_loss: 0.0036 - val_accuracy: 0.9994\n",
      "Epoch 35/100\n",
      "75/75 [==============================] - 1s 17ms/step - loss: 0.0036 - accuracy: 0.9993 - val_loss: 0.0035 - val_accuracy: 0.9994\n",
      "Epoch 36/100\n",
      "75/75 [==============================] - 1s 18ms/step - loss: 0.0037 - accuracy: 0.9993 - val_loss: 0.0035 - val_accuracy: 0.9994\n",
      "Epoch 37/100\n",
      "75/75 [==============================] - 1s 18ms/step - loss: 0.0036 - accuracy: 0.9993 - val_loss: 0.0035 - val_accuracy: 0.9994\n",
      "Epoch 38/100\n",
      "75/75 [==============================] - 1s 17ms/step - loss: 0.0036 - accuracy: 0.9993 - val_loss: 0.0035 - val_accuracy: 0.9994\n",
      "Epoch 39/100\n",
      "75/75 [==============================] - 1s 18ms/step - loss: 0.0037 - accuracy: 0.9993 - val_loss: 0.0035 - val_accuracy: 0.9994\n",
      "Epoch 40/100\n",
      "75/75 [==============================] - 1s 18ms/step - loss: 0.0036 - accuracy: 0.9993 - val_loss: 0.0035 - val_accuracy: 0.9994\n",
      "Epoch 41/100\n",
      "75/75 [==============================] - 1s 18ms/step - loss: 0.0037 - accuracy: 0.9994 - val_loss: 0.0035 - val_accuracy: 0.9994\n",
      "Epoch 42/100\n",
      "75/75 [==============================] - 1s 18ms/step - loss: 0.0034 - accuracy: 0.9994 - val_loss: 0.0034 - val_accuracy: 0.9994\n",
      "Epoch 43/100\n",
      "75/75 [==============================] - 1s 17ms/step - loss: 0.0034 - accuracy: 0.9993 - val_loss: 0.0035 - val_accuracy: 0.9994\n",
      "Epoch 44/100\n",
      "75/75 [==============================] - 1s 17ms/step - loss: 0.0033 - accuracy: 0.9994 - val_loss: 0.0034 - val_accuracy: 0.9994\n",
      "Epoch 45/100\n",
      "75/75 [==============================] - 1s 18ms/step - loss: 0.0035 - accuracy: 0.9994 - val_loss: 0.0034 - val_accuracy: 0.9994\n",
      "Epoch 46/100\n",
      "75/75 [==============================] - 1s 17ms/step - loss: 0.0034 - accuracy: 0.9993 - val_loss: 0.0034 - val_accuracy: 0.9994\n",
      "Epoch 47/100\n",
      "75/75 [==============================] - 1s 17ms/step - loss: 0.0034 - accuracy: 0.9994 - val_loss: 0.0034 - val_accuracy: 0.9994\n",
      "Epoch 48/100\n",
      "75/75 [==============================] - 1s 18ms/step - loss: 0.0033 - accuracy: 0.9993 - val_loss: 0.0034 - val_accuracy: 0.9994\n",
      "Epoch 49/100\n",
      "75/75 [==============================] - 1s 17ms/step - loss: 0.0034 - accuracy: 0.9994 - val_loss: 0.0033 - val_accuracy: 0.9994\n",
      "Epoch 50/100\n",
      "75/75 [==============================] - 1s 17ms/step - loss: 0.0032 - accuracy: 0.9994 - val_loss: 0.0034 - val_accuracy: 0.9994\n",
      "Epoch 51/100\n",
      "75/75 [==============================] - 1s 18ms/step - loss: 0.0032 - accuracy: 0.9994 - val_loss: 0.0033 - val_accuracy: 0.9994\n",
      "Epoch 52/100\n",
      "75/75 [==============================] - 1s 19ms/step - loss: 0.0033 - accuracy: 0.9994 - val_loss: 0.0033 - val_accuracy: 0.9994\n",
      "Epoch 53/100\n",
      "75/75 [==============================] - 1s 18ms/step - loss: 0.0033 - accuracy: 0.9994 - val_loss: 0.0033 - val_accuracy: 0.9994\n",
      "Epoch 54/100\n",
      "75/75 [==============================] - 1s 17ms/step - loss: 0.0033 - accuracy: 0.9993 - val_loss: 0.0033 - val_accuracy: 0.9994\n",
      "Epoch 55/100\n",
      "75/75 [==============================] - 1s 17ms/step - loss: 0.0032 - accuracy: 0.9994 - val_loss: 0.0033 - val_accuracy: 0.9994\n",
      "Epoch 56/100\n",
      "75/75 [==============================] - 1s 18ms/step - loss: 0.0031 - accuracy: 0.9994 - val_loss: 0.0033 - val_accuracy: 0.9994\n",
      "Epoch 57/100\n",
      "75/75 [==============================] - 1s 18ms/step - loss: 0.0032 - accuracy: 0.9994 - val_loss: 0.0033 - val_accuracy: 0.9994\n",
      "Epoch 58/100\n",
      "75/75 [==============================] - 1s 17ms/step - loss: 0.0031 - accuracy: 0.9994 - val_loss: 0.0033 - val_accuracy: 0.9994\n",
      "Epoch 59/100\n",
      "75/75 [==============================] - 1s 17ms/step - loss: 0.0030 - accuracy: 0.9994 - val_loss: 0.0033 - val_accuracy: 0.9994\n",
      "Epoch 60/100\n",
      "75/75 [==============================] - 1s 17ms/step - loss: 0.0030 - accuracy: 0.9994 - val_loss: 0.0032 - val_accuracy: 0.9994\n",
      "Epoch 61/100\n",
      "75/75 [==============================] - 1s 17ms/step - loss: 0.0032 - accuracy: 0.9994 - val_loss: 0.0032 - val_accuracy: 0.9994\n",
      "Epoch 62/100\n",
      "75/75 [==============================] - 1s 17ms/step - loss: 0.0028 - accuracy: 0.9994 - val_loss: 0.0032 - val_accuracy: 0.9994\n",
      "Epoch 63/100\n",
      "75/75 [==============================] - 1s 17ms/step - loss: 0.0030 - accuracy: 0.9994 - val_loss: 0.0032 - val_accuracy: 0.9994\n",
      "Epoch 64/100\n",
      "75/75 [==============================] - 1s 17ms/step - loss: 0.0030 - accuracy: 0.9994 - val_loss: 0.0032 - val_accuracy: 0.9994\n",
      "Epoch 65/100\n",
      "75/75 [==============================] - 1s 17ms/step - loss: 0.0031 - accuracy: 0.9994 - val_loss: 0.0033 - val_accuracy: 0.9994\n",
      "Epoch 66/100\n",
      "75/75 [==============================] - 1s 16ms/step - loss: 0.0030 - accuracy: 0.9994 - val_loss: 0.0033 - val_accuracy: 0.9994\n",
      "Epoch 67/100\n",
      "75/75 [==============================] - 1s 17ms/step - loss: 0.0030 - accuracy: 0.9994 - val_loss: 0.0032 - val_accuracy: 0.9994\n",
      "Epoch 68/100\n",
      "75/75 [==============================] - 1s 17ms/step - loss: 0.0031 - accuracy: 0.9994 - val_loss: 0.0033 - val_accuracy: 0.9994\n",
      "Epoch 69/100\n",
      "75/75 [==============================] - 1s 17ms/step - loss: 0.0030 - accuracy: 0.9994 - val_loss: 0.0032 - val_accuracy: 0.9994\n",
      "Epoch 70/100\n",
      "75/75 [==============================] - 1s 17ms/step - loss: 0.0029 - accuracy: 0.9994 - val_loss: 0.0032 - val_accuracy: 0.9994\n",
      "Epoch 71/100\n",
      "75/75 [==============================] - 1s 17ms/step - loss: 0.0029 - accuracy: 0.9994 - val_loss: 0.0032 - val_accuracy: 0.9994\n",
      "Epoch 72/100\n",
      "75/75 [==============================] - 1s 17ms/step - loss: 0.0030 - accuracy: 0.9994 - val_loss: 0.0032 - val_accuracy: 0.9994\n",
      "Epoch 73/100\n",
      "75/75 [==============================] - 1s 17ms/step - loss: 0.0030 - accuracy: 0.9995 - val_loss: 0.0033 - val_accuracy: 0.9994\n",
      "Epoch 74/100\n",
      "75/75 [==============================] - 1s 17ms/step - loss: 0.0029 - accuracy: 0.9994 - val_loss: 0.0032 - val_accuracy: 0.9994\n",
      "Epoch 75/100\n",
      "75/75 [==============================] - 1s 17ms/step - loss: 0.0030 - accuracy: 0.9994 - val_loss: 0.0033 - val_accuracy: 0.9994\n",
      "Epoch 76/100\n",
      "75/75 [==============================] - 1s 17ms/step - loss: 0.0028 - accuracy: 0.9995 - val_loss: 0.0032 - val_accuracy: 0.9994\n",
      "Epoch 77/100\n",
      "75/75 [==============================] - 1s 17ms/step - loss: 0.0029 - accuracy: 0.9994 - val_loss: 0.0032 - val_accuracy: 0.9994\n",
      "Epoch 78/100\n",
      "75/75 [==============================] - 1s 17ms/step - loss: 0.0029 - accuracy: 0.9994 - val_loss: 0.0032 - val_accuracy: 0.9994\n",
      "Epoch 79/100\n",
      "75/75 [==============================] - 1s 18ms/step - loss: 0.0029 - accuracy: 0.9994 - val_loss: 0.0032 - val_accuracy: 0.9994\n",
      "Epoch 80/100\n",
      "75/75 [==============================] - 1s 17ms/step - loss: 0.0029 - accuracy: 0.9994 - val_loss: 0.0032 - val_accuracy: 0.9994\n",
      "Epoch 81/100\n",
      "75/75 [==============================] - 1s 17ms/step - loss: 0.0028 - accuracy: 0.9994 - val_loss: 0.0032 - val_accuracy: 0.9994\n",
      "Epoch 82/100\n",
      "75/75 [==============================] - 1s 17ms/step - loss: 0.0028 - accuracy: 0.9994 - val_loss: 0.0032 - val_accuracy: 0.9994\n",
      "Epoch 83/100\n",
      "75/75 [==============================] - 1s 17ms/step - loss: 0.0028 - accuracy: 0.9995 - val_loss: 0.0032 - val_accuracy: 0.9994\n",
      "Epoch 84/100\n",
      "75/75 [==============================] - 1s 17ms/step - loss: 0.0027 - accuracy: 0.9994 - val_loss: 0.0032 - val_accuracy: 0.9994\n",
      "Epoch 85/100\n",
      "75/75 [==============================] - 1s 17ms/step - loss: 0.0027 - accuracy: 0.9994 - val_loss: 0.0032 - val_accuracy: 0.9994\n",
      "Epoch 86/100\n",
      "75/75 [==============================] - 1s 17ms/step - loss: 0.0028 - accuracy: 0.9995 - val_loss: 0.0032 - val_accuracy: 0.9994\n",
      "Epoch 87/100\n",
      "75/75 [==============================] - 1s 17ms/step - loss: 0.0028 - accuracy: 0.9994 - val_loss: 0.0033 - val_accuracy: 0.9994\n",
      "Epoch 88/100\n",
      "75/75 [==============================] - 1s 17ms/step - loss: 0.0028 - accuracy: 0.9994 - val_loss: 0.0033 - val_accuracy: 0.9994\n",
      "Epoch 89/100\n",
      "75/75 [==============================] - 1s 17ms/step - loss: 0.0027 - accuracy: 0.9994 - val_loss: 0.0033 - val_accuracy: 0.9994\n",
      "Epoch 90/100\n",
      "75/75 [==============================] - 1s 17ms/step - loss: 0.0028 - accuracy: 0.9994 - val_loss: 0.0032 - val_accuracy: 0.9994\n",
      "Epoch 91/100\n",
      "75/75 [==============================] - 1s 17ms/step - loss: 0.0028 - accuracy: 0.9994 - val_loss: 0.0032 - val_accuracy: 0.9994\n",
      "Epoch 92/100\n",
      "75/75 [==============================] - 1s 17ms/step - loss: 0.0027 - accuracy: 0.9994 - val_loss: 0.0032 - val_accuracy: 0.9994\n",
      "Epoch 93/100\n",
      "75/75 [==============================] - 1s 18ms/step - loss: 0.0027 - accuracy: 0.9995 - val_loss: 0.0032 - val_accuracy: 0.9994\n",
      "Epoch 94/100\n",
      "75/75 [==============================] - 1s 18ms/step - loss: 0.0027 - accuracy: 0.9995 - val_loss: 0.0032 - val_accuracy: 0.9994\n",
      "Epoch 95/100\n",
      "75/75 [==============================] - 1s 19ms/step - loss: 0.0028 - accuracy: 0.9994 - val_loss: 0.0033 - val_accuracy: 0.9994\n",
      "Epoch 96/100\n",
      "75/75 [==============================] - 1s 17ms/step - loss: 0.0027 - accuracy: 0.9995 - val_loss: 0.0033 - val_accuracy: 0.9994\n",
      "Epoch 97/100\n",
      "75/75 [==============================] - 1s 17ms/step - loss: 0.0027 - accuracy: 0.9995 - val_loss: 0.0032 - val_accuracy: 0.9994\n",
      "Epoch 98/100\n",
      "75/75 [==============================] - 1s 17ms/step - loss: 0.0027 - accuracy: 0.9995 - val_loss: 0.0033 - val_accuracy: 0.9994\n",
      "Epoch 99/100\n",
      "75/75 [==============================] - 1s 17ms/step - loss: 0.0026 - accuracy: 0.9994 - val_loss: 0.0033 - val_accuracy: 0.9994\n",
      "Epoch 100/100\n",
      "75/75 [==============================] - 1s 17ms/step - loss: 0.0027 - accuracy: 0.9995 - val_loss: 0.0033 - val_accuracy: 0.9994\n"
     ]
    }
   ],
   "source": [
    "history1=model1.fit(train_GRU_X, train_GRU_y,epochs=100,batch_size=3000, validation_data=(val_GRU_X, val_GRU_y))"
   ]
  },
  {
   "cell_type": "code",
   "execution_count": 24,
   "metadata": {
    "id": "FowJ3_QvDsD6"
   },
   "outputs": [],
   "source": [
    "# predict probabilities for test set\n",
    "yhat_probs1 = model1.predict(test_GRU_X, verbose=0)> 0.5\n",
    "# reduce to 1d array\n",
    "yhat_probs1 = yhat_probs1[:, 0]"
   ]
  },
  {
   "cell_type": "code",
   "execution_count": 25,
   "metadata": {
    "colab": {
     "base_uri": "https://localhost:8080/"
    },
    "id": "91TI5B2sESst",
    "outputId": "0fe68a3e-4217-42d1-9619-472263c2d804"
   },
   "outputs": [
    {
     "name": "stdout",
     "output_type": "stream",
     "text": [
      "Accuracy: 0.999508\n",
      "Precision: 0.857143\n",
      "Recall: 0.845070\n",
      "Recall: 0.851064\n",
      "              precision    recall  f1-score   support\n",
      "\n",
      "           0       1.00      1.00      1.00     85286\n",
      "           1       0.86      0.85      0.85       142\n",
      "\n",
      "    accuracy                           1.00     85428\n",
      "   macro avg       0.93      0.92      0.93     85428\n",
      "weighted avg       1.00      1.00      1.00     85428\n",
      "\n"
     ]
    }
   ],
   "source": [
    "# accuracy: (tp + tn) / (p + n)\n",
    "accuracy = accuracy_score(test_GRU_y, yhat_probs1)\n",
    "print('Accuracy: %f' % accuracy)\n",
    "# precision tp / (tp + fp)\n",
    "precision = precision_score(test_GRU_y, yhat_probs1)\n",
    "print('Precision: %f' % precision)\n",
    "# recall: tp / (tp + fn)\n",
    "recall = recall_score(test_GRU_y, yhat_probs1)\n",
    "print('Recall: %f' % recall)\n",
    "#F1 = 2 * (precision * recall) / (precision + recall)\n",
    "f1=f1_score(test_GRU_y, yhat_probs1)\n",
    "print('f1: %f' % f1)\n",
    "\n",
    "print(classification_report(test_GRU_y, yhat_probs1))"
   ]
  },
  {
   "cell_type": "code",
   "execution_count": 26,
   "metadata": {
    "id": "GaFfUn6xEpMn"
   },
   "outputs": [],
   "source": [
    "cm1 = confusion_matrix(y_true=test_GRU_y, y_pred=yhat_probs1)"
   ]
  },
  {
   "cell_type": "code",
   "execution_count": 27,
   "metadata": {
    "colab": {
     "base_uri": "https://localhost:8080/",
     "height": 362
    },
    "id": "ZFXwEl17ES7A",
    "outputId": "92daea33-c2f5-4354-ee72-eb9e4759e176"
   },
   "outputs": [
    {
     "name": "stdout",
     "output_type": "stream",
     "text": [
      "Confusion matrix, without normalization\n",
      "[[85266    20]\n",
      " [   22   120]]\n"
     ]
    },
    {
     "data": {
      "image/png": "[encoded data removed]",
      "text/plain": [
       "<Figure size 432x288 with 2 Axes>"
      ]
     },
     "metadata": {
      "needs_background": "light"
     },
     "output_type": "display_data"
    }
   ],
   "source": [
    "plot_confusion_matrix(cm=cm1, classes=labels, title='GRU-Attention', normalize=False)"
   ]
  }
 ],
 "metadata": {
  "colab": {
   "collapsed_sections": [],
   "name": "LSTM_Models.ipynb",
   "provenance": []
  },
  "kernelspec": {
   "display_name": "Python 3",
   "language": "python",
   "name": "python3"
  },
  "language_info": {
   "codemirror_mode": {
    "name": "ipython",
    "version": 3
   },
   "file_extension": ".py",
   "mimetype": "text/x-python",
   "name": "python",
   "nbconvert_exporter": "python",
   "pygments_lexer": "ipython3",
   "version": "3.8.8"
  }
 },
 "nbformat": 4,
 "nbformat_minor": 1
}
