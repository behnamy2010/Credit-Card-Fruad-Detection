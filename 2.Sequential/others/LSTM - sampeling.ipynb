{
 "cells": [
  {
   "cell_type": "code",
   "execution_count": 1,
   "metadata": {
    "id": "gRu9kpkYyztz"
   },
   "outputs": [],
   "source": [
    "import pandas as pd\n",
    "from matplotlib import pyplot\n",
    "from sklearn.model_selection import train_test_split\n",
    "import numpy as np\n",
    "from sklearn.metrics import accuracy_score\n",
    "from keras.layers import LSTM, Dense,Input,Layer\n",
    "from keras import backend as K,Model\n",
    "# demonstration of calculating metrics for a neural network model using sklearn\n",
    "from sklearn.metrics import accuracy_score\n",
    "from sklearn.metrics import precision_score\n",
    "from sklearn.metrics import recall_score\n",
    "from sklearn.metrics import f1_score\n",
    "import os\n",
    "import tensorflow as tf\n",
    "import warnings\n",
    "warnings.filterwarnings(\"ignore\", category=Warning)\n"
   ]
  },
  {
   "cell_type": "code",
   "execution_count": 2,
   "metadata": {
    "id": "Mlth1eViyz_p"
   },
   "outputs": [],
   "source": [
    "data = pd.read_csv('creditcard.csv', na_filter=True)\n",
    "\n",
    "data.drop(['Time'], axis=1, inplace=True)\n",
    "selected_vars =['V4','V14','V10','V16','V9','V12','V11','V17','V7','V21','V18','V8','V1','V3','V6','V2','V27','V5','V26','Class']"
   ]
  },
  {
   "cell_type": "code",
   "execution_count": 3,
   "metadata": {
    "colab": {
     "base_uri": "https://localhost:8080/"
    },
    "id": "0D1roi0fy9hN",
    "outputId": "1c7dad73-e697-47a5-9102-3fa04511a11d"
   },
   "outputs": [
    {
     "data": {
      "text/plain": [
       "(284807, 20)"
      ]
     },
     "execution_count": 3,
     "metadata": {},
     "output_type": "execute_result"
    }
   ],
   "source": [
    "df1 = data[selected_vars]\n",
    "df1.shape"
   ]
  },
  {
   "cell_type": "code",
   "execution_count": 4,
   "metadata": {
    "id": "SFjcDF3s2QId"
   },
   "outputs": [],
   "source": [
    "Target=df1['Class']\n",
    "df1 = df1.drop(['Class'], axis = 'columns')\n",
    "data.drop(['Class'], axis=1, inplace=True)"
   ]
  },
  {
   "cell_type": "code",
   "execution_count": 5,
   "metadata": {},
   "outputs": [],
   "source": [
    "sampling_res=pd.DataFrame(columns=['name','fraud percent','accuracy','precision','recall','f1-score'])\n",
    "sampling_c=0"
   ]
  },
  {
   "cell_type": "code",
   "execution_count": 6,
   "metadata": {
    "id": "rz6JhCFr0Iin"
   },
   "outputs": [],
   "source": [
    "from sklearn.preprocessing import StandardScaler\n",
    "## Standardizing the data\n",
    "df1= StandardScaler().fit_transform(df1)\n",
    "data= StandardScaler().fit_transform(data)"
   ]
  },
  {
   "cell_type": "code",
   "execution_count": 7,
   "metadata": {
    "id": "XOlGVbif0U-i"
   },
   "outputs": [],
   "source": [
    "def create_model(name,k,X_train,y_train,X_test,y_test,d,epochs,batch_size,sampling_c): \n",
    "    # X_train et X_test sont des dataframe qui contient les features\n",
    "    train_LSTM_X=X_train\n",
    "    test_LSTM_X=X_test\n",
    "\n",
    "    ## Reshape input to be 3D [samples, timesteps, features] (format requis par LSTM)\n",
    "    train_LSTM_X = train_LSTM_X.reshape((train_LSTM_X.shape[0], 1, train_LSTM_X.shape[1]))\n",
    "    test_LSTM_X = test_LSTM_X.reshape((test_LSTM_X.shape[0], 1, test_LSTM_X.shape[1]))\n",
    "\n",
    "    ## Recuperation des labels\n",
    "    train_LSTM_y=y_train\n",
    "    test_LSTM_y=y_test\n",
    "    ###################\n",
    "    inputs=Input((1,d))\n",
    "    x1=LSTM(50)(inputs)\n",
    "    outputs=Dense(1,activation='sigmoid')(x1)\n",
    "    model=Model(inputs,outputs)\n",
    "    ###################\n",
    "    model.compile(loss='binary_crossentropy', optimizer='adam', metrics=['Precision','Recall'])\n",
    "    ########\n",
    "    model.fit(train_LSTM_X, train_LSTM_y,epochs=epochs,batch_size=batch_size, verbose=0)\n",
    "    ########\n",
    "    # predict probabilities for test set\n",
    "    yhat_probs = model.predict(test_LSTM_X, verbose=0)\n",
    "    # reduce to 1d array\n",
    "    yhat_probs = yhat_probs[:, 0]> 0.5\n",
    "    #####\n",
    "    # accuracy: (tp + tn) / (p + n)\n",
    "    accuracy = accuracy_score(test_LSTM_y, yhat_probs)\n",
    "    # precision tp / (tp + fp)\n",
    "    precision = precision_score(test_LSTM_y, yhat_probs)\n",
    "    # recall: tp / (tp + fn)\n",
    "    recall = recall_score(test_LSTM_y, yhat_probs)\n",
    "    f1 = f1_score(test_LSTM_y, yhat_probs)\n",
    "    sampling_res.loc[sampling_c]=[name,k,accuracy,precision,recall,f1]\n",
    "    sampling_c+=1 \n",
    "    return sampling_c"
   ]
  },
  {
   "cell_type": "code",
   "execution_count": 8,
   "metadata": {},
   "outputs": [],
   "source": [
    "X_train,X_test,y_train,y_test = train_test_split(data, Target, test_size=0.3, shuffle=False,random_state=0)\n",
    "sampling_c=create_model(\"original\",1,X_train,y_train,X_test,y_test,X_train.shape[1],10,500,sampling_c)"
   ]
  },
  {
   "cell_type": "code",
   "execution_count": 9,
   "metadata": {},
   "outputs": [],
   "source": [
    "X_train,X_test,y_train,y_test = train_test_split(df1, Target , test_size=0.3, shuffle=False,random_state=0)\n",
    "sampling_c=create_model(\"feature selected\",1,X_train,y_train,X_test,y_test,X_train.shape[1],5,500,sampling_c)"
   ]
  },
  {
   "cell_type": "code",
   "execution_count": 10,
   "metadata": {},
   "outputs": [
    {
     "data": {
      "text/html": [
       "<div>\n",
       "<style scoped>\n",
       "    .dataframe tbody tr th:only-of-type {\n",
       "        vertical-align: middle;\n",
       "    }\n",
       "\n",
       "    .dataframe tbody tr th {\n",
       "        vertical-align: top;\n",
       "    }\n",
       "\n",
       "    .dataframe thead th {\n",
       "        text-align: right;\n",
       "    }\n",
       "</style>\n",
       "<table border=\"1\" class=\"dataframe\">\n",
       "  <thead>\n",
       "    <tr style=\"text-align: right;\">\n",
       "      <th></th>\n",
       "      <th>name</th>\n",
       "      <th>fraud percent</th>\n",
       "      <th>accuracy</th>\n",
       "      <th>precision</th>\n",
       "      <th>recall</th>\n",
       "      <th>f1-score</th>\n",
       "    </tr>\n",
       "  </thead>\n",
       "  <tbody>\n",
       "    <tr>\n",
       "      <th>0</th>\n",
       "      <td>original</td>\n",
       "      <td>1</td>\n",
       "      <td>0.999625</td>\n",
       "      <td>0.97500</td>\n",
       "      <td>0.722222</td>\n",
       "      <td>0.829787</td>\n",
       "    </tr>\n",
       "    <tr>\n",
       "      <th>1</th>\n",
       "      <td>feature selected</td>\n",
       "      <td>1</td>\n",
       "      <td>0.999625</td>\n",
       "      <td>0.94186</td>\n",
       "      <td>0.750000</td>\n",
       "      <td>0.835052</td>\n",
       "    </tr>\n",
       "  </tbody>\n",
       "</table>\n",
       "</div>"
      ],
      "text/plain": [
       "               name fraud percent  accuracy  precision    recall  f1-score\n",
       "0          original             1  0.999625    0.97500  0.722222  0.829787\n",
       "1  feature selected             1  0.999625    0.94186  0.750000  0.835052"
      ]
     },
     "execution_count": 10,
     "metadata": {},
     "output_type": "execute_result"
    }
   ],
   "source": [
    "sampling_res"
   ]
  },
  {
   "cell_type": "markdown",
   "metadata": {
    "id": "u37HWxt0ucVT"
   },
   "source": [
    "# outlier"
   ]
  },
  {
   "cell_type": "markdown",
   "metadata": {
    "id": "QZ-v89wQucVT"
   },
   "source": [
    "## LocalOutlierFactor"
   ]
  },
  {
   "cell_type": "code",
   "execution_count": 11,
   "metadata": {
    "id": "i9EogUr2ucVU"
   },
   "outputs": [],
   "source": [
    "from sklearn.preprocessing import StandardScaler\n",
    "from sklearn.neighbors import LocalOutlierFactor"
   ]
  },
  {
   "cell_type": "code",
   "execution_count": 12,
   "metadata": {},
   "outputs": [],
   "source": [
    "df1=pd.DataFrame(df1)\n",
    "Target=pd.Series(Target)"
   ]
  },
  {
   "cell_type": "code",
   "execution_count": 13,
   "metadata": {
    "id": "bRpen4dwucVU",
    "outputId": "9df74566-6953-4eac-a536-727d7649f182"
   },
   "outputs": [
    {
     "data": {
      "text/plain": [
       "((492, 19), (284315, 19))"
      ]
     },
     "execution_count": 13,
     "metadata": {},
     "output_type": "execute_result"
    }
   ],
   "source": [
    "df1_fraud=df1[Target==1]\n",
    "df1_normal=df1[Target==0]\n",
    "df1_fraud.shape,df1_normal.shape"
   ]
  },
  {
   "cell_type": "code",
   "execution_count": 14,
   "metadata": {
    "id": "YaG19WHMucVU",
    "outputId": "ae352f76-445a-4351-9b6a-1f3dc75c77dd"
   },
   "outputs": [
    {
     "data": {
      "text/plain": [
       "array([-1,  1])"
      ]
     },
     "execution_count": 14,
     "metadata": {},
     "output_type": "execute_result"
    }
   ],
   "source": [
    "clf = LocalOutlierFactor()\n",
    "res = clf.fit_predict(df1_normal)\n",
    "np.unique(res)"
   ]
  },
  {
   "cell_type": "code",
   "execution_count": 15,
   "metadata": {
    "id": "O9dA3QbducVU"
   },
   "outputs": [],
   "source": [
    "res[res==1] =0\n",
    "df1_normal['Class']=res\n",
    "df1_fraud['Class']=1"
   ]
  },
  {
   "cell_type": "code",
   "execution_count": 16,
   "metadata": {
    "id": "osQyU02yucVV"
   },
   "outputs": [],
   "source": [
    "frames = [df1_normal, df1_fraud]\n",
    "result = pd.concat(frames)"
   ]
  },
  {
   "cell_type": "code",
   "execution_count": 17,
   "metadata": {
    "id": "EBkBFzEEucVV",
    "outputId": "5d86ed3c-a28a-47e7-f1df-bd69a34f7835"
   },
   "outputs": [
    {
     "data": {
      "text/plain": [
       "(19155, 20)"
      ]
     },
     "execution_count": 17,
     "metadata": {},
     "output_type": "execute_result"
    }
   ],
   "source": [
    "lof_res=result[result['Class']!=-1]\n",
    "lof_out=result[result['Class']==-1]\n",
    "result[result['Class']==-1].shape"
   ]
  },
  {
   "cell_type": "markdown",
   "metadata": {
    "id": "fx3gW9DlucVW"
   },
   "source": [
    "## IsolationForest"
   ]
  },
  {
   "cell_type": "code",
   "execution_count": 18,
   "metadata": {
    "id": "-k7p8MYcucVW"
   },
   "outputs": [],
   "source": [
    "from sklearn.ensemble import IsolationForest"
   ]
  },
  {
   "cell_type": "code",
   "execution_count": 19,
   "metadata": {
    "id": "2sEmbsj9ucVW",
    "outputId": "f3c83833-14a9-46fe-9809-9ee82b08a962"
   },
   "outputs": [
    {
     "data": {
      "text/plain": [
       "((492, 19), (284315, 19))"
      ]
     },
     "execution_count": 19,
     "metadata": {},
     "output_type": "execute_result"
    }
   ],
   "source": [
    "df1_fraud=df1[Target==1]\n",
    "df1_normal=df1[Target==0]\n",
    "df1_fraud.shape,df1_normal.shape"
   ]
  },
  {
   "cell_type": "code",
   "execution_count": 20,
   "metadata": {
    "id": "OY5yufJ3ucVX",
    "outputId": "24229172-0db0-4ec9-b971-436294b3fa70"
   },
   "outputs": [
    {
     "data": {
      "text/plain": [
       "array([-1,  1])"
      ]
     },
     "execution_count": 20,
     "metadata": {},
     "output_type": "execute_result"
    }
   ],
   "source": [
    "clf = IsolationForest(random_state=0)\n",
    "res = clf.fit_predict(df1_normal)\n",
    "np.unique(res)"
   ]
  },
  {
   "cell_type": "code",
   "execution_count": 21,
   "metadata": {
    "id": "owNIVKuducVX"
   },
   "outputs": [],
   "source": [
    "res[res==1] =0\n",
    "df1_normal['Class']=res\n",
    "df1_fraud['Class']=1"
   ]
  },
  {
   "cell_type": "code",
   "execution_count": 22,
   "metadata": {
    "id": "s4Ruj4dgucVX"
   },
   "outputs": [],
   "source": [
    "frames = [df1_normal, df1_fraud]\n",
    "result = pd.concat(frames)"
   ]
  },
  {
   "cell_type": "code",
   "execution_count": 23,
   "metadata": {
    "id": "eYd2hg47ucVX",
    "outputId": "6c8c6588-01c0-483f-87d3-a4e69bfae2c4"
   },
   "outputs": [
    {
     "data": {
      "text/plain": [
       "(12259, 20)"
      ]
     },
     "execution_count": 23,
     "metadata": {},
     "output_type": "execute_result"
    }
   ],
   "source": [
    "isf_res=result[result['Class']!=-1]\n",
    "isf_out=result[result['Class']==-1]\n",
    "result[result['Class']==-1].shape"
   ]
  },
  {
   "cell_type": "markdown",
   "metadata": {
    "id": "eltEwu7eucVY"
   },
   "source": [
    "## EllipticEnvelope"
   ]
  },
  {
   "cell_type": "code",
   "execution_count": 24,
   "metadata": {
    "id": "3UNcLX6oucVY"
   },
   "outputs": [],
   "source": [
    "from sklearn.covariance import EllipticEnvelope"
   ]
  },
  {
   "cell_type": "code",
   "execution_count": 25,
   "metadata": {
    "id": "kj1Gg-ZTucVZ",
    "outputId": "e0c45364-dbb4-44da-f7cf-70068fbb5efe"
   },
   "outputs": [
    {
     "data": {
      "text/plain": [
       "((492, 19), (284315, 19))"
      ]
     },
     "execution_count": 25,
     "metadata": {},
     "output_type": "execute_result"
    }
   ],
   "source": [
    "df1_fraud=df1[Target==1]\n",
    "df1_normal=df1[Target==0]\n",
    "df1_fraud.shape,df1_normal.shape"
   ]
  },
  {
   "cell_type": "code",
   "execution_count": 26,
   "metadata": {
    "id": "p3mMhohNucVZ",
    "outputId": "e3cc7fb0-fc9e-4537-cd79-27f6db51a121"
   },
   "outputs": [
    {
     "data": {
      "text/plain": [
       "array([-1,  1])"
      ]
     },
     "execution_count": 26,
     "metadata": {},
     "output_type": "execute_result"
    }
   ],
   "source": [
    "clf = EllipticEnvelope(random_state=0)\n",
    "res = clf.fit_predict(df1_normal)\n",
    "np.unique(res)"
   ]
  },
  {
   "cell_type": "code",
   "execution_count": 27,
   "metadata": {
    "id": "MJuVvFXNucVZ"
   },
   "outputs": [],
   "source": [
    "res[res==1] =0\n",
    "df1_normal['Class']=res\n",
    "df1_fraud['Class']=1"
   ]
  },
  {
   "cell_type": "code",
   "execution_count": 28,
   "metadata": {
    "id": "X1a3CsRRucVa"
   },
   "outputs": [],
   "source": [
    "frames = [df1_normal, df1_fraud]\n",
    "result = pd.concat(frames)"
   ]
  },
  {
   "cell_type": "code",
   "execution_count": 29,
   "metadata": {
    "id": "d-MfzmvBucVa",
    "outputId": "98ec08a6-1d6d-4ed1-ecaa-38b3274ffc9f"
   },
   "outputs": [
    {
     "data": {
      "text/plain": [
       "(28431, 20)"
      ]
     },
     "execution_count": 29,
     "metadata": {},
     "output_type": "execute_result"
    }
   ],
   "source": [
    "ee_res=result[result['Class']!=-1]\n",
    "ee_out=result[result['Class']==-1]\n",
    "result[result['Class']==-1].shape"
   ]
  },
  {
   "cell_type": "markdown",
   "metadata": {
    "id": "iDP-BEb9ucVb"
   },
   "source": [
    "## OneClassSVM"
   ]
  },
  {
   "cell_type": "code",
   "execution_count": 30,
   "metadata": {
    "id": "1A47Ru0cucVb"
   },
   "outputs": [],
   "source": [
    "from sklearn.svm import OneClassSVM"
   ]
  },
  {
   "cell_type": "code",
   "execution_count": 31,
   "metadata": {
    "id": "7xorp-fXucVc",
    "outputId": "806d8ce4-032a-4a5d-e262-035158fcdb23"
   },
   "outputs": [
    {
     "data": {
      "text/plain": [
       "((492, 19), (284315, 19))"
      ]
     },
     "execution_count": 31,
     "metadata": {},
     "output_type": "execute_result"
    }
   ],
   "source": [
    "df1_fraud=df1[Target==1]\n",
    "df1_normal=df1[Target==0]\n",
    "df1_fraud.shape,df1_normal.shape"
   ]
  },
  {
   "cell_type": "code",
   "execution_count": 32,
   "metadata": {
    "id": "L9jQIyRGucVc",
    "outputId": "5595d924-5288-4bc6-8ce1-02830ef2242d"
   },
   "outputs": [
    {
     "data": {
      "text/plain": [
       "array([-1,  1], dtype=int64)"
      ]
     },
     "execution_count": 32,
     "metadata": {},
     "output_type": "execute_result"
    }
   ],
   "source": [
    "clf = OneClassSVM()\n",
    "res = clf.fit_predict(df1_normal)\n",
    "np.unique(res)"
   ]
  },
  {
   "cell_type": "code",
   "execution_count": 33,
   "metadata": {
    "id": "P7v-yRJVucVc"
   },
   "outputs": [],
   "source": [
    "res[res==1] = 0\n",
    "df1_normal['Class']=res\n",
    "df1_fraud['Class']=1"
   ]
  },
  {
   "cell_type": "code",
   "execution_count": 34,
   "metadata": {
    "id": "wBim-UD3ucVc"
   },
   "outputs": [],
   "source": [
    "frames = [df1_normal, df1_fraud]\n",
    "result = pd.concat(frames)"
   ]
  },
  {
   "cell_type": "code",
   "execution_count": 35,
   "metadata": {
    "id": "0K4UXK6oucVd",
    "outputId": "61c6d69e-c7b9-47fe-eb39-8d310370adf3"
   },
   "outputs": [
    {
     "data": {
      "text/plain": [
       "(142159, 20)"
      ]
     },
     "execution_count": 35,
     "metadata": {},
     "output_type": "execute_result"
    }
   ],
   "source": [
    "osvm_res=result[result['Class']!=-1]\n",
    "osvm_out=result[result['Class']==-1]\n",
    "result[result['Class']==-1].shape"
   ]
  },
  {
   "cell_type": "code",
   "execution_count": 36,
   "metadata": {},
   "outputs": [],
   "source": [
    "lof_t=pd.DataFrame(lof_res['Class'])\n",
    "lof_res.drop(['Class'],axis=1,inplace=True)\n",
    "lof_ot=pd.DataFrame(lof_out['Class'])\n",
    "lof_out.drop(['Class'],axis=1,inplace=True)\n",
    "\n",
    "isf_t=pd.DataFrame(isf_res['Class'])\n",
    "isf_res.drop(['Class'],axis=1,inplace=True)\n",
    "isf_ot=pd.DataFrame(isf_out['Class'])\n",
    "isf_out.drop(['Class'],axis=1,inplace=True)\n",
    "\n",
    "ee_t=pd.DataFrame(ee_res['Class'])\n",
    "ee_res.drop(['Class'],axis=1,inplace=True)\n",
    "ee_ot=pd.DataFrame(ee_out['Class'])\n",
    "ee_out.drop(['Class'],axis=1,inplace=True)\n",
    "\n",
    "osvm_t=pd.DataFrame(osvm_res['Class'])\n",
    "osvm_res.drop(['Class'],axis=1,inplace=True)\n",
    "osvm_ot=pd.DataFrame(osvm_out['Class'])\n",
    "osvm_out.drop(['Class'],axis=1,inplace=True)"
   ]
  },
  {
   "cell_type": "markdown",
   "metadata": {
    "id": "tFMPFkLaucVe"
   },
   "source": [
    "# Balancing"
   ]
  },
  {
   "cell_type": "code",
   "execution_count": 37,
   "metadata": {},
   "outputs": [],
   "source": [
    "from imblearn.under_sampling import RandomUnderSampler \n",
    "from imblearn.under_sampling import AllKNN \n",
    "from imblearn.under_sampling import NearMiss \n",
    "from imblearn.under_sampling import TomekLinks\n"
   ]
  },
  {
   "cell_type": "code",
   "execution_count": null,
   "metadata": {},
   "outputs": [],
   "source": [
    "ros = RandomUnderSampler(random_state=0,sampling_strategy=5/95)\n",
    "X_resampled, y_resampled = ros.fit_resample(X_train,y_train)\n",
    "sampling_c=create_model(\"RandomUnderSampler\",5,X_resampled, y_resampled ,X_test,y_test,X_train.shape[1],10,500,sampling_c)"
   ]
  },
  {
   "cell_type": "code",
   "execution_count": null,
   "metadata": {},
   "outputs": [],
   "source": [
    "ros = RandomUnderSampler(random_state=0,sampling_strategy=10/90)\n",
    "X_resampled, y_resampled = ros.fit_resample(X_train,y_train)\n",
    "sampling_c=create_model(\"RandomUnderSampler\",10,X_resampled, y_resampled ,X_test,y_test,X_train.shape[1],100,500,sampling_c)"
   ]
  },
  {
   "cell_type": "code",
   "execution_count": null,
   "metadata": {},
   "outputs": [],
   "source": [
    "ros = RandomUnderSampler(random_state=0,sampling_strategy=15/85)\n",
    "X_resampled, y_resampled = ros.fit_resample(X_train,y_train)\n",
    "sampling_c=create_model(\"RandomUnderSampler\",15,X_resampled, y_resampled ,X_test,y_test,X_train.shape[1],100,500,sampling_c)"
   ]
  },
  {
   "cell_type": "code",
   "execution_count": null,
   "metadata": {},
   "outputs": [],
   "source": [
    "ros = TomekLinks()\n",
    "X_resampled, y_resampled = ros.fit_resample(X_train,y_train)\n",
    "sampling_c=create_model(\"TomekLinks\",\"-\",X_resampled, y_resampled ,X_test,y_test,X_train.shape[1],10,500,sampling_c)"
   ]
  },
  {
   "cell_type": "code",
   "execution_count": null,
   "metadata": {},
   "outputs": [],
   "source": [
    "ros = AllKNN()\n",
    "X_resampled, y_resampled = ros.fit_resample(X_train,y_train)\n",
    "sampling_c=create_model(\"AllKNN\",\"-\",X_resampled, y_resampled ,X_test,y_test,X_train.shape[1],10,500,sampling_c)"
   ]
  },
  {
   "cell_type": "code",
   "execution_count": null,
   "metadata": {},
   "outputs": [],
   "source": [
    "ros = NearMiss(sampling_strategy=5/95)\n",
    "X_resampled, y_resampled = ros.fit_resample(X_train,y_train)\n",
    "sampling_c=create_model(\"NearMiss\",5,X_resampled, y_resampled ,X_test,y_test,X_train.shape[1],10,500,sampling_c)"
   ]
  },
  {
   "cell_type": "code",
   "execution_count": null,
   "metadata": {},
   "outputs": [],
   "source": [
    "ros = NearMiss( sampling_strategy=10/90)\n",
    "X_resampled, y_resampled = ros.fit_resample(X_train,y_train)\n",
    "sampling_c=create_model(\"NearMiss\",10,X_resampled, y_resampled ,X_test,y_test,X_train.shape[1],20,500,sampling_c)"
   ]
  },
  {
   "cell_type": "code",
   "execution_count": null,
   "metadata": {},
   "outputs": [],
   "source": [
    "ros = NearMiss( sampling_strategy=15/85)\n",
    "X_resampled, y_resampled = ros.fit_resample(X_train,y_train)\n",
    "sampling_c=create_model(\"NearMiss\",15,X_resampled, y_resampled ,X_test,y_test,X_train.shape[1],30,500,sampling_c)"
   ]
  },
  {
   "cell_type": "markdown",
   "metadata": {},
   "source": [
    "RandomUnderSampler"
   ]
  },
  {
   "cell_type": "code",
   "execution_count": null,
   "metadata": {},
   "outputs": [],
   "source": [
    "X_train, X_test, y_train, y_test = train_test_split(isf_res, isf_t, test_size = 0.3,random_state=0)\n",
    "ros = RandomUnderSampler(random_state=0,sampling_strategy=5/95)\n",
    "X_resampled, y_resampled = ros.fit_resample(X_train,y_train)\n",
    "X_resampled=pd.concat([X_resampled, isf_out])\n",
    "y_resampled=pd.concat([y_resampled, isf_ot])\n",
    "y_resampled[y_resampled==-1]=0\n",
    "\n",
    "sampling_c=create_model(\"RandomUnderSampler + isf\",5,X_resampled.to_numpy(), y_resampled,X_test.to_numpy(),y_test,X_train.shape[1],35,500,sampling_c)"
   ]
  },
  {
   "cell_type": "code",
   "execution_count": null,
   "metadata": {},
   "outputs": [],
   "source": [
    "X_train, X_test, y_train, y_test = train_test_split(isf_res, isf_t, test_size = 0.3,random_state=0)\n",
    "ros = RandomUnderSampler(random_state=0,sampling_strategy=10/90)\n",
    "X_resampled, y_resampled = ros.fit_resample(X_train,y_train)\n",
    "X_resampled=pd.concat([X_resampled, lof_out])\n",
    "y_resampled=pd.concat([y_resampled, lof_ot])\n",
    "y_resampled[y_resampled==-1]=0\n",
    "\n",
    "sampling_c=create_model(\"RandomUnderSampler + isf\",10,X_resampled.to_numpy(), y_resampled,X_test.to_numpy(),y_test,X_train.shape[1],5,500,sampling_c)"
   ]
  },
  {
   "cell_type": "code",
   "execution_count": null,
   "metadata": {},
   "outputs": [],
   "source": [
    "X_train, X_test, y_train, y_test = train_test_split(isf_res, isf_t, test_size = 0.3,random_state=0)\n",
    "ros = RandomUnderSampler(random_state=0,sampling_strategy=15/85)\n",
    "X_resampled, y_resampled = ros.fit_resample(X_train,y_train)\n",
    "X_resampled=pd.concat([X_resampled, lof_out])\n",
    "y_resampled=pd.concat([y_resampled, lof_ot])\n",
    "y_resampled[y_resampled==-1]=0\n",
    "\n",
    "sampling_c=create_model(\"RandomUnderSampler + isf\",15,X_resampled.to_numpy(), y_resampled,X_test.to_numpy(),y_test,X_train.shape[1],5,500,sampling_c)"
   ]
  },
  {
   "cell_type": "code",
   "execution_count": null,
   "metadata": {},
   "outputs": [],
   "source": [
    "X_train, X_test, y_train, y_test = train_test_split(lof_res, lof_t, test_size = 0.3,random_state=0)\n",
    "ros = RandomUnderSampler(random_state=0,sampling_strategy=5/95)\n",
    "X_resampled, y_resampled = ros.fit_resample(X_train,y_train)\n",
    "X_resampled=pd.concat([X_resampled, lof_out])\n",
    "y_resampled=pd.concat([y_resampled, lof_ot])\n",
    "y_resampled[y_resampled==-1]=0\n",
    "\n",
    "sampling_c=create_model(\"RandomUnderSampler + lof\",5,X_resampled.to_numpy(), y_resampled,X_test.to_numpy(),y_test,X_train.shape[1],10,500,sampling_c)"
   ]
  },
  {
   "cell_type": "code",
   "execution_count": null,
   "metadata": {},
   "outputs": [],
   "source": [
    "X_train, X_test, y_train, y_test = train_test_split(lof_res, lof_t, test_size = 0.3,random_state=0)\n",
    "ros = RandomUnderSampler(random_state=0,sampling_strategy=10/90)\n",
    "X_resampled, y_resampled = ros.fit_resample(X_train,y_train)\n",
    "X_resampled=pd.concat([X_resampled, lof_out])\n",
    "y_resampled=pd.concat([y_resampled, lof_ot])\n",
    "y_resampled[y_resampled==-1]=0\n",
    "\n",
    "sampling_c=create_model(\"RandomUnderSampler + lof\",10,X_resampled.to_numpy(), y_resampled,X_test.to_numpy(),y_test,X_train.shape[1],5,500,sampling_c)"
   ]
  },
  {
   "cell_type": "code",
   "execution_count": null,
   "metadata": {},
   "outputs": [],
   "source": [
    "X_train, X_test, y_train, y_test = train_test_split(lof_res, lof_t, test_size = 0.3,random_state=0)\n",
    "ros = RandomUnderSampler(random_state=0,sampling_strategy=15/85)\n",
    "X_resampled, y_resampled = ros.fit_resample(X_train,y_train)\n",
    "X_resampled=pd.concat([X_resampled, lof_out])\n",
    "y_resampled=pd.concat([y_resampled, lof_ot])\n",
    "y_resampled[y_resampled==-1]=0\n",
    "\n",
    "sampling_c=create_model(\"RandomUnderSampler + lof\",15,X_resampled.to_numpy(), y_resampled,X_test.to_numpy(),y_test,X_train.shape[1],5,500,sampling_c)"
   ]
  },
  {
   "cell_type": "code",
   "execution_count": null,
   "metadata": {},
   "outputs": [],
   "source": [
    "X_train, X_test, y_train, y_test = train_test_split(ee_res, ee_t, test_size = 0.3,random_state=0)\n",
    "ros = RandomUnderSampler(random_state=0,sampling_strategy=5/95)\n",
    "X_resampled, y_resampled = ros.fit_resample(X_train,y_train)\n",
    "X_resampled=pd.concat([X_resampled, ee_out])\n",
    "y_resampled=pd.concat([y_resampled, ee_ot])\n",
    "y_resampled[y_resampled==-1]=0\n",
    "\n",
    "sampling_c=create_model(\"RandomUnderSampler + EllipticEnvelope\",5,X_resampled.to_numpy(), y_resampled,X_test.to_numpy(),y_test,X_train.shape[1],10,500,sampling_c)"
   ]
  },
  {
   "cell_type": "code",
   "execution_count": null,
   "metadata": {},
   "outputs": [],
   "source": [
    "X_train, X_test, y_train, y_test = train_test_split(ee_res, ee_t, test_size = 0.3,random_state=0)\n",
    "ros = RandomUnderSampler(random_state=0,sampling_strategy=10/90)\n",
    "X_resampled, y_resampled = ros.fit_resample(X_train,y_train)\n",
    "X_resampled=pd.concat([X_resampled, ee_out])\n",
    "y_resampled=pd.concat([y_resampled, ee_ot])\n",
    "y_resampled[y_resampled==-1]=0\n",
    "\n",
    "sampling_c=create_model(\"RandomUnderSampler + EllipticEnvelope\",10,X_resampled.to_numpy(), y_resampled,X_test.to_numpy(),y_test,X_train.shape[1],5,500,sampling_c)"
   ]
  },
  {
   "cell_type": "code",
   "execution_count": null,
   "metadata": {},
   "outputs": [],
   "source": [
    "X_train, X_test, y_train, y_test = train_test_split(ee_res, ee_t, test_size = 0.3,random_state=0)\n",
    "ros = RandomUnderSampler(random_state=0,sampling_strategy=15/85)\n",
    "X_resampled, y_resampled = ros.fit_resample(X_train,y_train)\n",
    "X_resampled=pd.concat([X_resampled, ee_out])\n",
    "y_resampled=pd.concat([y_resampled, ee_ot])\n",
    "y_resampled[y_resampled==-1]=0\n",
    "\n",
    "sampling_c=create_model(\"RandomUnderSampler + EllipticEnvelope\",15,X_resampled.to_numpy(), y_resampled,X_test.to_numpy(),y_test,X_train.shape[1],5,500,sampling_c)"
   ]
  },
  {
   "cell_type": "code",
   "execution_count": null,
   "metadata": {},
   "outputs": [],
   "source": [
    "X_train, X_test, y_train, y_test = train_test_split(osvm_res, osvm_t, test_size = 0.3,random_state=0)\n",
    "ros = RandomUnderSampler(random_state=0,sampling_strategy=5/95)\n",
    "X_resampled, y_resampled = ros.fit_resample(X_train,y_train)\n",
    "X_resampled=pd.concat([X_resampled, osvm_out])\n",
    "y_resampled=pd.concat([y_resampled, osvm_ot])\n",
    "y_resampled[y_resampled==-1]=0\n",
    "\n",
    "sampling_c=create_model(\"RandomUnderSampler + ocsvm\",5,X_resampled.to_numpy(), y_resampled,X_test.to_numpy(),y_test,X_train.shape[1],10,500,sampling_c)"
   ]
  },
  {
   "cell_type": "code",
   "execution_count": null,
   "metadata": {},
   "outputs": [],
   "source": [
    "X_train, X_test, y_train, y_test = train_test_split(osvm_res, osvm_t, test_size = 0.3,random_state=0)\n",
    "ros = RandomUnderSampler(random_state=0,sampling_strategy=10/90)\n",
    "X_resampled, y_resampled = ros.fit_resample(X_train,y_train)\n",
    "X_resampled=pd.concat([X_resampled, osvm_out])\n",
    "y_resampled=pd.concat([y_resampled, osvm_ot])\n",
    "y_resampled[y_resampled==-1]=0\n",
    "\n",
    "sampling_c=create_model(\"RandomUnderSampler + ocsvm\",10,X_resampled.to_numpy(), y_resampled,X_test.to_numpy(),y_test,X_train.shape[1],5,500,sampling_c)"
   ]
  },
  {
   "cell_type": "code",
   "execution_count": null,
   "metadata": {},
   "outputs": [],
   "source": [
    "X_train, X_test, y_train, y_test = train_test_split(osvm_res, osvm_t, test_size = 0.3,random_state=0)\n",
    "ros = RandomUnderSampler(random_state=0,sampling_strategy=15/85)\n",
    "X_resampled, y_resampled = ros.fit_resample(X_train,y_train)\n",
    "X_resampled=pd.concat([X_resampled, osvm_out])\n",
    "y_resampled=pd.concat([y_resampled, osvm_ot])\n",
    "y_resampled[y_resampled==-1]=0\n",
    "\n",
    "sampling_c=create_model(\"RandomUnderSampler + ocsvm\",15,X_resampled.to_numpy(), y_resampled,X_test.to_numpy(),y_test,X_train.shape[1],5,500,sampling_c)"
   ]
  },
  {
   "cell_type": "markdown",
   "metadata": {},
   "source": [
    "NearMiss"
   ]
  },
  {
   "cell_type": "code",
   "execution_count": null,
   "metadata": {},
   "outputs": [],
   "source": [
    "X_train, X_test, y_train, y_test = train_test_split(isf_res, isf_t, test_size = 0.3,random_state=0)\n",
    "ros = NearMiss(sampling_strategy=5/95)\n",
    "X_resampled, y_resampled = ros.fit_resample(X_train,y_train)\n",
    "X_resampled=pd.concat([X_resampled, isf_out])\n",
    "y_resampled=pd.concat([y_resampled, isf_ot])\n",
    "y_resampled[y_resampled==-1]=0\n",
    "\n",
    "sampling_c=create_model(\"NearMiss + isf\",5,X_resampled.to_numpy(), y_resampled,X_test.to_numpy(),y_test,X_train.shape[1],50,500,sampling_c)"
   ]
  },
  {
   "cell_type": "code",
   "execution_count": null,
   "metadata": {},
   "outputs": [],
   "source": [
    "X_train, X_test, y_train, y_test = train_test_split(isf_res, isf_t, test_size = 0.3,random_state=0)\n",
    "ros = NearMiss(sampling_strategy=10/90)\n",
    "X_resampled, y_resampled = ros.fit_resample(X_train,y_train)\n",
    "X_resampled=pd.concat([X_resampled, lof_out])\n",
    "y_resampled=pd.concat([y_resampled, lof_ot])\n",
    "y_resampled[y_resampled==-1]=0\n",
    "\n",
    "sampling_c=create_model(\"NearMiss + isf\",10,X_resampled.to_numpy(), y_resampled,X_test.to_numpy(),y_test,X_train.shape[1],50,500,sampling_c)"
   ]
  },
  {
   "cell_type": "code",
   "execution_count": null,
   "metadata": {},
   "outputs": [],
   "source": [
    "X_train, X_test, y_train, y_test = train_test_split(isf_res, isf_t, test_size = 0.3,random_state=0)\n",
    "ros = NearMiss(sampling_strategy=15/85)\n",
    "X_resampled, y_resampled = ros.fit_resample(X_train,y_train)\n",
    "X_resampled=pd.concat([X_resampled, lof_out])\n",
    "y_resampled=pd.concat([y_resampled, lof_ot])\n",
    "y_resampled[y_resampled==-1]=0\n",
    "\n",
    "sampling_c=create_model(\"NearMiss + isf\",15,X_resampled.to_numpy(), y_resampled,X_test.to_numpy(),y_test,X_train.shape[1],50,500,sampling_c)"
   ]
  },
  {
   "cell_type": "code",
   "execution_count": null,
   "metadata": {},
   "outputs": [],
   "source": [
    "X_train, X_test, y_train, y_test = train_test_split(lof_res, lof_t, test_size = 0.3,random_state=0)\n",
    "ros = NearMiss(sampling_strategy=5/95)\n",
    "X_resampled, y_resampled = ros.fit_resample(X_train,y_train)\n",
    "X_resampled=pd.concat([X_resampled, lof_out])\n",
    "y_resampled=pd.concat([y_resampled, lof_ot])\n",
    "y_resampled[y_resampled==-1]=0\n",
    "\n",
    "sampling_c=create_model(\"NearMiss + lof\",5,X_resampled.to_numpy(), y_resampled,X_test.to_numpy(),y_test,X_train.shape[1],10,500,sampling_c)"
   ]
  },
  {
   "cell_type": "code",
   "execution_count": null,
   "metadata": {},
   "outputs": [],
   "source": [
    "X_train, X_test, y_train, y_test = train_test_split(lof_res, lof_t, test_size = 0.3,random_state=0)\n",
    "ros = NearMiss(sampling_strategy=10/90)\n",
    "X_resampled, y_resampled = ros.fit_resample(X_train,y_train)\n",
    "X_resampled=pd.concat([X_resampled, lof_out])\n",
    "y_resampled=pd.concat([y_resampled, lof_ot])\n",
    "y_resampled[y_resampled==-1]=0\n",
    "\n",
    "sampling_c=create_model(\"NearMiss + lof\",10,X_resampled.to_numpy(), y_resampled,X_test.to_numpy(),y_test,X_train.shape[1],10,500,sampling_c)"
   ]
  },
  {
   "cell_type": "code",
   "execution_count": null,
   "metadata": {},
   "outputs": [],
   "source": [
    "X_train, X_test, y_train, y_test = train_test_split(lof_res, lof_t, test_size = 0.3,random_state=0)\n",
    "ros = NearMiss(sampling_strategy=15/85)\n",
    "X_resampled, y_resampled = ros.fit_resample(X_train,y_train)\n",
    "X_resampled=pd.concat([X_resampled, lof_out])\n",
    "y_resampled=pd.concat([y_resampled, lof_ot])\n",
    "y_resampled[y_resampled==-1]=0\n",
    "\n",
    "sampling_c=create_model(\"NearMiss + lof\",15,X_resampled.to_numpy(), y_resampled,X_test.to_numpy(),y_test,X_train.shape[1],10,500,sampling_c)"
   ]
  },
  {
   "cell_type": "code",
   "execution_count": null,
   "metadata": {},
   "outputs": [],
   "source": [
    "X_train, X_test, y_train, y_test = train_test_split(ee_res, ee_t, test_size = 0.3,random_state=0)\n",
    "ros = NearMiss(sampling_strategy=5/95)\n",
    "X_resampled, y_resampled = ros.fit_resample(X_train,y_train)\n",
    "X_resampled=pd.concat([X_resampled, ee_out])\n",
    "y_resampled=pd.concat([y_resampled, ee_ot])\n",
    "y_resampled[y_resampled==-1]=0\n",
    "\n",
    "sampling_c=create_model(\"NearMiss + EllipticEnvelope\",5,X_resampled.to_numpy(), y_resampled,X_test.to_numpy(),y_test,X_train.shape[1],50,5000,sampling_c)"
   ]
  },
  {
   "cell_type": "code",
   "execution_count": null,
   "metadata": {},
   "outputs": [],
   "source": [
    "X_train, X_test, y_train, y_test = train_test_split(ee_res, ee_t, test_size = 0.3,random_state=0)\n",
    "ros = NearMiss(sampling_strategy=10/90)\n",
    "X_resampled, y_resampled = ros.fit_resample(X_train,y_train)\n",
    "X_resampled=pd.concat([X_resampled, ee_out])\n",
    "y_resampled=pd.concat([y_resampled, ee_ot])\n",
    "y_resampled[y_resampled==-1]=0\n",
    "\n",
    "sampling_c=create_model(\"NearMiss + EllipticEnvelope\",10,X_resampled.to_numpy(), y_resampled,X_test.to_numpy(),y_test,X_train.shape[1],20,500,sampling_c)"
   ]
  },
  {
   "cell_type": "code",
   "execution_count": null,
   "metadata": {},
   "outputs": [],
   "source": [
    "X_train, X_test, y_train, y_test = train_test_split(ee_res, ee_t, test_size = 0.3,random_state=0)\n",
    "ros = NearMiss(sampling_strategy=15/85)\n",
    "X_resampled, y_resampled = ros.fit_resample(X_train,y_train)\n",
    "X_resampled=pd.concat([X_resampled, ee_out])\n",
    "y_resampled=pd.concat([y_resampled, ee_ot])\n",
    "y_resampled[y_resampled==-1]=0\n",
    "\n",
    "sampling_c=create_model(\"NearMiss + EllipticEnvelope\",15,X_resampled.to_numpy(), y_resampled,X_test.to_numpy(),y_test,X_train.shape[1],20,500,sampling_c)"
   ]
  },
  {
   "cell_type": "code",
   "execution_count": null,
   "metadata": {},
   "outputs": [],
   "source": [
    "X_train, X_test, y_train, y_test = train_test_split(osvm_res, osvm_t, test_size = 0.3,random_state=0)\n",
    "ros = NearMiss(sampling_strategy=5/95)\n",
    "X_resampled, y_resampled = ros.fit_resample(X_train,y_train)\n",
    "X_resampled=pd.concat([X_resampled, osvm_out])\n",
    "y_resampled=pd.concat([y_resampled, osvm_ot])\n",
    "y_resampled[y_resampled==-1]=0\n",
    "sampling_c=create_model(\"NearMiss + ocsvm\",5,X_resampled.to_numpy(), y_resampled,X_test.to_numpy(),y_test,X_train.shape[1],10,500,sampling_c)"
   ]
  },
  {
   "cell_type": "code",
   "execution_count": null,
   "metadata": {},
   "outputs": [],
   "source": [
    "X_train, X_test, y_train, y_test = train_test_split(osvm_res, osvm_t, test_size = 0.3,random_state=0)\n",
    "ros = NearMiss(sampling_strategy=10/95)\n",
    "X_resampled, y_resampled = ros.fit_resample(X_train,y_train)\n",
    "X_resampled=pd.concat([X_resampled, osvm_out])\n",
    "y_resampled=pd.concat([y_resampled, osvm_ot])\n",
    "y_resampled[y_resampled==-1]=0\n",
    "\n",
    "sampling_c=create_model(\"NearMiss + ocsvm\",10,X_resampled.to_numpy(), y_resampled,X_test.to_numpy(),y_test,X_train.shape[1],5,500,sampling_c)"
   ]
  },
  {
   "cell_type": "code",
   "execution_count": null,
   "metadata": {},
   "outputs": [],
   "source": [
    "X_train, X_test, y_train, y_test = train_test_split(osvm_res, osvm_t, test_size = 0.3,random_state=0)\n",
    "ros = NearMiss(sampling_strategy=15/85)\n",
    "X_resampled, y_resampled = ros.fit_resample(X_train,y_train)\n",
    "X_resampled=pd.concat([X_resampled, osvm_out])\n",
    "y_resampled=pd.concat([y_resampled, osvm_ot])\n",
    "y_resampled[y_resampled==-1]=0\n",
    "\n",
    "sampling_c=create_model(\"NearMiss + ocsvm\",10,X_resampled.to_numpy(), y_resampled,X_test.to_numpy(),y_test,X_train.shape[1],5,500,sampling_c)"
   ]
  },
  {
   "cell_type": "code",
   "execution_count": null,
   "metadata": {},
   "outputs": [],
   "source": [
    "sampling_res.to_csv('LSTM-sampling.csv',index=False)\n",
    "sampling_res.to_excel('LSTM-sampling.xlsx',index=False)"
   ]
  },
  {
   "cell_type": "markdown",
   "metadata": {},
   "source": [
    "TomekLinks"
   ]
  },
  {
   "cell_type": "code",
   "execution_count": null,
   "metadata": {},
   "outputs": [],
   "source": [
    "X_train, X_test, y_train, y_test = train_test_split(isf_res, isf_t, test_size = 0.3,random_state=0)\n",
    "ros = TomekLinks()\n",
    "X_resampled, y_resampled = ros.fit_resample(X_train,y_train)\n",
    "X_resampled=pd.concat([X_resampled, isf_out])\n",
    "y_resampled=pd.concat([y_resampled, isf_ot])\n",
    "y_resampled[y_resampled==-1]=0\n",
    "\n",
    "sampling_c=create_model(\"TomekLinks + isf\",\"-\",X_resampled.to_numpy(), y_resampled,X_test.to_numpy(),y_test,X_train.shape[1],10,500,sampling_c)"
   ]
  },
  {
   "cell_type": "code",
   "execution_count": null,
   "metadata": {},
   "outputs": [],
   "source": [
    "X_train, X_test, y_train, y_test = train_test_split(lof_res, lof_t, test_size = 0.3,random_state=0)\n",
    "ros = TomekLinks()\n",
    "X_resampled, y_resampled = ros.fit_resample(X_train,y_train)\n",
    "X_resampled=pd.concat([X_resampled, lof_out])\n",
    "y_resampled=pd.concat([y_resampled, lof_ot])\n",
    "y_resampled[y_resampled==-1]=0\n",
    "\n",
    "sampling_c=create_model(\"TomekLinks + lof\",\"-\",X_resampled.to_numpy(), y_resampled,X_test.to_numpy(),y_test,X_train.shape[1],10,500,sampling_c)"
   ]
  },
  {
   "cell_type": "code",
   "execution_count": null,
   "metadata": {},
   "outputs": [],
   "source": [
    "X_train, X_test, y_train, y_test = train_test_split(ee_res, ee_t, test_size = 0.3,random_state=0)\n",
    "ros = TomekLinks()\n",
    "X_resampled, y_resampled = ros.fit_resample(X_train,y_train)\n",
    "X_resampled=pd.concat([X_resampled, ee_out])\n",
    "y_resampled=pd.concat([y_resampled, ee_ot])\n",
    "y_resampled[y_resampled==-1]=0\n",
    "\n",
    "sampling_c=create_model(\"TomekLinks + EllipticEnvelope\",\"-\",X_resampled.to_numpy(), y_resampled,X_test.to_numpy(),y_test,X_train.shape[1],10,500,sampling_c)"
   ]
  },
  {
   "cell_type": "code",
   "execution_count": null,
   "metadata": {},
   "outputs": [],
   "source": [
    "X_train, X_test, y_train, y_test = train_test_split(osvm_res, osvm_t, test_size = 0.3,random_state=0)\n",
    "ros = TomekLinks()\n",
    "X_resampled, y_resampled = ros.fit_resample(X_train,y_train)\n",
    "X_resampled=pd.concat([X_resampled, osvm_out])\n",
    "y_resampled=pd.concat([y_resampled, osvm_ot])\n",
    "y_resampled[y_resampled==-1]=0\n",
    "\n",
    "sampling_c=create_model(\"TomekLinks + ocsvm\",\"-\",X_resampled.to_numpy(), y_resampled,X_test.to_numpy(),y_test,X_train.shape[1],10,500,sampling_c)"
   ]
  },
  {
   "cell_type": "markdown",
   "metadata": {},
   "source": [
    "AllKNN"
   ]
  },
  {
   "cell_type": "code",
   "execution_count": null,
   "metadata": {},
   "outputs": [],
   "source": [
    "X_train, X_test, y_train, y_test = train_test_split(isf_res, isf_t, test_size = 0.3,random_state=0)\n",
    "ros = AllKNN()\n",
    "X_resampled, y_resampled = ros.fit_resample(X_train,y_train)\n",
    "X_resampled=pd.concat([X_resampled, isf_out])\n",
    "y_resampled=pd.concat([y_resampled, isf_ot])\n",
    "y_resampled[y_resampled==-1]=0\n",
    "\n",
    "sampling_c=create_model(\"AllKNN + isf\",\"-\",X_resampled.to_numpy(), y_resampled,X_test.to_numpy(),y_test,X_train.shape[1],10,500,sampling_c)"
   ]
  },
  {
   "cell_type": "code",
   "execution_count": null,
   "metadata": {},
   "outputs": [],
   "source": [
    "X_train, X_test, y_train, y_test = train_test_split(lof_res, lof_t, test_size = 0.3,random_state=0)\n",
    "ros = AllKNN()\n",
    "X_resampled, y_resampled = ros.fit_resample(X_train,y_train)\n",
    "X_resampled=pd.concat([X_resampled, lof_out])\n",
    "y_resampled=pd.concat([y_resampled, lof_ot])\n",
    "y_resampled[y_resampled==-1]=0\n",
    "\n",
    "sampling_c=create_model(\"AllKNN + lof\",\"-\",X_resampled.to_numpy(), y_resampled,X_test.to_numpy(),y_test,X_train.shape[1],10,500,sampling_c)"
   ]
  },
  {
   "cell_type": "code",
   "execution_count": null,
   "metadata": {},
   "outputs": [],
   "source": [
    "X_train, X_test, y_train, y_test = train_test_split(ee_res, ee_t, test_size = 0.3,random_state=0)\n",
    "ros = AllKNN()\n",
    "X_resampled, y_resampled = ros.fit_resample(X_train,y_train)\n",
    "X_resampled=pd.concat([X_resampled, ee_out])\n",
    "y_resampled=pd.concat([y_resampled, ee_ot])\n",
    "y_resampled[y_resampled==-1]=0\n",
    "\n",
    "sampling_c=create_model(\"AllKNN + EllipticEnvelope\",\"-\",X_resampled.to_numpy(), y_resampled,X_test.to_numpy(),y_test,X_train.shape[1],10,500,sampling_c)"
   ]
  },
  {
   "cell_type": "code",
   "execution_count": null,
   "metadata": {},
   "outputs": [],
   "source": [
    "X_train, X_test, y_train, y_test = train_test_split(osvm_res, osvm_t, test_size = 0.3,random_state=0)\n",
    "ros = AllKNN()\n",
    "X_resampled, y_resampled = ros.fit_resample(X_train,y_train)\n",
    "X_resampled=pd.concat([X_resampled, osvm_out])\n",
    "y_resampled=pd.concat([y_resampled, osvm_ot])\n",
    "y_resampled[y_resampled==-1]=0\n",
    "\n",
    "sampling_c=create_model(\"AllKNN + ocsvm\",\"-\",X_resampled.to_numpy(), y_resampled,X_test.to_numpy(),y_test,X_train.shape[1],10,500,sampling_c)"
   ]
  },
  {
   "cell_type": "code",
   "execution_count": null,
   "metadata": {},
   "outputs": [],
   "source": [
    "sampling_res.to_csv('LSTM-sampling.csv',index=False)\n",
    "sampling_res.to_excel('LSTM-sampling.xlsx',index=False)"
   ]
  }
 ],
 "metadata": {
  "colab": {
   "collapsed_sections": [],
   "name": "LSTM_Models.ipynb",
   "provenance": []
  },
  "kernelspec": {
   "display_name": "Python 3.9.7 ('base')",
   "language": "python",
   "name": "python3"
  },
  "language_info": {
   "codemirror_mode": {
    "name": "ipython",
    "version": 3
   },
   "file_extension": ".py",
   "mimetype": "text/x-python",
   "name": "python",
   "nbconvert_exporter": "python",
   "pygments_lexer": "ipython3",
   "version": "3.9.7"
  },
  "vscode": {
   "interpreter": {
    "hash": "408d89a3b80ac34e5cdc914373b09bb69ba3e3a6a7f756d6d7498fd367058138"
   }
  }
 },
 "nbformat": 4,
 "nbformat_minor": 1
}
