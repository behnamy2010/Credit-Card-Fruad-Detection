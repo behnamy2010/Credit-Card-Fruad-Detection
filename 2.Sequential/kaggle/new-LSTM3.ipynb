{
 "cells": [
  {
   "cell_type": "code",
   "execution_count": 28,
   "metadata": {
    "id": "gRu9kpkYyztz"
   },
   "outputs": [],
   "source": [
    "import pandas as pd\n",
    "from sklearn.model_selection import train_test_split\n",
    "import numpy as np\n",
    "from sklearn.metrics import accuracy_score\n",
    "from keras.layers import LSTM, Dense,Input,Layer\n",
    "from keras import backend as K,Model\n",
    "from numpy.random import seed\n",
    "from imblearn.under_sampling import RandomUnderSampler \n",
    "seed(0)\n",
    "import tensorflow as tf\n",
    "tf.random.set_seed(0)"
   ]
  },
  {
   "cell_type": "code",
   "execution_count": 29,
   "metadata": {
    "id": "Mlth1eViyz_p"
   },
   "outputs": [],
   "source": [
    "data = pd.read_csv('creditcard.csv', na_filter=True)\n",
    "\n",
    "data.drop(['Time'], axis=1, inplace=True)\n",
    "selected_vars =['V4','V14','V10','V16','V9','V12','V11','V17','V7','V21','V18','V8','V1','V3','V6','V2','V27','V5','V26','Class']\n"
   ]
  },
  {
   "cell_type": "code",
   "execution_count": 30,
   "metadata": {
    "colab": {
     "base_uri": "https://localhost:8080/"
    },
    "id": "0D1roi0fy9hN",
    "outputId": "1c7dad73-e697-47a5-9102-3fa04511a11d"
   },
   "outputs": [
    {
     "data": {
      "text/plain": [
       "(284807, 20)"
      ]
     },
     "execution_count": 30,
     "metadata": {},
     "output_type": "execute_result"
    }
   ],
   "source": [
    "tr_data = data[selected_vars]\n",
    "tr_data.shape"
   ]
  },
  {
   "cell_type": "code",
   "execution_count": 31,
   "metadata": {
    "id": "SFjcDF3s2QId"
   },
   "outputs": [],
   "source": [
    "X = tr_data.drop(['Class'], axis = 'columns')\n",
    "Label_Data = tr_data['Class']"
   ]
  },
  {
   "cell_type": "code",
   "execution_count": 32,
   "metadata": {
    "id": "o4GOSe4tzcTv"
   },
   "outputs": [],
   "source": [
    "y=tr_data['Class']"
   ]
  },
  {
   "cell_type": "code",
   "execution_count": 33,
   "metadata": {
    "id": "rz6JhCFr0Iin"
   },
   "outputs": [],
   "source": [
    "from sklearn.preprocessing import StandardScaler\n",
    "## Standardizing the data\n",
    "X=pd.DataFrame(StandardScaler().fit_transform(X))"
   ]
  },
  {
   "cell_type": "code",
   "execution_count": 34,
   "metadata": {
    "id": "t7l5EpLY0IqL"
   },
   "outputs": [],
   "source": [
    "X_train0,X_test,y_train0,y_test = train_test_split(X, y, test_size=0.3, shuffle=False,random_state=0)\n",
    "X_train0,X_train2,y_train0,y_train2 = train_test_split(X_train0, y_train0, test_size=0.333, shuffle=False,random_state=0)\n",
    "X_train0,X_train1,y_train0,y_train1 = train_test_split(X_train0, y_train0, test_size=0.5, shuffle=False,random_state=0)\n",
    "from sklearn.linear_model import SGDOneClassSVM\n",
    "df1_normal=X_train0[y_train0==0]\n",
    "clf = SGDOneClassSVM(nu=0.02,random_state=0)\n",
    "res = clf.fit_predict(df1_normal)\n",
    "res[res==1] = 0\n",
    "res[res==-1] = 1\n",
    "ros = RandomUnderSampler(sampling_strategy=0.95)\n",
    "ros.fit_resample(df1_normal,res)\n",
    "index=ros.sample_indices_\n",
    "X_train0.drop(X_train0.index[index], inplace=True)\n",
    "y_train0.drop(y_train0.index[index], inplace=True)\n",
    "\n",
    "df1_normal=X_train1[y_train1==1]\n",
    "clf = SGDOneClassSVM(nu=0.03,random_state=0)\n",
    "res = clf.fit_predict(df1_normal)\n",
    "res[res==1] = 0\n",
    "res[res==-1] = 1\n",
    "ros = RandomUnderSampler(sampling_strategy=0.95)\n",
    "ros.fit_resample(df1_normal,res)\n",
    "index=ros.sample_indices_\n",
    "X_train1.drop(X_train1.index[index], inplace=True)\n",
    "y_train1.drop(y_train1.index[index], inplace=True)\n",
    "\n",
    "df1_normal=X_train2[y_train2==1]\n",
    "clf = SGDOneClassSVM(nu=0.03,random_state=0)\n",
    "res = clf.fit_predict(df1_normal)\n",
    "res[res==1] = 0\n",
    "res[res==-1] = 1\n",
    "ros = RandomUnderSampler(sampling_strategy=0.95)\n",
    "ros.fit_resample(df1_normal,res)\n",
    "index=ros.sample_indices_\n",
    "X_train2.drop(X_train2.index[index], inplace=True)\n",
    "y_train2.drop(y_train2.index[index], inplace=True)\n"
   ]
  },
  {
   "cell_type": "code",
   "execution_count": 35,
   "metadata": {
    "colab": {
     "base_uri": "https://localhost:8080/"
    },
    "id": "a4uohF3BPMIU",
    "outputId": "b1d24e82-da51-42ca-f9ed-0d021c2538ea"
   },
   "outputs": [
    {
     "data": {
      "text/plain": [
       "((65508, 19), (66484, 19))"
      ]
     },
     "execution_count": 35,
     "metadata": {},
     "output_type": "execute_result"
    }
   ],
   "source": [
    "X_train0.shape,X_train1.shape"
   ]
  },
  {
   "cell_type": "code",
   "execution_count": 36,
   "metadata": {},
   "outputs": [
    {
     "data": {
      "text/plain": [
       "((65508,), (66484,))"
      ]
     },
     "execution_count": 36,
     "metadata": {},
     "output_type": "execute_result"
    }
   ],
   "source": [
    "y_train0.shape,y_train1.shape"
   ]
  },
  {
   "cell_type": "code",
   "execution_count": 37,
   "metadata": {
    "colab": {
     "base_uri": "https://localhost:8080/"
    },
    "id": "4OaLUwRhPPhW",
    "outputId": "170cccab-ded4-4110-e701-3d103902a590"
   },
   "outputs": [
    {
     "data": {
      "text/plain": [
       "(85443, 19)"
      ]
     },
     "execution_count": 37,
     "metadata": {},
     "output_type": "execute_result"
    }
   ],
   "source": [
    "X_test.shape"
   ]
  },
  {
   "cell_type": "markdown",
   "metadata": {},
   "source": [
    "# N=1"
   ]
  },
  {
   "cell_type": "code",
   "execution_count": 38,
   "metadata": {
    "id": "eN6iBsXh0UJj"
   },
   "outputs": [],
   "source": [
    "# X_train et X_test sont des dataframe qui contient les features\n",
    "train_LSTM_X0=X_train0.to_numpy()\n",
    "test_LSTM_X=X_test.to_numpy()\n",
    "train_LSTM_y0=y_train0.to_numpy()\n",
    "test_LSTM_y=y_test.to_numpy()\n",
    "w=3\n",
    "X_train0=np.zeros([train_LSTM_X0.shape[0]-w+1,w, train_LSTM_X0.shape[1]])\n",
    "for i in range(train_LSTM_X0.shape[0]-w+1):\n",
    "    for j in range(w):\n",
    "        X_train0[i][j]=train_LSTM_X0[i+j]\n",
    "X_test=np.zeros([test_LSTM_X.shape[0]-w+1,w, test_LSTM_X.shape[1]])\n",
    "for i in range(test_LSTM_X.shape[0]-w+1):\n",
    "    for j in range(w):\n",
    "        X_test[i][j]=test_LSTM_X[i+j]\n",
    "## Recuperation des labels\n",
    "\n",
    "y_train0=np.delete(train_LSTM_y0,[*range(0, w-1, 1)], 0)\n",
    "y_test=np.delete(test_LSTM_y,[*range(0, w-1, 1)], 0)\n",
    "\n",
    "train_LSTM_X0=X_train0\n",
    "test_LSTM_X=X_test\n",
    "train_LSTM_y0=y_train0\n",
    "test_LSTM_y=y_test"
   ]
  },
  {
   "cell_type": "code",
   "execution_count": 39,
   "metadata": {
    "id": "XOlGVbif0U-i"
   },
   "outputs": [],
   "source": [
    "inputs=Input((w,19))\n",
    "x1=LSTM(50)(inputs)\n",
    "outputs=Dense(1,activation='sigmoid')(x1)\n",
    "model0=Model(inputs,outputs)"
   ]
  },
  {
   "cell_type": "code",
   "execution_count": 40,
   "metadata": {
    "id": "rw1IxnEn0i7d"
   },
   "outputs": [],
   "source": [
    "model0.compile(loss='binary_crossentropy', optimizer='adam', metrics=['Precision','Recall'])"
   ]
  },
  {
   "cell_type": "code",
   "execution_count": 41,
   "metadata": {
    "id": "_jVAHW330VTL"
   },
   "outputs": [
    {
     "name": "stdout",
     "output_type": "stream",
     "text": [
      "Epoch 1/5\n",
      "263/263 [==============================] - 8s 15ms/step - loss: 0.1181 - precision: 0.0176 - recall: 0.1687 - val_loss: 0.1178 - val_precision: 0.0209 - val_recall: 0.2963\n",
      "Epoch 2/5\n",
      "263/263 [==============================] - 3s 10ms/step - loss: 0.0058 - precision: 0.7319 - recall: 0.6084 - val_loss: 0.0493 - val_precision: 0.3514 - val_recall: 0.6019\n",
      "Epoch 3/5\n",
      "263/263 [==============================] - 2s 9ms/step - loss: 0.0045 - precision: 0.7669 - recall: 0.7530 - val_loss: 0.0261 - val_precision: 0.8667 - val_recall: 0.7222\n",
      "Epoch 4/5\n",
      "263/263 [==============================] - 2s 9ms/step - loss: 0.0039 - precision: 0.7841 - recall: 0.8313 - val_loss: 0.0172 - val_precision: 0.9432 - val_recall: 0.7685\n",
      "Epoch 5/5\n",
      "263/263 [==============================] - 2s 9ms/step - loss: 0.0036 - precision: 0.7901 - recall: 0.8614 - val_loss: 0.0117 - val_precision: 0.9432 - val_recall: 0.7685\n"
     ]
    }
   ],
   "source": [
    "history0=model0.fit(train_LSTM_X0, train_LSTM_y0,epochs=5,batch_size=250,validation_data=(test_LSTM_X, test_LSTM_y))"
   ]
  },
  {
   "cell_type": "code",
   "execution_count": 42,
   "metadata": {
    "id": "lUAD5FIS3Z1I"
   },
   "outputs": [],
   "source": [
    "# predict probabilities for test set\n",
    "yhat_probs0 = model0.predict(test_LSTM_X, verbose=0)\n",
    "# reduce to 1d array\n",
    "yhat_probs0 = yhat_probs0[:, 0]> 0.5"
   ]
  },
  {
   "cell_type": "code",
   "execution_count": 43,
   "metadata": {
    "colab": {
     "base_uri": "https://localhost:8080/"
    },
    "id": "eiN2cjwX4Dzp",
    "outputId": "86ee0069-2931-41b4-bbb3-90a6a3940a21"
   },
   "outputs": [
    {
     "name": "stdout",
     "output_type": "stream",
     "text": [
      "Accuracy: 0.999649\n",
      "Precision: 0.943182\n",
      "Recall: 0.768519\n",
      "f1: 0.846939\n"
     ]
    }
   ],
   "source": [
    "# demonstration of calculating metrics for a neural network model using sklearn\n",
    "from sklearn.metrics import accuracy_score\n",
    "from sklearn.metrics import precision_score\n",
    "from sklearn.metrics import recall_score\n",
    "from sklearn.metrics import f1_score\n",
    "# accuracy: (tp + tn) / (p + n)\n",
    "accuracy = accuracy_score(test_LSTM_y, yhat_probs0)\n",
    "print('Accuracy: %f' % accuracy)\n",
    "# precision tp / (tp + fp)\n",
    "precision = precision_score(test_LSTM_y, yhat_probs0)\n",
    "print('Precision: %f' % precision)\n",
    "# recall: tp / (tp + fn)\n",
    "recall = recall_score(test_LSTM_y, yhat_probs0)\n",
    "print('Recall: %f' % recall)\n",
    "f1 = f1_score(test_LSTM_y, yhat_probs0)\n",
    "print('f1: %f' % f1)"
   ]
  },
  {
   "cell_type": "markdown",
   "metadata": {},
   "source": [
    "# N=2"
   ]
  },
  {
   "cell_type": "code",
   "execution_count": 44,
   "metadata": {
    "id": "eN6iBsXh0UJj"
   },
   "outputs": [],
   "source": [
    "# X_train et X_test sont des dataframe qui contient les features\n",
    "train_LSTM_X1=X_train1.to_numpy()\n",
    "train_LSTM_y1=y_train1.to_numpy()\n",
    "w=3\n",
    "X_train1=np.zeros([train_LSTM_X1.shape[0]-w+1,w, train_LSTM_X1.shape[1]])\n",
    "for i in range(train_LSTM_X1.shape[0]-w+1):\n",
    "    for j in range(w):\n",
    "        X_train1[i][j]=train_LSTM_X1[i+j]\n",
    "\n",
    "y_train1=np.delete(train_LSTM_y1,[*range(0, w-1, 1)], 0)\n",
    "train_LSTM_X1=X_train1\n",
    "train_LSTM_y1=y_train1"
   ]
  },
  {
   "cell_type": "code",
   "execution_count": 45,
   "metadata": {
    "id": "XOlGVbif0U-i"
   },
   "outputs": [],
   "source": [
    "inputs=Input((w,19))\n",
    "x1=LSTM(50)(inputs)\n",
    "outputs=Dense(1,activation='sigmoid')(x1)\n",
    "model1=Model(inputs,outputs)"
   ]
  },
  {
   "cell_type": "code",
   "execution_count": 46,
   "metadata": {
    "id": "rw1IxnEn0i7d"
   },
   "outputs": [],
   "source": [
    "model1.compile(loss='binary_crossentropy', optimizer='adam', metrics=['Precision','Recall'])"
   ]
  },
  {
   "cell_type": "code",
   "execution_count": 47,
   "metadata": {
    "id": "_jVAHW330VTL"
   },
   "outputs": [
    {
     "name": "stdout",
     "output_type": "stream",
     "text": [
      "Epoch 1/11\n",
      "266/266 [==============================] - 6s 14ms/step - loss: 0.1034 - precision: 0.0062 - recall: 0.0645 - val_loss: 0.1267 - val_precision: 0.0073 - val_recall: 0.1574\n",
      "Epoch 2/11\n",
      "266/266 [==============================] - 4s 13ms/step - loss: 0.0054 - precision: 0.9062 - recall: 0.3118 - val_loss: 0.0641 - val_precision: 0.1210 - val_recall: 0.5926\n",
      "Epoch 3/11\n",
      "266/266 [==============================] - 3s 13ms/step - loss: 0.0042 - precision: 0.9444 - recall: 0.5484 - val_loss: 0.0394 - val_precision: 0.3911 - val_recall: 0.6481\n",
      "Epoch 4/11\n",
      "266/266 [==============================] - 3s 11ms/step - loss: 0.0038 - precision: 0.9394 - recall: 0.6667 - val_loss: 0.0275 - val_precision: 0.7248 - val_recall: 0.7315\n",
      "Epoch 5/11\n",
      "266/266 [==============================] - 3s 10ms/step - loss: 0.0035 - precision: 0.9130 - recall: 0.6774 - val_loss: 0.0237 - val_precision: 0.7736 - val_recall: 0.7593\n",
      "Epoch 6/11\n",
      "266/266 [==============================] - 3s 10ms/step - loss: 0.0033 - precision: 0.9265 - recall: 0.6774 - val_loss: 0.0169 - val_precision: 0.8817 - val_recall: 0.7593\n",
      "Epoch 7/11\n",
      "266/266 [==============================] - 3s 10ms/step - loss: 0.0032 - precision: 0.9265 - recall: 0.6774 - val_loss: 0.0144 - val_precision: 0.8817 - val_recall: 0.7593\n",
      "Epoch 8/11\n",
      "266/266 [==============================] - 3s 12ms/step - loss: 0.0030 - precision: 0.9412 - recall: 0.6882 - val_loss: 0.0124 - val_precision: 0.8723 - val_recall: 0.7593\n",
      "Epoch 9/11\n",
      "266/266 [==============================] - 3s 12ms/step - loss: 0.0030 - precision: 0.9403 - recall: 0.6774 - val_loss: 0.0097 - val_precision: 0.9011 - val_recall: 0.7593\n",
      "Epoch 10/11\n",
      "266/266 [==============================] - 3s 12ms/step - loss: 0.0028 - precision: 0.9412 - recall: 0.6882 - val_loss: 0.0092 - val_precision: 0.8817 - val_recall: 0.7593\n",
      "Epoch 11/11\n",
      "266/266 [==============================] - 3s 10ms/step - loss: 0.0027 - precision: 0.9265 - recall: 0.6774 - val_loss: 0.0062 - val_precision: 0.9111 - val_recall: 0.7593\n"
     ]
    }
   ],
   "source": [
    "history1=model1.fit(train_LSTM_X1, train_LSTM_y1,epochs=11,batch_size=250,validation_data=(test_LSTM_X, test_LSTM_y))"
   ]
  },
  {
   "cell_type": "code",
   "execution_count": 48,
   "metadata": {
    "id": "lUAD5FIS3Z1I"
   },
   "outputs": [],
   "source": [
    "# predict probabilities for test set\n",
    "yhat_probs1 = model1.predict(test_LSTM_X, verbose=0)\n",
    "# reduce to 1d array\n",
    "yhat_probs1 = yhat_probs1[:, 0]> 0.5"
   ]
  },
  {
   "cell_type": "code",
   "execution_count": 49,
   "metadata": {
    "colab": {
     "base_uri": "https://localhost:8080/"
    },
    "id": "eiN2cjwX4Dzp",
    "outputId": "86ee0069-2931-41b4-bbb3-90a6a3940a21"
   },
   "outputs": [
    {
     "name": "stdout",
     "output_type": "stream",
     "text": [
      "Accuracy: 0.999602\n",
      "Precision: 0.911111\n",
      "Recall: 0.759259\n",
      "f1: 0.828283\n"
     ]
    }
   ],
   "source": [
    "# accuracy: (tp + tn) / (p + n)\n",
    "accuracy = accuracy_score(test_LSTM_y, yhat_probs1)\n",
    "print('Accuracy: %f' % accuracy)\n",
    "# precision tp / (tp + fp)\n",
    "precision = precision_score(test_LSTM_y, yhat_probs1)\n",
    "print('Precision: %f' % precision)\n",
    "# recall: tp / (tp + fn)\n",
    "recall = recall_score(test_LSTM_y, yhat_probs1)\n",
    "print('Recall: %f' % recall)\n",
    "f1 = f1_score(test_LSTM_y, yhat_probs1)\n",
    "print('f1: %f' % f1)"
   ]
  },
  {
   "cell_type": "markdown",
   "metadata": {},
   "source": [
    "# N=3"
   ]
  },
  {
   "cell_type": "code",
   "execution_count": 50,
   "metadata": {
    "id": "eN6iBsXh0UJj"
   },
   "outputs": [],
   "source": [
    "# X_train et X_test sont des dataframe qui contient les features\n",
    "train_LSTM_X2=X_train2.to_numpy()\n",
    "train_LSTM_y2=y_train2.to_numpy()\n",
    "w=3\n",
    "X_train2=np.zeros([train_LSTM_X2.shape[0]-w+1,w, train_LSTM_X2.shape[1]])\n",
    "for i in range(train_LSTM_X2.shape[0]-w+1):\n",
    "    for j in range(w):\n",
    "        X_train2[i][j]=train_LSTM_X2[i+j]\n",
    "\n",
    "y_train2=np.delete(train_LSTM_y2,[*range(0, w-1, 1)], 0)\n",
    "train_LSTM_X2=X_train2\n",
    "train_LSTM_y2=y_train2"
   ]
  },
  {
   "cell_type": "code",
   "execution_count": 51,
   "metadata": {
    "id": "XOlGVbif0U-i"
   },
   "outputs": [],
   "source": [
    "inputs=Input((w,19))\n",
    "x1=LSTM(50)(inputs)\n",
    "outputs=Dense(1,activation='sigmoid')(x1)\n",
    "model2=Model(inputs,outputs)"
   ]
  },
  {
   "cell_type": "code",
   "execution_count": 52,
   "metadata": {
    "id": "rw1IxnEn0i7d"
   },
   "outputs": [],
   "source": [
    "model2.compile(loss='binary_crossentropy', optimizer='adam', metrics=['Precision','Recall'])"
   ]
  },
  {
   "cell_type": "code",
   "execution_count": 53,
   "metadata": {
    "id": "_jVAHW330VTL"
   },
   "outputs": [
    {
     "name": "stdout",
     "output_type": "stream",
     "text": [
      "Epoch 1/9\n",
      "266/266 [==============================] - 8s 19ms/step - loss: 0.1235 - precision: 0.0107 - recall: 0.1885 - val_loss: 0.0061 - val_precision: 0.0000e+00 - val_recall: 0.0000e+00\n",
      "Epoch 2/9\n",
      "266/266 [==============================] - 4s 14ms/step - loss: 0.0049 - precision: 0.9688 - recall: 0.5082 - val_loss: 0.0042 - val_precision: 1.0000 - val_recall: 0.2222\n",
      "Epoch 3/9\n",
      "266/266 [==============================] - 3s 13ms/step - loss: 0.0037 - precision: 0.9390 - recall: 0.6311 - val_loss: 0.0035 - val_precision: 1.0000 - val_recall: 0.4444\n",
      "Epoch 4/9\n",
      "266/266 [==============================] - 3s 12ms/step - loss: 0.0032 - precision: 0.9000 - recall: 0.7377 - val_loss: 0.0031 - val_precision: 1.0000 - val_recall: 0.5370\n",
      "Epoch 5/9\n",
      "266/266 [==============================] - 3s 13ms/step - loss: 0.0029 - precision: 0.9029 - recall: 0.7623 - val_loss: 0.0030 - val_precision: 1.0000 - val_recall: 0.6204\n",
      "Epoch 6/9\n",
      "266/266 [==============================] - 3s 13ms/step - loss: 0.0026 - precision: 0.9412 - recall: 0.7869 - val_loss: 0.0028 - val_precision: 1.0000 - val_recall: 0.6481\n",
      "Epoch 7/9\n",
      "266/266 [==============================] - 3s 13ms/step - loss: 0.0025 - precision: 0.9252 - recall: 0.8115 - val_loss: 0.0028 - val_precision: 1.0000 - val_recall: 0.6574\n",
      "Epoch 8/9\n",
      "266/266 [==============================] - 3s 13ms/step - loss: 0.0023 - precision: 0.9604 - recall: 0.7951 - val_loss: 0.0027 - val_precision: 1.0000 - val_recall: 0.6944\n",
      "Epoch 9/9\n",
      "266/266 [==============================] - 4s 14ms/step - loss: 0.0021 - precision: 0.9423 - recall: 0.8033 - val_loss: 0.0027 - val_precision: 1.0000 - val_recall: 0.7037\n"
     ]
    }
   ],
   "source": [
    "history2=model2.fit(train_LSTM_X2, train_LSTM_y2,epochs=9,batch_size=250,validation_data=(test_LSTM_X, test_LSTM_y))"
   ]
  },
  {
   "cell_type": "code",
   "execution_count": 54,
   "metadata": {
    "id": "lUAD5FIS3Z1I"
   },
   "outputs": [],
   "source": [
    "# predict probabilities for test set\n",
    "yhat_probs2 = model2.predict(test_LSTM_X, verbose=0)\n",
    "# reduce to 1d array\n",
    "yhat_probs2 = yhat_probs2[:, 0]> 0.5"
   ]
  },
  {
   "cell_type": "code",
   "execution_count": 55,
   "metadata": {
    "colab": {
     "base_uri": "https://localhost:8080/"
    },
    "id": "eiN2cjwX4Dzp",
    "outputId": "86ee0069-2931-41b4-bbb3-90a6a3940a21"
   },
   "outputs": [
    {
     "name": "stdout",
     "output_type": "stream",
     "text": [
      "Accuracy: 0.999625\n",
      "Precision: 1.000000\n",
      "Recall: 0.703704\n",
      "f1: 0.826087\n"
     ]
    }
   ],
   "source": [
    "# accuracy: (tp + tn) / (p + n)\n",
    "accuracy = accuracy_score(test_LSTM_y, yhat_probs2)\n",
    "print('Accuracy: %f' % accuracy)\n",
    "# precision tp / (tp + fp)\n",
    "precision = precision_score(test_LSTM_y, yhat_probs2)\n",
    "print('Precision: %f' % precision)\n",
    "# recall: tp / (tp + fn)\n",
    "recall = recall_score(test_LSTM_y, yhat_probs2)\n",
    "print('Recall: %f' % recall)\n",
    "f1 = f1_score(test_LSTM_y, yhat_probs2)\n",
    "print('f1: %f' % f1)"
   ]
  },
  {
   "cell_type": "markdown",
   "metadata": {},
   "source": [
    "# FFNN"
   ]
  },
  {
   "cell_type": "code",
   "execution_count": 56,
   "metadata": {},
   "outputs": [],
   "source": [
    "y_probs0 = model0.predict(train_LSTM_X0, verbose=0)\n",
    "y_probs1 = model1.predict(train_LSTM_X0, verbose=0)\n",
    "y_probs2 = model2.predict(train_LSTM_X0, verbose=0)\n",
    "y_probs00 = model0.predict(train_LSTM_X1, verbose=0)\n",
    "y_probs11 = model1.predict(train_LSTM_X1, verbose=0)\n",
    "y_probs22 = model2.predict(train_LSTM_X1, verbose=0)"
   ]
  },
  {
   "cell_type": "code",
   "execution_count": 57,
   "metadata": {},
   "outputs": [
    {
     "data": {
      "text/plain": [
       "((131988, 3), (131988,))"
      ]
     },
     "execution_count": 57,
     "metadata": {},
     "output_type": "execute_result"
    }
   ],
   "source": [
    "X_train0=np.concatenate((y_probs0,y_probs1,y_probs2),axis=1)\n",
    "X_train1=np.concatenate((y_probs00,y_probs11,y_probs22),axis=1)\n",
    "X_train=np.concatenate((X_train0,X_train1),axis=0)\n",
    "y_train=np.concatenate((y_train0,y_train1),axis=0)\n",
    "X_train.shape,y_train.shape"
   ]
  },
  {
   "cell_type": "code",
   "execution_count": 58,
   "metadata": {},
   "outputs": [],
   "source": [
    "from sklearn.neural_network import MLPClassifier\n",
    "clf = MLPClassifier().fit(X_train, y_train)"
   ]
  },
  {
   "cell_type": "markdown",
   "metadata": {},
   "source": [
    "# evaluation"
   ]
  },
  {
   "cell_type": "code",
   "execution_count": 59,
   "metadata": {},
   "outputs": [],
   "source": [
    "yhat_probs0 = model0.predict(test_LSTM_X, verbose=0)\n",
    "yhat_probs1 = model1.predict(test_LSTM_X,verbose=0)\n",
    "yhat_probs2 = model2.predict(test_LSTM_X,verbose=0)\n",
    "X_test=np.concatenate((yhat_probs0,yhat_probs1,yhat_probs2),axis=1)\n",
    "y_pred=clf.predict(X_test)"
   ]
  },
  {
   "cell_type": "code",
   "execution_count": 60,
   "metadata": {},
   "outputs": [
    {
     "name": "stdout",
     "output_type": "stream",
     "text": [
      "Accuracy: 0.999625\n",
      "Precision: 0.931818\n",
      "Recall: 0.759259\n",
      "f1: 0.836735\n"
     ]
    }
   ],
   "source": [
    "# accuracy: (tp + tn) / (p + n)\n",
    "accuracy = accuracy_score(test_LSTM_y, y_pred)\n",
    "print('Accuracy: %f' % accuracy)\n",
    "# precision tp / (tp + fp)\n",
    "precision = precision_score(test_LSTM_y, y_pred)\n",
    "print('Precision: %f' % precision)\n",
    "# recall: tp / (tp + fn)\n",
    "recall = recall_score(test_LSTM_y, y_pred)\n",
    "print('Recall: %f' % recall)\n",
    "#F1 = 2 * (precision * recall) / (precision + recall)\n",
    "f1=f1_score(test_LSTM_y, y_pred)\n",
    "print('f1: %f' % f1)"
   ]
  }
 ],
 "metadata": {
  "colab": {
   "collapsed_sections": [],
   "name": "LSTM_Models.ipynb",
   "provenance": []
  },
  "kernelspec": {
   "display_name": "Python 3.9.7 ('base')",
   "language": "python",
   "name": "python3"
  },
  "language_info": {
   "codemirror_mode": {
    "name": "ipython",
    "version": 3
   },
   "file_extension": ".py",
   "mimetype": "text/x-python",
   "name": "python",
   "nbconvert_exporter": "python",
   "pygments_lexer": "ipython3",
   "version": "3.9.7"
  },
  "vscode": {
   "interpreter": {
    "hash": "408d89a3b80ac34e5cdc914373b09bb69ba3e3a6a7f756d6d7498fd367058138"
   }
  }
 },
 "nbformat": 4,
 "nbformat_minor": 1
}
