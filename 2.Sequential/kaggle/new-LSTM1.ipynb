{
 "cells": [
  {
   "cell_type": "code",
   "execution_count": 1,
   "metadata": {
    "id": "gRu9kpkYyztz"
   },
   "outputs": [
    {
     "name": "stderr",
     "output_type": "stream",
     "text": [
      "2023-02-17 19:15:30.383048: I tensorflow/core/platform/cpu_feature_guard.cc:193] This TensorFlow binary is optimized with oneAPI Deep Neural Network Library (oneDNN) to use the following CPU instructions in performance-critical operations:  SSE4.1 SSE4.2\n",
      "To enable them in other operations, rebuild TensorFlow with the appropriate compiler flags.\n"
     ]
    }
   ],
   "source": [
    "import pandas as pd\n",
    "from sklearn.model_selection import train_test_split\n",
    "import numpy as np\n",
    "from sklearn.metrics import accuracy_score\n",
    "from keras.layers import LSTM, Dense,Input,Layer\n",
    "from keras import backend as K,Model\n",
    "from numpy.random import seed\n",
    "from imblearn.under_sampling import RandomUnderSampler \n",
    "seed(0)\n",
    "import os\n",
    "os.environ['PYTHONHASHSEED']=str(0)\n",
    "from sklearn.metrics import roc_curve,roc_auc_score\n",
    "import tensorflow as tf\n",
    "tf.random.set_seed(0)\n",
    "import random\n",
    "import random as python_random\n",
    "python_random.seed(0)\n",
    "random.seed(0)"
   ]
  },
  {
   "cell_type": "code",
   "execution_count": 2,
   "metadata": {
    "id": "Mlth1eViyz_p"
   },
   "outputs": [],
   "source": [
    "data = pd.read_csv('creditcard.csv', na_filter=True)\n",
    "\n",
    "data.drop(['Time'], axis=1, inplace=True)\n",
    "selected_vars =['V4','V14','V10','V16','V9','V12','V11','V17','V7','V21','V18','V8','V1','V3','V6','V2','V27','V5','V26','Class']\n"
   ]
  },
  {
   "cell_type": "code",
   "execution_count": 3,
   "metadata": {
    "colab": {
     "base_uri": "https://localhost:8080/"
    },
    "id": "0D1roi0fy9hN",
    "outputId": "1c7dad73-e697-47a5-9102-3fa04511a11d"
   },
   "outputs": [
    {
     "data": {
      "text/plain": [
       "(284807, 20)"
      ]
     },
     "execution_count": 3,
     "metadata": {},
     "output_type": "execute_result"
    }
   ],
   "source": [
    "tr_data = data[selected_vars]\n",
    "tr_data.shape"
   ]
  },
  {
   "cell_type": "code",
   "execution_count": 4,
   "metadata": {
    "id": "SFjcDF3s2QId"
   },
   "outputs": [],
   "source": [
    "X = tr_data.drop(['Class'], axis = 'columns')\n",
    "Label_Data = tr_data['Class']"
   ]
  },
  {
   "cell_type": "code",
   "execution_count": 5,
   "metadata": {
    "id": "o4GOSe4tzcTv"
   },
   "outputs": [],
   "source": [
    "y=tr_data['Class']"
   ]
  },
  {
   "cell_type": "code",
   "execution_count": 6,
   "metadata": {
    "id": "rz6JhCFr0Iin"
   },
   "outputs": [],
   "source": [
    "from sklearn.preprocessing import StandardScaler\n",
    "## Standardizing the data\n",
    "X=pd.DataFrame(StandardScaler().fit_transform(X))"
   ]
  },
  {
   "cell_type": "code",
   "execution_count": 7,
   "metadata": {
    "id": "t7l5EpLY0IqL"
   },
   "outputs": [
    {
     "name": "stdout",
     "output_type": "stream",
     "text": [
      "2155\n"
     ]
    }
   ],
   "source": [
    "X_train,X_test,y_train,y_test = train_test_split(X, y, test_size=0.3, shuffle=False,random_state=0)\n",
    "from sklearn.linear_model import SGDOneClassSVM\n",
    "df1_normal=X_train[y_train==0]\n",
    "clf = SGDOneClassSVM(nu=0.01,random_state=0)\n",
    "res = clf.fit_predict(df1_normal)\n",
    "print(len(res[res==-1]))\n",
    "res[res==1] = 0\n",
    "res[res==-1] = 1\n",
    "ros = RandomUnderSampler(sampling_strategy=0.95)\n",
    "ros.fit_resample(df1_normal,res)\n",
    "index=ros.sample_indices_\n",
    "X_train.drop(X_train.index[index], inplace=True)\n",
    "y_train.drop(y_train.index[index], inplace=True)"
   ]
  },
  {
   "cell_type": "code",
   "execution_count": 8,
   "metadata": {
    "colab": {
     "base_uri": "https://localhost:8080/"
    },
    "id": "a4uohF3BPMIU",
    "outputId": "b1d24e82-da51-42ca-f9ed-0d021c2538ea"
   },
   "outputs": [
    {
     "data": {
      "text/plain": [
       "(194941, 19)"
      ]
     },
     "execution_count": 8,
     "metadata": {},
     "output_type": "execute_result"
    }
   ],
   "source": [
    "X_train.shape"
   ]
  },
  {
   "cell_type": "code",
   "execution_count": 9,
   "metadata": {
    "colab": {
     "base_uri": "https://localhost:8080/"
    },
    "id": "4OaLUwRhPPhW",
    "outputId": "170cccab-ded4-4110-e701-3d103902a590"
   },
   "outputs": [
    {
     "data": {
      "text/plain": [
       "(85443, 19)"
      ]
     },
     "execution_count": 9,
     "metadata": {},
     "output_type": "execute_result"
    }
   ],
   "source": [
    "X_test.shape"
   ]
  },
  {
   "cell_type": "code",
   "execution_count": 10,
   "metadata": {
    "id": "eN6iBsXh0UJj"
   },
   "outputs": [],
   "source": [
    "# X_train et X_test sont des dataframe qui contient les features\n",
    "train_LSTM_X=X_train.to_numpy()\n",
    "test_LSTM_X=X_test.to_numpy()\n",
    "train_LSTM_y=y_train.to_numpy()\n",
    "test_LSTM_y=y_test.to_numpy()\n",
    "w=3\n",
    "X_train=np.zeros([train_LSTM_X.shape[0]-w+1,w, train_LSTM_X.shape[1]])\n",
    "for i in range(train_LSTM_X.shape[0]-w+1):\n",
    "    for j in range(w):\n",
    "        X_train[i][j]=train_LSTM_X[i+j]\n",
    "X_test=np.zeros([test_LSTM_X.shape[0]-w+1,w, test_LSTM_X.shape[1]])\n",
    "for i in range(test_LSTM_X.shape[0]-w+1):\n",
    "    for j in range(w):\n",
    "        X_test[i][j]=test_LSTM_X[i+j]\n",
    "## Recuperation des labels\n",
    "\n",
    "y_train=np.delete(train_LSTM_y,[*range(0, w-1, 1)], 0)\n",
    "y_test=np.delete(test_LSTM_y,[*range(0, w-1, 1)], 0)\n"
   ]
  },
  {
   "cell_type": "code",
   "execution_count": 11,
   "metadata": {
    "id": "XOlGVbif0U-i"
   },
   "outputs": [
    {
     "name": "stderr",
     "output_type": "stream",
     "text": [
      "2023-02-17 19:15:56.673572: I tensorflow/core/platform/cpu_feature_guard.cc:193] This TensorFlow binary is optimized with oneAPI Deep Neural Network Library (oneDNN) to use the following CPU instructions in performance-critical operations:  SSE4.1 SSE4.2\n",
      "To enable them in other operations, rebuild TensorFlow with the appropriate compiler flags.\n",
      "2023-02-17 19:15:56.685438: I tensorflow/core/common_runtime/process_util.cc:146] Creating new thread pool with default inter op setting: 2. Tune using inter_op_parallelism_threads for best performance.\n"
     ]
    }
   ],
   "source": [
    "inputs=Input((w,19))\n",
    "x1=LSTM(50)(inputs)\n",
    "outputs=Dense(1,activation='sigmoid')(x1)\n",
    "model=Model(inputs,outputs)"
   ]
  },
  {
   "cell_type": "code",
   "execution_count": 12,
   "metadata": {
    "id": "rw1IxnEn0i7d"
   },
   "outputs": [],
   "source": [
    "model.compile(loss='binary_crossentropy', optimizer='adam', metrics=['Precision','Recall'])"
   ]
  },
  {
   "cell_type": "code",
   "execution_count": 13,
   "metadata": {
    "id": "_jVAHW330VTL"
   },
   "outputs": [
    {
     "name": "stdout",
     "output_type": "stream",
     "text": [
      "Epoch 1/10\n",
      "390/390 [==============================] - 35s 59ms/step - loss: 0.0810 - precision: 0.0494 - recall: 0.3463 - val_loss: 0.0044 - val_precision: 1.0000 - val_recall: 0.4074\n",
      "Epoch 2/10\n",
      "390/390 [==============================] - 19s 50ms/step - loss: 0.0041 - precision: 0.8516 - recall: 0.6676 - val_loss: 0.0031 - val_precision: 0.9718 - val_recall: 0.6389\n",
      "Epoch 3/10\n",
      "390/390 [==============================] - 18s 47ms/step - loss: 0.0035 - precision: 0.8589 - recall: 0.7922 - val_loss: 0.0027 - val_precision: 0.9753 - val_recall: 0.7315\n",
      "Epoch 4/10\n",
      "390/390 [==============================] - 18s 47ms/step - loss: 0.0033 - precision: 0.8609 - recall: 0.8061 - val_loss: 0.0026 - val_precision: 0.9643 - val_recall: 0.7500\n",
      "Epoch 5/10\n",
      "390/390 [==============================] - 19s 48ms/step - loss: 0.0031 - precision: 0.8588 - recall: 0.8089 - val_loss: 0.0026 - val_precision: 0.9759 - val_recall: 0.7500\n",
      "Epoch 6/10\n",
      "390/390 [==============================] - 19s 48ms/step - loss: 0.0030 - precision: 0.8609 - recall: 0.8061 - val_loss: 0.0025 - val_precision: 0.9759 - val_recall: 0.7500\n",
      "Epoch 7/10\n",
      "390/390 [==============================] - 19s 48ms/step - loss: 0.0028 - precision: 0.8559 - recall: 0.8061 - val_loss: 0.0026 - val_precision: 0.9759 - val_recall: 0.7500\n",
      "Epoch 8/10\n",
      "390/390 [==============================] - 18s 47ms/step - loss: 0.0027 - precision: 0.8661 - recall: 0.8061 - val_loss: 0.0025 - val_precision: 0.9759 - val_recall: 0.7500\n",
      "Epoch 9/10\n",
      "390/390 [==============================] - 19s 49ms/step - loss: 0.0026 - precision: 0.8661 - recall: 0.8061 - val_loss: 0.0025 - val_precision: 0.9759 - val_recall: 0.7500\n",
      "Epoch 10/10\n",
      "390/390 [==============================] - 19s 49ms/step - loss: 0.0025 - precision: 0.8684 - recall: 0.8227 - val_loss: 0.0027 - val_precision: 0.9643 - val_recall: 0.7500\n"
     ]
    }
   ],
   "source": [
    "history1=model.fit(X_train, y_train,epochs=10,batch_size=500,validation_data=(X_test, y_test))"
   ]
  },
  {
   "cell_type": "code",
   "execution_count": 14,
   "metadata": {
    "id": "lUAD5FIS3Z1I"
   },
   "outputs": [],
   "source": [
    "# predict probabilities for test set\n",
    "yhat_probs = model.predict(X_test, verbose=0)\n",
    "# reduce to 1d array\n",
    "yhat_probs =  yhat_probs[:, 0]> 0.5\n",
    "yhat_probs=yhat_probs.astype(int)"
   ]
  },
  {
   "cell_type": "code",
   "execution_count": 15,
   "metadata": {
    "colab": {
     "base_uri": "https://localhost:8080/"
    },
    "id": "eiN2cjwX4Dzp",
    "outputId": "86ee0069-2931-41b4-bbb3-90a6a3940a21"
   },
   "outputs": [
    {
     "name": "stdout",
     "output_type": "stream",
     "text": [
      "Accuracy: 0.999649\n",
      "Precision: 0.964286\n",
      "Recall: 0.750000\n",
      "f1: 0.843750\n",
      "auc_score: 0.874982\n"
     ]
    }
   ],
   "source": [
    "# demonstration of calculating metrics for a neural network model using sklearn\n",
    "from sklearn.metrics import accuracy_score\n",
    "from sklearn.metrics import precision_score\n",
    "from sklearn.metrics import recall_score\n",
    "from sklearn.metrics import f1_score\n",
    "from sklearn.metrics import confusion_matrix\n",
    "\n",
    "# accuracy: (tp + tn) / (p + n)\n",
    "accuracy = accuracy_score(y_test, yhat_probs)\n",
    "print('Accuracy: %f' % accuracy)\n",
    "# precision tp / (tp + fp)\n",
    "precision = precision_score(y_test, yhat_probs)\n",
    "print('Precision: %f' % precision)\n",
    "# recall: tp / (tp + fn)\n",
    "recall = recall_score(y_test, yhat_probs)\n",
    "print('Recall: %f' % recall)\n",
    "f1 = f1_score(y_test, yhat_probs)\n",
    "print('f1: %f' % f1)\n",
    "auc_score=roc_auc_score(y_test, yhat_probs)\n",
    "print('auc_score: %f' % auc_score)"
   ]
  },
  {
   "cell_type": "code",
   "execution_count": 16,
   "metadata": {},
   "outputs": [
    {
     "data": {
      "image/png": "[encoded data removed]",
      "text/plain": [
       "<Figure size 600x600 with 1 Axes>"
      ]
     },
     "metadata": {},
     "output_type": "display_data"
    }
   ],
   "source": [
    "import matplotlib.pyplot as plt\n",
    "from sklearn.metrics import auc\n",
    "from sklearn import metrics\n",
    "from sklearn.metrics import RocCurveDisplay\n",
    "fpr, tpr, thresholds = roc_curve(y_test, yhat_probs, pos_label=1)\n",
    "auc_score=roc_auc_score(y_test, yhat_probs)\n",
    "plt.figure(figsize=(6,6)) \n",
    "\n",
    "plt.plot(fpr, tpr, marker='.')\n",
    "plt.plot([0, 1], [0, 1], \"k--\", label=\"chance level (AUC = 0.5)\")\n",
    "\n",
    "mean_tpr = tpr\n",
    "mean_auc = auc(fpr, mean_tpr)\n",
    "std_auc = np.std(auc_score)\n",
    "plt.plot(\n",
    "    fpr,\n",
    "    mean_tpr,\n",
    "    color=\"b\",\n",
    "    label=r\"Mean ROC (AUC = %0.2f $\\pm$ %0.2f)\" % (mean_auc, std_auc),\n",
    "    lw=2,\n",
    "    alpha=0.8,\n",
    ")\n",
    "plt.xlim([-0.05, 1.05])\n",
    "plt.ylim([-0.05, 1.05])\n",
    "plt.xlabel(\"False Positive Rate\")\n",
    "plt.ylabel(\"True Positive Rate\")\n",
    "plt.title(f\"Mean ROC curve\\n(Sequential-European dataset)\")\n",
    "plt.axis(\"square\")\n",
    "plt.legend(loc=\"lower right\")\n",
    "\n",
    "plt.show()\n"
   ]
  },
  {
   "cell_type": "code",
   "execution_count": 17,
   "metadata": {
    "id": "02D_-hIJ4JiB"
   },
   "outputs": [],
   "source": [
    "%matplotlib inline\n",
    "from sklearn.metrics import confusion_matrix\n",
    "import itertools"
   ]
  },
  {
   "cell_type": "code",
   "execution_count": 18,
   "metadata": {
    "id": "D5jRpnhBCKKM"
   },
   "outputs": [],
   "source": [
    "cm = confusion_matrix(y_true=y_test, y_pred=yhat_probs)"
   ]
  },
  {
   "cell_type": "code",
   "execution_count": 19,
   "metadata": {
    "id": "G6wvKPIQCKYs"
   },
   "outputs": [],
   "source": [
    "def plot_confusion_matrix(cm, classes,\n",
    "                        normalize=False,\n",
    "                        title='Confusion matrix',\n",
    "                        cmap=plt.cm.Blues):\n",
    "    \"\"\"\n",
    "    This function prints and plots the confusion matrix.\n",
    "    Normalization can be applied by setting `normalize=True`.\n",
    "    \"\"\"\n",
    "    plt.imshow(cm, interpolation='nearest', cmap=cmap)\n",
    "    plt.title(title)\n",
    "    plt.colorbar()\n",
    "    tick_marks = np.arange(len(classes))\n",
    "    plt.xticks(tick_marks, classes, rotation=45)\n",
    "    plt.yticks(tick_marks, classes)\n",
    "\n",
    "    if normalize:\n",
    "        cm = cm.astype('float') / cm.sum(axis=1)[:, np.newaxis]\n",
    "        print(\"Normalized confusion matrix\")\n",
    "    else:\n",
    "        print('Confusion matrix, without normalization')\n",
    "\n",
    "    print(cm)\n",
    "\n",
    "    thresh = cm.max() / 2.\n",
    "    for i, j in itertools.product(range(cm.shape[0]), range(cm.shape[1])):\n",
    "        plt.text(j, i, cm[i, j],\n",
    "            horizontalalignment=\"center\",\n",
    "            color=\"white\" if cm[i, j] > thresh else \"black\")\n",
    "\n",
    "    plt.tight_layout()\n",
    "    plt.ylabel('True label')\n",
    "    plt.xlabel('Predicted label')\n",
    "labels = ['Normal','Fraud']"
   ]
  },
  {
   "cell_type": "code",
   "execution_count": 20,
   "metadata": {
    "colab": {
     "base_uri": "https://localhost:8080/",
     "height": 362
    },
    "id": "K3CQINI1VyI8",
    "outputId": "4d02c5dc-54cc-4414-d8da-fe62508573c9"
   },
   "outputs": [
    {
     "name": "stdout",
     "output_type": "stream",
     "text": [
      "Confusion matrix, without normalization\n",
      "[[85330     3]\n",
      " [   27    81]]\n"
     ]
    },
    {
     "data": {
      "image/png": "[encoded data removed]",
      "text/plain": [
       "<Figure size 640x480 with 2 Axes>"
      ]
     },
     "metadata": {},
     "output_type": "display_data"
    }
   ],
   "source": [
    "plot_confusion_matrix(cm=cm, classes=labels, title='LSTM')"
   ]
  }
 ],
 "metadata": {
  "colab": {
   "collapsed_sections": [],
   "name": "LSTM_Models.ipynb",
   "provenance": []
  },
  "kernelspec": {
   "display_name": "Python 3 (ipykernel)",
   "language": "python",
   "name": "python3"
  },
  "language_info": {
   "codemirror_mode": {
    "name": "ipython",
    "version": 3
   },
   "file_extension": ".py",
   "mimetype": "text/x-python",
   "name": "python",
   "nbconvert_exporter": "python",
   "pygments_lexer": "ipython3",
   "version": "3.9.7"
  },
  "vscode": {
   "interpreter": {
    "hash": "408d89a3b80ac34e5cdc914373b09bb69ba3e3a6a7f756d6d7498fd367058138"
   }
  }
 },
 "nbformat": 4,
 "nbformat_minor": 1
}
