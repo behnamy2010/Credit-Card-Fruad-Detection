{
 "cells": [
  {
   "cell_type": "code",
   "execution_count": 1,
   "metadata": {
    "id": "gRu9kpkYyztz"
   },
   "outputs": [],
   "source": [
    "import pandas as pd\n",
    "from sklearn.model_selection import train_test_split\n",
    "import numpy as np\n",
    "from sklearn.metrics import accuracy_score\n",
    "from keras.layers import LSTM, Dense,Input,Layer\n",
    "from keras import backend as K,Model\n",
    "from numpy.random import seed\n",
    "from imblearn.under_sampling import RandomUnderSampler \n",
    "from sklearn.preprocessing import StandardScaler\n",
    "seed(0)\n",
    "import os\n",
    "os.environ['PYTHONHASHSEED']=str(0)\n",
    "from sklearn.metrics import roc_curve,roc_auc_score\n",
    "import tensorflow as tf\n",
    "tf.random.set_seed(0)\n",
    "import random\n",
    "import random as python_random\n",
    "python_random.seed(0)\n",
    "random.seed(0)"
   ]
  },
  {
   "cell_type": "code",
   "execution_count": 2,
   "metadata": {
    "id": "Mlth1eViyz_p"
   },
   "outputs": [],
   "source": [
    "data = pd.read_csv('creditcard.csv', na_filter=True)\n",
    "\n",
    "data.drop(['Time'], axis=1, inplace=True)\n",
    "selected_vars =['V4','V14','V10','V16','V9','V12','V11','V17','V7','V21','V18','V8','V1','V3','V6','V2','V27','V5','V26','Class']\n"
   ]
  },
  {
   "cell_type": "code",
   "execution_count": 3,
   "metadata": {
    "colab": {
     "base_uri": "https://localhost:8080/"
    },
    "id": "0D1roi0fy9hN",
    "outputId": "1c7dad73-e697-47a5-9102-3fa04511a11d"
   },
   "outputs": [
    {
     "data": {
      "text/plain": [
       "(284807, 20)"
      ]
     },
     "execution_count": 3,
     "metadata": {},
     "output_type": "execute_result"
    }
   ],
   "source": [
    "tr_data = data[selected_vars]\n",
    "tr_data.shape"
   ]
  },
  {
   "cell_type": "code",
   "execution_count": 4,
   "metadata": {
    "id": "SFjcDF3s2QId"
   },
   "outputs": [],
   "source": [
    "X = tr_data.drop(['Class'], axis = 'columns')\n",
    "Label_Data = tr_data['Class']"
   ]
  },
  {
   "cell_type": "code",
   "execution_count": 5,
   "metadata": {
    "id": "o4GOSe4tzcTv"
   },
   "outputs": [],
   "source": [
    "y=tr_data['Class']"
   ]
  },
  {
   "cell_type": "code",
   "execution_count": 20,
   "metadata": {},
   "outputs": [
    {
     "name": "stdout",
     "output_type": "stream",
     "text": [
      "q:  0.05\n",
      "Accuracy: 0.999368\n",
      "Precision: 0.600000\n",
      "Recall: 0.545455\n",
      "f1: 0.571429\n",
      "auc_score: 0.772587\n",
      "q:  0.1\n",
      "Accuracy: 0.999684\n",
      "Precision: 0.842105\n",
      "Recall: 0.727273\n",
      "f1: 0.780488\n",
      "auc_score: 0.863584\n",
      "q:  0.15\n",
      "Accuracy: 0.999602\n",
      "Precision: 0.926829\n",
      "Recall: 0.730769\n",
      "f1: 0.817204\n",
      "auc_score: 0.865349\n",
      "q:  0.2\n",
      "Accuracy: 0.999579\n",
      "Precision: 0.918033\n",
      "Recall: 0.746667\n",
      "f1: 0.823529\n",
      "auc_score: 0.873289\n",
      "q:  0.25\n",
      "Accuracy: 0.999565\n",
      "Precision: 0.956522\n",
      "Recall: 0.702128\n",
      "f1: 0.809816\n",
      "auc_score: 0.851043\n",
      "q:  0.3\n",
      "Accuracy: 0.999602\n",
      "Precision: 0.951220\n",
      "Recall: 0.722222\n",
      "f1: 0.821053\n",
      "auc_score: 0.861088\n",
      "q:  0.35\n",
      "Accuracy: 0.999619\n",
      "Precision: 0.947917\n",
      "Recall: 0.733871\n",
      "f1: 0.827273\n",
      "auc_score: 0.866910\n",
      "q:  0.4\n",
      "Accuracy: 0.999640\n",
      "Precision: 0.950495\n",
      "Recall: 0.727273\n",
      "f1: 0.824034\n",
      "auc_score: 0.863614\n"
     ]
    }
   ],
   "source": [
    "from sklearn.linear_model import SGDOneClassSVM\n",
    "from sklearn.linear_model import SGDOneClassSVM\n",
    "# demonstration of calculating metrics for a neural network model using sklearn\n",
    "from sklearn.metrics import accuracy_score\n",
    "from sklearn.metrics import precision_score\n",
    "from sklearn.metrics import recall_score\n",
    "from sklearn.metrics import f1_score\n",
    "\n",
    "for Test_size in [0.05,0.1,0.15,0.2,0.25,0.3,0.35,0.4]:\n",
    "    X_train,X_test,y_train,y_test = train_test_split(X, y, test_size=Test_size, shuffle=False,random_state=0)\n",
    "    SZ=StandardScaler()\n",
    "    X_train=pd.DataFrame(SZ.fit_transform(X_train))\n",
    "    X_test=pd.DataFrame(SZ.transform(X_test))\n",
    "\n",
    "    df1_normal=X_train[y_train==0]\n",
    "    clf = SGDOneClassSVM(nu=0.01808,random_state=0)\n",
    "    res = clf.fit_predict(df1_normal)\n",
    "    res[res==1] = 0\n",
    "    res[res==-1] = 1\n",
    "    ros = RandomUnderSampler(sampling_strategy=0.95)\n",
    "    ros.fit_resample(df1_normal,res)\n",
    "    index=ros.sample_indices_\n",
    "    X_train.drop(X_train.index[index], inplace=True)\n",
    "    y_train.drop(y_train.index[index], inplace=True)\n",
    "\n",
    "    # X_train et X_test sont des dataframe qui contient les features\n",
    "    train_LSTM_X=X_train.to_numpy()\n",
    "    test_LSTM_X=X_test.to_numpy()\n",
    "    train_LSTM_y=y_train.to_numpy()\n",
    "    test_LSTM_y=y_test.to_numpy()\n",
    "    w=3\n",
    "    X_train=np.zeros([train_LSTM_X.shape[0]-w+1,w, train_LSTM_X.shape[1]])\n",
    "    for i in range(train_LSTM_X.shape[0]-w+1):\n",
    "        for j in range(w):\n",
    "            X_train[i][j]=train_LSTM_X[i+j]\n",
    "    X_test=np.zeros([test_LSTM_X.shape[0]-w+1,w, test_LSTM_X.shape[1]])\n",
    "    for i in range(test_LSTM_X.shape[0]-w+1):\n",
    "        for j in range(w):\n",
    "            X_test[i][j]=test_LSTM_X[i+j]\n",
    "    ## Recuperation des labels\n",
    "\n",
    "    y_train=np.delete(train_LSTM_y,[*range(0, w-1, 1)], 0)\n",
    "    y_test=np.delete(test_LSTM_y,[*range(0, w-1, 1)], 0)\n",
    "\n",
    "    inputs=Input((w,19))\n",
    "    x1=LSTM(50)(inputs)\n",
    "    outputs=Dense(1,activation='sigmoid')(x1)\n",
    "    model=Model(inputs,outputs)\n",
    "\n",
    "    model.compile(loss='binary_crossentropy', optimizer='adam', metrics=['Precision','Recall'])\n",
    "    history1=model.fit(X_train, y_train,epochs=5,batch_size=500,verbose=0)\n",
    "    # predict probabilities for test set\n",
    "    yhat_probs = model.predict(X_test, verbose=0)\n",
    "    # reduce to 1d array\n",
    "    yhat_probs =  yhat_probs[:, 0]> 0.5\n",
    "    yhat_probs=yhat_probs.astype(int)\n",
    "\n",
    "    print(\"q: \" ,Test_size)\n",
    "    # accuracy: (tp + tn) / (p + n)\n",
    "    accuracy = accuracy_score(y_test, yhat_probs)\n",
    "    print('Accuracy: %f' % accuracy)\n",
    "    # precision tp / (tp + fp)\n",
    "    precision = precision_score(y_test, yhat_probs)\n",
    "    print('Precision: %f' % precision)\n",
    "    # recall: tp / (tp + fn)\n",
    "    recall = recall_score(y_test, yhat_probs)\n",
    "    print('Recall: %f' % recall)\n",
    "    f1 = f1_score(y_test, yhat_probs)\n",
    "    print('f1: %f' % f1)\n",
    "    auc_score=roc_auc_score(y_test, yhat_probs)\n",
    "    print('auc_score: %f' % auc_score)\n"
   ]
  }
 ],
 "metadata": {
  "colab": {
   "collapsed_sections": [],
   "name": "LSTM_Models.ipynb",
   "provenance": []
  },
  "kernelspec": {
   "display_name": "Python 3 (ipykernel)",
   "language": "python",
   "name": "python3"
  },
  "language_info": {
   "codemirror_mode": {
    "name": "ipython",
    "version": 3
   },
   "file_extension": ".py",
   "mimetype": "text/x-python",
   "name": "python",
   "nbconvert_exporter": "python",
   "pygments_lexer": "ipython3",
   "version": "3.12.4"
  },
  "vscode": {
   "interpreter": {
    "hash": "408d89a3b80ac34e5cdc914373b09bb69ba3e3a6a7f756d6d7498fd367058138"
   }
  }
 },
 "nbformat": 4,
 "nbformat_minor": 1
}
