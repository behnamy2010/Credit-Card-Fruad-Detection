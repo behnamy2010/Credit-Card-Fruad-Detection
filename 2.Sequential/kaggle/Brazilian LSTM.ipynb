{
 "cells": [
  {
   "cell_type": "code",
   "execution_count": 1,
   "metadata": {
    "id": "gRu9kpkYyztz"
   },
   "outputs": [],
   "source": [
    "import pandas as pd\n",
    "from sklearn.model_selection import train_test_split\n",
    "import numpy as np\n",
    "from sklearn.metrics import accuracy_score\n",
    "from keras.layers import LSTM, Dense,Input,Layer\n",
    "from keras import backend as K,Model\n",
    "from numpy.random import seed\n",
    "from imblearn.under_sampling import RandomUnderSampler \n",
    "from sklearn.preprocessing import StandardScaler\n",
    "seed(0)\n",
    "import os\n",
    "os.environ['PYTHONHASHSEED']=str(0)\n",
    "from sklearn.metrics import roc_curve,roc_auc_score\n",
    "import tensorflow as tf\n",
    "tf.random.set_seed(0)\n",
    "import random\n",
    "import random as python_random\n",
    "python_random.seed(0)\n",
    "random.seed(0)"
   ]
  },
  {
   "cell_type": "code",
   "execution_count": 89,
   "metadata": {},
   "outputs": [],
   "source": [
    "from scipy.io.arff import loadarff \n",
    "from sklearn.preprocessing import LabelEncoder\n",
    "\n",
    "raw_data = loadarff('base_desenv_02.arff')\n",
    "data = pd.DataFrame(raw_data[0])\n",
    "data.rename(columns={'flag_fraude_cat': 'Class'}, inplace=True)\n",
    "\n",
    "# Initialize LabelEncoder\n",
    "label_encoder = LabelEncoder()\n",
    "\n",
    "# Label encode the 'Class' column\n",
    "data['Class'] = label_encoder.fit_transform(data['Class'])\n",
    "tr_data = data\n",
    "X = tr_data.drop(['Class'], axis = 'columns')\n",
    "Label_Data = tr_data['Class']\n",
    "y=tr_data['Class']\n",
    "X_train=X\n",
    "y_train=y"
   ]
  },
  {
   "cell_type": "code",
   "execution_count": 90,
   "metadata": {
    "colab": {
     "base_uri": "https://localhost:8080/"
    },
    "id": "0D1roi0fy9hN",
    "outputId": "1c7dad73-e697-47a5-9102-3fa04511a11d"
   },
   "outputs": [],
   "source": [
    "raw_data = loadarff('base_validacao_02.arff')\n",
    "data = pd.DataFrame(raw_data[0])\n",
    "data.rename(columns={'flag_fraude_cat': 'Class'}, inplace=True)\n",
    "\n",
    "# Initialize LabelEncoder\n",
    "label_encoder = LabelEncoder()\n",
    "\n",
    "# Label encode the 'Class' column\n",
    "data['Class'] = label_encoder.fit_transform(data['Class'])\n",
    "tr_data = data\n",
    "X = tr_data.drop(['Class'], axis = 'columns')\n",
    "Label_Data = tr_data['Class']\n",
    "y=tr_data['Class']\n",
    "X_test=X\n",
    "y_test=y"
   ]
  },
  {
   "cell_type": "code",
   "execution_count": 91,
   "metadata": {
    "id": "t7l5EpLY0IqL"
   },
   "outputs": [],
   "source": [
    "SZ=StandardScaler()\n",
    "X_train=pd.DataFrame(SZ.fit_transform(X_train))\n",
    "X_test=pd.DataFrame(SZ.transform(X_test))\n",
    "\n",
    "from sklearn.linear_model import SGDOneClassSVM\n",
    "df1_normal=X_train[y_train==0]\n",
    "clf = SGDOneClassSVM(nu=0.02,random_state=0)\n",
    "res = clf.fit_predict(df1_normal)\n",
    "res[res==1] = 0\n",
    "res[res==-1] = 1\n",
    "ros = RandomUnderSampler(sampling_strategy=0.95)\n",
    "ros.fit_resample(df1_normal,res)\n",
    "index=ros.sample_indices_\n",
    "X_train.drop(X_train.index[index], inplace=True)\n",
    "y_train.drop(y_train.index[index], inplace=True)"
   ]
  },
  {
   "cell_type": "code",
   "execution_count": 92,
   "metadata": {
    "colab": {
     "base_uri": "https://localhost:8080/"
    },
    "id": "a4uohF3BPMIU",
    "outputId": "b1d24e82-da51-42ca-f9ed-0d021c2538ea"
   },
   "outputs": [
    {
     "data": {
      "text/plain": [
       "(28704, 17)"
      ]
     },
     "execution_count": 92,
     "metadata": {},
     "output_type": "execute_result"
    }
   ],
   "source": [
    "X_train.shape"
   ]
  },
  {
   "cell_type": "code",
   "execution_count": 93,
   "metadata": {
    "colab": {
     "base_uri": "https://localhost:8080/"
    },
    "id": "4OaLUwRhPPhW",
    "outputId": "170cccab-ded4-4110-e701-3d103902a590"
   },
   "outputs": [
    {
     "data": {
      "text/plain": [
       "(12543, 17)"
      ]
     },
     "execution_count": 93,
     "metadata": {},
     "output_type": "execute_result"
    }
   ],
   "source": [
    "X_test.shape"
   ]
  },
  {
   "cell_type": "code",
   "execution_count": 94,
   "metadata": {
    "id": "eN6iBsXh0UJj"
   },
   "outputs": [],
   "source": [
    "# X_train et X_test sont des dataframe qui contient les features\n",
    "train_LSTM_X=X_train.to_numpy()\n",
    "test_LSTM_X=X_test.to_numpy()\n",
    "train_LSTM_y=y_train.to_numpy()\n",
    "test_LSTM_y=y_test.to_numpy()\n",
    "w=3\n",
    "X_train=np.zeros([train_LSTM_X.shape[0]-w+1,w, train_LSTM_X.shape[1]])\n",
    "for i in range(train_LSTM_X.shape[0]-w+1):\n",
    "    for j in range(w):\n",
    "        X_train[i][j]=train_LSTM_X[i+j]\n",
    "X_test=np.zeros([test_LSTM_X.shape[0]-w+1,w, test_LSTM_X.shape[1]])\n",
    "for i in range(test_LSTM_X.shape[0]-w+1):\n",
    "    for j in range(w):\n",
    "        X_test[i][j]=test_LSTM_X[i+j]\n",
    "## Recuperation des labels\n",
    "\n",
    "y_train=np.delete(train_LSTM_y,[*range(0, w-1, 1)], 0)\n",
    "y_test=np.delete(test_LSTM_y,[*range(0, w-1, 1)], 0)\n"
   ]
  },
  {
   "cell_type": "code",
   "execution_count": 105,
   "metadata": {
    "id": "XOlGVbif0U-i"
   },
   "outputs": [],
   "source": [
    "inputs=Input((w,17))\n",
    "x1=LSTM(50)(inputs)\n",
    "outputs=Dense(1,activation='sigmoid')(x1)\n",
    "model=Model(inputs,outputs)"
   ]
  },
  {
   "cell_type": "code",
   "execution_count": 106,
   "metadata": {
    "id": "rw1IxnEn0i7d"
   },
   "outputs": [],
   "source": [
    "model.compile(loss='binary_crossentropy', optimizer='adam', metrics=['Precision','Recall'])"
   ]
  },
  {
   "cell_type": "code",
   "execution_count": 107,
   "metadata": {
    "id": "_jVAHW330VTL"
   },
   "outputs": [
    {
     "name": "stdout",
     "output_type": "stream",
     "text": [
      "Epoch 1/100\n",
      "113/113 [==============================] - 5s 15ms/step - loss: 0.3082 - precision: 0.1081 - recall: 0.1454 - val_loss: 0.1320 - val_precision: 0.0000e+00 - val_recall: 0.0000e+00\n",
      "Epoch 2/100\n",
      "113/113 [==============================] - 1s 8ms/step - loss: 0.1221 - precision: 0.4000 - recall: 0.0019 - val_loss: 0.1220 - val_precision: 0.8333 - val_recall: 0.0107\n",
      "Epoch 3/100\n",
      "113/113 [==============================] - 1s 8ms/step - loss: 0.1142 - precision: 0.5769 - recall: 0.0278 - val_loss: 0.1172 - val_precision: 0.5526 - val_recall: 0.0450\n",
      "Epoch 4/100\n",
      "113/113 [==============================] - 1s 9ms/step - loss: 0.1100 - precision: 0.6000 - recall: 0.0722 - val_loss: 0.1141 - val_precision: 0.5294 - val_recall: 0.0771\n",
      "Epoch 5/100\n",
      "113/113 [==============================] - 1s 8ms/step - loss: 0.1078 - precision: 0.5953 - recall: 0.1185 - val_loss: 0.1128 - val_precision: 0.5733 - val_recall: 0.0921\n",
      "Epoch 6/100\n",
      "113/113 [==============================] - 1s 8ms/step - loss: 0.1058 - precision: 0.6320 - recall: 0.1352 - val_loss: 0.1117 - val_precision: 0.5833 - val_recall: 0.1049\n",
      "Epoch 7/100\n",
      "113/113 [==============================] - 1s 8ms/step - loss: 0.1040 - precision: 0.6370 - recall: 0.1722 - val_loss: 0.1105 - val_precision: 0.5426 - val_recall: 0.1092\n",
      "Epoch 8/100\n",
      "113/113 [==============================] - 1s 8ms/step - loss: 0.1025 - precision: 0.6481 - recall: 0.1620 - val_loss: 0.1097 - val_precision: 0.5660 - val_recall: 0.1285\n",
      "Epoch 9/100\n",
      "113/113 [==============================] - 1s 9ms/step - loss: 0.1008 - precision: 0.6467 - recall: 0.1898 - val_loss: 0.1104 - val_precision: 0.5616 - val_recall: 0.0878\n",
      "Epoch 10/100\n",
      "113/113 [==============================] - 1s 8ms/step - loss: 0.0998 - precision: 0.6469 - recall: 0.1917 - val_loss: 0.1085 - val_precision: 0.5470 - val_recall: 0.1370\n",
      "Epoch 11/100\n",
      "113/113 [==============================] - 1s 8ms/step - loss: 0.0979 - precision: 0.6731 - recall: 0.2250 - val_loss: 0.1080 - val_precision: 0.5347 - val_recall: 0.1156\n",
      "Epoch 12/100\n",
      "113/113 [==============================] - 1s 8ms/step - loss: 0.0963 - precision: 0.6720 - recall: 0.2315 - val_loss: 0.1074 - val_precision: 0.5342 - val_recall: 0.1670\n",
      "Epoch 13/100\n",
      "113/113 [==============================] - 1s 8ms/step - loss: 0.0955 - precision: 0.6649 - recall: 0.2333 - val_loss: 0.1076 - val_precision: 0.5672 - val_recall: 0.1627\n",
      "Epoch 14/100\n",
      "113/113 [==============================] - 1s 8ms/step - loss: 0.0939 - precision: 0.6745 - recall: 0.2648 - val_loss: 0.1074 - val_precision: 0.5437 - val_recall: 0.1863\n",
      "Epoch 15/100\n",
      "113/113 [==============================] - 1s 8ms/step - loss: 0.0926 - precision: 0.6643 - recall: 0.2639 - val_loss: 0.1078 - val_precision: 0.5274 - val_recall: 0.1649\n",
      "Epoch 16/100\n",
      "113/113 [==============================] - 1s 8ms/step - loss: 0.0912 - precision: 0.6763 - recall: 0.2806 - val_loss: 0.1078 - val_precision: 0.5404 - val_recall: 0.1863\n",
      "Epoch 17/100\n",
      "113/113 [==============================] - 1s 9ms/step - loss: 0.0904 - precision: 0.6878 - recall: 0.3019 - val_loss: 0.1068 - val_precision: 0.5403 - val_recall: 0.2441\n",
      "Epoch 18/100\n",
      "113/113 [==============================] - 1s 8ms/step - loss: 0.0889 - precision: 0.6864 - recall: 0.3120 - val_loss: 0.1065 - val_precision: 0.5181 - val_recall: 0.1842\n",
      "Epoch 19/100\n",
      "113/113 [==============================] - 1s 8ms/step - loss: 0.0873 - precision: 0.6934 - recall: 0.3120 - val_loss: 0.1063 - val_precision: 0.5868 - val_recall: 0.2099\n",
      "Epoch 20/100\n",
      "113/113 [==============================] - 1s 8ms/step - loss: 0.0864 - precision: 0.7129 - recall: 0.3380 - val_loss: 0.1060 - val_precision: 0.5381 - val_recall: 0.2270\n",
      "Epoch 21/100\n",
      "113/113 [==============================] - 1s 8ms/step - loss: 0.0847 - precision: 0.7108 - recall: 0.3528 - val_loss: 0.1059 - val_precision: 0.5549 - val_recall: 0.1949\n",
      "Epoch 22/100\n",
      "113/113 [==============================] - 1s 8ms/step - loss: 0.0837 - precision: 0.7114 - recall: 0.3537 - val_loss: 0.1066 - val_precision: 0.5591 - val_recall: 0.2227\n",
      "Epoch 23/100\n",
      "113/113 [==============================] - 1s 9ms/step - loss: 0.0823 - precision: 0.7253 - recall: 0.3741 - val_loss: 0.1067 - val_precision: 0.5562 - val_recall: 0.2120\n",
      "Epoch 24/100\n",
      "113/113 [==============================] - 1s 9ms/step - loss: 0.0812 - precision: 0.7282 - recall: 0.3796 - val_loss: 0.1066 - val_precision: 0.5635 - val_recall: 0.2184\n",
      "Epoch 25/100\n",
      "113/113 [==============================] - 1s 8ms/step - loss: 0.0799 - precision: 0.7433 - recall: 0.3861 - val_loss: 0.1080 - val_precision: 0.5432 - val_recall: 0.1884\n",
      "Epoch 26/100\n",
      "113/113 [==============================] - 1s 7ms/step - loss: 0.0788 - precision: 0.7535 - recall: 0.3935 - val_loss: 0.1056 - val_precision: 0.5644 - val_recall: 0.2719\n",
      "Epoch 27/100\n",
      "113/113 [==============================] - 1s 8ms/step - loss: 0.0768 - precision: 0.7631 - recall: 0.4176 - val_loss: 0.1072 - val_precision: 0.5789 - val_recall: 0.2120\n",
      "Epoch 28/100\n",
      "113/113 [==============================] - 1s 7ms/step - loss: 0.0753 - precision: 0.7703 - recall: 0.4222 - val_loss: 0.1075 - val_precision: 0.5312 - val_recall: 0.2548\n",
      "Epoch 29/100\n",
      "113/113 [==============================] - 1s 8ms/step - loss: 0.0747 - precision: 0.7662 - recall: 0.4370 - val_loss: 0.1080 - val_precision: 0.5491 - val_recall: 0.2034\n",
      "Epoch 30/100\n",
      "113/113 [==============================] - 1s 9ms/step - loss: 0.0724 - precision: 0.7763 - recall: 0.4370 - val_loss: 0.1077 - val_precision: 0.5577 - val_recall: 0.2484\n",
      "Epoch 31/100\n",
      "113/113 [==============================] - 1s 7ms/step - loss: 0.0711 - precision: 0.7882 - recall: 0.4583 - val_loss: 0.1082 - val_precision: 0.5291 - val_recall: 0.2527\n",
      "Epoch 32/100\n",
      "113/113 [==============================] - 1s 7ms/step - loss: 0.0697 - precision: 0.8016 - recall: 0.4639 - val_loss: 0.1077 - val_precision: 0.5382 - val_recall: 0.2869\n",
      "Epoch 33/100\n",
      "113/113 [==============================] - 1s 7ms/step - loss: 0.0687 - precision: 0.8103 - recall: 0.4787 - val_loss: 0.1084 - val_precision: 0.5138 - val_recall: 0.2784\n",
      "Epoch 34/100\n",
      "113/113 [==============================] - 1s 8ms/step - loss: 0.0669 - precision: 0.8239 - recall: 0.4852 - val_loss: 0.1091 - val_precision: 0.5163 - val_recall: 0.2377\n",
      "Epoch 35/100\n",
      "113/113 [==============================] - 1s 8ms/step - loss: 0.0655 - precision: 0.8093 - recall: 0.4991 - val_loss: 0.1100 - val_precision: 0.5522 - val_recall: 0.2377\n",
      "Epoch 36/100\n",
      "113/113 [==============================] - 1s 8ms/step - loss: 0.0645 - precision: 0.8282 - recall: 0.5269 - val_loss: 0.1104 - val_precision: 0.5134 - val_recall: 0.2463\n",
      "Epoch 37/100\n",
      "113/113 [==============================] - 1s 8ms/step - loss: 0.0627 - precision: 0.8286 - recall: 0.5417 - val_loss: 0.1132 - val_precision: 0.5854 - val_recall: 0.2056\n",
      "Epoch 38/100\n",
      "113/113 [==============================] - 1s 8ms/step - loss: 0.0616 - precision: 0.8362 - recall: 0.5435 - val_loss: 0.1125 - val_precision: 0.5707 - val_recall: 0.2334\n",
      "Epoch 39/100\n",
      "113/113 [==============================] - 1s 8ms/step - loss: 0.0598 - precision: 0.8567 - recall: 0.5537 - val_loss: 0.1104 - val_precision: 0.5500 - val_recall: 0.2827\n",
      "Epoch 40/100\n",
      "113/113 [==============================] - 1s 7ms/step - loss: 0.0585 - precision: 0.8538 - recall: 0.5676 - val_loss: 0.1120 - val_precision: 0.5447 - val_recall: 0.2741\n",
      "Epoch 41/100\n",
      "113/113 [==============================] - 1s 8ms/step - loss: 0.0573 - precision: 0.8579 - recall: 0.5815 - val_loss: 0.1141 - val_precision: 0.5619 - val_recall: 0.2334\n",
      "Epoch 42/100\n",
      "113/113 [==============================] - 1s 8ms/step - loss: 0.0556 - precision: 0.8722 - recall: 0.6065 - val_loss: 0.1122 - val_precision: 0.5299 - val_recall: 0.3041\n",
      "Epoch 43/100\n",
      "113/113 [==============================] - 1s 8ms/step - loss: 0.0545 - precision: 0.8809 - recall: 0.6231 - val_loss: 0.1150 - val_precision: 0.5017 - val_recall: 0.3191\n",
      "Epoch 44/100\n",
      "113/113 [==============================] - 1s 8ms/step - loss: 0.0531 - precision: 0.8814 - recall: 0.6333 - val_loss: 0.1157 - val_precision: 0.5570 - val_recall: 0.2827\n",
      "Epoch 45/100\n",
      "113/113 [==============================] - 1s 7ms/step - loss: 0.0520 - precision: 0.8777 - recall: 0.6315 - val_loss: 0.1157 - val_precision: 0.5368 - val_recall: 0.2655\n",
      "Epoch 46/100\n",
      "113/113 [==============================] - 1s 8ms/step - loss: 0.0505 - precision: 0.8943 - recall: 0.6583 - val_loss: 0.1157 - val_precision: 0.5304 - val_recall: 0.2805\n",
      "Epoch 47/100\n",
      "113/113 [==============================] - 1s 8ms/step - loss: 0.0492 - precision: 0.8940 - recall: 0.6639 - val_loss: 0.1170 - val_precision: 0.5390 - val_recall: 0.3105\n",
      "Epoch 48/100\n",
      "113/113 [==============================] - 1s 7ms/step - loss: 0.0480 - precision: 0.8964 - recall: 0.6648 - val_loss: 0.1183 - val_precision: 0.5404 - val_recall: 0.2719\n",
      "Epoch 49/100\n",
      "113/113 [==============================] - 1s 7ms/step - loss: 0.0469 - precision: 0.9089 - recall: 0.6741 - val_loss: 0.1183 - val_precision: 0.5182 - val_recall: 0.3041\n",
      "Epoch 50/100\n",
      "113/113 [==============================] - 1s 8ms/step - loss: 0.0461 - precision: 0.9180 - recall: 0.6741 - val_loss: 0.1188 - val_precision: 0.5081 - val_recall: 0.3340\n",
      "Epoch 51/100\n",
      "113/113 [==============================] - 1s 7ms/step - loss: 0.0443 - precision: 0.9193 - recall: 0.6963 - val_loss: 0.1218 - val_precision: 0.5233 - val_recall: 0.3126\n",
      "Epoch 52/100\n",
      "113/113 [==============================] - 1s 8ms/step - loss: 0.0431 - precision: 0.9262 - recall: 0.6972 - val_loss: 0.1217 - val_precision: 0.5050 - val_recall: 0.3276\n",
      "Epoch 53/100\n",
      "113/113 [==============================] - 1s 8ms/step - loss: 0.0419 - precision: 0.9222 - recall: 0.7139 - val_loss: 0.1234 - val_precision: 0.5052 - val_recall: 0.3105\n",
      "Epoch 54/100\n",
      "113/113 [==============================] - 1s 7ms/step - loss: 0.0405 - precision: 0.9398 - recall: 0.7231 - val_loss: 0.1251 - val_precision: 0.5034 - val_recall: 0.3148\n",
      "Epoch 55/100\n",
      "113/113 [==============================] - 1s 7ms/step - loss: 0.0393 - precision: 0.9322 - recall: 0.7389 - val_loss: 0.1262 - val_precision: 0.5345 - val_recall: 0.3148\n",
      "Epoch 56/100\n",
      "113/113 [==============================] - 1s 8ms/step - loss: 0.0386 - precision: 0.9306 - recall: 0.7324 - val_loss: 0.1271 - val_precision: 0.5261 - val_recall: 0.3019\n",
      "Epoch 57/100\n",
      "113/113 [==============================] - 1s 7ms/step - loss: 0.0370 - precision: 0.9338 - recall: 0.7444 - val_loss: 0.1288 - val_precision: 0.5222 - val_recall: 0.3019\n",
      "Epoch 58/100\n",
      "113/113 [==============================] - 1s 9ms/step - loss: 0.0361 - precision: 0.9362 - recall: 0.7611 - val_loss: 0.1308 - val_precision: 0.4884 - val_recall: 0.3148\n",
      "Epoch 59/100\n",
      "113/113 [==============================] - 1s 9ms/step - loss: 0.0353 - precision: 0.9404 - recall: 0.7602 - val_loss: 0.1299 - val_precision: 0.4798 - val_recall: 0.3555\n",
      "Epoch 60/100\n",
      "113/113 [==============================] - 1s 8ms/step - loss: 0.0341 - precision: 0.9475 - recall: 0.7694 - val_loss: 0.1338 - val_precision: 0.5361 - val_recall: 0.3019\n",
      "Epoch 61/100\n",
      "113/113 [==============================] - 1s 8ms/step - loss: 0.0331 - precision: 0.9524 - recall: 0.7778 - val_loss: 0.1353 - val_precision: 0.5292 - val_recall: 0.2912\n",
      "Epoch 62/100\n",
      "113/113 [==============================] - 1s 8ms/step - loss: 0.0317 - precision: 0.9566 - recall: 0.7954 - val_loss: 0.1354 - val_precision: 0.5108 - val_recall: 0.3041\n",
      "Epoch 63/100\n",
      "113/113 [==============================] - 1s 8ms/step - loss: 0.0308 - precision: 0.9611 - recall: 0.8000 - val_loss: 0.1364 - val_precision: 0.5189 - val_recall: 0.3233\n",
      "Epoch 64/100\n",
      "113/113 [==============================] - 1s 10ms/step - loss: 0.0297 - precision: 0.9668 - recall: 0.8093 - val_loss: 0.1396 - val_precision: 0.5069 - val_recall: 0.3126\n",
      "Epoch 65/100\n",
      "113/113 [==============================] - 1s 8ms/step - loss: 0.0292 - precision: 0.9577 - recall: 0.8176 - val_loss: 0.1404 - val_precision: 0.5050 - val_recall: 0.3255\n",
      "Epoch 66/100\n",
      "113/113 [==============================] - 1s 8ms/step - loss: 0.0283 - precision: 0.9692 - recall: 0.8157 - val_loss: 0.1428 - val_precision: 0.4884 - val_recall: 0.3597\n",
      "Epoch 67/100\n",
      "113/113 [==============================] - 1s 8ms/step - loss: 0.0274 - precision: 0.9583 - recall: 0.8306 - val_loss: 0.1415 - val_precision: 0.5032 - val_recall: 0.3319\n",
      "Epoch 68/100\n",
      "113/113 [==============================] - 1s 8ms/step - loss: 0.0261 - precision: 0.9673 - recall: 0.8500 - val_loss: 0.1484 - val_precision: 0.5341 - val_recall: 0.2848\n",
      "Epoch 69/100\n",
      "113/113 [==============================] - 1s 8ms/step - loss: 0.0250 - precision: 0.9712 - recall: 0.8417 - val_loss: 0.1464 - val_precision: 0.5144 - val_recall: 0.3062\n",
      "Epoch 70/100\n",
      "113/113 [==============================] - 1s 9ms/step - loss: 0.0242 - precision: 0.9737 - recall: 0.8565 - val_loss: 0.1496 - val_precision: 0.5137 - val_recall: 0.3212\n",
      "Epoch 71/100\n",
      "113/113 [==============================] - 1s 8ms/step - loss: 0.0237 - precision: 0.9830 - recall: 0.8546 - val_loss: 0.1502 - val_precision: 0.5138 - val_recall: 0.3191\n",
      "Epoch 72/100\n",
      "113/113 [==============================] - 1s 8ms/step - loss: 0.0224 - precision: 0.9833 - recall: 0.8704 - val_loss: 0.1492 - val_precision: 0.4922 - val_recall: 0.3383\n",
      "Epoch 73/100\n",
      "113/113 [==============================] - 1s 8ms/step - loss: 0.0217 - precision: 0.9844 - recall: 0.8750 - val_loss: 0.1555 - val_precision: 0.5184 - val_recall: 0.3019\n",
      "Epoch 74/100\n",
      "113/113 [==============================] - 1s 8ms/step - loss: 0.0210 - precision: 0.9844 - recall: 0.8787 - val_loss: 0.1561 - val_precision: 0.5085 - val_recall: 0.3191\n",
      "Epoch 75/100\n",
      "113/113 [==============================] - 1s 8ms/step - loss: 0.0202 - precision: 0.9886 - recall: 0.8861 - val_loss: 0.1576 - val_precision: 0.5210 - val_recall: 0.3191\n",
      "Epoch 76/100\n",
      "113/113 [==============================] - 1s 8ms/step - loss: 0.0195 - precision: 0.9887 - recall: 0.8880 - val_loss: 0.1592 - val_precision: 0.5000 - val_recall: 0.3319\n",
      "Epoch 77/100\n",
      "113/113 [==============================] - 1s 8ms/step - loss: 0.0186 - precision: 0.9898 - recall: 0.9009 - val_loss: 0.1651 - val_precision: 0.5165 - val_recall: 0.3019\n",
      "Epoch 78/100\n",
      "113/113 [==============================] - 1s 8ms/step - loss: 0.0180 - precision: 0.9939 - recall: 0.9065 - val_loss: 0.1610 - val_precision: 0.4966 - val_recall: 0.3148\n",
      "Epoch 79/100\n",
      "113/113 [==============================] - 1s 7ms/step - loss: 0.0175 - precision: 0.9878 - recall: 0.9019 - val_loss: 0.1630 - val_precision: 0.5016 - val_recall: 0.3405\n",
      "Epoch 80/100\n",
      "113/113 [==============================] - 1s 9ms/step - loss: 0.0161 - precision: 0.9940 - recall: 0.9139 - val_loss: 0.1667 - val_precision: 0.5097 - val_recall: 0.3383\n",
      "Epoch 81/100\n",
      "113/113 [==============================] - 1s 8ms/step - loss: 0.0156 - precision: 0.9950 - recall: 0.9204 - val_loss: 0.1686 - val_precision: 0.4967 - val_recall: 0.3255\n",
      "Epoch 82/100\n",
      "113/113 [==============================] - 1s 8ms/step - loss: 0.0151 - precision: 0.9950 - recall: 0.9296 - val_loss: 0.1711 - val_precision: 0.4938 - val_recall: 0.3426\n",
      "Epoch 83/100\n",
      "113/113 [==============================] - 1s 8ms/step - loss: 0.0146 - precision: 0.9921 - recall: 0.9250 - val_loss: 0.1758 - val_precision: 0.5092 - val_recall: 0.2976\n",
      "Epoch 84/100\n",
      "113/113 [==============================] - 1s 8ms/step - loss: 0.0139 - precision: 0.9921 - recall: 0.9306 - val_loss: 0.1758 - val_precision: 0.5101 - val_recall: 0.3233\n",
      "Epoch 85/100\n",
      "113/113 [==============================] - 1s 8ms/step - loss: 0.0130 - precision: 0.9921 - recall: 0.9361 - val_loss: 0.1791 - val_precision: 0.5158 - val_recall: 0.3148\n",
      "Epoch 86/100\n",
      "113/113 [==============================] - 1s 8ms/step - loss: 0.0125 - precision: 0.9941 - recall: 0.9380 - val_loss: 0.1801 - val_precision: 0.5134 - val_recall: 0.3276\n",
      "Epoch 87/100\n",
      "113/113 [==============================] - 1s 9ms/step - loss: 0.0121 - precision: 0.9951 - recall: 0.9472 - val_loss: 0.1816 - val_precision: 0.5050 - val_recall: 0.3276\n",
      "Epoch 88/100\n",
      "113/113 [==============================] - 1s 8ms/step - loss: 0.0114 - precision: 0.9951 - recall: 0.9472 - val_loss: 0.1823 - val_precision: 0.4890 - val_recall: 0.3340\n",
      "Epoch 89/100\n",
      "113/113 [==============================] - 1s 8ms/step - loss: 0.0108 - precision: 0.9971 - recall: 0.9528 - val_loss: 0.1880 - val_precision: 0.4983 - val_recall: 0.3105\n",
      "Epoch 90/100\n",
      "113/113 [==============================] - 1s 8ms/step - loss: 0.0101 - precision: 0.9971 - recall: 0.9528 - val_loss: 0.1884 - val_precision: 0.4833 - val_recall: 0.3405\n",
      "Epoch 91/100\n",
      "113/113 [==============================] - 1s 8ms/step - loss: 0.0098 - precision: 0.9971 - recall: 0.9537 - val_loss: 0.1921 - val_precision: 0.4968 - val_recall: 0.3319\n",
      "Epoch 92/100\n",
      "113/113 [==============================] - 1s 8ms/step - loss: 0.0093 - precision: 0.9961 - recall: 0.9565 - val_loss: 0.1923 - val_precision: 0.4753 - val_recall: 0.3298\n",
      "Epoch 93/100\n",
      "113/113 [==============================] - 1s 8ms/step - loss: 0.0088 - precision: 0.9971 - recall: 0.9657 - val_loss: 0.1955 - val_precision: 0.4938 - val_recall: 0.3426\n",
      "Epoch 94/100\n",
      "113/113 [==============================] - 1s 7ms/step - loss: 0.0084 - precision: 0.9990 - recall: 0.9639 - val_loss: 0.1973 - val_precision: 0.4735 - val_recall: 0.3448\n",
      "Epoch 95/100\n",
      "113/113 [==============================] - 1s 8ms/step - loss: 0.0078 - precision: 0.9990 - recall: 0.9667 - val_loss: 0.2009 - val_precision: 0.4984 - val_recall: 0.3340\n",
      "Epoch 96/100\n",
      "113/113 [==============================] - 1s 8ms/step - loss: 0.0075 - precision: 0.9990 - recall: 0.9731 - val_loss: 0.2008 - val_precision: 0.4709 - val_recall: 0.3298\n",
      "Epoch 97/100\n",
      "113/113 [==============================] - 1s 9ms/step - loss: 0.0072 - precision: 0.9991 - recall: 0.9787 - val_loss: 0.2051 - val_precision: 0.4861 - val_recall: 0.3362\n",
      "Epoch 98/100\n",
      "113/113 [==============================] - 1s 10ms/step - loss: 0.0066 - precision: 0.9981 - recall: 0.9796 - val_loss: 0.2070 - val_precision: 0.4751 - val_recall: 0.3469\n",
      "Epoch 99/100\n",
      "113/113 [==============================] - 1s 9ms/step - loss: 0.0062 - precision: 1.0000 - recall: 0.9843 - val_loss: 0.2089 - val_precision: 0.4507 - val_recall: 0.3426\n",
      "Epoch 100/100\n",
      "113/113 [==============================] - 1s 9ms/step - loss: 0.0064 - precision: 0.9962 - recall: 0.9806 - val_loss: 0.2121 - val_precision: 0.4769 - val_recall: 0.3319\n"
     ]
    }
   ],
   "source": [
    "history1=model.fit(X_train, y_train,epochs=100,batch_size=256,validation_data=(X_test,y_test))"
   ]
  },
  {
   "cell_type": "code",
   "execution_count": 108,
   "metadata": {
    "id": "lUAD5FIS3Z1I"
   },
   "outputs": [],
   "source": [
    "# predict probabilities for test set\n",
    "yhat_probs = model.predict(X_test, verbose=0)\n",
    "# reduce to 1d array\n",
    "yhat_probs =  yhat_probs[:, 0]> 0.5\n",
    "yhat_probs=yhat_probs.astype(int)"
   ]
  },
  {
   "cell_type": "code",
   "execution_count": 109,
   "metadata": {
    "colab": {
     "base_uri": "https://localhost:8080/"
    },
    "id": "eiN2cjwX4Dzp",
    "outputId": "86ee0069-2931-41b4-bbb3-90a6a3940a21"
   },
   "outputs": [
    {
     "name": "stdout",
     "output_type": "stream",
     "text": [
      "Accuracy: 0.961566\n",
      "Precision: 0.476923\n",
      "Recall: 0.331906\n",
      "f1: 0.391414\n",
      "auc_score: 0.658913\n"
     ]
    }
   ],
   "source": [
    "# demonstration of calculating metrics for a neural network model using sklearn\n",
    "from sklearn.metrics import accuracy_score\n",
    "from sklearn.metrics import precision_score\n",
    "from sklearn.metrics import recall_score\n",
    "from sklearn.metrics import f1_score\n",
    "from sklearn.metrics import confusion_matrix\n",
    "\n",
    "# accuracy: (tp + tn) / (p + n)\n",
    "accuracy = accuracy_score(y_test, yhat_probs)\n",
    "print('Accuracy: %f' % accuracy)\n",
    "# precision tp / (tp + fp)\n",
    "precision = precision_score(y_test, yhat_probs)\n",
    "print('Precision: %f' % precision)\n",
    "# recall: tp / (tp + fn)\n",
    "recall = recall_score(y_test, yhat_probs)\n",
    "print('Recall: %f' % recall)\n",
    "f1 = f1_score(y_test, yhat_probs)\n",
    "print('f1: %f' % f1)\n",
    "auc_score=roc_auc_score(y_test, yhat_probs)\n",
    "print('auc_score: %f' % auc_score)"
   ]
  },
  {
   "cell_type": "code",
   "execution_count": 110,
   "metadata": {},
   "outputs": [
    {
     "data": {
      "image/png": "[encoded data removed]",
      "text/plain": [
       "<Figure size 600x600 with 1 Axes>"
      ]
     },
     "metadata": {},
     "output_type": "display_data"
    }
   ],
   "source": [
    "import matplotlib.pyplot as plt\n",
    "from sklearn.metrics import auc\n",
    "from sklearn import metrics\n",
    "from sklearn.metrics import RocCurveDisplay\n",
    "fpr, tpr, thresholds = roc_curve(y_test, yhat_probs, pos_label=1)\n",
    "auc_score=roc_auc_score(y_test, yhat_probs)\n",
    "plt.figure(figsize=(6,6)) \n",
    "\n",
    "plt.plot(fpr, tpr, marker='.')\n",
    "plt.plot([0, 1], [0, 1], \"k--\", label=\"chance level (AUC = 0.5)\")\n",
    "\n",
    "mean_tpr = tpr\n",
    "mean_auc = auc(fpr, mean_tpr)\n",
    "std_auc = np.std(auc_score)\n",
    "plt.plot(\n",
    "    fpr,\n",
    "    mean_tpr,\n",
    "    color=\"b\",\n",
    "    label=r\"Mean ROC (AUC = %0.2f $\\pm$ %0.2f)\" % (mean_auc, std_auc),\n",
    "    lw=2,\n",
    "    alpha=0.8,\n",
    ")\n",
    "plt.xlim([-0.05, 1.05])\n",
    "plt.ylim([-0.05, 1.05])\n",
    "plt.xlabel(\"False Positive Rate\")\n",
    "plt.ylabel(\"True Positive Rate\")\n",
    "plt.title(f\"Mean ROC curve\\n(Sequential-European dataset)\")\n",
    "plt.axis(\"square\")\n",
    "plt.legend(loc=\"lower right\")\n",
    "\n",
    "plt.show()\n"
   ]
  },
  {
   "cell_type": "code",
   "execution_count": 111,
   "metadata": {
    "id": "02D_-hIJ4JiB"
   },
   "outputs": [],
   "source": [
    "%matplotlib inline\n",
    "from sklearn.metrics import confusion_matrix\n",
    "import itertools"
   ]
  },
  {
   "cell_type": "code",
   "execution_count": 112,
   "metadata": {
    "id": "D5jRpnhBCKKM"
   },
   "outputs": [],
   "source": [
    "cm = confusion_matrix(y_true=y_test, y_pred=yhat_probs)"
   ]
  },
  {
   "cell_type": "code",
   "execution_count": 113,
   "metadata": {
    "id": "G6wvKPIQCKYs"
   },
   "outputs": [],
   "source": [
    "def plot_confusion_matrix(cm, classes,\n",
    "                        normalize=False,\n",
    "                        title='Confusion matrix',\n",
    "                        cmap=plt.cm.Blues):\n",
    "    \"\"\"\n",
    "    This function prints and plots the confusion matrix.\n",
    "    Normalization can be applied by setting `normalize=True`.\n",
    "    \"\"\"\n",
    "    plt.imshow(cm, interpolation='nearest', cmap=cmap)\n",
    "    plt.title(title)\n",
    "    plt.colorbar()\n",
    "    tick_marks = np.arange(len(classes))\n",
    "    plt.xticks(tick_marks, classes, rotation=45)\n",
    "    plt.yticks(tick_marks, classes)\n",
    "\n",
    "    if normalize:\n",
    "        cm = cm.astype('float') / cm.sum(axis=1)[:, np.newaxis]\n",
    "        print(\"Normalized confusion matrix\")\n",
    "    else:\n",
    "        print('Confusion matrix, without normalization')\n",
    "\n",
    "    print(cm)\n",
    "\n",
    "    thresh = cm.max() / 2.\n",
    "    for i, j in itertools.product(range(cm.shape[0]), range(cm.shape[1])):\n",
    "        plt.text(j, i, cm[i, j],\n",
    "            horizontalalignment=\"center\",\n",
    "            color=\"white\" if cm[i, j] > thresh else \"black\")\n",
    "\n",
    "    plt.tight_layout()\n",
    "    plt.ylabel('True label')\n",
    "    plt.xlabel('Predicted label')\n",
    "labels = ['Normal','Fraud']"
   ]
  },
  {
   "cell_type": "code",
   "execution_count": 114,
   "metadata": {
    "colab": {
     "base_uri": "https://localhost:8080/",
     "height": 362
    },
    "id": "K3CQINI1VyI8",
    "outputId": "4d02c5dc-54cc-4414-d8da-fe62508573c9"
   },
   "outputs": [
    {
     "name": "stdout",
     "output_type": "stream",
     "text": [
      "Confusion matrix, without normalization\n",
      "[[11904   170]\n",
      " [  312   155]]\n"
     ]
    },
    {
     "data": {
      "image/png": "[encoded data removed]",
      "text/plain": [
       "<Figure size 640x480 with 2 Axes>"
      ]
     },
     "metadata": {},
     "output_type": "display_data"
    }
   ],
   "source": [
    "plot_confusion_matrix(cm=cm, classes=labels, title='LSTM')"
   ]
  }
 ],
 "metadata": {
  "colab": {
   "collapsed_sections": [],
   "name": "LSTM_Models.ipynb",
   "provenance": []
  },
  "kernelspec": {
   "display_name": "Python 3 (ipykernel)",
   "language": "python",
   "name": "python3"
  },
  "language_info": {
   "codemirror_mode": {
    "name": "ipython",
    "version": 3
   },
   "file_extension": ".py",
   "mimetype": "text/x-python",
   "name": "python",
   "nbconvert_exporter": "python",
   "pygments_lexer": "ipython3",
   "version": "3.10.13"
  },
  "vscode": {
   "interpreter": {
    "hash": "408d89a3b80ac34e5cdc914373b09bb69ba3e3a6a7f756d6d7498fd367058138"
   }
  }
 },
 "nbformat": 4,
 "nbformat_minor": 1
}
