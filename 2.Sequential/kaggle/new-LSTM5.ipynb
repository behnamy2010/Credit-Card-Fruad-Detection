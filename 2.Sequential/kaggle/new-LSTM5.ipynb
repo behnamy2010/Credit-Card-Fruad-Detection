{
 "cells": [
  {
   "cell_type": "code",
   "execution_count": 1,
   "metadata": {
    "id": "gRu9kpkYyztz"
   },
   "outputs": [],
   "source": [
    "import pandas as pd\n",
    "from sklearn.model_selection import train_test_split\n",
    "import numpy as np\n",
    "from sklearn.metrics import accuracy_score\n",
    "from keras.layers import LSTM, Dense,Input,Layer\n",
    "from keras import backend as K,Model\n",
    "from numpy.random import seed\n",
    "from imblearn.under_sampling import RandomUnderSampler \n",
    "seed(0)\n",
    "import tensorflow as tf\n",
    "tf.random.set_seed(0)"
   ]
  },
  {
   "cell_type": "code",
   "execution_count": 2,
   "metadata": {
    "id": "Mlth1eViyz_p"
   },
   "outputs": [],
   "source": [
    "data = pd.read_csv('creditcard.csv', na_filter=True)\n",
    "\n",
    "data.drop(['Time'], axis=1, inplace=True)\n",
    "selected_vars =['V4','V14','V10','V16','V9','V12','V11','V17','V7','V21','V18','V8','V1','V3','V6','V2','V27','V5','V26','Class']\n"
   ]
  },
  {
   "cell_type": "code",
   "execution_count": 3,
   "metadata": {
    "colab": {
     "base_uri": "https://localhost:8080/"
    },
    "id": "0D1roi0fy9hN",
    "outputId": "1c7dad73-e697-47a5-9102-3fa04511a11d"
   },
   "outputs": [
    {
     "data": {
      "text/plain": [
       "(284807, 20)"
      ]
     },
     "execution_count": 3,
     "metadata": {},
     "output_type": "execute_result"
    }
   ],
   "source": [
    "tr_data = data[selected_vars]\n",
    "tr_data.shape"
   ]
  },
  {
   "cell_type": "code",
   "execution_count": 4,
   "metadata": {
    "id": "SFjcDF3s2QId"
   },
   "outputs": [],
   "source": [
    "X = tr_data.drop(['Class'], axis = 'columns')\n",
    "Label_Data = tr_data['Class']"
   ]
  },
  {
   "cell_type": "code",
   "execution_count": 5,
   "metadata": {
    "id": "o4GOSe4tzcTv"
   },
   "outputs": [],
   "source": [
    "y=tr_data['Class']"
   ]
  },
  {
   "cell_type": "code",
   "execution_count": 6,
   "metadata": {
    "id": "rz6JhCFr0Iin"
   },
   "outputs": [],
   "source": [
    "from sklearn.preprocessing import StandardScaler\n",
    "## Standardizing the data\n",
    "X=pd.DataFrame(StandardScaler().fit_transform(X))"
   ]
  },
  {
   "cell_type": "code",
   "execution_count": 7,
   "metadata": {
    "id": "t7l5EpLY0IqL"
   },
   "outputs": [],
   "source": [
    "X_train0,X_test,y_train0,y_test = train_test_split(X, y, test_size=0.3, shuffle=False,random_state=0)\n",
    "X_train0,X_train4,y_train0,y_train4 = train_test_split(X_train0, y_train0, test_size=0.20, shuffle=False,random_state=0)\n",
    "X_train0,X_train3,y_train0,y_train3 = train_test_split(X_train0, y_train0, test_size=0.25, shuffle=False,random_state=0)\n",
    "X_train0,X_train2,y_train0,y_train2 = train_test_split(X_train0, y_train0, test_size=0.333, shuffle=False,random_state=0)\n",
    "X_train0,X_train1,y_train0,y_train1 = train_test_split(X_train0, y_train0, test_size=0.50, shuffle=False,random_state=0)\n",
    "\n",
    "from sklearn.linear_model import SGDOneClassSVM\n",
    "df1_normal=X_train0[y_train0==0]\n",
    "clf = SGDOneClassSVM(nu=0.03,random_state=0)\n",
    "res = clf.fit_predict(df1_normal)\n",
    "res[res==1] = 0\n",
    "res[res==-1] = 1\n",
    "ros = RandomUnderSampler(sampling_strategy=0.95)\n",
    "ros.fit_resample(df1_normal,res)\n",
    "index=ros.sample_indices_\n",
    "X_train0.drop(X_train0.index[index], inplace=True)\n",
    "y_train0.drop(y_train0.index[index], inplace=True)\n",
    "\n",
    "df1_normal=X_train1[y_train1==1]\n",
    "clf = SGDOneClassSVM(nu=0.06,random_state=0)\n",
    "res = clf.fit_predict(df1_normal)\n",
    "res[res==1] = 0\n",
    "res[res==-1] = 1\n",
    "ros = RandomUnderSampler(sampling_strategy=0.95)\n",
    "ros.fit_resample(df1_normal,res)\n",
    "index=ros.sample_indices_\n",
    "X_train1.drop(X_train1.index[index], inplace=True)\n",
    "y_train1.drop(y_train1.index[index], inplace=True)\n",
    "\n",
    "df1_normal=X_train2[y_train2==1]\n",
    "clf = SGDOneClassSVM(nu=0.09,random_state=0)\n",
    "res = clf.fit_predict(df1_normal)\n",
    "res[res==1] = 0\n",
    "res[res==-1] = 1\n",
    "ros = RandomUnderSampler(sampling_strategy=0.95)\n",
    "ros.fit_resample(df1_normal,res)\n",
    "index=ros.sample_indices_\n",
    "X_train2.drop(X_train2.index[index], inplace=True)\n",
    "y_train2.drop(y_train2.index[index], inplace=True)\n",
    "\n",
    "\n",
    "df1_normal=X_train3[y_train3==1]\n",
    "clf = SGDOneClassSVM(nu=0.1,random_state=0)\n",
    "res = clf.fit_predict(df1_normal)\n",
    "res[res==1] = 0\n",
    "res[res==-1] = 1\n",
    "ros = RandomUnderSampler(sampling_strategy=0.95)\n",
    "ros.fit_resample(df1_normal,res)\n",
    "index=ros.sample_indices_\n",
    "X_train3.drop(X_train3.index[index], inplace=True)\n",
    "y_train3.drop(y_train3.index[index], inplace=True)\n",
    "\n",
    "df1_normal=X_train4[y_train4==1]\n",
    "clf = SGDOneClassSVM(nu=0.11,random_state=0)\n",
    "res = clf.fit_predict(df1_normal)\n",
    "res[res==1] = 0\n",
    "res[res==-1] = 1\n",
    "ros = RandomUnderSampler(sampling_strategy=0.95)\n",
    "ros.fit_resample(df1_normal,res)\n",
    "index=ros.sample_indices_\n",
    "X_train4.drop(X_train4.index[index], inplace=True)\n",
    "y_train4.drop(y_train4.index[index], inplace=True)"
   ]
  },
  {
   "cell_type": "code",
   "execution_count": 8,
   "metadata": {
    "colab": {
     "base_uri": "https://localhost:8080/"
    },
    "id": "a4uohF3BPMIU",
    "outputId": "b1d24e82-da51-42ca-f9ed-0d021c2538ea"
   },
   "outputs": [
    {
     "data": {
      "text/plain": [
       "((37183, 19), (39889, 19), (39829, 19), (39867, 19), (39871, 19))"
      ]
     },
     "execution_count": 8,
     "metadata": {},
     "output_type": "execute_result"
    }
   ],
   "source": [
    "X_train0.shape,X_train1.shape,X_train2.shape,X_train3.shape,X_train4.shape"
   ]
  },
  {
   "cell_type": "code",
   "execution_count": 9,
   "metadata": {},
   "outputs": [
    {
     "data": {
      "text/plain": [
       "((37183,), (39889,))"
      ]
     },
     "execution_count": 9,
     "metadata": {},
     "output_type": "execute_result"
    }
   ],
   "source": [
    "y_train0.shape,y_train1.shape"
   ]
  },
  {
   "cell_type": "code",
   "execution_count": 10,
   "metadata": {
    "colab": {
     "base_uri": "https://localhost:8080/"
    },
    "id": "4OaLUwRhPPhW",
    "outputId": "170cccab-ded4-4110-e701-3d103902a590"
   },
   "outputs": [
    {
     "data": {
      "text/plain": [
       "(85443, 19)"
      ]
     },
     "execution_count": 10,
     "metadata": {},
     "output_type": "execute_result"
    }
   ],
   "source": [
    "X_test.shape"
   ]
  },
  {
   "cell_type": "markdown",
   "metadata": {},
   "source": [
    "# N=1"
   ]
  },
  {
   "cell_type": "code",
   "execution_count": 11,
   "metadata": {
    "id": "eN6iBsXh0UJj"
   },
   "outputs": [],
   "source": [
    "# X_train et X_test sont des dataframe qui contient les features\n",
    "train_LSTM_X0=X_train0.to_numpy()\n",
    "test_LSTM_X=X_test.to_numpy()\n",
    "train_LSTM_y0=y_train0.to_numpy()\n",
    "test_LSTM_y=y_test.to_numpy()\n",
    "w=3\n",
    "X_train0=np.zeros([train_LSTM_X0.shape[0]-w+1,w, train_LSTM_X0.shape[1]])\n",
    "for i in range(train_LSTM_X0.shape[0]-w+1):\n",
    "    for j in range(w):\n",
    "        X_train0[i][j]=train_LSTM_X0[i+j]\n",
    "X_test=np.zeros([test_LSTM_X.shape[0]-w+1,w, test_LSTM_X.shape[1]])\n",
    "for i in range(test_LSTM_X.shape[0]-w+1):\n",
    "    for j in range(w):\n",
    "        X_test[i][j]=test_LSTM_X[i+j]\n",
    "## Recuperation des labels\n",
    "\n",
    "y_train0=np.delete(train_LSTM_y0,[*range(0, w-1, 1)], 0)\n",
    "y_test=np.delete(test_LSTM_y,[*range(0, w-1, 1)], 0)\n",
    "\n",
    "train_LSTM_X0=X_train0\n",
    "test_LSTM_X=X_test\n",
    "train_LSTM_y0=y_train0\n",
    "test_LSTM_y=y_test"
   ]
  },
  {
   "cell_type": "code",
   "execution_count": 12,
   "metadata": {
    "id": "XOlGVbif0U-i"
   },
   "outputs": [],
   "source": [
    "inputs=Input((w,19))\n",
    "x1=LSTM(50)(inputs)\n",
    "outputs=Dense(1,activation='sigmoid')(x1)\n",
    "model0=Model(inputs,outputs)"
   ]
  },
  {
   "cell_type": "code",
   "execution_count": 13,
   "metadata": {
    "id": "rw1IxnEn0i7d"
   },
   "outputs": [],
   "source": [
    "model0.compile(loss='binary_crossentropy', optimizer='adam', metrics=['Precision','Recall'])"
   ]
  },
  {
   "cell_type": "code",
   "execution_count": 14,
   "metadata": {
    "id": "_jVAHW330VTL"
   },
   "outputs": [
    {
     "name": "stdout",
     "output_type": "stream",
     "text": [
      "Epoch 1/4\n",
      "372/372 [==============================] - 7s 12ms/step - loss: 0.0897 - precision: 0.0339 - recall: 0.2451 - val_loss: 0.0906 - val_precision: 0.0687 - val_recall: 0.4630\n",
      "Epoch 2/4\n",
      "372/372 [==============================] - 4s 10ms/step - loss: 0.0056 - precision: 0.7320 - recall: 0.6961 - val_loss: 0.0319 - val_precision: 0.7582 - val_recall: 0.6389\n",
      "Epoch 3/4\n",
      "372/372 [==============================] - 4s 10ms/step - loss: 0.0045 - precision: 0.7573 - recall: 0.7647 - val_loss: 0.0180 - val_precision: 0.9432 - val_recall: 0.7685\n",
      "Epoch 4/4\n",
      "372/372 [==============================] - 4s 10ms/step - loss: 0.0039 - precision: 0.7477 - recall: 0.8137 - val_loss: 0.0116 - val_precision: 0.9432 - val_recall: 0.7685\n"
     ]
    }
   ],
   "source": [
    "history0=model0.fit(train_LSTM_X0, train_LSTM_y0,epochs=4,batch_size=100,validation_data=(test_LSTM_X, test_LSTM_y))"
   ]
  },
  {
   "cell_type": "code",
   "execution_count": 15,
   "metadata": {
    "id": "lUAD5FIS3Z1I"
   },
   "outputs": [],
   "source": [
    "# predict probabilities for test set\n",
    "yhat_probs0 = model0.predict(test_LSTM_X, verbose=0)\n",
    "# reduce to 1d array\n",
    "yhat_probs0 = yhat_probs0[:, 0]> 0.5"
   ]
  },
  {
   "cell_type": "code",
   "execution_count": 16,
   "metadata": {
    "colab": {
     "base_uri": "https://localhost:8080/"
    },
    "id": "eiN2cjwX4Dzp",
    "outputId": "86ee0069-2931-41b4-bbb3-90a6a3940a21"
   },
   "outputs": [
    {
     "name": "stdout",
     "output_type": "stream",
     "text": [
      "Accuracy: 0.999649\n",
      "Precision: 0.943182\n",
      "Recall: 0.768519\n",
      "f1: 0.846939\n"
     ]
    }
   ],
   "source": [
    "# demonstration of calculating metrics for a neural network model using sklearn\n",
    "from sklearn.metrics import accuracy_score\n",
    "from sklearn.metrics import precision_score\n",
    "from sklearn.metrics import recall_score\n",
    "from sklearn.metrics import f1_score\n",
    "# accuracy: (tp + tn) / (p + n)\n",
    "accuracy = accuracy_score(test_LSTM_y, yhat_probs0)\n",
    "print('Accuracy: %f' % accuracy)\n",
    "# precision tp / (tp + fp)\n",
    "precision = precision_score(test_LSTM_y, yhat_probs0)\n",
    "print('Precision: %f' % precision)\n",
    "# recall: tp / (tp + fn)\n",
    "recall = recall_score(test_LSTM_y, yhat_probs0)\n",
    "print('Recall: %f' % recall)\n",
    "f1 = f1_score(test_LSTM_y, yhat_probs0)\n",
    "print('f1: %f' % f1)"
   ]
  },
  {
   "cell_type": "markdown",
   "metadata": {},
   "source": [
    "# N=2"
   ]
  },
  {
   "cell_type": "code",
   "execution_count": 17,
   "metadata": {
    "id": "eN6iBsXh0UJj"
   },
   "outputs": [],
   "source": [
    "# X_train et X_test sont des dataframe qui contient les features\n",
    "train_LSTM_X1=X_train1.to_numpy()\n",
    "train_LSTM_y1=y_train1.to_numpy()\n",
    "w=3\n",
    "X_train1=np.zeros([train_LSTM_X1.shape[0]-w+1,w, train_LSTM_X1.shape[1]])\n",
    "for i in range(train_LSTM_X1.shape[0]-w+1):\n",
    "    for j in range(w):\n",
    "        X_train1[i][j]=train_LSTM_X1[i+j]\n",
    "\n",
    "y_train1=np.delete(train_LSTM_y1,[*range(0, w-1, 1)], 0)\n",
    "train_LSTM_X1=X_train1\n",
    "train_LSTM_y1=y_train1"
   ]
  },
  {
   "cell_type": "code",
   "execution_count": 18,
   "metadata": {
    "id": "XOlGVbif0U-i"
   },
   "outputs": [],
   "source": [
    "inputs=Input((w,19))\n",
    "x1=LSTM(50)(inputs)\n",
    "outputs=Dense(1,activation='sigmoid')(x1)\n",
    "model1=Model(inputs,outputs)"
   ]
  },
  {
   "cell_type": "code",
   "execution_count": 19,
   "metadata": {
    "id": "rw1IxnEn0i7d"
   },
   "outputs": [],
   "source": [
    "model1.compile(loss='binary_crossentropy', optimizer='adam', metrics=['Precision','Recall'])"
   ]
  },
  {
   "cell_type": "code",
   "execution_count": 20,
   "metadata": {},
   "outputs": [
    {
     "data": {
      "text/plain": [
       "((39887, 3, 19), (37181, 3, 19))"
      ]
     },
     "execution_count": 20,
     "metadata": {},
     "output_type": "execute_result"
    }
   ],
   "source": [
    "train_LSTM_X1.shape,train_LSTM_X0.shape"
   ]
  },
  {
   "cell_type": "code",
   "execution_count": 21,
   "metadata": {
    "id": "_jVAHW330VTL"
   },
   "outputs": [
    {
     "name": "stdout",
     "output_type": "stream",
     "text": [
      "Epoch 1/6\n",
      "399/399 [==============================] - 7s 12ms/step - loss: 0.0744 - precision: 0.0608 - recall: 0.2697 - val_loss: 0.0998 - val_precision: 0.0412 - val_recall: 0.5556\n",
      "Epoch 2/6\n",
      "399/399 [==============================] - 4s 9ms/step - loss: 0.0046 - precision: 0.9538 - recall: 0.6966 - val_loss: 0.0407 - val_precision: 0.5532 - val_recall: 0.7222\n",
      "Epoch 3/6\n",
      "399/399 [==============================] - 4s 10ms/step - loss: 0.0037 - precision: 0.9605 - recall: 0.8202 - val_loss: 0.0205 - val_precision: 0.8817 - val_recall: 0.7593\n",
      "Epoch 4/6\n",
      "399/399 [==============================] - 4s 11ms/step - loss: 0.0033 - precision: 0.9367 - recall: 0.8315 - val_loss: 0.0126 - val_precision: 0.9213 - val_recall: 0.7593\n",
      "Epoch 5/6\n",
      "399/399 [==============================] - 4s 10ms/step - loss: 0.0030 - precision: 0.9610 - recall: 0.8315 - val_loss: 0.0074 - val_precision: 0.9425 - val_recall: 0.7593\n",
      "Epoch 6/6\n",
      "399/399 [==============================] - 4s 11ms/step - loss: 0.0027 - precision: 0.9487 - recall: 0.8315 - val_loss: 0.0063 - val_precision: 0.9529 - val_recall: 0.7500\n"
     ]
    }
   ],
   "source": [
    "history1=model1.fit(train_LSTM_X1, train_LSTM_y1,epochs=6,batch_size=100,validation_data=(test_LSTM_X, test_LSTM_y))"
   ]
  },
  {
   "cell_type": "code",
   "execution_count": 22,
   "metadata": {
    "id": "lUAD5FIS3Z1I"
   },
   "outputs": [],
   "source": [
    "# predict probabilities for test set\n",
    "yhat_probs1 = model1.predict(test_LSTM_X, verbose=0)\n",
    "# reduce to 1d array\n",
    "yhat_probs1 = yhat_probs1[:, 0]> 0.5"
   ]
  },
  {
   "cell_type": "code",
   "execution_count": 23,
   "metadata": {
    "colab": {
     "base_uri": "https://localhost:8080/"
    },
    "id": "eiN2cjwX4Dzp",
    "outputId": "86ee0069-2931-41b4-bbb3-90a6a3940a21"
   },
   "outputs": [
    {
     "name": "stdout",
     "output_type": "stream",
     "text": [
      "Accuracy: 0.999637\n",
      "Precision: 0.952941\n",
      "Recall: 0.750000\n",
      "f1: 0.839378\n"
     ]
    }
   ],
   "source": [
    "# accuracy: (tp + tn) / (p + n)\n",
    "accuracy = accuracy_score(test_LSTM_y, yhat_probs1)\n",
    "print('Accuracy: %f' % accuracy)\n",
    "# precision tp / (tp + fp)\n",
    "precision = precision_score(test_LSTM_y, yhat_probs1)\n",
    "print('Precision: %f' % precision)\n",
    "# recall: tp / (tp + fn)\n",
    "recall = recall_score(test_LSTM_y, yhat_probs1)\n",
    "print('Recall: %f' % recall)\n",
    "f1 = f1_score(test_LSTM_y, yhat_probs1)\n",
    "print('f1: %f' % f1)"
   ]
  },
  {
   "cell_type": "markdown",
   "metadata": {},
   "source": [
    "# N=3"
   ]
  },
  {
   "cell_type": "code",
   "execution_count": 24,
   "metadata": {
    "id": "eN6iBsXh0UJj"
   },
   "outputs": [],
   "source": [
    "# X_train et X_test sont des dataframe qui contient les features\n",
    "train_LSTM_X2=X_train2.to_numpy()\n",
    "train_LSTM_y2=y_train2.to_numpy()\n",
    "w=3\n",
    "X_train2=np.zeros([train_LSTM_X2.shape[0]-w+1,w, train_LSTM_X2.shape[1]])\n",
    "for i in range(train_LSTM_X2.shape[0]-w+1):\n",
    "    for j in range(w):\n",
    "        X_train2[i][j]=train_LSTM_X2[i+j]\n",
    "\n",
    "y_train2=np.delete(train_LSTM_y2,[*range(0, w-1, 1)], 0)\n",
    "train_LSTM_X2=X_train2\n",
    "train_LSTM_y2=y_train2"
   ]
  },
  {
   "cell_type": "code",
   "execution_count": 25,
   "metadata": {
    "id": "XOlGVbif0U-i"
   },
   "outputs": [],
   "source": [
    "inputs=Input((w,19))\n",
    "x1=LSTM(50)(inputs)\n",
    "outputs=Dense(1,activation='sigmoid')(x1)\n",
    "model2=Model(inputs,outputs)"
   ]
  },
  {
   "cell_type": "code",
   "execution_count": 26,
   "metadata": {
    "id": "rw1IxnEn0i7d"
   },
   "outputs": [],
   "source": [
    "model2.compile(loss='binary_crossentropy', optimizer='adam', metrics=['Precision','Recall'])"
   ]
  },
  {
   "cell_type": "code",
   "execution_count": 27,
   "metadata": {
    "id": "_jVAHW330VTL"
   },
   "outputs": [
    {
     "name": "stdout",
     "output_type": "stream",
     "text": [
      "Epoch 1/5\n",
      "399/399 [==============================] - 8s 11ms/step - loss: 0.0716 - precision: 0.0052 - recall: 0.0196 - val_loss: 0.1033 - val_precision: 0.0076 - val_recall: 0.1111\n",
      "Epoch 2/5\n",
      "399/399 [==============================] - 4s 9ms/step - loss: 0.0045 - precision: 0.9412 - recall: 0.3137 - val_loss: 0.0517 - val_precision: 0.1514 - val_recall: 0.5185\n",
      "Epoch 3/5\n",
      "399/399 [==============================] - 4s 9ms/step - loss: 0.0035 - precision: 0.9697 - recall: 0.6275 - val_loss: 0.0315 - val_precision: 0.4825 - val_recall: 0.6389\n",
      "Epoch 4/5\n",
      "399/399 [==============================] - 4s 11ms/step - loss: 0.0032 - precision: 0.9474 - recall: 0.7059 - val_loss: 0.0247 - val_precision: 0.6404 - val_recall: 0.6759\n",
      "Epoch 5/5\n",
      "399/399 [==============================] - 4s 11ms/step - loss: 0.0030 - precision: 0.9231 - recall: 0.7059 - val_loss: 0.0167 - val_precision: 0.7723 - val_recall: 0.7222\n"
     ]
    }
   ],
   "source": [
    "history2=model2.fit(train_LSTM_X2, train_LSTM_y2,epochs=5,batch_size=100,validation_data=(test_LSTM_X, test_LSTM_y))"
   ]
  },
  {
   "cell_type": "code",
   "execution_count": 28,
   "metadata": {
    "id": "lUAD5FIS3Z1I"
   },
   "outputs": [],
   "source": [
    "# predict probabilities for test set\n",
    "yhat_probs2 = model2.predict(test_LSTM_X, verbose=0)\n",
    "# reduce to 1d array\n",
    "yhat_probs2 = yhat_probs2[:, 0]> 0.5"
   ]
  },
  {
   "cell_type": "code",
   "execution_count": 29,
   "metadata": {
    "colab": {
     "base_uri": "https://localhost:8080/"
    },
    "id": "eiN2cjwX4Dzp",
    "outputId": "86ee0069-2931-41b4-bbb3-90a6a3940a21"
   },
   "outputs": [
    {
     "name": "stdout",
     "output_type": "stream",
     "text": [
      "Accuracy: 0.999380\n",
      "Precision: 0.772277\n",
      "Recall: 0.722222\n",
      "f1: 0.746411\n"
     ]
    }
   ],
   "source": [
    "# accuracy: (tp + tn) / (p + n)\n",
    "accuracy = accuracy_score(test_LSTM_y, yhat_probs2)\n",
    "print('Accuracy: %f' % accuracy)\n",
    "# precision tp / (tp + fp)\n",
    "precision = precision_score(test_LSTM_y, yhat_probs2)\n",
    "print('Precision: %f' % precision)\n",
    "# recall: tp / (tp + fn)\n",
    "recall = recall_score(test_LSTM_y, yhat_probs2)\n",
    "print('Recall: %f' % recall)\n",
    "f1 = f1_score(test_LSTM_y, yhat_probs2)\n",
    "print('f1: %f' % f1)"
   ]
  },
  {
   "cell_type": "markdown",
   "metadata": {},
   "source": [
    "# N=4"
   ]
  },
  {
   "cell_type": "code",
   "execution_count": 30,
   "metadata": {
    "id": "eN6iBsXh0UJj"
   },
   "outputs": [],
   "source": [
    "# X_train et X_test sont des dataframe qui contient les features\n",
    "train_LSTM_X3=X_train3.to_numpy()\n",
    "train_LSTM_y3=y_train3.to_numpy()\n",
    "w=3\n",
    "X_train3=np.zeros([train_LSTM_X3.shape[0]-w+1,w, train_LSTM_X3.shape[1]])\n",
    "for i in range(train_LSTM_X3.shape[0]-w+1):\n",
    "    for j in range(w):\n",
    "        X_train3[i][j]=train_LSTM_X3[i+j]\n",
    "\n",
    "y_train3=np.delete(train_LSTM_y3,[*range(0, w-1, 1)], 0)\n",
    "train_LSTM_X3=X_train3\n",
    "train_LSTM_y3=y_train3"
   ]
  },
  {
   "cell_type": "code",
   "execution_count": 31,
   "metadata": {
    "id": "XOlGVbif0U-i"
   },
   "outputs": [],
   "source": [
    "inputs=Input((w,19))\n",
    "x1=LSTM(50)(inputs)\n",
    "outputs=Dense(1,activation='sigmoid')(x1)\n",
    "model3=Model(inputs,outputs)"
   ]
  },
  {
   "cell_type": "code",
   "execution_count": 32,
   "metadata": {
    "id": "rw1IxnEn0i7d"
   },
   "outputs": [],
   "source": [
    "model3.compile(loss='binary_crossentropy', optimizer='adam', metrics=['Precision','Recall'])"
   ]
  },
  {
   "cell_type": "code",
   "execution_count": 33,
   "metadata": {
    "id": "_jVAHW330VTL"
   },
   "outputs": [
    {
     "name": "stdout",
     "output_type": "stream",
     "text": [
      "Epoch 1/12\n",
      "399/399 [==============================] - 8s 12ms/step - loss: 0.0874 - precision: 0.0634 - recall: 0.4054 - val_loss: 0.0070 - val_precision: 1.0000 - val_recall: 0.1111\n",
      "Epoch 2/12\n",
      "399/399 [==============================] - 4s 10ms/step - loss: 0.0057 - precision: 0.9487 - recall: 0.6667 - val_loss: 0.0045 - val_precision: 0.9811 - val_recall: 0.4815\n",
      "Epoch 3/12\n",
      "399/399 [==============================] - 4s 10ms/step - loss: 0.0046 - precision: 0.9205 - recall: 0.7297 - val_loss: 0.0039 - val_precision: 0.9692 - val_recall: 0.5833\n",
      "Epoch 4/12\n",
      "399/399 [==============================] - 4s 10ms/step - loss: 0.0041 - precision: 0.9348 - recall: 0.7748 - val_loss: 0.0032 - val_precision: 0.9848 - val_recall: 0.6019\n",
      "Epoch 5/12\n",
      "399/399 [==============================] - 4s 10ms/step - loss: 0.0037 - precision: 0.9551 - recall: 0.7658 - val_loss: 0.0030 - val_precision: 0.9867 - val_recall: 0.6852\n",
      "Epoch 6/12\n",
      "399/399 [==============================] - 4s 10ms/step - loss: 0.0033 - precision: 0.9457 - recall: 0.7838 - val_loss: 0.0030 - val_precision: 1.0000 - val_recall: 0.6944\n",
      "Epoch 7/12\n",
      "399/399 [==============================] - 4s 11ms/step - loss: 0.0031 - precision: 0.9565 - recall: 0.7928 - val_loss: 0.0028 - val_precision: 1.0000 - val_recall: 0.7037\n",
      "Epoch 8/12\n",
      "399/399 [==============================] - 4s 11ms/step - loss: 0.0026 - precision: 0.9560 - recall: 0.7838 - val_loss: 0.0029 - val_precision: 0.9747 - val_recall: 0.7130\n",
      "Epoch 9/12\n",
      "399/399 [==============================] - 4s 10ms/step - loss: 0.0024 - precision: 0.9462 - recall: 0.7928 - val_loss: 0.0027 - val_precision: 1.0000 - val_recall: 0.6852\n",
      "Epoch 10/12\n",
      "399/399 [==============================] - 4s 9ms/step - loss: 0.0021 - precision: 0.9574 - recall: 0.8108 - val_loss: 0.0028 - val_precision: 0.9868 - val_recall: 0.6944\n",
      "Epoch 11/12\n",
      "399/399 [==============================] - 3s 9ms/step - loss: 0.0018 - precision: 0.9684 - recall: 0.8288 - val_loss: 0.0027 - val_precision: 0.9870 - val_recall: 0.7037\n",
      "Epoch 12/12\n",
      "399/399 [==============================] - 5s 13ms/step - loss: 0.0015 - precision: 0.9688 - recall: 0.8378 - val_loss: 0.0030 - val_precision: 0.9870 - val_recall: 0.7037\n"
     ]
    }
   ],
   "source": [
    "history3=model3.fit(train_LSTM_X3, train_LSTM_y3,epochs=12,batch_size=100,validation_data=(test_LSTM_X, test_LSTM_y))"
   ]
  },
  {
   "cell_type": "code",
   "execution_count": 34,
   "metadata": {
    "id": "lUAD5FIS3Z1I"
   },
   "outputs": [],
   "source": [
    "# predict probabilities for test set\n",
    "yhat_probs3 = model3.predict(test_LSTM_X, verbose=0)\n",
    "# reduce to 1d array\n",
    "yhat_probs3 = yhat_probs3[:, 0]> 0.5"
   ]
  },
  {
   "cell_type": "code",
   "execution_count": 35,
   "metadata": {
    "colab": {
     "base_uri": "https://localhost:8080/"
    },
    "id": "eiN2cjwX4Dzp",
    "outputId": "86ee0069-2931-41b4-bbb3-90a6a3940a21"
   },
   "outputs": [
    {
     "name": "stdout",
     "output_type": "stream",
     "text": [
      "Accuracy: 0.999614\n",
      "Precision: 0.987013\n",
      "Recall: 0.703704\n",
      "f1: 0.821622\n"
     ]
    }
   ],
   "source": [
    "# accuracy: (tp + tn) / (p + n)\n",
    "accuracy = accuracy_score(test_LSTM_y, yhat_probs3)\n",
    "print('Accuracy: %f' % accuracy)\n",
    "# precision tp / (tp + fp)\n",
    "precision = precision_score(test_LSTM_y, yhat_probs3)\n",
    "print('Precision: %f' % precision)\n",
    "# recall: tp / (tp + fn)\n",
    "recall = recall_score(test_LSTM_y, yhat_probs3)\n",
    "print('Recall: %f' % recall)\n",
    "f1 = f1_score(test_LSTM_y, yhat_probs3)\n",
    "print('f1: %f' % f1)"
   ]
  },
  {
   "cell_type": "markdown",
   "metadata": {},
   "source": [
    "# N=5"
   ]
  },
  {
   "cell_type": "code",
   "execution_count": 36,
   "metadata": {
    "id": "eN6iBsXh0UJj"
   },
   "outputs": [],
   "source": [
    "# X_train et X_test sont des dataframe qui contient les features\n",
    "train_LSTM_X4=X_train4.to_numpy()\n",
    "train_LSTM_y4=y_train4.to_numpy()\n",
    "w=3\n",
    "X_train4=np.zeros([train_LSTM_X4.shape[0]-w+1,w, train_LSTM_X4.shape[1]])\n",
    "for i in range(train_LSTM_X4.shape[0]-w+1):\n",
    "    for j in range(w):\n",
    "        X_train4[i][j]=train_LSTM_X4[i+j]\n",
    "\n",
    "y_train4=np.delete(train_LSTM_y4,[*range(0, w-1, 1)], 0)\n",
    "train_LSTM_X4=X_train4\n",
    "train_LSTM_y4=y_train4"
   ]
  },
  {
   "cell_type": "code",
   "execution_count": 37,
   "metadata": {
    "id": "XOlGVbif0U-i"
   },
   "outputs": [],
   "source": [
    "inputs=Input((w,19))\n",
    "x1=LSTM(50)(inputs)\n",
    "outputs=Dense(1,activation='sigmoid')(x1)\n",
    "model4=Model(inputs,outputs)"
   ]
  },
  {
   "cell_type": "code",
   "execution_count": 38,
   "metadata": {
    "id": "rw1IxnEn0i7d"
   },
   "outputs": [],
   "source": [
    "model4.compile(loss='binary_crossentropy', optimizer='adam', metrics=['Precision','Recall'])"
   ]
  },
  {
   "cell_type": "code",
   "execution_count": 39,
   "metadata": {
    "id": "_jVAHW330VTL"
   },
   "outputs": [
    {
     "name": "stdout",
     "output_type": "stream",
     "text": [
      "Epoch 1/12\n",
      "200/200 [==============================] - 6s 15ms/step - loss: 0.1352 - precision: 0.0000e+00 - recall: 0.0000e+00 - val_loss: 0.0107 - val_precision: 0.0000e+00 - val_recall: 0.0000e+00\n",
      "Epoch 2/12\n",
      "200/200 [==============================] - 2s 11ms/step - loss: 0.0056 - precision: 0.0000e+00 - recall: 0.0000e+00 - val_loss: 0.0064 - val_precision: 0.0000e+00 - val_recall: 0.0000e+00\n",
      "Epoch 3/12\n",
      "200/200 [==============================] - 2s 11ms/step - loss: 0.0037 - precision: 1.0000 - recall: 0.0357 - val_loss: 0.0048 - val_precision: 1.0000 - val_recall: 0.1204\n",
      "Epoch 4/12\n",
      "200/200 [==============================] - 2s 10ms/step - loss: 0.0029 - precision: 0.8571 - recall: 0.2143 - val_loss: 0.0039 - val_precision: 1.0000 - val_recall: 0.4259\n",
      "Epoch 5/12\n",
      "200/200 [==============================] - 2s 11ms/step - loss: 0.0024 - precision: 0.9286 - recall: 0.4643 - val_loss: 0.0035 - val_precision: 1.0000 - val_recall: 0.5556\n",
      "Epoch 6/12\n",
      "200/200 [==============================] - 2s 11ms/step - loss: 0.0022 - precision: 0.8333 - recall: 0.5357 - val_loss: 0.0032 - val_precision: 1.0000 - val_recall: 0.6019\n",
      "Epoch 7/12\n",
      "200/200 [==============================] - 2s 11ms/step - loss: 0.0020 - precision: 0.8421 - recall: 0.5714 - val_loss: 0.0031 - val_precision: 1.0000 - val_recall: 0.6204\n",
      "Epoch 8/12\n",
      "200/200 [==============================] - 3s 14ms/step - loss: 0.0019 - precision: 0.8571 - recall: 0.6429 - val_loss: 0.0030 - val_precision: 1.0000 - val_recall: 0.6389\n",
      "Epoch 9/12\n",
      "200/200 [==============================] - 3s 16ms/step - loss: 0.0017 - precision: 0.9000 - recall: 0.6429 - val_loss: 0.0030 - val_precision: 1.0000 - val_recall: 0.6667\n",
      "Epoch 10/12\n",
      "200/200 [==============================] - 3s 17ms/step - loss: 0.0016 - precision: 0.9000 - recall: 0.6429 - val_loss: 0.0029 - val_precision: 1.0000 - val_recall: 0.6852\n",
      "Epoch 11/12\n",
      "200/200 [==============================] - 3s 13ms/step - loss: 0.0015 - precision: 0.8571 - recall: 0.6429 - val_loss: 0.0029 - val_precision: 1.0000 - val_recall: 0.6759\n",
      "Epoch 12/12\n",
      "200/200 [==============================] - 3s 17ms/step - loss: 0.0014 - precision: 0.9474 - recall: 0.6429 - val_loss: 0.0028 - val_precision: 1.0000 - val_recall: 0.7130\n"
     ]
    }
   ],
   "source": [
    "history4=model4.fit(train_LSTM_X4, train_LSTM_y4,epochs=12,batch_size=200,validation_data=(test_LSTM_X, test_LSTM_y))"
   ]
  },
  {
   "cell_type": "code",
   "execution_count": 40,
   "metadata": {
    "id": "lUAD5FIS3Z1I"
   },
   "outputs": [],
   "source": [
    "# predict probabilities for test set\n",
    "yhat_probs4 = model4.predict(test_LSTM_X, verbose=0)\n",
    "# reduce to 1d array\n",
    "yhat_probs4 = yhat_probs4[:, 0]> 0.5"
   ]
  },
  {
   "cell_type": "code",
   "execution_count": 41,
   "metadata": {
    "colab": {
     "base_uri": "https://localhost:8080/"
    },
    "id": "eiN2cjwX4Dzp",
    "outputId": "86ee0069-2931-41b4-bbb3-90a6a3940a21"
   },
   "outputs": [
    {
     "name": "stdout",
     "output_type": "stream",
     "text": [
      "Accuracy: 0.999637\n",
      "Precision: 1.000000\n",
      "Recall: 0.712963\n",
      "f1: 0.832432\n"
     ]
    }
   ],
   "source": [
    "# accuracy: (tp + tn) / (p + n)\n",
    "accuracy = accuracy_score(test_LSTM_y, yhat_probs4)\n",
    "print('Accuracy: %f' % accuracy)\n",
    "# precision tp / (tp + fp)\n",
    "precision = precision_score(test_LSTM_y, yhat_probs4)\n",
    "print('Precision: %f' % precision)\n",
    "# recall: tp / (tp + fn)\n",
    "recall = recall_score(test_LSTM_y, yhat_probs4)\n",
    "print('Recall: %f' % recall)\n",
    "f1 = f1_score(test_LSTM_y, yhat_probs4)\n",
    "print('f1: %f' % f1)"
   ]
  },
  {
   "cell_type": "markdown",
   "metadata": {},
   "source": [
    "# FFNN"
   ]
  },
  {
   "cell_type": "code",
   "execution_count": 42,
   "metadata": {},
   "outputs": [],
   "source": [
    "y_probs0 = model0.predict(train_LSTM_X0, verbose=0)\n",
    "y_probs1 = model1.predict(train_LSTM_X0, verbose=0)\n",
    "y_probs2 = model2.predict(train_LSTM_X0, verbose=0)\n",
    "y_probs3 = model3.predict(train_LSTM_X0, verbose=0)\n",
    "y_probs4 = model3.predict(train_LSTM_X0, verbose=0)\n",
    "\n",
    "y_probs00 = model0.predict(train_LSTM_X1, verbose=0)\n",
    "y_probs11 = model1.predict(train_LSTM_X1, verbose=0)\n",
    "y_probs22 = model2.predict(train_LSTM_X1, verbose=0)\n",
    "y_probs33 = model3.predict(train_LSTM_X1, verbose=0)\n",
    "y_probs44 = model4.predict(train_LSTM_X1, verbose=0)"
   ]
  },
  {
   "cell_type": "code",
   "execution_count": 43,
   "metadata": {},
   "outputs": [
    {
     "data": {
      "text/plain": [
       "((77068, 5), (77068,))"
      ]
     },
     "execution_count": 43,
     "metadata": {},
     "output_type": "execute_result"
    }
   ],
   "source": [
    "X_train0=np.concatenate((y_probs0,y_probs1,y_probs2,y_probs3,y_probs4),axis=1)\n",
    "X_train1=np.concatenate((y_probs00,y_probs11,y_probs22,y_probs33,y_probs44),axis=1)\n",
    "X_train=np.concatenate((X_train0,X_train1),axis=0)\n",
    "y_train=np.concatenate((y_train0,y_train1),axis=0)\n",
    "X_train.shape,y_train.shape"
   ]
  },
  {
   "cell_type": "code",
   "execution_count": 44,
   "metadata": {},
   "outputs": [],
   "source": [
    "from sklearn.neural_network import MLPClassifier\n",
    "clf = MLPClassifier().fit(X_train, y_train)"
   ]
  },
  {
   "cell_type": "markdown",
   "metadata": {},
   "source": [
    "# evaluation"
   ]
  },
  {
   "cell_type": "code",
   "execution_count": 45,
   "metadata": {},
   "outputs": [],
   "source": [
    "yhat_probs0 = model0.predict(test_LSTM_X, verbose=0)\n",
    "yhat_probs1 = model1.predict(test_LSTM_X,verbose=0)\n",
    "yhat_probs2 = model2.predict(test_LSTM_X,verbose=0)\n",
    "yhat_probs3 = model3.predict(test_LSTM_X,verbose=0)\n",
    "yhat_probs4 = model3.predict(test_LSTM_X,verbose=0)\n",
    "X_test=np.concatenate((yhat_probs0,yhat_probs1,yhat_probs2,yhat_probs3,yhat_probs4),axis=1)\n",
    "y_pred=clf.predict(X_test)"
   ]
  },
  {
   "cell_type": "code",
   "execution_count": 46,
   "metadata": {},
   "outputs": [
    {
     "name": "stdout",
     "output_type": "stream",
     "text": [
      "Accuracy: 0.999625\n",
      "Precision: 0.931818\n",
      "Recall: 0.759259\n",
      "f1: 0.836735\n"
     ]
    }
   ],
   "source": [
    "# accuracy: (tp + tn) / (p + n)\n",
    "accuracy = accuracy_score(test_LSTM_y, y_pred)\n",
    "print('Accuracy: %f' % accuracy)\n",
    "# precision tp / (tp + fp)\n",
    "precision = precision_score(test_LSTM_y, y_pred)\n",
    "print('Precision: %f' % precision)\n",
    "# recall: tp / (tp + fn)\n",
    "recall = recall_score(test_LSTM_y, y_pred)\n",
    "print('Recall: %f' % recall)\n",
    "#F1 = 2 * (precision * recall) / (precision + recall)\n",
    "f1=f1_score(test_LSTM_y, y_pred)\n",
    "print('f1: %f' % f1)"
   ]
  }
 ],
 "metadata": {
  "colab": {
   "collapsed_sections": [],
   "name": "LSTM_Models.ipynb",
   "provenance": []
  },
  "kernelspec": {
   "display_name": "Python 3.9.7 ('base')",
   "language": "python",
   "name": "python3"
  },
  "language_info": {
   "codemirror_mode": {
    "name": "ipython",
    "version": 3
   },
   "file_extension": ".py",
   "mimetype": "text/x-python",
   "name": "python",
   "nbconvert_exporter": "python",
   "pygments_lexer": "ipython3",
   "version": "3.9.7"
  },
  "vscode": {
   "interpreter": {
    "hash": "408d89a3b80ac34e5cdc914373b09bb69ba3e3a6a7f756d6d7498fd367058138"
   }
  }
 },
 "nbformat": 4,
 "nbformat_minor": 1
}
