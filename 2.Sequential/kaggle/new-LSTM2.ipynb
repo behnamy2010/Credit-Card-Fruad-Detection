{
 "cells": [
  {
   "cell_type": "code",
   "execution_count": 24,
   "metadata": {
    "id": "gRu9kpkYyztz"
   },
   "outputs": [],
   "source": [
    "import pandas as pd\n",
    "from sklearn.model_selection import train_test_split\n",
    "import numpy as np\n",
    "from sklearn.metrics import accuracy_score\n",
    "from keras.layers import LSTM, Dense,Input,Layer\n",
    "from keras import backend as K,Model\n",
    "from numpy.random import seed\n",
    "from imblearn.under_sampling import RandomUnderSampler \n",
    "seed(0)\n",
    "import tensorflow as tf\n",
    "tf.random.set_seed(0)"
   ]
  },
  {
   "cell_type": "code",
   "execution_count": 25,
   "metadata": {
    "id": "Mlth1eViyz_p"
   },
   "outputs": [],
   "source": [
    "data = pd.read_csv('creditcard.csv', na_filter=True)\n",
    "\n",
    "data.drop(['Time'], axis=1, inplace=True)\n",
    "selected_vars =['V4','V14','V10','V16','V9','V12','V11','V17','V7','V21','V18','V8','V1','V3','V6','V2','V27','V5','V26','Class']\n"
   ]
  },
  {
   "cell_type": "code",
   "execution_count": 26,
   "metadata": {
    "colab": {
     "base_uri": "https://localhost:8080/"
    },
    "id": "0D1roi0fy9hN",
    "outputId": "1c7dad73-e697-47a5-9102-3fa04511a11d"
   },
   "outputs": [
    {
     "data": {
      "text/plain": [
       "(284807, 20)"
      ]
     },
     "execution_count": 26,
     "metadata": {},
     "output_type": "execute_result"
    }
   ],
   "source": [
    "tr_data = data[selected_vars]\n",
    "tr_data.shape"
   ]
  },
  {
   "cell_type": "code",
   "execution_count": 27,
   "metadata": {
    "id": "SFjcDF3s2QId"
   },
   "outputs": [],
   "source": [
    "X = tr_data.drop(['Class'], axis = 'columns')\n",
    "Label_Data = tr_data['Class']"
   ]
  },
  {
   "cell_type": "code",
   "execution_count": 28,
   "metadata": {
    "id": "o4GOSe4tzcTv"
   },
   "outputs": [],
   "source": [
    "y=tr_data['Class']"
   ]
  },
  {
   "cell_type": "code",
   "execution_count": 29,
   "metadata": {
    "id": "rz6JhCFr0Iin"
   },
   "outputs": [],
   "source": [
    "from sklearn.preprocessing import StandardScaler\n",
    "## Standardizing the data\n",
    "X=pd.DataFrame(StandardScaler().fit_transform(X))"
   ]
  },
  {
   "cell_type": "code",
   "execution_count": 30,
   "metadata": {
    "id": "t7l5EpLY0IqL"
   },
   "outputs": [],
   "source": [
    "X_train0,X_test,y_train0,y_test = train_test_split(X, y, test_size=0.3, shuffle=False,random_state=0)\n",
    "X_train0,X_train1,y_train0,y_train1 = train_test_split(X_train0, y_train0, test_size=0.5, shuffle=False,random_state=0)\n",
    "\n",
    "from sklearn.linear_model import SGDOneClassSVM\n",
    "df1_normal=X_train0[y_train0==0]\n",
    "clf = SGDOneClassSVM(nu=0.02,random_state=0)\n",
    "res = clf.fit_predict(df1_normal)\n",
    "res[res==1] = 0\n",
    "res[res==-1] = 1\n",
    "ros = RandomUnderSampler(sampling_strategy=0.95)\n",
    "ros.fit_resample(df1_normal,res)\n",
    "index=ros.sample_indices_\n",
    "X_train0.drop(X_train0.index[index], inplace=True)\n",
    "y_train0.drop(y_train0.index[index], inplace=True)\n",
    "\n",
    "df1_normal=X_train1[y_train1==1]\n",
    "clf = SGDOneClassSVM(nu=0.035,random_state=0)\n",
    "res = clf.fit_predict(df1_normal)\n",
    "res[res==1] = 0\n",
    "res[res==-1] = 1\n",
    "ros = RandomUnderSampler(sampling_strategy=0.95)\n",
    "ros.fit_resample(df1_normal,res)\n",
    "index=ros.sample_indices_\n",
    "X_train1.drop(X_train1.index[index], inplace=True)\n",
    "y_train1.drop(y_train1.index[index], inplace=True)"
   ]
  },
  {
   "cell_type": "code",
   "execution_count": 31,
   "metadata": {
    "colab": {
     "base_uri": "https://localhost:8080/"
    },
    "id": "a4uohF3BPMIU",
    "outputId": "b1d24e82-da51-42ca-f9ed-0d021c2538ea"
   },
   "outputs": [
    {
     "data": {
      "text/plain": [
       "((95992, 19), (99676, 19))"
      ]
     },
     "execution_count": 31,
     "metadata": {},
     "output_type": "execute_result"
    }
   ],
   "source": [
    "X_train0.shape,X_train1.shape"
   ]
  },
  {
   "cell_type": "code",
   "execution_count": 32,
   "metadata": {},
   "outputs": [
    {
     "data": {
      "text/plain": [
       "((95992,), (99676,))"
      ]
     },
     "execution_count": 32,
     "metadata": {},
     "output_type": "execute_result"
    }
   ],
   "source": [
    "y_train0.shape,y_train1.shape"
   ]
  },
  {
   "cell_type": "code",
   "execution_count": 33,
   "metadata": {
    "colab": {
     "base_uri": "https://localhost:8080/"
    },
    "id": "4OaLUwRhPPhW",
    "outputId": "170cccab-ded4-4110-e701-3d103902a590"
   },
   "outputs": [
    {
     "data": {
      "text/plain": [
       "(85443, 19)"
      ]
     },
     "execution_count": 33,
     "metadata": {},
     "output_type": "execute_result"
    }
   ],
   "source": [
    "X_test.shape"
   ]
  },
  {
   "cell_type": "markdown",
   "metadata": {},
   "source": [
    "# N=1"
   ]
  },
  {
   "cell_type": "code",
   "execution_count": 34,
   "metadata": {},
   "outputs": [],
   "source": [
    "# X_train et X_test sont des dataframe qui contient les features\n",
    "train_LSTM_X0=X_train0.to_numpy()\n",
    "test_LSTM_X=X_test.to_numpy()\n",
    "train_LSTM_y0=y_train0.to_numpy()\n",
    "test_LSTM_y=y_test.to_numpy()\n",
    "w=3\n",
    "X_train0=np.zeros([train_LSTM_X0.shape[0]-w+1,w, train_LSTM_X0.shape[1]])\n",
    "for i in range(train_LSTM_X0.shape[0]-w+1):\n",
    "    for j in range(w):\n",
    "        X_train0[i][j]=train_LSTM_X0[i+j]\n",
    "X_test=np.zeros([test_LSTM_X.shape[0]-w+1,w, test_LSTM_X.shape[1]])\n",
    "for i in range(test_LSTM_X.shape[0]-w+1):\n",
    "    for j in range(w):\n",
    "        X_test[i][j]=test_LSTM_X[i+j]\n",
    "## Recuperation des labels\n",
    "\n",
    "y_train0=np.delete(train_LSTM_y0,[*range(0, w-1, 1)], 0)\n",
    "y_test=np.delete(test_LSTM_y,[*range(0, w-1, 1)], 0)\n",
    "\n",
    "train_LSTM_X0=X_train0\n",
    "test_LSTM_X=X_test\n",
    "train_LSTM_y0=y_train0\n",
    "test_LSTM_y=y_test"
   ]
  },
  {
   "cell_type": "code",
   "execution_count": 35,
   "metadata": {
    "id": "XOlGVbif0U-i"
   },
   "outputs": [],
   "source": [
    "inputs=Input((w,19))\n",
    "x1=LSTM(50)(inputs)\n",
    "outputs=Dense(1,activation='sigmoid')(x1)\n",
    "model0=Model(inputs,outputs)"
   ]
  },
  {
   "cell_type": "code",
   "execution_count": 36,
   "metadata": {
    "id": "rw1IxnEn0i7d"
   },
   "outputs": [],
   "source": [
    "model0.compile(loss='binary_crossentropy', optimizer='adam', metrics=['Precision','Recall'])"
   ]
  },
  {
   "cell_type": "code",
   "execution_count": 37,
   "metadata": {
    "id": "_jVAHW330VTL"
   },
   "outputs": [
    {
     "name": "stdout",
     "output_type": "stream",
     "text": [
      "Epoch 1/4\n",
      "240/240 [==============================] - 7s 18ms/step - loss: 0.1246 - precision: 0.0098 - recall: 0.1065 - val_loss: 0.1264 - val_precision: 0.0180 - val_recall: 0.2870\n",
      "Epoch 2/4\n",
      "240/240 [==============================] - 3s 12ms/step - loss: 0.0057 - precision: 0.7616 - recall: 0.5324 - val_loss: 0.0527 - val_precision: 0.3860 - val_recall: 0.6111\n",
      "Epoch 3/4\n",
      "240/240 [==============================] - 2s 10ms/step - loss: 0.0044 - precision: 0.8122 - recall: 0.7407 - val_loss: 0.0292 - val_precision: 0.8211 - val_recall: 0.7222\n",
      "Epoch 4/4\n",
      "240/240 [==============================] - 3s 11ms/step - loss: 0.0039 - precision: 0.8255 - recall: 0.8102 - val_loss: 0.0208 - val_precision: 0.9302 - val_recall: 0.7407\n"
     ]
    }
   ],
   "source": [
    "history0=model0.fit(train_LSTM_X0, train_LSTM_y0,epochs=4,batch_size=400,validation_data=(test_LSTM_X, test_LSTM_y))"
   ]
  },
  {
   "cell_type": "code",
   "execution_count": 38,
   "metadata": {
    "id": "lUAD5FIS3Z1I"
   },
   "outputs": [],
   "source": [
    "# predict probabilities for test set\n",
    "yhat_probs0 = model0.predict(test_LSTM_X, verbose=0)\n",
    "# reduce to 1d array\n",
    "yhat_probs0 = yhat_probs0[:, 0]> 0.5"
   ]
  },
  {
   "cell_type": "code",
   "execution_count": 39,
   "metadata": {
    "colab": {
     "base_uri": "https://localhost:8080/"
    },
    "id": "eiN2cjwX4Dzp",
    "outputId": "86ee0069-2931-41b4-bbb3-90a6a3940a21"
   },
   "outputs": [
    {
     "name": "stdout",
     "output_type": "stream",
     "text": [
      "Accuracy: 0.999602\n",
      "Precision: 0.930233\n",
      "Recall: 0.740741\n",
      "f1: 0.824742\n"
     ]
    }
   ],
   "source": [
    "# demonstration of calculating metrics for a neural network model using sklearn\n",
    "from sklearn.metrics import accuracy_score\n",
    "from sklearn.metrics import precision_score\n",
    "from sklearn.metrics import recall_score\n",
    "from sklearn.metrics import f1_score\n",
    "# accuracy: (tp + tn) / (p + n)\n",
    "accuracy = accuracy_score(test_LSTM_y, yhat_probs0)\n",
    "print('Accuracy: %f' % accuracy)\n",
    "# precision tp / (tp + fp)\n",
    "precision = precision_score(test_LSTM_y, yhat_probs0)\n",
    "print('Precision: %f' % precision)\n",
    "# recall: tp / (tp + fn)\n",
    "recall = recall_score(test_LSTM_y, yhat_probs0)\n",
    "print('Recall: %f' % recall)\n",
    "f1 = f1_score(test_LSTM_y, yhat_probs0)\n",
    "print('f1: %f' % f1)"
   ]
  },
  {
   "cell_type": "markdown",
   "metadata": {},
   "source": [
    "# N=2"
   ]
  },
  {
   "cell_type": "code",
   "execution_count": 40,
   "metadata": {
    "id": "eN6iBsXh0UJj"
   },
   "outputs": [],
   "source": [
    "# X_train et X_test sont des dataframe qui contient les features\n",
    "train_LSTM_X1=X_train1.to_numpy()\n",
    "train_LSTM_y1=y_train1.to_numpy()\n",
    "w=3\n",
    "X_train1=np.zeros([train_LSTM_X1.shape[0]-w+1,w, train_LSTM_X1.shape[1]])\n",
    "for i in range(train_LSTM_X1.shape[0]-w+1):\n",
    "    for j in range(w):\n",
    "        X_train1[i][j]=train_LSTM_X1[i+j]\n",
    "\n",
    "y_train1=np.delete(train_LSTM_y1,[*range(0, w-1, 1)], 0)\n",
    "train_LSTM_X1=X_train1\n",
    "train_LSTM_y1=y_train1"
   ]
  },
  {
   "cell_type": "code",
   "execution_count": 41,
   "metadata": {
    "id": "XOlGVbif0U-i"
   },
   "outputs": [],
   "source": [
    "inputs=Input((w,19))\n",
    "x1=LSTM(50)(inputs)\n",
    "outputs=Dense(1,activation='sigmoid')(x1)\n",
    "model1=Model(inputs,outputs)"
   ]
  },
  {
   "cell_type": "code",
   "execution_count": 42,
   "metadata": {
    "id": "rw1IxnEn0i7d"
   },
   "outputs": [],
   "source": [
    "model1.compile(loss='binary_crossentropy', optimizer='adam', metrics=['Precision','Recall'])"
   ]
  },
  {
   "cell_type": "code",
   "execution_count": 43,
   "metadata": {
    "id": "_jVAHW330VTL"
   },
   "outputs": [
    {
     "name": "stdout",
     "output_type": "stream",
     "text": [
      "Epoch 1/20\n",
      "250/250 [==============================] - 6s 13ms/step - loss: 0.1281 - precision: 0.0165 - recall: 0.1988 - val_loss: 0.0058 - val_precision: 1.0000 - val_recall: 0.0093\n",
      "Epoch 2/20\n",
      "250/250 [==============================] - 2s 10ms/step - loss: 0.0048 - precision: 0.9535 - recall: 0.5093 - val_loss: 0.0039 - val_precision: 1.0000 - val_recall: 0.4259\n",
      "Epoch 3/20\n",
      "250/250 [==============================] - 3s 11ms/step - loss: 0.0039 - precision: 0.9266 - recall: 0.6273 - val_loss: 0.0033 - val_precision: 1.0000 - val_recall: 0.5370\n",
      "Epoch 4/20\n",
      "250/250 [==============================] - 3s 11ms/step - loss: 0.0035 - precision: 0.9048 - recall: 0.7081 - val_loss: 0.0031 - val_precision: 0.9857 - val_recall: 0.6389\n",
      "Epoch 5/20\n",
      "250/250 [==============================] - 3s 11ms/step - loss: 0.0033 - precision: 0.9062 - recall: 0.7205 - val_loss: 0.0029 - val_precision: 0.9859 - val_recall: 0.6481\n",
      "Epoch 6/20\n",
      "250/250 [==============================] - 3s 10ms/step - loss: 0.0031 - precision: 0.9237 - recall: 0.7516 - val_loss: 0.0028 - val_precision: 1.0000 - val_recall: 0.6574\n",
      "Epoch 7/20\n",
      "250/250 [==============================] - 3s 12ms/step - loss: 0.0029 - precision: 0.9308 - recall: 0.7516 - val_loss: 0.0028 - val_precision: 1.0000 - val_recall: 0.6759\n",
      "Epoch 8/20\n",
      "250/250 [==============================] - 4s 16ms/step - loss: 0.0028 - precision: 0.9457 - recall: 0.7578 - val_loss: 0.0027 - val_precision: 1.0000 - val_recall: 0.6759\n",
      "Epoch 9/20\n",
      "250/250 [==============================] - 3s 13ms/step - loss: 0.0026 - precision: 0.9457 - recall: 0.7578 - val_loss: 0.0026 - val_precision: 1.0000 - val_recall: 0.7037\n",
      "Epoch 10/20\n",
      "250/250 [==============================] - 3s 13ms/step - loss: 0.0025 - precision: 0.9457 - recall: 0.7578 - val_loss: 0.0027 - val_precision: 1.0000 - val_recall: 0.6944\n",
      "Epoch 11/20\n",
      "250/250 [==============================] - 4s 14ms/step - loss: 0.0024 - precision: 0.9531 - recall: 0.7578 - val_loss: 0.0026 - val_precision: 1.0000 - val_recall: 0.6944\n",
      "Epoch 12/20\n",
      "250/250 [==============================] - 3s 13ms/step - loss: 0.0023 - precision: 0.9380 - recall: 0.7516 - val_loss: 0.0027 - val_precision: 1.0000 - val_recall: 0.7130\n",
      "Epoch 13/20\n",
      "250/250 [==============================] - 3s 13ms/step - loss: 0.0022 - precision: 0.9531 - recall: 0.7578 - val_loss: 0.0027 - val_precision: 1.0000 - val_recall: 0.7037\n",
      "Epoch 14/20\n",
      "250/250 [==============================] - 3s 13ms/step - loss: 0.0021 - precision: 0.9531 - recall: 0.7578 - val_loss: 0.0027 - val_precision: 1.0000 - val_recall: 0.6944\n",
      "Epoch 15/20\n",
      "250/250 [==============================] - 3s 12ms/step - loss: 0.0019 - precision: 0.9609 - recall: 0.7640 - val_loss: 0.0027 - val_precision: 1.0000 - val_recall: 0.7037\n",
      "Epoch 16/20\n",
      "250/250 [==============================] - 3s 11ms/step - loss: 0.0018 - precision: 0.9403 - recall: 0.7826 - val_loss: 0.0027 - val_precision: 1.0000 - val_recall: 0.7037\n",
      "Epoch 17/20\n",
      "250/250 [==============================] - 3s 12ms/step - loss: 0.0017 - precision: 0.9466 - recall: 0.7702 - val_loss: 0.0026 - val_precision: 1.0000 - val_recall: 0.7315\n",
      "Epoch 18/20\n",
      "250/250 [==============================] - 3s 11ms/step - loss: 0.0015 - precision: 0.9549 - recall: 0.7888 - val_loss: 0.0027 - val_precision: 0.9873 - val_recall: 0.7222\n",
      "Epoch 19/20\n",
      "250/250 [==============================] - 3s 12ms/step - loss: 0.0014 - precision: 0.9552 - recall: 0.7950 - val_loss: 0.0028 - val_precision: 1.0000 - val_recall: 0.7315\n",
      "Epoch 20/20\n",
      "250/250 [==============================] - 3s 12ms/step - loss: 0.0013 - precision: 0.9489 - recall: 0.8075 - val_loss: 0.0028 - val_precision: 1.0000 - val_recall: 0.7315\n"
     ]
    }
   ],
   "source": [
    "history1=model1.fit(train_LSTM_X1, train_LSTM_y1,epochs=20,batch_size=400,validation_data=(test_LSTM_X, test_LSTM_y))"
   ]
  },
  {
   "cell_type": "code",
   "execution_count": 44,
   "metadata": {
    "id": "lUAD5FIS3Z1I"
   },
   "outputs": [],
   "source": [
    "# predict probabilities for test set\n",
    "yhat_probs1 = model1.predict(test_LSTM_X, verbose=0)\n",
    "# reduce to 1d array\n",
    "yhat_probs1 = yhat_probs1[:, 0]> 0.5"
   ]
  },
  {
   "cell_type": "code",
   "execution_count": 45,
   "metadata": {
    "colab": {
     "base_uri": "https://localhost:8080/"
    },
    "id": "eiN2cjwX4Dzp",
    "outputId": "86ee0069-2931-41b4-bbb3-90a6a3940a21"
   },
   "outputs": [
    {
     "name": "stdout",
     "output_type": "stream",
     "text": [
      "Accuracy: 0.999661\n",
      "Precision: 1.000000\n",
      "Recall: 0.731481\n",
      "f1: 0.844920\n"
     ]
    }
   ],
   "source": [
    "# accuracy: (tp + tn) / (p + n)\n",
    "accuracy = accuracy_score(test_LSTM_y, yhat_probs1)\n",
    "print('Accuracy: %f' % accuracy)\n",
    "# precision tp / (tp + fp)\n",
    "precision = precision_score(test_LSTM_y, yhat_probs1)\n",
    "print('Precision: %f' % precision)\n",
    "# recall: tp / (tp + fn)\n",
    "recall = recall_score(test_LSTM_y, yhat_probs1)\n",
    "print('Recall: %f' % recall)\n",
    "f1 = f1_score(test_LSTM_y, yhat_probs1)\n",
    "print('f1: %f' % f1)"
   ]
  },
  {
   "cell_type": "markdown",
   "metadata": {},
   "source": [
    "# FFNN"
   ]
  },
  {
   "cell_type": "code",
   "execution_count": 46,
   "metadata": {},
   "outputs": [],
   "source": [
    "y_probs0 = model0.predict(train_LSTM_X0, verbose=0)\n",
    "y_probs1 = model1.predict(train_LSTM_X0, verbose=0)\n",
    "y_probs00 = model0.predict(train_LSTM_X1, verbose=0)\n",
    "y_probs11 = model1.predict(train_LSTM_X1, verbose=0)"
   ]
  },
  {
   "cell_type": "code",
   "execution_count": 47,
   "metadata": {},
   "outputs": [
    {
     "data": {
      "text/plain": [
       "((195664, 2), (195664,))"
      ]
     },
     "execution_count": 47,
     "metadata": {},
     "output_type": "execute_result"
    }
   ],
   "source": [
    "X_train0=np.concatenate((y_probs0,y_probs1),axis=1)\n",
    "X_train1=np.concatenate((y_probs00,y_probs11),axis=1)\n",
    "X_train=np.concatenate((X_train0,X_train1),axis=0)\n",
    "y_train=np.concatenate((y_train0,y_train1),axis=0)\n",
    "X_train.shape,y_train.shape"
   ]
  },
  {
   "cell_type": "code",
   "execution_count": 48,
   "metadata": {},
   "outputs": [],
   "source": [
    "from sklearn.neural_network import MLPClassifier\n",
    "clf = MLPClassifier().fit(X_train, y_train)"
   ]
  },
  {
   "cell_type": "markdown",
   "metadata": {},
   "source": [
    "# evaluation"
   ]
  },
  {
   "cell_type": "code",
   "execution_count": 49,
   "metadata": {},
   "outputs": [],
   "source": [
    "yhat_probs0 = model0.predict(test_LSTM_X, verbose=0)\n",
    "yhat_probs1 = model1.predict(test_LSTM_X,verbose=0)\n",
    "X_test=np.concatenate((yhat_probs0,yhat_probs1),axis=1)\n",
    "y_pred=clf.predict(X_test)"
   ]
  },
  {
   "cell_type": "code",
   "execution_count": 50,
   "metadata": {},
   "outputs": [
    {
     "name": "stdout",
     "output_type": "stream",
     "text": [
      "Accuracy: 0.999661\n",
      "Precision: 1.000000\n",
      "Recall: 0.731481\n",
      "f1: 0.844920\n"
     ]
    }
   ],
   "source": [
    "# accuracy: (tp + tn) / (p + n)\n",
    "accuracy = accuracy_score(test_LSTM_y, y_pred)\n",
    "print('Accuracy: %f' % accuracy)\n",
    "# precision tp / (tp + fp)\n",
    "precision = precision_score(test_LSTM_y, y_pred)\n",
    "print('Precision: %f' % precision)\n",
    "# recall: tp / (tp + fn)\n",
    "recall = recall_score(test_LSTM_y, y_pred)\n",
    "print('Recall: %f' % recall)\n",
    "#F1 = 2 * (precision * recall) / (precision + recall)\n",
    "f1=f1_score(test_LSTM_y, y_pred)\n",
    "print('f1: %f' % f1)"
   ]
  }
 ],
 "metadata": {
  "colab": {
   "collapsed_sections": [],
   "name": "LSTM_Models.ipynb",
   "provenance": []
  },
  "kernelspec": {
   "display_name": "Python 3.9.7 ('base')",
   "language": "python",
   "name": "python3"
  },
  "language_info": {
   "codemirror_mode": {
    "name": "ipython",
    "version": 3
   },
   "file_extension": ".py",
   "mimetype": "text/x-python",
   "name": "python",
   "nbconvert_exporter": "python",
   "pygments_lexer": "ipython3",
   "version": "3.9.7"
  },
  "vscode": {
   "interpreter": {
    "hash": "408d89a3b80ac34e5cdc914373b09bb69ba3e3a6a7f756d6d7498fd367058138"
   }
  }
 },
 "nbformat": 4,
 "nbformat_minor": 1
}
