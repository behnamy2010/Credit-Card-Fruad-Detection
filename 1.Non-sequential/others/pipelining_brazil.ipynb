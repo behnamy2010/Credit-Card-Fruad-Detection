{
 "cells": [
  {
   "cell_type": "markdown",
   "metadata": {
    "id": "Bp27SWISTBMm"
   },
   "source": [
    "# Fraud detection"
   ]
  },
  {
   "cell_type": "code",
   "execution_count": 1,
   "metadata": {
    "id": "viaqKRF5ucU7"
   },
   "outputs": [],
   "source": [
    "import pandas as pd\n",
    "import numpy as np\n",
    "from sklearn import feature_selection\n",
    "from sklearn.linear_model import LinearRegression\n",
    "from sklearn.model_selection import train_test_split\n",
    "from sklearn.ensemble import RandomForestClassifier\n",
    "from sklearn.pipeline import Pipeline\n",
    "from sklearn.metrics import classification_report"
   ]
  },
  {
   "cell_type": "code",
   "execution_count": 6,
   "metadata": {},
   "outputs": [],
   "source": [
    "df = pd.read_excel('brazilian credit card.xlsx')"
   ]
  },
  {
   "cell_type": "code",
   "execution_count": 7,
   "metadata": {},
   "outputs": [],
   "source": [
    "Target=df['Class']\n",
    "df.drop(['Class'], axis=1, inplace=True)"
   ]
  },
  {
   "cell_type": "code",
   "execution_count": 8,
   "metadata": {},
   "outputs": [
    {
     "name": "stdout",
     "output_type": "stream",
     "text": [
      "              precision    recall  f1-score   support\n",
      "\n",
      "           0       1.00      1.00      1.00     72215\n",
      "           1       0.93      0.87      0.90      2750\n",
      "\n",
      "    accuracy                           0.99     74965\n",
      "   macro avg       0.96      0.93      0.95     74965\n",
      "weighted avg       0.99      0.99      0.99     74965\n",
      "\n",
      "\n",
      "accuracy_score: 0.9926232241712799\n",
      "recall_score: 0.8687272727272727\n",
      "precision_score: 0.9256102285935683\n",
      "f1_score: 0.8962671168636278\n",
      "\n"
     ]
    }
   ],
   "source": [
    "X_train, X_test, y_train, y_test = train_test_split(df,Target,test_size=0.2,random_state=0)\n",
    "pipe = Pipeline([('feature selection', feature_selection.SelectKBest(score_func=feature_selection.f_regression,k=9)),('rf',RandomForestClassifier())])\n",
    "\n",
    "pipe.fit(X_train, y_train)\n",
    "\n",
    "print(classification_report(y_test,pipe.predict(X_test)))\n",
    "print()\n",
    "\n",
    "from sklearn.metrics import accuracy_score,recall_score,f1_score,precision_score\n",
    "print('accuracy_score:',accuracy_score(y_test,pipe.predict(X_test)))\n",
    "print('recall_score:',recall_score(y_test,pipe.predict(X_test)))\n",
    "print('precision_score:',precision_score(y_test,pipe.predict(X_test)))\n",
    "print('f1_score:',f1_score(y_test,pipe.predict(X_test)))\n",
    "print()"
   ]
  }
 ],
 "metadata": {
  "colab": {
   "collapsed_sections": [
    "Bp27SWISTBMm",
    "6C_tIniEucVD",
    "f608xbR3ucVI",
    "u37HWxt0ucVT",
    "QZ-v89wQucVT",
    "fx3gW9DlucVW",
    "eltEwu7eucVY",
    "iDP-BEb9ucVb",
    "tFMPFkLaucVe",
    "CSNkI02zucVf",
    "5Q0HksyPucVf",
    "pzBDMQl6ucVi",
    "6ezxCai0ucVk",
    "ssSTnXSlucVn",
    "8XDc0m34ucVn",
    "kkx2ae3SucVp",
    "o9MTWjlbt7TS",
    "5NDtSJtSt7TU",
    "po8OfVBft7TW",
    "bwmbgQLaucVs",
    "eNQWyqKnucVs",
    "kqj56CPtucVu",
    "BH4_EORN7tXs"
   ],
   "name": "credit_card_kaggle_v7.ipynb",
   "provenance": [],
   "toc_visible": true
  },
  "kernelspec": {
   "display_name": "Python 3.9.7 ('base')",
   "language": "python",
   "name": "python3"
  },
  "language_info": {
   "codemirror_mode": {
    "name": "ipython",
    "version": 3
   },
   "file_extension": ".py",
   "mimetype": "text/x-python",
   "name": "python",
   "nbconvert_exporter": "python",
   "pygments_lexer": "ipython3",
   "version": "3.9.7"
  },
  "vscode": {
   "interpreter": {
    "hash": "408d89a3b80ac34e5cdc914373b09bb69ba3e3a6a7f756d6d7498fd367058138"
   }
  }
 },
 "nbformat": 4,
 "nbformat_minor": 1
}
