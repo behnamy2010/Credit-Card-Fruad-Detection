{
 "cells": [
  {
   "cell_type": "markdown",
   "metadata": {
    "id": "Bp27SWISTBMm"
   },
   "source": [
    "# Fraud detection"
   ]
  },
  {
   "cell_type": "code",
   "execution_count": 65,
   "metadata": {
    "id": "viaqKRF5ucU7"
   },
   "outputs": [],
   "source": [
    "import pandas as pd\n",
    "import numpy as np \n",
    "import warnings\n",
    "warnings.filterwarnings('ignore')"
   ]
  },
  {
   "cell_type": "code",
   "execution_count": 66,
   "metadata": {
    "id": "sPMW_sciucU_"
   },
   "outputs": [],
   "source": [
    "from sklearn.ensemble import RandomForestClassifier\n",
    "from lightgbm import LGBMClassifier\n",
    "from sklearn.metrics import recall_score,f1_score,precision_score\n",
    "#Visualization\n",
    "import matplotlib as mpl\n",
    "import seaborn as sns\n",
    "from sklearn.metrics import auc\n",
    "from sklearn import metrics\n",
    "from sklearn.metrics import roc_curve,roc_auc_score\n"
   ]
  },
  {
   "cell_type": "code",
   "execution_count": 67,
   "metadata": {},
   "outputs": [],
   "source": [
    "from scipy.io.arff import loadarff \n",
    "from sklearn.preprocessing import LabelEncoder\n",
    "raw_data = loadarff('base_validacao_02.arff')\n",
    "data = pd.DataFrame(raw_data[0])\n",
    "data.rename(columns={'flag_fraude_cat': 'Class'}, inplace=True)\n",
    "\n",
    "# Initialize LabelEncoder\n",
    "label_encoder = LabelEncoder()\n",
    "\n",
    "# Label encode the 'Class' column\n",
    "data['Class'] = label_encoder.fit_transform(data['Class'])\n",
    "tr_data = data\n",
    "X = tr_data.drop(['Class'], axis = 'columns')\n",
    "Label_Data = tr_data['Class']\n",
    "y=tr_data['Class']\n",
    "X_test=X\n",
    "y_test=y"
   ]
  },
  {
   "cell_type": "code",
   "execution_count": 68,
   "metadata": {
    "id": "kGT-2MIrucVA",
    "outputId": "3183999c-2fb4-4bda-9ad5-9b14b0d1efa2"
   },
   "outputs": [],
   "source": [
    "raw_data = loadarff('base_desenv_02.arff')\n",
    "df = pd.DataFrame(raw_data[0])\n",
    "df.rename(columns={'flag_fraude_cat': 'Class'}, inplace=True)\n",
    "\n",
    "# Initialize LabelEncoder\n",
    "label_encoder = LabelEncoder()\n",
    "\n",
    "# Label encode the 'Class' column\n",
    "df['Class'] = label_encoder.fit_transform(df['Class'])"
   ]
  },
  {
   "cell_type": "code",
   "execution_count": 69,
   "metadata": {
    "id": "QCI131t8ucVC",
    "outputId": "b094c0e5-7694-489e-d2c0-931e6f417364",
    "scrolled": true
   },
   "outputs": [
    {
     "data": {
      "text/html": [
       "<div>\n",
       "<style scoped>\n",
       "    .dataframe tbody tr th:only-of-type {\n",
       "        vertical-align: middle;\n",
       "    }\n",
       "\n",
       "    .dataframe tbody tr th {\n",
       "        vertical-align: top;\n",
       "    }\n",
       "\n",
       "    .dataframe thead th {\n",
       "        text-align: right;\n",
       "    }\n",
       "</style>\n",
       "<table border=\"1\" class=\"dataframe\">\n",
       "  <thead>\n",
       "    <tr style=\"text-align: right;\">\n",
       "      <th></th>\n",
       "      <th>mcc_cat</th>\n",
       "      <th>mcc_ant_cat</th>\n",
       "      <th>cep_cat</th>\n",
       "      <th>cep_ant_cat</th>\n",
       "      <th>valor_trans_cat</th>\n",
       "      <th>valor_trans_ant_cat</th>\n",
       "      <th>pos_entry</th>\n",
       "      <th>lim_cred_cat</th>\n",
       "      <th>bandeira_cat</th>\n",
       "      <th>variante_cat</th>\n",
       "      <th>score_cat</th>\n",
       "      <th>tp_pessoa_cat</th>\n",
       "      <th>trans_nacional_cat</th>\n",
       "      <th>qtde_parc_cat</th>\n",
       "      <th>velocidade_cat</th>\n",
       "      <th>dif_score_cat</th>\n",
       "      <th>trans_limit_cat</th>\n",
       "      <th>Class</th>\n",
       "    </tr>\n",
       "  </thead>\n",
       "  <tbody>\n",
       "    <tr>\n",
       "      <th>count</th>\n",
       "      <td>29104.000000</td>\n",
       "      <td>29104.000000</td>\n",
       "      <td>29104.000000</td>\n",
       "      <td>29104.000000</td>\n",
       "      <td>29104.000000</td>\n",
       "      <td>29104.000000</td>\n",
       "      <td>29104.000000</td>\n",
       "      <td>29104.000000</td>\n",
       "      <td>29104.000000</td>\n",
       "      <td>29104.000000</td>\n",
       "      <td>29104.000000</td>\n",
       "      <td>29104.000000</td>\n",
       "      <td>29104.000000</td>\n",
       "      <td>29104.000000</td>\n",
       "      <td>29104.000000</td>\n",
       "      <td>29104.000000</td>\n",
       "      <td>29104.000000</td>\n",
       "      <td>29104.000000</td>\n",
       "    </tr>\n",
       "    <tr>\n",
       "      <th>mean</th>\n",
       "      <td>10.900667</td>\n",
       "      <td>6.598612</td>\n",
       "      <td>3.907264</td>\n",
       "      <td>2.284394</td>\n",
       "      <td>4.977220</td>\n",
       "      <td>3.351979</td>\n",
       "      <td>3.835899</td>\n",
       "      <td>5.888503</td>\n",
       "      <td>2.351567</td>\n",
       "      <td>2.015049</td>\n",
       "      <td>0.631941</td>\n",
       "      <td>0.982545</td>\n",
       "      <td>0.005154</td>\n",
       "      <td>1.211792</td>\n",
       "      <td>3.361291</td>\n",
       "      <td>2.933308</td>\n",
       "      <td>0.069269</td>\n",
       "      <td>0.037521</td>\n",
       "    </tr>\n",
       "    <tr>\n",
       "      <th>std</th>\n",
       "      <td>6.261320</td>\n",
       "      <td>7.303525</td>\n",
       "      <td>2.442654</td>\n",
       "      <td>2.653015</td>\n",
       "      <td>2.432682</td>\n",
       "      <td>2.714225</td>\n",
       "      <td>3.160507</td>\n",
       "      <td>2.436714</td>\n",
       "      <td>1.719125</td>\n",
       "      <td>0.834260</td>\n",
       "      <td>1.703692</td>\n",
       "      <td>0.130960</td>\n",
       "      <td>0.071607</td>\n",
       "      <td>0.469841</td>\n",
       "      <td>1.709276</td>\n",
       "      <td>0.983518</td>\n",
       "      <td>0.397668</td>\n",
       "      <td>0.190037</td>\n",
       "    </tr>\n",
       "    <tr>\n",
       "      <th>min</th>\n",
       "      <td>0.000000</td>\n",
       "      <td>0.000000</td>\n",
       "      <td>0.000000</td>\n",
       "      <td>0.000000</td>\n",
       "      <td>1.000000</td>\n",
       "      <td>1.000000</td>\n",
       "      <td>0.000000</td>\n",
       "      <td>1.000000</td>\n",
       "      <td>1.000000</td>\n",
       "      <td>1.000000</td>\n",
       "      <td>0.000000</td>\n",
       "      <td>0.000000</td>\n",
       "      <td>0.000000</td>\n",
       "      <td>1.000000</td>\n",
       "      <td>1.000000</td>\n",
       "      <td>1.000000</td>\n",
       "      <td>0.000000</td>\n",
       "      <td>0.000000</td>\n",
       "    </tr>\n",
       "    <tr>\n",
       "      <th>25%</th>\n",
       "      <td>6.000000</td>\n",
       "      <td>0.000000</td>\n",
       "      <td>2.000000</td>\n",
       "      <td>0.000000</td>\n",
       "      <td>3.000000</td>\n",
       "      <td>1.000000</td>\n",
       "      <td>2.000000</td>\n",
       "      <td>4.000000</td>\n",
       "      <td>1.000000</td>\n",
       "      <td>1.000000</td>\n",
       "      <td>0.000000</td>\n",
       "      <td>1.000000</td>\n",
       "      <td>0.000000</td>\n",
       "      <td>1.000000</td>\n",
       "      <td>2.000000</td>\n",
       "      <td>3.000000</td>\n",
       "      <td>0.000000</td>\n",
       "      <td>0.000000</td>\n",
       "    </tr>\n",
       "    <tr>\n",
       "      <th>50%</th>\n",
       "      <td>9.000000</td>\n",
       "      <td>6.000000</td>\n",
       "      <td>4.000000</td>\n",
       "      <td>1.000000</td>\n",
       "      <td>5.000000</td>\n",
       "      <td>2.000000</td>\n",
       "      <td>2.000000</td>\n",
       "      <td>6.000000</td>\n",
       "      <td>1.000000</td>\n",
       "      <td>2.000000</td>\n",
       "      <td>0.000000</td>\n",
       "      <td>1.000000</td>\n",
       "      <td>0.000000</td>\n",
       "      <td>1.000000</td>\n",
       "      <td>2.000000</td>\n",
       "      <td>3.000000</td>\n",
       "      <td>0.000000</td>\n",
       "      <td>0.000000</td>\n",
       "    </tr>\n",
       "    <tr>\n",
       "      <th>75%</th>\n",
       "      <td>15.000000</td>\n",
       "      <td>12.000000</td>\n",
       "      <td>6.000000</td>\n",
       "      <td>4.000000</td>\n",
       "      <td>7.000000</td>\n",
       "      <td>5.000000</td>\n",
       "      <td>9.000000</td>\n",
       "      <td>8.000000</td>\n",
       "      <td>5.000000</td>\n",
       "      <td>3.000000</td>\n",
       "      <td>0.000000</td>\n",
       "      <td>1.000000</td>\n",
       "      <td>0.000000</td>\n",
       "      <td>1.000000</td>\n",
       "      <td>5.000000</td>\n",
       "      <td>3.000000</td>\n",
       "      <td>0.000000</td>\n",
       "      <td>0.000000</td>\n",
       "    </tr>\n",
       "    <tr>\n",
       "      <th>max</th>\n",
       "      <td>32.000000</td>\n",
       "      <td>32.000000</td>\n",
       "      <td>9.000000</td>\n",
       "      <td>9.000000</td>\n",
       "      <td>9.000000</td>\n",
       "      <td>9.000000</td>\n",
       "      <td>9.000000</td>\n",
       "      <td>9.000000</td>\n",
       "      <td>5.000000</td>\n",
       "      <td>5.000000</td>\n",
       "      <td>9.000000</td>\n",
       "      <td>1.000000</td>\n",
       "      <td>1.000000</td>\n",
       "      <td>3.000000</td>\n",
       "      <td>7.000000</td>\n",
       "      <td>5.000000</td>\n",
       "      <td>8.000000</td>\n",
       "      <td>1.000000</td>\n",
       "    </tr>\n",
       "  </tbody>\n",
       "</table>\n",
       "</div>"
      ],
      "text/plain": [
       "            mcc_cat   mcc_ant_cat       cep_cat   cep_ant_cat  \\\n",
       "count  29104.000000  29104.000000  29104.000000  29104.000000   \n",
       "mean      10.900667      6.598612      3.907264      2.284394   \n",
       "std        6.261320      7.303525      2.442654      2.653015   \n",
       "min        0.000000      0.000000      0.000000      0.000000   \n",
       "25%        6.000000      0.000000      2.000000      0.000000   \n",
       "50%        9.000000      6.000000      4.000000      1.000000   \n",
       "75%       15.000000     12.000000      6.000000      4.000000   \n",
       "max       32.000000     32.000000      9.000000      9.000000   \n",
       "\n",
       "       valor_trans_cat  valor_trans_ant_cat     pos_entry  lim_cred_cat  \\\n",
       "count     29104.000000         29104.000000  29104.000000  29104.000000   \n",
       "mean          4.977220             3.351979      3.835899      5.888503   \n",
       "std           2.432682             2.714225      3.160507      2.436714   \n",
       "min           1.000000             1.000000      0.000000      1.000000   \n",
       "25%           3.000000             1.000000      2.000000      4.000000   \n",
       "50%           5.000000             2.000000      2.000000      6.000000   \n",
       "75%           7.000000             5.000000      9.000000      8.000000   \n",
       "max           9.000000             9.000000      9.000000      9.000000   \n",
       "\n",
       "       bandeira_cat  variante_cat     score_cat  tp_pessoa_cat  \\\n",
       "count  29104.000000  29104.000000  29104.000000   29104.000000   \n",
       "mean       2.351567      2.015049      0.631941       0.982545   \n",
       "std        1.719125      0.834260      1.703692       0.130960   \n",
       "min        1.000000      1.000000      0.000000       0.000000   \n",
       "25%        1.000000      1.000000      0.000000       1.000000   \n",
       "50%        1.000000      2.000000      0.000000       1.000000   \n",
       "75%        5.000000      3.000000      0.000000       1.000000   \n",
       "max        5.000000      5.000000      9.000000       1.000000   \n",
       "\n",
       "       trans_nacional_cat  qtde_parc_cat  velocidade_cat  dif_score_cat  \\\n",
       "count        29104.000000   29104.000000    29104.000000   29104.000000   \n",
       "mean             0.005154       1.211792        3.361291       2.933308   \n",
       "std              0.071607       0.469841        1.709276       0.983518   \n",
       "min              0.000000       1.000000        1.000000       1.000000   \n",
       "25%              0.000000       1.000000        2.000000       3.000000   \n",
       "50%              0.000000       1.000000        2.000000       3.000000   \n",
       "75%              0.000000       1.000000        5.000000       3.000000   \n",
       "max              1.000000       3.000000        7.000000       5.000000   \n",
       "\n",
       "       trans_limit_cat         Class  \n",
       "count     29104.000000  29104.000000  \n",
       "mean          0.069269      0.037521  \n",
       "std           0.397668      0.190037  \n",
       "min           0.000000      0.000000  \n",
       "25%           0.000000      0.000000  \n",
       "50%           0.000000      0.000000  \n",
       "75%           0.000000      0.000000  \n",
       "max           8.000000      1.000000  "
      ]
     },
     "execution_count": 69,
     "metadata": {},
     "output_type": "execute_result"
    }
   ],
   "source": [
    "df.describe()"
   ]
  },
  {
   "cell_type": "code",
   "execution_count": 70,
   "metadata": {},
   "outputs": [
    {
     "data": {
      "text/plain": [
       "(29104, 18)"
      ]
     },
     "execution_count": 70,
     "metadata": {},
     "output_type": "execute_result"
    }
   ],
   "source": [
    "df.shape"
   ]
  },
  {
   "cell_type": "code",
   "execution_count": 71,
   "metadata": {},
   "outputs": [],
   "source": [
    "df1=df\n",
    "Target=df['Class']\n",
    "df.drop('Class',axis=1, inplace=True)"
   ]
  },
  {
   "cell_type": "markdown",
   "metadata": {
    "id": "jK6Y_qdNucVQ"
   },
   "source": [
    "Final Dataframe"
   ]
  },
  {
   "cell_type": "markdown",
   "metadata": {
    "id": "u37HWxt0ucVT"
   },
   "source": [
    "# outlier"
   ]
  },
  {
   "cell_type": "markdown",
   "metadata": {
    "id": "iDP-BEb9ucVb"
   },
   "source": [
    "## OneClassSVM"
   ]
  },
  {
   "cell_type": "code",
   "execution_count": 72,
   "metadata": {
    "id": "1A47Ru0cucVb"
   },
   "outputs": [],
   "source": [
    "from sklearn.svm import OneClassSVM"
   ]
  },
  {
   "cell_type": "code",
   "execution_count": 73,
   "metadata": {
    "id": "7xorp-fXucVc",
    "outputId": "806d8ce4-032a-4a5d-e262-035158fcdb23"
   },
   "outputs": [
    {
     "data": {
      "text/plain": [
       "((1092, 17), (28012, 17))"
      ]
     },
     "execution_count": 73,
     "metadata": {},
     "output_type": "execute_result"
    }
   ],
   "source": [
    "df1_fraud=df1[Target==1]\n",
    "df1_normal=df1[Target==0]\n",
    "df1_fraud.shape,df1_normal.shape"
   ]
  },
  {
   "cell_type": "code",
   "execution_count": 74,
   "metadata": {
    "id": "L9jQIyRGucVc",
    "outputId": "5595d924-5288-4bc6-8ce1-02830ef2242d"
   },
   "outputs": [
    {
     "data": {
      "text/plain": [
       "array([-1,  1], dtype=int64)"
      ]
     },
     "execution_count": 74,
     "metadata": {},
     "output_type": "execute_result"
    }
   ],
   "source": [
    "clf = OneClassSVM()\n",
    "res = clf.fit_predict(df1_fraud)\n",
    "np.unique(res)"
   ]
  },
  {
   "cell_type": "code",
   "execution_count": 75,
   "metadata": {
    "id": "P7v-yRJVucVc"
   },
   "outputs": [],
   "source": [
    "df1_normal['Class']=0\n",
    "df1_fraud['Class']=res"
   ]
  },
  {
   "cell_type": "code",
   "execution_count": 76,
   "metadata": {
    "id": "wBim-UD3ucVc"
   },
   "outputs": [],
   "source": [
    "frames = [df1_normal, df1_fraud]\n",
    "result = pd.concat(frames)"
   ]
  },
  {
   "cell_type": "code",
   "execution_count": 77,
   "metadata": {
    "id": "0K4UXK6oucVd",
    "outputId": "61c6d69e-c7b9-47fe-eb39-8d310370adf3"
   },
   "outputs": [
    {
     "data": {
      "text/plain": [
       "(541, 18)"
      ]
     },
     "execution_count": 77,
     "metadata": {},
     "output_type": "execute_result"
    }
   ],
   "source": [
    "osvm_res=result[result['Class']!=-1]\n",
    "osvm_out=result[result['Class']==-1]\n",
    "result[result['Class']==-1].shape"
   ]
  },
  {
   "cell_type": "code",
   "execution_count": 78,
   "metadata": {},
   "outputs": [],
   "source": [
    "osvm_t=pd.DataFrame(osvm_res['Class'])\n",
    "osvm_res.drop(['Class'],axis=1,inplace=True)\n",
    "osvm_ot=pd.DataFrame(osvm_out['Class'])\n",
    "osvm_out.drop(['Class'],axis=1,inplace=True)"
   ]
  },
  {
   "cell_type": "markdown",
   "metadata": {
    "id": "tFMPFkLaucVe"
   },
   "source": [
    "# Balancing"
   ]
  },
  {
   "cell_type": "code",
   "execution_count": 79,
   "metadata": {
    "id": "1B9xZ1JAucVe"
   },
   "outputs": [],
   "source": [
    "from imblearn.over_sampling import SMOTE \n",
    "from sklearn.metrics import accuracy_score\n",
    "from statistics import mean\n",
    "from sklearn.model_selection import KFold\n",
    "import matplotlib.pyplot as plt\n",
    "from sklearn.metrics import RocCurveDisplay\n",
    "\n",
    "X_train=osvm_res.copy()\n",
    "X_train.reset_index(drop=True,inplace=True)\n",
    "y_train=osvm_t.copy()\n",
    "y_train.reset_index(drop=True,inplace=True)"
   ]
  },
  {
   "cell_type": "code",
   "execution_count": 80,
   "metadata": {},
   "outputs": [],
   "source": [
    "ros = SMOTE(random_state=0,sampling_strategy=0.0526315789)\n",
    "X_resampled, y_resampled = ros.fit_resample(X_train,y_train)\n",
    "X_resampled=pd.concat([X_resampled, osvm_out])\n",
    "y_resampled=pd.concat([y_resampled, osvm_ot])\n",
    "y_resampled[y_resampled==-1]=1\n",
    "clf = LGBMClassifier()\n",
    "clf.fit(X_resampled,y_resampled)\n",
    "yhat_probs = clf.predict(X_test)"
   ]
  },
  {
   "cell_type": "code",
   "execution_count": 81,
   "metadata": {},
   "outputs": [
    {
     "name": "stdout",
     "output_type": "stream",
     "text": [
      "Accuracy: 0.969784\n",
      "Precision: 0.686441\n",
      "Recall: 0.346895\n",
      "f1: 0.460882\n",
      "auc_score: 0.670384\n"
     ]
    }
   ],
   "source": [
    "# demonstration of calculating metrics for a neural network model using sklearn\n",
    "from sklearn.metrics import accuracy_score\n",
    "from sklearn.metrics import precision_score\n",
    "from sklearn.metrics import recall_score\n",
    "from sklearn.metrics import f1_score\n",
    "from sklearn.metrics import confusion_matrix\n",
    "\n",
    "# accuracy: (tp + tn) / (p + n)\n",
    "accuracy = accuracy_score(y_test, yhat_probs)\n",
    "print('Accuracy: %f' % accuracy)\n",
    "# precision tp / (tp + fp)\n",
    "precision = precision_score(y_test, yhat_probs)\n",
    "print('Precision: %f' % precision)\n",
    "# recall: tp / (tp + fn)\n",
    "recall = recall_score(y_test, yhat_probs)\n",
    "print('Recall: %f' % recall)\n",
    "f1 = f1_score(y_test, yhat_probs)\n",
    "print('f1: %f' % f1)\n",
    "auc_score=roc_auc_score(y_test, yhat_probs)\n",
    "print('auc_score: %f' % auc_score)"
   ]
  }
 ],
 "metadata": {
  "colab": {
   "collapsed_sections": [
    "Bp27SWISTBMm",
    "6C_tIniEucVD",
    "f608xbR3ucVI",
    "u37HWxt0ucVT",
    "QZ-v89wQucVT",
    "fx3gW9DlucVW",
    "eltEwu7eucVY",
    "iDP-BEb9ucVb",
    "tFMPFkLaucVe",
    "CSNkI02zucVf",
    "5Q0HksyPucVf",
    "pzBDMQl6ucVi",
    "6ezxCai0ucVk",
    "ssSTnXSlucVn",
    "8XDc0m34ucVn",
    "kkx2ae3SucVp",
    "o9MTWjlbt7TS",
    "5NDtSJtSt7TU",
    "po8OfVBft7TW",
    "bwmbgQLaucVs",
    "eNQWyqKnucVs",
    "kqj56CPtucVu",
    "BH4_EORN7tXs"
   ],
   "name": "credit_card_kaggle_v7.ipynb",
   "provenance": [],
   "toc_visible": true
  },
  "interpreter": {
   "hash": "408d89a3b80ac34e5cdc914373b09bb69ba3e3a6a7f756d6d7498fd367058138"
  },
  "kernelspec": {
   "display_name": "Python 3 (ipykernel)",
   "language": "python",
   "name": "python3"
  },
  "language_info": {
   "codemirror_mode": {
    "name": "ipython",
    "version": 3
   },
   "file_extension": ".py",
   "mimetype": "text/x-python",
   "name": "python",
   "nbconvert_exporter": "python",
   "pygments_lexer": "ipython3",
   "version": "3.10.13"
  }
 },
 "nbformat": 4,
 "nbformat_minor": 1
}
