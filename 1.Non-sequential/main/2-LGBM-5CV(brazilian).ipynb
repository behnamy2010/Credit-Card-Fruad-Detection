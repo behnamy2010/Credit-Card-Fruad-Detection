{
 "cells": [
  {
   "cell_type": "markdown",
   "metadata": {
    "id": "Bp27SWISTBMm"
   },
   "source": [
    "# Fraud detection"
   ]
  },
  {
   "cell_type": "code",
   "execution_count": 1,
   "metadata": {
    "id": "viaqKRF5ucU7"
   },
   "outputs": [],
   "source": [
    "import pandas as pd\n",
    "import numpy as np \n",
    "import warnings\n",
    "warnings.filterwarnings('ignore')"
   ]
  },
  {
   "cell_type": "code",
   "execution_count": 2,
   "metadata": {
    "id": "sPMW_sciucU_"
   },
   "outputs": [],
   "source": [
    "from sklearn.ensemble import RandomForestClassifier\n",
    "from lightgbm import LGBMClassifier\n",
    "from sklearn.metrics import recall_score,f1_score,precision_score\n",
    "#Visualization\n",
    "import matplotlib as mpl\n",
    "import seaborn as sns\n",
    "from sklearn.metrics import auc\n",
    "from sklearn import metrics\n"
   ]
  },
  {
   "cell_type": "code",
   "execution_count": 3,
   "metadata": {
    "id": "kGT-2MIrucVA",
    "outputId": "3183999c-2fb4-4bda-9ad5-9b14b0d1efa2"
   },
   "outputs": [
    {
     "name": "stdout",
     "output_type": "stream",
     "text": [
      "<class 'pandas.core.frame.DataFrame'>\n",
      "RangeIndex: 374823 entries, 0 to 374822\n",
      "Data columns (total 18 columns):\n",
      " #   Column                       Non-Null Count   Dtype\n",
      "---  ------                       --------------   -----\n",
      " 0   mcc_cat numeric              374823 non-null  int64\n",
      " 1   mcc_ant_cat numeric          374823 non-null  int64\n",
      " 2   cep_cat numeric              374823 non-null  int64\n",
      " 3   cep_ant_cat numeric          374823 non-null  int64\n",
      " 4   valor_trans_cat numeric      374823 non-null  int64\n",
      " 5   valor_trans_ant_cat numeric  374823 non-null  int64\n",
      " 6   pos_entry numeric            374823 non-null  int64\n",
      " 7   lim_cred_cat numeric         374823 non-null  int64\n",
      " 8   bandeira_cat numeric         374823 non-null  int64\n",
      " 9   variante_cat numeric         374823 non-null  int64\n",
      " 10  score_cat numeric            374823 non-null  int64\n",
      " 11  tp_pessoa_cat numeric        374823 non-null  int64\n",
      " 12  trans_nacional_cat numeric   374823 non-null  int64\n",
      " 13  qtde_parc_cat numeric        374823 non-null  int64\n",
      " 14  velocidade_cat numeric       374823 non-null  int64\n",
      " 15  dif_score_cat numeric        374823 non-null  int64\n",
      " 16  trans_limit_cat numeric      374823 non-null  int64\n",
      " 17  Class                        374823 non-null  int64\n",
      "dtypes: int64(18)\n",
      "memory usage: 51.5 MB\n"
     ]
    },
    {
     "data": {
      "text/html": [
       "<div>\n",
       "<style scoped>\n",
       "    .dataframe tbody tr th:only-of-type {\n",
       "        vertical-align: middle;\n",
       "    }\n",
       "\n",
       "    .dataframe tbody tr th {\n",
       "        vertical-align: top;\n",
       "    }\n",
       "\n",
       "    .dataframe thead th {\n",
       "        text-align: right;\n",
       "    }\n",
       "</style>\n",
       "<table border=\"1\" class=\"dataframe\">\n",
       "  <thead>\n",
       "    <tr style=\"text-align: right;\">\n",
       "      <th></th>\n",
       "      <th>mcc_cat numeric</th>\n",
       "      <th>mcc_ant_cat numeric</th>\n",
       "      <th>cep_cat numeric</th>\n",
       "      <th>cep_ant_cat numeric</th>\n",
       "      <th>valor_trans_cat numeric</th>\n",
       "      <th>valor_trans_ant_cat numeric</th>\n",
       "      <th>pos_entry numeric</th>\n",
       "      <th>lim_cred_cat numeric</th>\n",
       "      <th>bandeira_cat numeric</th>\n",
       "      <th>variante_cat numeric</th>\n",
       "      <th>score_cat numeric</th>\n",
       "      <th>tp_pessoa_cat numeric</th>\n",
       "      <th>trans_nacional_cat numeric</th>\n",
       "      <th>qtde_parc_cat numeric</th>\n",
       "      <th>velocidade_cat numeric</th>\n",
       "      <th>dif_score_cat numeric</th>\n",
       "      <th>trans_limit_cat numeric</th>\n",
       "      <th>Class</th>\n",
       "    </tr>\n",
       "  </thead>\n",
       "  <tbody>\n",
       "    <tr>\n",
       "      <th>0</th>\n",
       "      <td>9</td>\n",
       "      <td>22</td>\n",
       "      <td>3</td>\n",
       "      <td>3</td>\n",
       "      <td>6</td>\n",
       "      <td>6</td>\n",
       "      <td>2</td>\n",
       "      <td>6</td>\n",
       "      <td>2</td>\n",
       "      <td>3</td>\n",
       "      <td>0</td>\n",
       "      <td>1</td>\n",
       "      <td>0</td>\n",
       "      <td>1</td>\n",
       "      <td>7</td>\n",
       "      <td>1</td>\n",
       "      <td>0</td>\n",
       "      <td>0</td>\n",
       "    </tr>\n",
       "    <tr>\n",
       "      <th>1</th>\n",
       "      <td>22</td>\n",
       "      <td>22</td>\n",
       "      <td>3</td>\n",
       "      <td>3</td>\n",
       "      <td>7</td>\n",
       "      <td>7</td>\n",
       "      <td>2</td>\n",
       "      <td>6</td>\n",
       "      <td>2</td>\n",
       "      <td>3</td>\n",
       "      <td>0</td>\n",
       "      <td>1</td>\n",
       "      <td>0</td>\n",
       "      <td>1</td>\n",
       "      <td>4</td>\n",
       "      <td>4</td>\n",
       "      <td>0</td>\n",
       "      <td>0</td>\n",
       "    </tr>\n",
       "    <tr>\n",
       "      <th>2</th>\n",
       "      <td>22</td>\n",
       "      <td>22</td>\n",
       "      <td>3</td>\n",
       "      <td>3</td>\n",
       "      <td>7</td>\n",
       "      <td>7</td>\n",
       "      <td>2</td>\n",
       "      <td>6</td>\n",
       "      <td>2</td>\n",
       "      <td>3</td>\n",
       "      <td>3</td>\n",
       "      <td>1</td>\n",
       "      <td>0</td>\n",
       "      <td>1</td>\n",
       "      <td>6</td>\n",
       "      <td>5</td>\n",
       "      <td>0</td>\n",
       "      <td>1</td>\n",
       "    </tr>\n",
       "    <tr>\n",
       "      <th>3</th>\n",
       "      <td>9</td>\n",
       "      <td>0</td>\n",
       "      <td>2</td>\n",
       "      <td>0</td>\n",
       "      <td>4</td>\n",
       "      <td>1</td>\n",
       "      <td>2</td>\n",
       "      <td>4</td>\n",
       "      <td>2</td>\n",
       "      <td>3</td>\n",
       "      <td>0</td>\n",
       "      <td>1</td>\n",
       "      <td>0</td>\n",
       "      <td>1</td>\n",
       "      <td>2</td>\n",
       "      <td>3</td>\n",
       "      <td>0</td>\n",
       "      <td>0</td>\n",
       "    </tr>\n",
       "    <tr>\n",
       "      <th>4</th>\n",
       "      <td>15</td>\n",
       "      <td>9</td>\n",
       "      <td>2</td>\n",
       "      <td>2</td>\n",
       "      <td>4</td>\n",
       "      <td>4</td>\n",
       "      <td>2</td>\n",
       "      <td>4</td>\n",
       "      <td>2</td>\n",
       "      <td>3</td>\n",
       "      <td>0</td>\n",
       "      <td>1</td>\n",
       "      <td>0</td>\n",
       "      <td>1</td>\n",
       "      <td>3</td>\n",
       "      <td>3</td>\n",
       "      <td>0</td>\n",
       "      <td>0</td>\n",
       "    </tr>\n",
       "  </tbody>\n",
       "</table>\n",
       "</div>"
      ],
      "text/plain": [
       "   mcc_cat numeric  mcc_ant_cat numeric  cep_cat numeric  cep_ant_cat numeric  \\\n",
       "0                9                   22                3                    3   \n",
       "1               22                   22                3                    3   \n",
       "2               22                   22                3                    3   \n",
       "3                9                    0                2                    0   \n",
       "4               15                    9                2                    2   \n",
       "\n",
       "   valor_trans_cat numeric  valor_trans_ant_cat numeric  pos_entry numeric  \\\n",
       "0                        6                            6                  2   \n",
       "1                        7                            7                  2   \n",
       "2                        7                            7                  2   \n",
       "3                        4                            1                  2   \n",
       "4                        4                            4                  2   \n",
       "\n",
       "   lim_cred_cat numeric  bandeira_cat numeric  variante_cat numeric  \\\n",
       "0                     6                     2                     3   \n",
       "1                     6                     2                     3   \n",
       "2                     6                     2                     3   \n",
       "3                     4                     2                     3   \n",
       "4                     4                     2                     3   \n",
       "\n",
       "   score_cat numeric  tp_pessoa_cat numeric  trans_nacional_cat numeric  \\\n",
       "0                  0                      1                           0   \n",
       "1                  0                      1                           0   \n",
       "2                  3                      1                           0   \n",
       "3                  0                      1                           0   \n",
       "4                  0                      1                           0   \n",
       "\n",
       "   qtde_parc_cat numeric  velocidade_cat numeric  dif_score_cat numeric  \\\n",
       "0                      1                       7                      1   \n",
       "1                      1                       4                      4   \n",
       "2                      1                       6                      5   \n",
       "3                      1                       2                      3   \n",
       "4                      1                       3                      3   \n",
       "\n",
       "   trans_limit_cat numeric  Class  \n",
       "0                        0      0  \n",
       "1                        0      0  \n",
       "2                        0      1  \n",
       "3                        0      0  \n",
       "4                        0      0  "
      ]
     },
     "execution_count": 3,
     "metadata": {},
     "output_type": "execute_result"
    }
   ],
   "source": [
    "df = pd.read_excel('brazilian credit card.xlsx')\n",
    "df.info()\n",
    "df.head() "
   ]
  },
  {
   "cell_type": "code",
   "execution_count": 4,
   "metadata": {
    "id": "QCI131t8ucVC",
    "outputId": "b094c0e5-7694-489e-d2c0-931e6f417364",
    "scrolled": true
   },
   "outputs": [
    {
     "data": {
      "text/html": [
       "<div>\n",
       "<style scoped>\n",
       "    .dataframe tbody tr th:only-of-type {\n",
       "        vertical-align: middle;\n",
       "    }\n",
       "\n",
       "    .dataframe tbody tr th {\n",
       "        vertical-align: top;\n",
       "    }\n",
       "\n",
       "    .dataframe thead th {\n",
       "        text-align: right;\n",
       "    }\n",
       "</style>\n",
       "<table border=\"1\" class=\"dataframe\">\n",
       "  <thead>\n",
       "    <tr style=\"text-align: right;\">\n",
       "      <th></th>\n",
       "      <th>mcc_cat numeric</th>\n",
       "      <th>mcc_ant_cat numeric</th>\n",
       "      <th>cep_cat numeric</th>\n",
       "      <th>cep_ant_cat numeric</th>\n",
       "      <th>valor_trans_cat numeric</th>\n",
       "      <th>valor_trans_ant_cat numeric</th>\n",
       "      <th>pos_entry numeric</th>\n",
       "      <th>lim_cred_cat numeric</th>\n",
       "      <th>bandeira_cat numeric</th>\n",
       "      <th>variante_cat numeric</th>\n",
       "      <th>score_cat numeric</th>\n",
       "      <th>tp_pessoa_cat numeric</th>\n",
       "      <th>trans_nacional_cat numeric</th>\n",
       "      <th>qtde_parc_cat numeric</th>\n",
       "      <th>velocidade_cat numeric</th>\n",
       "      <th>dif_score_cat numeric</th>\n",
       "      <th>trans_limit_cat numeric</th>\n",
       "      <th>Class</th>\n",
       "    </tr>\n",
       "  </thead>\n",
       "  <tbody>\n",
       "    <tr>\n",
       "      <th>count</th>\n",
       "      <td>374823.000000</td>\n",
       "      <td>374823.000000</td>\n",
       "      <td>374823.000000</td>\n",
       "      <td>374823.000000</td>\n",
       "      <td>374823.000000</td>\n",
       "      <td>374823.000000</td>\n",
       "      <td>374823.000000</td>\n",
       "      <td>374823.000000</td>\n",
       "      <td>374823.000000</td>\n",
       "      <td>374823.000000</td>\n",
       "      <td>374823.000000</td>\n",
       "      <td>374823.000000</td>\n",
       "      <td>374823.000000</td>\n",
       "      <td>374823.000000</td>\n",
       "      <td>374823.000000</td>\n",
       "      <td>374823.000000</td>\n",
       "      <td>374823.000000</td>\n",
       "      <td>374823.000000</td>\n",
       "    </tr>\n",
       "    <tr>\n",
       "      <th>mean</th>\n",
       "      <td>10.903594</td>\n",
       "      <td>6.631066</td>\n",
       "      <td>3.903498</td>\n",
       "      <td>2.287608</td>\n",
       "      <td>4.992148</td>\n",
       "      <td>3.362643</td>\n",
       "      <td>3.834394</td>\n",
       "      <td>5.897376</td>\n",
       "      <td>2.348597</td>\n",
       "      <td>2.015295</td>\n",
       "      <td>0.627632</td>\n",
       "      <td>0.983144</td>\n",
       "      <td>0.004898</td>\n",
       "      <td>1.210195</td>\n",
       "      <td>3.365092</td>\n",
       "      <td>2.933561</td>\n",
       "      <td>0.069945</td>\n",
       "      <td>0.037434</td>\n",
       "    </tr>\n",
       "    <tr>\n",
       "      <th>std</th>\n",
       "      <td>6.264215</td>\n",
       "      <td>7.300236</td>\n",
       "      <td>2.441054</td>\n",
       "      <td>2.648531</td>\n",
       "      <td>2.434372</td>\n",
       "      <td>2.712998</td>\n",
       "      <td>3.159801</td>\n",
       "      <td>2.430863</td>\n",
       "      <td>1.717701</td>\n",
       "      <td>0.835288</td>\n",
       "      <td>1.699094</td>\n",
       "      <td>0.128732</td>\n",
       "      <td>0.069816</td>\n",
       "      <td>0.466723</td>\n",
       "      <td>1.706867</td>\n",
       "      <td>0.984662</td>\n",
       "      <td>0.399692</td>\n",
       "      <td>0.189822</td>\n",
       "    </tr>\n",
       "    <tr>\n",
       "      <th>min</th>\n",
       "      <td>0.000000</td>\n",
       "      <td>0.000000</td>\n",
       "      <td>0.000000</td>\n",
       "      <td>0.000000</td>\n",
       "      <td>1.000000</td>\n",
       "      <td>1.000000</td>\n",
       "      <td>0.000000</td>\n",
       "      <td>1.000000</td>\n",
       "      <td>1.000000</td>\n",
       "      <td>1.000000</td>\n",
       "      <td>0.000000</td>\n",
       "      <td>0.000000</td>\n",
       "      <td>0.000000</td>\n",
       "      <td>1.000000</td>\n",
       "      <td>1.000000</td>\n",
       "      <td>1.000000</td>\n",
       "      <td>0.000000</td>\n",
       "      <td>0.000000</td>\n",
       "    </tr>\n",
       "    <tr>\n",
       "      <th>25%</th>\n",
       "      <td>6.000000</td>\n",
       "      <td>0.000000</td>\n",
       "      <td>2.000000</td>\n",
       "      <td>0.000000</td>\n",
       "      <td>3.000000</td>\n",
       "      <td>1.000000</td>\n",
       "      <td>2.000000</td>\n",
       "      <td>4.000000</td>\n",
       "      <td>1.000000</td>\n",
       "      <td>1.000000</td>\n",
       "      <td>0.000000</td>\n",
       "      <td>1.000000</td>\n",
       "      <td>0.000000</td>\n",
       "      <td>1.000000</td>\n",
       "      <td>2.000000</td>\n",
       "      <td>3.000000</td>\n",
       "      <td>0.000000</td>\n",
       "      <td>0.000000</td>\n",
       "    </tr>\n",
       "    <tr>\n",
       "      <th>50%</th>\n",
       "      <td>9.000000</td>\n",
       "      <td>6.000000</td>\n",
       "      <td>4.000000</td>\n",
       "      <td>1.000000</td>\n",
       "      <td>5.000000</td>\n",
       "      <td>2.000000</td>\n",
       "      <td>2.000000</td>\n",
       "      <td>6.000000</td>\n",
       "      <td>1.000000</td>\n",
       "      <td>2.000000</td>\n",
       "      <td>0.000000</td>\n",
       "      <td>1.000000</td>\n",
       "      <td>0.000000</td>\n",
       "      <td>1.000000</td>\n",
       "      <td>2.000000</td>\n",
       "      <td>3.000000</td>\n",
       "      <td>0.000000</td>\n",
       "      <td>0.000000</td>\n",
       "    </tr>\n",
       "    <tr>\n",
       "      <th>75%</th>\n",
       "      <td>15.000000</td>\n",
       "      <td>12.000000</td>\n",
       "      <td>6.000000</td>\n",
       "      <td>4.000000</td>\n",
       "      <td>7.000000</td>\n",
       "      <td>5.000000</td>\n",
       "      <td>9.000000</td>\n",
       "      <td>8.000000</td>\n",
       "      <td>5.000000</td>\n",
       "      <td>3.000000</td>\n",
       "      <td>0.000000</td>\n",
       "      <td>1.000000</td>\n",
       "      <td>0.000000</td>\n",
       "      <td>1.000000</td>\n",
       "      <td>5.000000</td>\n",
       "      <td>3.000000</td>\n",
       "      <td>0.000000</td>\n",
       "      <td>0.000000</td>\n",
       "    </tr>\n",
       "    <tr>\n",
       "      <th>max</th>\n",
       "      <td>32.000000</td>\n",
       "      <td>32.000000</td>\n",
       "      <td>9.000000</td>\n",
       "      <td>9.000000</td>\n",
       "      <td>9.000000</td>\n",
       "      <td>9.000000</td>\n",
       "      <td>9.000000</td>\n",
       "      <td>9.000000</td>\n",
       "      <td>5.000000</td>\n",
       "      <td>5.000000</td>\n",
       "      <td>9.000000</td>\n",
       "      <td>1.000000</td>\n",
       "      <td>1.000000</td>\n",
       "      <td>3.000000</td>\n",
       "      <td>7.000000</td>\n",
       "      <td>5.000000</td>\n",
       "      <td>9.000000</td>\n",
       "      <td>1.000000</td>\n",
       "    </tr>\n",
       "  </tbody>\n",
       "</table>\n",
       "</div>"
      ],
      "text/plain": [
       "       mcc_cat numeric  mcc_ant_cat numeric  cep_cat numeric  \\\n",
       "count    374823.000000        374823.000000    374823.000000   \n",
       "mean         10.903594             6.631066         3.903498   \n",
       "std           6.264215             7.300236         2.441054   \n",
       "min           0.000000             0.000000         0.000000   \n",
       "25%           6.000000             0.000000         2.000000   \n",
       "50%           9.000000             6.000000         4.000000   \n",
       "75%          15.000000            12.000000         6.000000   \n",
       "max          32.000000            32.000000         9.000000   \n",
       "\n",
       "       cep_ant_cat numeric  valor_trans_cat numeric  \\\n",
       "count        374823.000000            374823.000000   \n",
       "mean              2.287608                 4.992148   \n",
       "std               2.648531                 2.434372   \n",
       "min               0.000000                 1.000000   \n",
       "25%               0.000000                 3.000000   \n",
       "50%               1.000000                 5.000000   \n",
       "75%               4.000000                 7.000000   \n",
       "max               9.000000                 9.000000   \n",
       "\n",
       "       valor_trans_ant_cat numeric  pos_entry numeric  lim_cred_cat numeric  \\\n",
       "count                374823.000000      374823.000000         374823.000000   \n",
       "mean                      3.362643           3.834394              5.897376   \n",
       "std                       2.712998           3.159801              2.430863   \n",
       "min                       1.000000           0.000000              1.000000   \n",
       "25%                       1.000000           2.000000              4.000000   \n",
       "50%                       2.000000           2.000000              6.000000   \n",
       "75%                       5.000000           9.000000              8.000000   \n",
       "max                       9.000000           9.000000              9.000000   \n",
       "\n",
       "       bandeira_cat numeric  variante_cat numeric  score_cat numeric  \\\n",
       "count         374823.000000         374823.000000      374823.000000   \n",
       "mean               2.348597              2.015295           0.627632   \n",
       "std                1.717701              0.835288           1.699094   \n",
       "min                1.000000              1.000000           0.000000   \n",
       "25%                1.000000              1.000000           0.000000   \n",
       "50%                1.000000              2.000000           0.000000   \n",
       "75%                5.000000              3.000000           0.000000   \n",
       "max                5.000000              5.000000           9.000000   \n",
       "\n",
       "       tp_pessoa_cat numeric  trans_nacional_cat numeric  \\\n",
       "count          374823.000000               374823.000000   \n",
       "mean                0.983144                    0.004898   \n",
       "std                 0.128732                    0.069816   \n",
       "min                 0.000000                    0.000000   \n",
       "25%                 1.000000                    0.000000   \n",
       "50%                 1.000000                    0.000000   \n",
       "75%                 1.000000                    0.000000   \n",
       "max                 1.000000                    1.000000   \n",
       "\n",
       "       qtde_parc_cat numeric  velocidade_cat numeric  dif_score_cat numeric  \\\n",
       "count          374823.000000           374823.000000          374823.000000   \n",
       "mean                1.210195                3.365092               2.933561   \n",
       "std                 0.466723                1.706867               0.984662   \n",
       "min                 1.000000                1.000000               1.000000   \n",
       "25%                 1.000000                2.000000               3.000000   \n",
       "50%                 1.000000                2.000000               3.000000   \n",
       "75%                 1.000000                5.000000               3.000000   \n",
       "max                 3.000000                7.000000               5.000000   \n",
       "\n",
       "       trans_limit_cat numeric          Class  \n",
       "count            374823.000000  374823.000000  \n",
       "mean                  0.069945       0.037434  \n",
       "std                   0.399692       0.189822  \n",
       "min                   0.000000       0.000000  \n",
       "25%                   0.000000       0.000000  \n",
       "50%                   0.000000       0.000000  \n",
       "75%                   0.000000       0.000000  \n",
       "max                   9.000000       1.000000  "
      ]
     },
     "execution_count": 4,
     "metadata": {},
     "output_type": "execute_result"
    }
   ],
   "source": [
    "df.describe()"
   ]
  },
  {
   "cell_type": "code",
   "execution_count": 5,
   "metadata": {},
   "outputs": [
    {
     "data": {
      "text/plain": [
       "(374823, 18)"
      ]
     },
     "execution_count": 5,
     "metadata": {},
     "output_type": "execute_result"
    }
   ],
   "source": [
    "df.shape"
   ]
  },
  {
   "cell_type": "code",
   "execution_count": 6,
   "metadata": {},
   "outputs": [],
   "source": [
    "selected_vars =['cep_cat numeric',\n",
    " 'score_cat numeric',\n",
    " 'velocidade_cat numeric',\n",
    " 'bandeira_cat numeric',\n",
    " 'qtde_parc_cat numeric',\n",
    " 'valor_trans_cat numeric',\n",
    " 'trans_nacional_cat numeric',\n",
    " 'mcc_cat numeric',\n",
    " 'valor_trans_ant_cat numeric',\n",
    " 'mcc_ant_cat numeric',\n",
    " 'dif_score_cat numeric',\n",
    " 'cep_ant_cat numeric',\n",
    " 'lim_cred_cat numeric']"
   ]
  },
  {
   "cell_type": "code",
   "execution_count": 7,
   "metadata": {},
   "outputs": [],
   "source": [
    "df1=df[selected_vars]\n",
    "Target=df['Class']\n",
    "df.drop('Class',axis=1, inplace=True)"
   ]
  },
  {
   "cell_type": "code",
   "execution_count": 8,
   "metadata": {
    "id": "_MM1nl9TucVP",
    "outputId": "3a33da2a-f8ff-4326-dd19-b46b2cb50808"
   },
   "outputs": [
    {
     "data": {
      "text/html": [
       "<div>\n",
       "<style scoped>\n",
       "    .dataframe tbody tr th:only-of-type {\n",
       "        vertical-align: middle;\n",
       "    }\n",
       "\n",
       "    .dataframe tbody tr th {\n",
       "        vertical-align: top;\n",
       "    }\n",
       "\n",
       "    .dataframe thead th {\n",
       "        text-align: right;\n",
       "    }\n",
       "</style>\n",
       "<table border=\"1\" class=\"dataframe\">\n",
       "  <thead>\n",
       "    <tr style=\"text-align: right;\">\n",
       "      <th></th>\n",
       "      <th>cep_cat numeric</th>\n",
       "      <th>score_cat numeric</th>\n",
       "      <th>velocidade_cat numeric</th>\n",
       "      <th>bandeira_cat numeric</th>\n",
       "      <th>qtde_parc_cat numeric</th>\n",
       "      <th>valor_trans_cat numeric</th>\n",
       "      <th>trans_nacional_cat numeric</th>\n",
       "      <th>mcc_cat numeric</th>\n",
       "      <th>valor_trans_ant_cat numeric</th>\n",
       "      <th>mcc_ant_cat numeric</th>\n",
       "      <th>dif_score_cat numeric</th>\n",
       "      <th>cep_ant_cat numeric</th>\n",
       "      <th>lim_cred_cat numeric</th>\n",
       "    </tr>\n",
       "  </thead>\n",
       "  <tbody>\n",
       "    <tr>\n",
       "      <th>0</th>\n",
       "      <td>3</td>\n",
       "      <td>0</td>\n",
       "      <td>7</td>\n",
       "      <td>2</td>\n",
       "      <td>1</td>\n",
       "      <td>6</td>\n",
       "      <td>0</td>\n",
       "      <td>9</td>\n",
       "      <td>6</td>\n",
       "      <td>22</td>\n",
       "      <td>1</td>\n",
       "      <td>3</td>\n",
       "      <td>6</td>\n",
       "    </tr>\n",
       "    <tr>\n",
       "      <th>1</th>\n",
       "      <td>3</td>\n",
       "      <td>0</td>\n",
       "      <td>4</td>\n",
       "      <td>2</td>\n",
       "      <td>1</td>\n",
       "      <td>7</td>\n",
       "      <td>0</td>\n",
       "      <td>22</td>\n",
       "      <td>7</td>\n",
       "      <td>22</td>\n",
       "      <td>4</td>\n",
       "      <td>3</td>\n",
       "      <td>6</td>\n",
       "    </tr>\n",
       "    <tr>\n",
       "      <th>2</th>\n",
       "      <td>3</td>\n",
       "      <td>3</td>\n",
       "      <td>6</td>\n",
       "      <td>2</td>\n",
       "      <td>1</td>\n",
       "      <td>7</td>\n",
       "      <td>0</td>\n",
       "      <td>22</td>\n",
       "      <td>7</td>\n",
       "      <td>22</td>\n",
       "      <td>5</td>\n",
       "      <td>3</td>\n",
       "      <td>6</td>\n",
       "    </tr>\n",
       "    <tr>\n",
       "      <th>3</th>\n",
       "      <td>2</td>\n",
       "      <td>0</td>\n",
       "      <td>2</td>\n",
       "      <td>2</td>\n",
       "      <td>1</td>\n",
       "      <td>4</td>\n",
       "      <td>0</td>\n",
       "      <td>9</td>\n",
       "      <td>1</td>\n",
       "      <td>0</td>\n",
       "      <td>3</td>\n",
       "      <td>0</td>\n",
       "      <td>4</td>\n",
       "    </tr>\n",
       "    <tr>\n",
       "      <th>4</th>\n",
       "      <td>2</td>\n",
       "      <td>0</td>\n",
       "      <td>3</td>\n",
       "      <td>2</td>\n",
       "      <td>1</td>\n",
       "      <td>4</td>\n",
       "      <td>0</td>\n",
       "      <td>15</td>\n",
       "      <td>4</td>\n",
       "      <td>9</td>\n",
       "      <td>3</td>\n",
       "      <td>2</td>\n",
       "      <td>4</td>\n",
       "    </tr>\n",
       "  </tbody>\n",
       "</table>\n",
       "</div>"
      ],
      "text/plain": [
       "   cep_cat numeric  score_cat numeric  velocidade_cat numeric  \\\n",
       "0                3                  0                       7   \n",
       "1                3                  0                       4   \n",
       "2                3                  3                       6   \n",
       "3                2                  0                       2   \n",
       "4                2                  0                       3   \n",
       "\n",
       "   bandeira_cat numeric  qtde_parc_cat numeric  valor_trans_cat numeric  \\\n",
       "0                     2                      1                        6   \n",
       "1                     2                      1                        7   \n",
       "2                     2                      1                        7   \n",
       "3                     2                      1                        4   \n",
       "4                     2                      1                        4   \n",
       "\n",
       "   trans_nacional_cat numeric  mcc_cat numeric  valor_trans_ant_cat numeric  \\\n",
       "0                           0                9                            6   \n",
       "1                           0               22                            7   \n",
       "2                           0               22                            7   \n",
       "3                           0                9                            1   \n",
       "4                           0               15                            4   \n",
       "\n",
       "   mcc_ant_cat numeric  dif_score_cat numeric  cep_ant_cat numeric  \\\n",
       "0                   22                      1                    3   \n",
       "1                   22                      4                    3   \n",
       "2                   22                      5                    3   \n",
       "3                    0                      3                    0   \n",
       "4                    9                      3                    2   \n",
       "\n",
       "   lim_cred_cat numeric  \n",
       "0                     6  \n",
       "1                     6  \n",
       "2                     6  \n",
       "3                     4  \n",
       "4                     4  "
      ]
     },
     "execution_count": 8,
     "metadata": {},
     "output_type": "execute_result"
    }
   ],
   "source": [
    "df1.head()"
   ]
  },
  {
   "cell_type": "markdown",
   "metadata": {
    "id": "jK6Y_qdNucVQ"
   },
   "source": [
    "Final Dataframe"
   ]
  },
  {
   "cell_type": "code",
   "execution_count": 9,
   "metadata": {
    "id": "XfoRZrqhucVQ",
    "outputId": "2e735adf-6cb2-4bd3-d887-929bc19f7e46"
   },
   "outputs": [
    {
     "name": "stdout",
     "output_type": "stream",
     "text": [
      "<class 'pandas.core.frame.DataFrame'>\n",
      "RangeIndex: 374823 entries, 0 to 374822\n",
      "Data columns (total 13 columns):\n",
      " #   Column                       Non-Null Count   Dtype\n",
      "---  ------                       --------------   -----\n",
      " 0   cep_cat numeric              374823 non-null  int64\n",
      " 1   score_cat numeric            374823 non-null  int64\n",
      " 2   velocidade_cat numeric       374823 non-null  int64\n",
      " 3   bandeira_cat numeric         374823 non-null  int64\n",
      " 4   qtde_parc_cat numeric        374823 non-null  int64\n",
      " 5   valor_trans_cat numeric      374823 non-null  int64\n",
      " 6   trans_nacional_cat numeric   374823 non-null  int64\n",
      " 7   mcc_cat numeric              374823 non-null  int64\n",
      " 8   valor_trans_ant_cat numeric  374823 non-null  int64\n",
      " 9   mcc_ant_cat numeric          374823 non-null  int64\n",
      " 10  dif_score_cat numeric        374823 non-null  int64\n",
      " 11  cep_ant_cat numeric          374823 non-null  int64\n",
      " 12  lim_cred_cat numeric         374823 non-null  int64\n",
      "dtypes: int64(13)\n",
      "memory usage: 37.2 MB\n"
     ]
    }
   ],
   "source": [
    "df1.info()"
   ]
  },
  {
   "cell_type": "code",
   "execution_count": 10,
   "metadata": {},
   "outputs": [
    {
     "name": "stdout",
     "output_type": "stream",
     "text": [
      "fit_time:  98.66403255462646 test_accuracy 0.9994842014460146 test_precision 0.9984546429204816 test_recall 0.9877284895521348 test_f1 0.9930617339123234\n"
     ]
    }
   ],
   "source": [
    "from sklearn.model_selection import cross_validate\n",
    "from sklearn.metrics import recall_score\n",
    "from sklearn.model_selection import ShuffleSplit\n",
    "cv = ShuffleSplit(n_splits=5, test_size=0.3, random_state=0)\n",
    "scoring = ['accuracy','precision','recall','f1']\n",
    "clf = LGBMClassifier(colsample_bytree=0.7, is_unbalance=False, learning_rate=0.01,num_iterations=500,\n",
    "               max_bin=100, max_depth=16, metric='f1', min_child_samples=100,\n",
    "               min_child_weight=0,n_estimators=5000,\n",
    "               num_leaves=1000, random_state=0,\n",
    "                subsample_freq=0);\n",
    "scores = cross_validate(clf, df, Target,cv=cv ,scoring=scoring)\n",
    "print(\"fit_time: \",scores['fit_time'].mean(),\"test_accuracy\",scores['test_accuracy'].mean(),\"test_precision\",scores['test_precision'].mean(),\"test_recall\",scores['test_recall'].mean(),\"test_f1\",scores['test_f1'].mean())"
   ]
  },
  {
   "cell_type": "code",
   "execution_count": 11,
   "metadata": {},
   "outputs": [
    {
     "name": "stdout",
     "output_type": "stream",
     "text": [
      "fit_time:  80.23025784492492 test_accuracy 0.9993419121897427 test_precision 0.9978733215573132 test_recall 0.9844827841321777 test_f1 0.9911280789922359\n"
     ]
    }
   ],
   "source": [
    "from sklearn.model_selection import cross_validate\n",
    "from sklearn.metrics import recall_score\n",
    "from sklearn.model_selection import ShuffleSplit\n",
    "cv = ShuffleSplit(n_splits=5, test_size=0.3, random_state=0)\n",
    "scoring = ['accuracy','precision','recall','f1']\n",
    "clf = LGBMClassifier(colsample_bytree=0.7, is_unbalance=False, learning_rate=0.01,num_iterations=600,\n",
    "               max_bin=100, max_depth=16, metric='f1', min_child_samples=100,\n",
    "               min_child_weight=0,n_estimators=5000,\n",
    "               num_leaves=1000, random_state=0,\n",
    "                subsample_freq=0);\n",
    "scores = cross_validate(clf, df[selected_vars], Target,cv=cv ,scoring=scoring)\n",
    "print(\"fit_time: \",scores['fit_time'].mean(),\"test_accuracy\",scores['test_accuracy'].mean(),\"test_precision\",scores['test_precision'].mean(),\"test_recall\",scores['test_recall'].mean(),\"test_f1\",scores['test_f1'].mean())"
   ]
  },
  {
   "cell_type": "markdown",
   "metadata": {
    "id": "u37HWxt0ucVT"
   },
   "source": [
    "# outlier"
   ]
  },
  {
   "cell_type": "markdown",
   "metadata": {
    "id": "iDP-BEb9ucVb"
   },
   "source": [
    "## OneClassSVM"
   ]
  },
  {
   "cell_type": "code",
   "execution_count": 12,
   "metadata": {
    "id": "1A47Ru0cucVb"
   },
   "outputs": [],
   "source": [
    "from sklearn.svm import OneClassSVM"
   ]
  },
  {
   "cell_type": "code",
   "execution_count": 13,
   "metadata": {
    "id": "7xorp-fXucVc",
    "outputId": "806d8ce4-032a-4a5d-e262-035158fcdb23"
   },
   "outputs": [
    {
     "data": {
      "text/plain": [
       "((14031, 13), (360792, 13))"
      ]
     },
     "execution_count": 13,
     "metadata": {},
     "output_type": "execute_result"
    }
   ],
   "source": [
    "df1_fraud=df1[Target==1]\n",
    "df1_normal=df1[Target==0]\n",
    "df1_fraud.shape,df1_normal.shape"
   ]
  },
  {
   "cell_type": "code",
   "execution_count": 14,
   "metadata": {
    "id": "L9jQIyRGucVc",
    "outputId": "5595d924-5288-4bc6-8ce1-02830ef2242d"
   },
   "outputs": [
    {
     "data": {
      "text/plain": [
       "array([-1,  1], dtype=int64)"
      ]
     },
     "execution_count": 14,
     "metadata": {},
     "output_type": "execute_result"
    }
   ],
   "source": [
    "clf = OneClassSVM()\n",
    "res = clf.fit_predict(df1_fraud)\n",
    "np.unique(res)"
   ]
  },
  {
   "cell_type": "code",
   "execution_count": 15,
   "metadata": {
    "id": "P7v-yRJVucVc"
   },
   "outputs": [],
   "source": [
    "df1_normal['Class']=0\n",
    "df1_fraud['Class']=res"
   ]
  },
  {
   "cell_type": "code",
   "execution_count": 16,
   "metadata": {
    "id": "wBim-UD3ucVc"
   },
   "outputs": [],
   "source": [
    "frames = [df1_normal, df1_fraud]\n",
    "result = pd.concat(frames)"
   ]
  },
  {
   "cell_type": "code",
   "execution_count": 17,
   "metadata": {
    "id": "0K4UXK6oucVd",
    "outputId": "61c6d69e-c7b9-47fe-eb39-8d310370adf3"
   },
   "outputs": [
    {
     "data": {
      "text/plain": [
       "(7038, 14)"
      ]
     },
     "execution_count": 17,
     "metadata": {},
     "output_type": "execute_result"
    }
   ],
   "source": [
    "osvm_res=result[result['Class']!=-1]\n",
    "osvm_out=result[result['Class']==-1]\n",
    "result[result['Class']==-1].shape"
   ]
  },
  {
   "cell_type": "code",
   "execution_count": 18,
   "metadata": {},
   "outputs": [],
   "source": [
    "osvm_t=pd.DataFrame(osvm_res['Class'])\n",
    "osvm_res.drop(['Class'],axis=1,inplace=True)\n",
    "osvm_ot=pd.DataFrame(osvm_out['Class'])\n",
    "osvm_out.drop(['Class'],axis=1,inplace=True)"
   ]
  },
  {
   "cell_type": "markdown",
   "metadata": {
    "id": "tFMPFkLaucVe"
   },
   "source": [
    "# Balancing"
   ]
  },
  {
   "cell_type": "code",
   "execution_count": 19,
   "metadata": {
    "id": "1B9xZ1JAucVe"
   },
   "outputs": [],
   "source": [
    "from imblearn.over_sampling import SMOTE "
   ]
  },
  {
   "cell_type": "code",
   "execution_count": 21,
   "metadata": {},
   "outputs": [
    {
     "name": "stdout",
     "output_type": "stream",
     "text": [
      "Mean ACC:  0.9996383756814443  Mean precision:  0.9851015331097077  Mean Recall:  0.9959508990281637  Mean F1:  0.9904888733418384  Mean AUC:  0.9978299452117914\n"
     ]
    },
    {
     "data": {
      "image/png": "[encoded data removed]",
      "text/plain": [
       "<Figure size 432x432 with 1 Axes>"
      ]
     },
     "metadata": {
      "needs_background": "light"
     },
     "output_type": "display_data"
    }
   ],
   "source": [
    "from sklearn.metrics import accuracy_score\n",
    "from statistics import mean\n",
    "from sklearn.model_selection import KFold\n",
    "import matplotlib.pyplot as plt\n",
    "from sklearn.metrics import RocCurveDisplay\n",
    "\n",
    "kf = KFold(n_splits=5, shuffle = True,random_state=0)\n",
    "X=osvm_res.copy()\n",
    "X.reset_index(drop=True,inplace=True)\n",
    "y=osvm_t.copy()\n",
    "y.reset_index(drop=True,inplace=True)\n",
    "f1=[]\n",
    "acc=[]\n",
    "recall=[]\n",
    "precision=[]\n",
    "AUC=[]\n",
    "prs = []\n",
    "aucs = []\n",
    "k=0\n",
    "tprs = []\n",
    "aucs = []\n",
    "mean_fpr = np.linspace(0, 1, 100)\n",
    "fig, ax = plt.subplots(figsize=(6, 6))\n",
    "for train_index, test_index in kf.split(X):\n",
    "    X_train, X_test = X.loc[train_index], X.loc[test_index]\n",
    "    y_train, y_test = y.loc[train_index], y.loc[test_index]\n",
    "    ros = SMOTE(random_state=0,sampling_strategy=0.0526315789)\n",
    "    X_resampled, y_resampled = ros.fit_resample(X_train,y_train)\n",
    "    X_resampled=pd.concat([X_resampled, osvm_out])\n",
    "    y_resampled=pd.concat([y_resampled, osvm_ot])\n",
    "    y_resampled[y_resampled==-1]=1\n",
    "    clf = LGBMClassifier(colsample_bytree=0.7, learning_rate=0.01,num_iterations=400,\n",
    "               max_bin=100, max_depth=16, metric='f1', min_child_samples=100,\n",
    "               min_child_weight=0,num_leaves=1000, random_state=0,subsample_freq=0);\n",
    "    clf.fit(X_resampled,y_resampled)\n",
    "    preds = clf.predict(X_test)\n",
    "    fpr, tpr, thresholds = metrics.roc_curve(y_test, preds, pos_label=1)\n",
    "    AUC.append(metrics.auc(fpr, tpr))\n",
    "    f1.append(f1_score(y_test, preds))\n",
    "    acc.append(accuracy_score(y_test, preds))\n",
    "    recall.append(recall_score(y_test,preds))\n",
    "    precision.append(precision_score(y_test, preds))\n",
    "    viz = RocCurveDisplay.from_estimator(\n",
    "        clf,\n",
    "        X_test,\n",
    "        y_test,\n",
    "        name=f\"ROC fold {k}\",\n",
    "        alpha=0.3,\n",
    "        lw=1,\n",
    "        ax=ax,\n",
    "    )\n",
    "    k+=1\n",
    "    interp_tpr = np.interp(mean_fpr, viz.fpr, viz.tpr)\n",
    "    interp_tpr[0] = 0.0\n",
    "    tprs.append(interp_tpr)\n",
    "    aucs.append(viz.roc_auc)\n",
    "print(\"Mean ACC: \",mean(acc),\" Mean precision: \",mean(precision),\" Mean Recall: \",mean(recall),\" Mean F1: \",mean(f1),\" Mean AUC: \",mean(AUC))\n",
    "ax.plot([0, 1], [0, 1], \"k--\", label=\"chance level (AUC = 0.5)\")\n",
    "\n",
    "mean_tpr = np.mean(tprs, axis=0)\n",
    "mean_tpr[-1] = 1.0\n",
    "mean_auc = auc(mean_fpr, mean_tpr)\n",
    "std_auc = np.std(aucs)\n",
    "ax.plot(\n",
    "    mean_fpr,\n",
    "    mean_tpr,\n",
    "    color=\"b\",\n",
    "    label=r\"Mean ROC (AUC = %0.2f $\\pm$ %0.2f)\" % (mean_auc, std_auc),\n",
    "    lw=2,\n",
    "    alpha=0.8,\n",
    ")\n",
    "\n",
    "std_tpr = np.std(tprs, axis=0)\n",
    "tprs_upper = np.minimum(mean_tpr + std_tpr, 1)\n",
    "tprs_lower = np.maximum(mean_tpr - std_tpr, 0)\n",
    "ax.fill_between(\n",
    "    mean_fpr,\n",
    "    tprs_lower,\n",
    "    tprs_upper,\n",
    "    color=\"grey\",\n",
    "    alpha=0.2,\n",
    "    label=r\"$\\pm$ 1 std. dev.\",\n",
    ")\n",
    "\n",
    "ax.set(\n",
    "    xlim=[-0.05, 1.05],\n",
    "    ylim=[-0.05, 1.05],\n",
    "    xlabel=\"False Positive Rate\",\n",
    "    ylabel=\"True Positive Rate\",\n",
    "    title=f\"Mean ROC curve\\n(Non-Sequential-Brazilian dataset)\",\n",
    ")\n",
    "ax.axis(\"square\")\n",
    "ax.legend(loc=\"lower right\")\n",
    "plt.show()"
   ]
  }
 ],
 "metadata": {
  "colab": {
   "collapsed_sections": [
    "Bp27SWISTBMm",
    "6C_tIniEucVD",
    "f608xbR3ucVI",
    "u37HWxt0ucVT",
    "QZ-v89wQucVT",
    "fx3gW9DlucVW",
    "eltEwu7eucVY",
    "iDP-BEb9ucVb",
    "tFMPFkLaucVe",
    "CSNkI02zucVf",
    "5Q0HksyPucVf",
    "pzBDMQl6ucVi",
    "6ezxCai0ucVk",
    "ssSTnXSlucVn",
    "8XDc0m34ucVn",
    "kkx2ae3SucVp",
    "o9MTWjlbt7TS",
    "5NDtSJtSt7TU",
    "po8OfVBft7TW",
    "bwmbgQLaucVs",
    "eNQWyqKnucVs",
    "kqj56CPtucVu",
    "BH4_EORN7tXs"
   ],
   "name": "credit_card_kaggle_v7.ipynb",
   "provenance": [],
   "toc_visible": true
  },
  "interpreter": {
   "hash": "408d89a3b80ac34e5cdc914373b09bb69ba3e3a6a7f756d6d7498fd367058138"
  },
  "kernelspec": {
   "display_name": "Python 3 (ipykernel)",
   "language": "python",
   "name": "python3"
  },
  "language_info": {
   "codemirror_mode": {
    "name": "ipython",
    "version": 3
   },
   "file_extension": ".py",
   "mimetype": "text/x-python",
   "name": "python",
   "nbconvert_exporter": "python",
   "pygments_lexer": "ipython3",
   "version": "3.9.7"
  }
 },
 "nbformat": 4,
 "nbformat_minor": 1
}
