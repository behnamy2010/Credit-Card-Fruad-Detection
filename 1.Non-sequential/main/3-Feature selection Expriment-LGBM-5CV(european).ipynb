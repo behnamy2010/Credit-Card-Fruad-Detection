{
 "cells": [
  {
   "cell_type": "markdown",
   "metadata": {
    "id": "Bp27SWISTBMm"
   },
   "source": [
    "# Fraud detection"
   ]
  },
  {
   "cell_type": "code",
   "execution_count": 1,
   "metadata": {
    "id": "viaqKRF5ucU7"
   },
   "outputs": [],
   "source": [
    "import pandas as pd\n",
    "from lightgbm import LGBMClassifier\n",
    "from sklearn.model_selection import cross_validate\n",
    "from sklearn.model_selection import ShuffleSplit\n",
    "import warnings\n",
    "warnings.filterwarnings('ignore')"
   ]
  },
  {
   "cell_type": "code",
   "execution_count": 2,
   "metadata": {
    "id": "kGT-2MIrucVA",
    "outputId": "3183999c-2fb4-4bda-9ad5-9b14b0d1efa2"
   },
   "outputs": [],
   "source": [
    "df = pd.read_csv('creditcard.csv')"
   ]
  },
  {
   "cell_type": "code",
   "execution_count": 3,
   "metadata": {
    "id": "m9G-dE-zklxW"
   },
   "outputs": [],
   "source": [
    "df.drop(['Time'], axis=1, inplace=True)"
   ]
  },
  {
   "cell_type": "code",
   "execution_count": 5,
   "metadata": {},
   "outputs": [],
   "source": [
    "Target=df['Class']\n",
    "df.drop('Class',axis=1, inplace=True)"
   ]
  },
  {
   "attachments": {},
   "cell_type": "markdown",
   "metadata": {},
   "source": [
    "Original"
   ]
  },
  {
   "cell_type": "code",
   "execution_count": 12,
   "metadata": {},
   "outputs": [
    {
     "name": "stdout",
     "output_type": "stream",
     "text": [
      "fit_time:  31.145552539825438 ,test_accuracy:  0.999534192385567 ,test_precision:  0.9543506598375784 ,test_recall: 0.7749609017429806 ,test_f1:  0.8550401092331331 ,test_roc_auc:  0.9814517517609691\n"
     ]
    }
   ],
   "source": [
    "cv = ShuffleSplit(n_splits=5, test_size=0.3)\n",
    "scoring = ['accuracy','precision','recall','f1','roc_auc']\n",
    "clf = LGBMClassifier(colsample_bytree=0.7, is_unbalance=False, learning_rate=0.01,num_iterations=600,\n",
    "               max_bin=100, max_depth=16, metric='f1', min_child_samples=100,\n",
    "               min_child_weight=0,n_estimators=5000,\n",
    "               num_leaves=1000,\n",
    "                subsample_freq=0,verbose=-1);\n",
    "scores = cross_validate(clf, df, Target,cv=cv ,scoring=scoring)\n",
    "print(\"fit_time: \",scores['fit_time'].mean(),\",test_accuracy: \",scores['test_accuracy'].mean(),\",test_precision: \",scores['test_precision'].mean(),\",test_recall:\",scores['test_recall'].mean(),\",test_f1: \",scores['test_f1'].mean(),\",test_roc_auc: \",scores['test_roc_auc'].mean())"
   ]
  },
  {
   "attachments": {},
   "cell_type": "markdown",
   "metadata": {},
   "source": [
    "Our fature selected"
   ]
  },
  {
   "cell_type": "code",
   "execution_count": 10,
   "metadata": {},
   "outputs": [
    {
     "name": "stdout",
     "output_type": "stream",
     "text": [
      "fit_time:  22.985383129119874 ,test_accuracy:  0.999573984995845 ,test_precision:  0.9357104439782242 ,test_recall: 0.7987628646083293 ,test_f1:  0.8614860867044533 ,test_roc_auc:  0.977880367515597\n"
     ]
    }
   ],
   "source": [
    "selected_vars =['V4','V14','V10','V16','V9','V12','V11','V17','V7','V21','V18','V8','V1','V3','V6','V2','V27','V5','V26']\n",
    "cv = ShuffleSplit(n_splits=5, test_size=0.3)\n",
    "scoring = ['accuracy','precision','recall','f1','roc_auc']\n",
    "clf = LGBMClassifier(colsample_bytree=0.7, is_unbalance=False, learning_rate=0.01,num_iterations=600,\n",
    "               max_bin=100, max_depth=16, metric='f1', min_child_samples=100,\n",
    "               min_child_weight=0,n_estimators=5000,\n",
    "               num_leaves=1000,\n",
    "                subsample_freq=0,verbose=-1);\n",
    "scores = cross_validate(clf, df[selected_vars], Target,cv=cv ,scoring=scoring)\n",
    "print(\"fit_time: \",scores['fit_time'].mean(),\",test_accuracy: \",scores['test_accuracy'].mean(),\",test_precision: \",scores['test_precision'].mean(),\",test_recall:\",scores['test_recall'].mean(),\",test_f1: \",scores['test_f1'].mean(),\",test_roc_auc: \",scores['test_roc_auc'].mean())"
   ]
  },
  {
   "attachments": {},
   "cell_type": "markdown",
   "metadata": {},
   "source": [
    "Fature selected by Information_Value"
   ]
  },
  {
   "cell_type": "code",
   "execution_count": 8,
   "metadata": {},
   "outputs": [
    {
     "name": "stdout",
     "output_type": "stream",
     "text": [
      "fit_time:  22.18713493347168 ,test_accuracy:  0.9994194960382945 ,test_precision:  0.8839617620972845 ,test_recall: 0.7693084732593265 ,test_f1:  0.8220880569925535 ,test_roc_auc:  0.9777670408767483\n"
     ]
    }
   ],
   "source": [
    "selected_vars =['V4','V14','V10','V16','V9','V12','V11','V17','V7','V21','V1','V3','V6','V2']\n",
    "cv = ShuffleSplit(n_splits=5, test_size=0.3)\n",
    "scoring = ['accuracy','precision','recall','f1','roc_auc']\n",
    "clf = LGBMClassifier(colsample_bytree=0.7, is_unbalance=False, learning_rate=0.01,num_iterations=600,\n",
    "               max_bin=100, max_depth=16, metric='f1', min_child_samples=100,\n",
    "               min_child_weight=0,n_estimators=5000,\n",
    "               num_leaves=1000,\n",
    "                subsample_freq=0,verbose=-1);\n",
    "scores = cross_validate(clf, df[selected_vars], Target,cv=cv ,scoring=scoring)\n",
    "print(\"fit_time: \",scores['fit_time'].mean(),\",test_accuracy: \",scores['test_accuracy'].mean(),\",test_precision: \",scores['test_precision'].mean(),\",test_recall:\",scores['test_recall'].mean(),\",test_f1: \",scores['test_f1'].mean(),\",test_roc_auc: \",scores['test_roc_auc'].mean())"
   ]
  },
  {
   "attachments": {},
   "cell_type": "markdown",
   "metadata": {},
   "source": [
    "Fature selected by Random_Forest"
   ]
  },
  {
   "cell_type": "code",
   "execution_count": 18,
   "metadata": {},
   "outputs": [
    {
     "name": "stdout",
     "output_type": "stream",
     "text": [
      "fit_time:  23.85427532196045 ,test_accuracy:  0.9995295109020048 ,test_precision:  0.9537080078070043 ,test_recall: 0.7772195306946938 ,test_f1:  0.8563300008740823 ,test_roc_auc:  0.9756820864339966\n"
     ]
    }
   ],
   "source": [
    "selected_vars =['V4','V14','V10','V16','V9','V12','V11','V17','V7','V21','V18','V6','V27','V26']\n",
    "cv = ShuffleSplit(n_splits=5, test_size=0.3)\n",
    "scoring = ['accuracy','precision','recall','f1','roc_auc']\n",
    "clf = LGBMClassifier(colsample_bytree=0.7, is_unbalance=False, learning_rate=0.01,num_iterations=600,\n",
    "               max_bin=100, max_depth=16, metric='f1', min_child_samples=100,\n",
    "               min_child_weight=0,n_estimators=5000,\n",
    "               num_leaves=1000,\n",
    "                subsample_freq=0,verbose=-1);\n",
    "scores = cross_validate(clf, df[selected_vars], Target,cv=cv ,scoring=scoring)\n",
    "print(\"fit_time: \",scores['fit_time'].mean(),\",test_accuracy: \",scores['test_accuracy'].mean(),\",test_precision: \",scores['test_precision'].mean(),\",test_recall:\",scores['test_recall'].mean(),\",test_f1: \",scores['test_f1'].mean(),\",test_roc_auc: \",scores['test_roc_auc'].mean())"
   ]
  },
  {
   "attachments": {},
   "cell_type": "markdown",
   "metadata": {},
   "source": [
    "Fature selected by Recursive_Feature_Elimination"
   ]
  },
  {
   "cell_type": "code",
   "execution_count": 14,
   "metadata": {},
   "outputs": [
    {
     "name": "stdout",
     "output_type": "stream",
     "text": [
      "fit_time:  23.141776275634765 ,test_accuracy:  0.9995505775780344 ,test_precision:  0.9420006553892666 ,test_recall: 0.7828225145175819 ,test_f1:  0.8544265234658346 ,test_roc_auc:  0.9785838498860373\n"
     ]
    }
   ],
   "source": [
    "selected_vars =['V4','V14','V10','V16','V9','V21','V8','V27','V26','V25','V20','V22','V24','V13']\n",
    "cv = ShuffleSplit(n_splits=5, test_size=0.3)\n",
    "scoring = ['accuracy','precision','recall','f1','roc_auc']\n",
    "clf = LGBMClassifier(colsample_bytree=0.7, is_unbalance=False, learning_rate=0.01,num_iterations=600,\n",
    "               max_bin=100, max_depth=16, metric='f1', min_child_samples=100,\n",
    "               min_child_weight=0,n_estimators=5000,\n",
    "               num_leaves=1000,\n",
    "                subsample_freq=0,verbose=-1);\n",
    "scores = cross_validate(clf, df[selected_vars], Target,cv=cv ,scoring=scoring)\n",
    "print(\"fit_time: \",scores['fit_time'].mean(),\",test_accuracy: \",scores['test_accuracy'].mean(),\",test_precision: \",scores['test_precision'].mean(),\",test_recall:\",scores['test_recall'].mean(),\",test_f1: \",scores['test_f1'].mean(),\",test_roc_auc: \",scores['test_roc_auc'].mean())"
   ]
  },
  {
   "attachments": {},
   "cell_type": "markdown",
   "metadata": {},
   "source": [
    "Fature selected by Extra_Trees"
   ]
  },
  {
   "cell_type": "code",
   "execution_count": 15,
   "metadata": {},
   "outputs": [
    {
     "name": "stdout",
     "output_type": "stream",
     "text": [
      "fit_time:  25.430470609664916 ,test_accuracy:  0.9994499256814484 ,test_precision:  0.8821587201888501 ,test_recall: 0.8052701855152836 ,test_f1:  0.8417443622431457 ,test_roc_auc:  0.9846220806837188\n"
     ]
    }
   ],
   "source": [
    "selected_vars =['V4','V14','V10','V16','V9','V12','V11','V17','V7','V21','V18','V8','V3','V5']\n",
    "cv = ShuffleSplit(n_splits=5, test_size=0.3)\n",
    "scoring = ['accuracy','precision','recall','f1','roc_auc']\n",
    "clf = LGBMClassifier(colsample_bytree=0.7, is_unbalance=False, learning_rate=0.01,num_iterations=600,\n",
    "               max_bin=100, max_depth=16, metric='f1', min_child_samples=100,\n",
    "               min_child_weight=0,n_estimators=5000,\n",
    "               num_leaves=1000,\n",
    "                subsample_freq=0,verbose=-1);\n",
    "scores = cross_validate(clf, df[selected_vars], Target,cv=cv ,scoring=scoring)\n",
    "print(\"fit_time: \",scores['fit_time'].mean(),\",test_accuracy: \",scores['test_accuracy'].mean(),\",test_precision: \",scores['test_precision'].mean(),\",test_recall:\",scores['test_recall'].mean(),\",test_f1: \",scores['test_f1'].mean(),\",test_roc_auc: \",scores['test_roc_auc'].mean())"
   ]
  },
  {
   "attachments": {},
   "cell_type": "markdown",
   "metadata": {},
   "source": [
    "Fature selected by Chi_Square"
   ]
  },
  {
   "cell_type": "code",
   "execution_count": 16,
   "metadata": {},
   "outputs": [
    {
     "name": "stdout",
     "output_type": "stream",
     "text": [
      "fit_time:  27.041052627563477 ,test_accuracy:  0.9994663108739159 ,test_precision:  0.8931961869371691 ,test_recall: 0.8025037070438902 ,test_f1:  0.8449498834168384 ,test_roc_auc:  0.9794133648145635\n"
     ]
    }
   ],
   "source": [
    "selected_vars =['V4','V14','V10','V16','V9','V12','V11','V17','V7','V18','V1','V3','V5','V19']\n",
    "cv = ShuffleSplit(n_splits=5, test_size=0.3)\n",
    "scoring = ['accuracy','precision','recall','f1','roc_auc']\n",
    "clf = LGBMClassifier(colsample_bytree=0.7, is_unbalance=False, learning_rate=0.01,num_iterations=600,\n",
    "               max_bin=100, max_depth=16, metric='f1', min_child_samples=100,\n",
    "               min_child_weight=0,n_estimators=5000,\n",
    "               num_leaves=1000,\n",
    "                subsample_freq=0,verbose=-1);\n",
    "scores = cross_validate(clf, df[selected_vars], Target,cv=cv ,scoring=scoring)\n",
    "print(\"fit_time: \",scores['fit_time'].mean(),\",test_accuracy: \",scores['test_accuracy'].mean(),\",test_precision: \",scores['test_precision'].mean(),\",test_recall:\",scores['test_recall'].mean(),\",test_f1: \",scores['test_f1'].mean(),\",test_roc_auc: \",scores['test_roc_auc'].mean())"
   ]
  },
  {
   "attachments": {},
   "cell_type": "markdown",
   "metadata": {},
   "source": [
    "Fature selected by L_One"
   ]
  },
  {
   "cell_type": "code",
   "execution_count": null,
   "metadata": {},
   "outputs": [
    {
     "name": "stdout",
     "output_type": "stream",
     "text": [
      "fit_time:  24.937699937820433 ,test_accuracy:  0.999468651615697 ,test_precision:  0.8841940000218761 ,test_recall: 0.7831904990439625 ,test_f1:  0.8302535058446134 ,test_roc_auc:  0.9808388672195691\n"
     ]
    }
   ],
   "source": [
    "selected_vars =['V4','V14','V10','V16','V9','V12','V11','V17','V7','V21','V18','V8','V1','V2']\n",
    "cv = ShuffleSplit(n_splits=5, test_size=0.3)\n",
    "scoring = ['accuracy','precision','recall','f1','roc_auc']\n",
    "clf = LGBMClassifier(colsample_bytree=0.7, is_unbalance=False, learning_rate=0.01,num_iterations=600,\n",
    "               max_bin=100, max_depth=16, metric='f1', min_child_samples=100,\n",
    "               min_child_weight=0,n_estimators=5000,\n",
    "               num_leaves=1000,\n",
    "                subsample_freq=0,verbose=-1);\n",
    "scores = cross_validate(clf, df[selected_vars], Target,cv=cv ,scoring=scoring)\n",
    "print(\"fit_time: \",scores['fit_time'].mean(),\",test_accuracy: \",scores['test_accuracy'].mean(),\",test_precision: \",scores['test_precision'].mean(),\",test_recall:\",scores['test_recall'].mean(),\",test_f1: \",scores['test_f1'].mean(),\",test_roc_auc: \",scores['test_roc_auc'].mean())"
   ]
  },
  {
   "cell_type": "markdown",
   "metadata": {},
   "source": [
    "Fature selected without Information_Value"
   ]
  },
  {
   "cell_type": "code",
   "execution_count": 19,
   "metadata": {},
   "outputs": [
    {
     "name": "stdout",
     "output_type": "stream",
     "text": [
      "fit_time:  23.955783796310424 ,test_accuracy:  0.9995201479348805 ,test_precision:  0.9374087743906049 ,test_recall: 0.7722720044458928 ,test_f1:  0.8460746391335958 ,test_roc_auc:  0.9739554470325482\n"
     ]
    }
   ],
   "source": [
    "selected_vars =['V4','V14','V10','V16','V9','V12','V11','V17','V7','V21','V1','V3','V27','V5','V26']\n",
    "cv = ShuffleSplit(n_splits=5, test_size=0.3)\n",
    "scoring = ['accuracy','precision','recall','f1','roc_auc']\n",
    "clf = LGBMClassifier(colsample_bytree=0.7, is_unbalance=False, learning_rate=0.01,num_iterations=600,\n",
    "               max_bin=100, max_depth=16, metric='f1', min_child_samples=100,\n",
    "               min_child_weight=0,n_estimators=5000,\n",
    "               num_leaves=1000,\n",
    "                subsample_freq=0,verbose=-1);\n",
    "scores = cross_validate(clf, df[selected_vars], Target,cv=cv ,scoring=scoring)\n",
    "print(\"fit_time: \",scores['fit_time'].mean(),\",test_accuracy: \",scores['test_accuracy'].mean(),\",test_precision: \",scores['test_precision'].mean(),\",test_recall:\",scores['test_recall'].mean(),\",test_f1: \",scores['test_f1'].mean(),\",test_roc_auc: \",scores['test_roc_auc'].mean())"
   ]
  },
  {
   "cell_type": "markdown",
   "metadata": {},
   "source": [
    "Fature selected without Random_Forest"
   ]
  },
  {
   "cell_type": "code",
   "execution_count": null,
   "metadata": {},
   "outputs": [
    {
     "name": "stdout",
     "output_type": "stream",
     "text": [
      "fit_time:  23.777356004714967 ,test_accuracy:  0.9994639701321347 ,test_precision:  0.882340362490211 ,test_recall: 0.7818878503249003 ,test_f1:  0.8287310519313398 ,test_roc_auc:  0.9797585147096248\n"
     ]
    }
   ],
   "source": [
    "selected_vars =['V4','V14','V10','V16','V9','V12','V11','V17','V7','V21','V1','V3','V2','V5']\n",
    "cv = ShuffleSplit(n_splits=5, test_size=0.3)\n",
    "scoring = ['accuracy','precision','recall','f1','roc_auc']\n",
    "clf = LGBMClassifier(colsample_bytree=0.7, is_unbalance=False, learning_rate=0.01,num_iterations=600,\n",
    "               max_bin=100, max_depth=16, metric='f1', min_child_samples=100,\n",
    "               min_child_weight=0,n_estimators=5000,\n",
    "               num_leaves=1000,\n",
    "                subsample_freq=0,verbose=-1);\n",
    "scores = cross_validate(clf, df[selected_vars], Target,cv=cv ,scoring=scoring)\n",
    "print(\"fit_time: \",scores['fit_time'].mean(),\",test_accuracy: \",scores['test_accuracy'].mean(),\",test_precision: \",scores['test_precision'].mean(),\",test_recall:\",scores['test_recall'].mean(),\",test_f1: \",scores['test_f1'].mean(),\",test_roc_auc: \",scores['test_roc_auc'].mean())"
   ]
  },
  {
   "cell_type": "markdown",
   "metadata": {},
   "source": [
    "Fature selected without Recursive_Feature_Elimination"
   ]
  },
  {
   "cell_type": "code",
   "execution_count": null,
   "metadata": {},
   "outputs": [
    {
     "name": "stdout",
     "output_type": "stream",
     "text": [
      "fit_time:  23.054406499862672 ,test_accuracy:  0.9994756738410402 ,test_precision:  0.8883232084845991 ,test_recall: 0.7832209703590282 ,test_f1:  0.832196415620005 ,test_roc_auc:  0.9799357800736515\n"
     ]
    }
   ],
   "source": [
    "selected_vars =['V4','V14','V10','V16','V9','V12','V11','V17','V7','V21','V1','V3','V6','V5','V2']\n",
    "cv = ShuffleSplit(n_splits=5, test_size=0.3)\n",
    "scoring = ['accuracy','precision','recall','f1','roc_auc']\n",
    "clf = LGBMClassifier(colsample_bytree=0.7, is_unbalance=False, learning_rate=0.01,num_iterations=600,\n",
    "               max_bin=100, max_depth=16, metric='f1', min_child_samples=100,\n",
    "               min_child_weight=0,n_estimators=5000,\n",
    "               num_leaves=1000,\n",
    "                subsample_freq=0,verbose=-1);\n",
    "scores = cross_validate(clf, df[selected_vars], Target,cv=cv ,scoring=scoring)\n",
    "print(\"fit_time: \",scores['fit_time'].mean(),\",test_accuracy: \",scores['test_accuracy'].mean(),\",test_precision: \",scores['test_precision'].mean(),\",test_recall:\",scores['test_recall'].mean(),\",test_f1: \",scores['test_f1'].mean(),\",test_roc_auc: \",scores['test_roc_auc'].mean())"
   ]
  },
  {
   "cell_type": "markdown",
   "metadata": {},
   "source": [
    "Fature selected without Extra_Trees"
   ]
  },
  {
   "cell_type": "code",
   "execution_count": null,
   "metadata": {},
   "outputs": [
    {
     "name": "stdout",
     "output_type": "stream",
     "text": [
      "fit_time:  28.783630704879762 ,test_accuracy:  0.9995552590615965 ,test_precision:  0.9319877305178761 ,test_recall: 0.7903954414912661 ,test_f1:  0.8549518396209261 ,test_roc_auc:  0.9795559327649773\n"
     ]
    }
   ],
   "source": [
    "selected_vars =['V4','V14','V10','V16','V9','V12','V11','V17','V7','V21','V1','V3','V27','V6','V2','V26']\n",
    "cv = ShuffleSplit(n_splits=5, test_size=0.3)\n",
    "scoring = ['accuracy','precision','recall','f1','roc_auc']\n",
    "clf = LGBMClassifier(colsample_bytree=0.7, is_unbalance=False, learning_rate=0.01,num_iterations=600,\n",
    "               max_bin=100, max_depth=16, metric='f1', min_child_samples=100,\n",
    "               min_child_weight=0,n_estimators=5000,\n",
    "               num_leaves=1000,\n",
    "                subsample_freq=0,verbose=-1);\n",
    "scores = cross_validate(clf, df[selected_vars], Target,cv=cv ,scoring=scoring)\n",
    "print(\"fit_time: \",scores['fit_time'].mean(),\",test_accuracy: \",scores['test_accuracy'].mean(),\",test_precision: \",scores['test_precision'].mean(),\",test_recall:\",scores['test_recall'].mean(),\",test_f1: \",scores['test_f1'].mean(),\",test_roc_auc: \",scores['test_roc_auc'].mean())"
   ]
  },
  {
   "cell_type": "markdown",
   "metadata": {},
   "source": [
    "Fature selected without Chi_Square"
   ]
  },
  {
   "cell_type": "code",
   "execution_count": 20,
   "metadata": {},
   "outputs": [
    {
     "name": "stdout",
     "output_type": "stream",
     "text": [
      "fit_time:  23.70506896972656 ,test_accuracy:  0.9995107849677562 ,test_precision:  0.9447412177055983 ,test_recall: 0.7710128008348048 ,test_f1:  0.8486721249658853 ,test_roc_auc:  0.9791098158562501\n"
     ]
    }
   ],
   "source": [
    "selected_vars =['V4','V14','V10','V16','V9','V12','V11','V17','V7','V21','V1','V3','V27','V6','V2','V26']\n",
    "cv = ShuffleSplit(n_splits=5, test_size=0.3)\n",
    "scoring = ['accuracy','precision','recall','f1','roc_auc']\n",
    "clf = LGBMClassifier(colsample_bytree=0.7, is_unbalance=False, learning_rate=0.01,num_iterations=600,\n",
    "               max_bin=100, max_depth=16, metric='f1', min_child_samples=100,\n",
    "               min_child_weight=0,n_estimators=5000,\n",
    "               num_leaves=1000,\n",
    "                subsample_freq=0,verbose=-1);\n",
    "scores = cross_validate(clf, df[selected_vars], Target,cv=cv ,scoring=scoring)\n",
    "print(\"fit_time: \",scores['fit_time'].mean(),\",test_accuracy: \",scores['test_accuracy'].mean(),\",test_precision: \",scores['test_precision'].mean(),\",test_recall:\",scores['test_recall'].mean(),\",test_f1: \",scores['test_f1'].mean(),\",test_roc_auc: \",scores['test_roc_auc'].mean())"
   ]
  },
  {
   "cell_type": "markdown",
   "metadata": {},
   "source": [
    "Fature selected without L_One"
   ]
  },
  {
   "cell_type": "code",
   "execution_count": null,
   "metadata": {},
   "outputs": [
    {
     "name": "stdout",
     "output_type": "stream",
     "text": [
      "fit_time:  30.204544448852538 ,test_accuracy:  0.9995622812869398 ,test_precision:  0.9395799296551027 ,test_recall: 0.7874732423764578 ,test_f1:  0.8564665615692706 ,test_roc_auc:  0.9797410107094497\n"
     ]
    }
   ],
   "source": [
    "selected_vars =['V4','V14','V10','V16','V9','V12','V11','V17','V7','V21','V1','V3','V27','V6','V5','V26']\n",
    "cv = ShuffleSplit(n_splits=5, test_size=0.3)\n",
    "scoring = ['accuracy','precision','recall','f1','roc_auc']\n",
    "clf = LGBMClassifier(colsample_bytree=0.7, is_unbalance=False, learning_rate=0.01,num_iterations=600,\n",
    "               max_bin=100, max_depth=16, metric='f1', min_child_samples=100,\n",
    "               min_child_weight=0,n_estimators=5000,\n",
    "               num_leaves=1000,\n",
    "                subsample_freq=0,verbose=-1);\n",
    "scores = cross_validate(clf, df[selected_vars], Target,cv=cv ,scoring=scoring)\n",
    "print(\"fit_time: \",scores['fit_time'].mean(),\",test_accuracy: \",scores['test_accuracy'].mean(),\",test_precision: \",scores['test_precision'].mean(),\",test_recall:\",scores['test_recall'].mean(),\",test_f1: \",scores['test_f1'].mean(),\",test_roc_auc: \",scores['test_roc_auc'].mean())"
   ]
  }
 ],
 "metadata": {
  "colab": {
   "collapsed_sections": [
    "Bp27SWISTBMm",
    "6C_tIniEucVD",
    "f608xbR3ucVI",
    "u37HWxt0ucVT",
    "QZ-v89wQucVT",
    "fx3gW9DlucVW",
    "eltEwu7eucVY",
    "iDP-BEb9ucVb",
    "tFMPFkLaucVe",
    "CSNkI02zucVf",
    "5Q0HksyPucVf",
    "pzBDMQl6ucVi",
    "6ezxCai0ucVk",
    "ssSTnXSlucVn",
    "8XDc0m34ucVn",
    "kkx2ae3SucVp",
    "o9MTWjlbt7TS",
    "5NDtSJtSt7TU",
    "po8OfVBft7TW",
    "bwmbgQLaucVs",
    "eNQWyqKnucVs",
    "kqj56CPtucVu",
    "BH4_EORN7tXs"
   ],
   "name": "credit_card_kaggle_v7.ipynb",
   "provenance": [],
   "toc_visible": true
  },
  "interpreter": {
   "hash": "408d89a3b80ac34e5cdc914373b09bb69ba3e3a6a7f756d6d7498fd367058138"
  },
  "kernelspec": {
   "display_name": "Python 3 (ipykernel)",
   "language": "python",
   "name": "python3"
  },
  "language_info": {
   "codemirror_mode": {
    "name": "ipython",
    "version": 3
   },
   "file_extension": ".py",
   "mimetype": "text/x-python",
   "name": "python",
   "nbconvert_exporter": "python",
   "pygments_lexer": "ipython3",
   "version": "3.12.4"
  }
 },
 "nbformat": 4,
 "nbformat_minor": 1
}
