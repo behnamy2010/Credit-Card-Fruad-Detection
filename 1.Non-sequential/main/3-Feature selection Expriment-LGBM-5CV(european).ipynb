{
 "cells": [
  {
   "cell_type": "markdown",
   "metadata": {
    "id": "Bp27SWISTBMm"
   },
   "source": [
    "# Fraud detection"
   ]
  },
  {
   "cell_type": "code",
   "execution_count": 1,
   "metadata": {
    "id": "viaqKRF5ucU7"
   },
   "outputs": [],
   "source": [
    "import pandas as pd\n",
    "from lightgbm import LGBMClassifier\n",
    "from sklearn.model_selection import cross_validate\n",
    "from sklearn.model_selection import ShuffleSplit\n",
    "import warnings\n",
    "warnings.filterwarnings('ignore')"
   ]
  },
  {
   "cell_type": "code",
   "execution_count": 2,
   "metadata": {
    "id": "kGT-2MIrucVA",
    "outputId": "3183999c-2fb4-4bda-9ad5-9b14b0d1efa2"
   },
   "outputs": [],
   "source": [
    "df = pd.read_csv('creditcard.csv')"
   ]
  },
  {
   "cell_type": "code",
   "execution_count": 3,
   "metadata": {
    "id": "m9G-dE-zklxW"
   },
   "outputs": [],
   "source": [
    "df.drop(['Time'], axis=1, inplace=True)"
   ]
  },
  {
   "cell_type": "code",
   "execution_count": 4,
   "metadata": {},
   "outputs": [],
   "source": [
    "selected_vars =['V4','V14','V10','V16','V9','V12','V11','V17','V7','V21','V18','V8','V1','V3','V6','V2','V27','V5','V26']"
   ]
  },
  {
   "cell_type": "code",
   "execution_count": 5,
   "metadata": {},
   "outputs": [],
   "source": [
    "df1=df[selected_vars]\n",
    "Target=df['Class']\n",
    "df.drop('Class',axis=1, inplace=True)"
   ]
  },
  {
   "attachments": {},
   "cell_type": "markdown",
   "metadata": {},
   "source": [
    "Original"
   ]
  },
  {
   "cell_type": "code",
   "execution_count": 6,
   "metadata": {},
   "outputs": [
    {
     "name": "stdout",
     "output_type": "stream",
     "text": [
      "fit_time:  36.47551884651184 ,test_accuracy:  0.9995716442540641 ,test_precision:  0.9414171253513777 ,test_recall: 0.7911831249857165 ,test_f1:  0.8595933458834267 ,test_roc_auc:  0.9820793038895873\n"
     ]
    }
   ],
   "source": [
    "cv = ShuffleSplit(n_splits=5, test_size=0.3, random_state=0)\n",
    "scoring = ['accuracy','precision','recall','f1','roc_auc']\n",
    "clf = LGBMClassifier(colsample_bytree=0.7, is_unbalance=False, learning_rate=0.01,num_iterations=600,\n",
    "               max_bin=100, max_depth=16, metric='f1', min_child_samples=100,\n",
    "               min_child_weight=0,n_estimators=5000,\n",
    "               num_leaves=1000,\n",
    "                subsample_freq=0);\n",
    "scores = cross_validate(clf, df, Target,cv=cv ,scoring=scoring)\n",
    "print(\"fit_time: \",scores['fit_time'].mean(),\",test_accuracy: \",scores['test_accuracy'].mean(),\",test_precision: \",scores['test_precision'].mean(),\",test_recall:\",scores['test_recall'].mean(),\",test_f1: \",scores['test_f1'].mean(),\",test_roc_auc: \",scores['test_roc_auc'].mean())"
   ]
  },
  {
   "attachments": {},
   "cell_type": "markdown",
   "metadata": {},
   "source": [
    "Our fature selected"
   ]
  },
  {
   "cell_type": "code",
   "execution_count": 7,
   "metadata": {},
   "outputs": [
    {
     "name": "stdout",
     "output_type": "stream",
     "text": [
      "fit_time:  31.45693197250366 ,test_accuracy:  0.9995739849958453 ,test_precision:  0.937430227457552 ,test_recall: 0.7971128428975173 ,test_f1:  0.8610956453337606 ,test_roc_auc:  0.9792789334395062\n"
     ]
    }
   ],
   "source": [
    "cv = ShuffleSplit(n_splits=5, test_size=0.3, random_state=0)\n",
    "scoring = ['accuracy','precision','recall','f1','roc_auc']\n",
    "clf = LGBMClassifier(colsample_bytree=0.7, is_unbalance=False, learning_rate=0.01,num_iterations=600,\n",
    "               max_bin=100, max_depth=16, metric='f1', min_child_samples=100,\n",
    "               min_child_weight=0,n_estimators=5000,\n",
    "               num_leaves=1000,\n",
    "                subsample_freq=0);\n",
    "scores = cross_validate(clf, df[selected_vars], Target,cv=cv ,scoring=scoring)\n",
    "print(\"fit_time: \",scores['fit_time'].mean(),\",test_accuracy: \",scores['test_accuracy'].mean(),\",test_precision: \",scores['test_precision'].mean(),\",test_recall:\",scores['test_recall'].mean(),\",test_f1: \",scores['test_f1'].mean(),\",test_roc_auc: \",scores['test_roc_auc'].mean())"
   ]
  },
  {
   "attachments": {},
   "cell_type": "markdown",
   "metadata": {},
   "source": [
    "Fature selected by Information_Value"
   ]
  },
  {
   "cell_type": "code",
   "execution_count": 8,
   "metadata": {},
   "outputs": [
    {
     "name": "stdout",
     "output_type": "stream",
     "text": [
      "fit_time:  27.551764011383057 ,test_accuracy:  0.9994780145828213 ,test_precision:  0.8894173118697337 ,test_recall: 0.7833337142247717 ,test_f1:  0.8328228433545248 ,test_roc_auc:  0.9795139388077583\n"
     ]
    }
   ],
   "source": [
    "selected_vars =['V4','V14','V10','V16','V9','V12','V11','V17','V7','V21','V1','V3','V6','V2']\n",
    "df1=df[selected_vars]\n",
    "cv = ShuffleSplit(n_splits=5, test_size=0.3, random_state=0)\n",
    "scoring = ['accuracy','precision','recall','f1','roc_auc']\n",
    "clf = LGBMClassifier(colsample_bytree=0.7, is_unbalance=False, learning_rate=0.01,num_iterations=600,\n",
    "               max_bin=100, max_depth=16, metric='f1', min_child_samples=100,\n",
    "               min_child_weight=0,n_estimators=5000,\n",
    "               num_leaves=1000,\n",
    "                subsample_freq=0);\n",
    "scores = cross_validate(clf, df[selected_vars], Target,cv=cv ,scoring=scoring)\n",
    "print(\"fit_time: \",scores['fit_time'].mean(),\",test_accuracy: \",scores['test_accuracy'].mean(),\",test_precision: \",scores['test_precision'].mean(),\",test_recall:\",scores['test_recall'].mean(),\",test_f1: \",scores['test_f1'].mean(),\",test_roc_auc: \",scores['test_roc_auc'].mean())"
   ]
  },
  {
   "attachments": {},
   "cell_type": "markdown",
   "metadata": {},
   "source": [
    "Fature selected by Random_Forest"
   ]
  },
  {
   "cell_type": "code",
   "execution_count": 9,
   "metadata": {},
   "outputs": [
    {
     "name": "stdout",
     "output_type": "stream",
     "text": [
      "fit_time:  27.6858473777771 ,test_accuracy:  0.9995669627705019 ,test_precision:  0.9411788243128434 ,test_recall: 0.7886905714133358 ,test_f1:  0.8578922105028001 ,test_roc_auc:  0.9776621476902877\n"
     ]
    }
   ],
   "source": [
    "selected_vars =['V4','V14','V10','V16','V9','V12','V11','V17','V7','V21','V18','V6','V27','V26']\n",
    "df1=df[selected_vars]\n",
    "cv = ShuffleSplit(n_splits=5, test_size=0.3, random_state=0)\n",
    "scoring = ['accuracy','precision','recall','f1','roc_auc']\n",
    "clf = LGBMClassifier(colsample_bytree=0.7, is_unbalance=False, learning_rate=0.01,num_iterations=600,\n",
    "               max_bin=100, max_depth=16, metric='f1', min_child_samples=100,\n",
    "               min_child_weight=0,n_estimators=5000,\n",
    "               num_leaves=1000,\n",
    "                subsample_freq=0);\n",
    "scores = cross_validate(clf, df[selected_vars], Target,cv=cv ,scoring=scoring)\n",
    "print(\"fit_time: \",scores['fit_time'].mean(),\",test_accuracy: \",scores['test_accuracy'].mean(),\",test_precision: \",scores['test_precision'].mean(),\",test_recall:\",scores['test_recall'].mean(),\",test_f1: \",scores['test_f1'].mean(),\",test_roc_auc: \",scores['test_roc_auc'].mean())"
   ]
  },
  {
   "attachments": {},
   "cell_type": "markdown",
   "metadata": {},
   "source": [
    "Fature selected by Recursive_Feature_Elimination"
   ]
  },
  {
   "cell_type": "code",
   "execution_count": 10,
   "metadata": {},
   "outputs": [
    {
     "name": "stdout",
     "output_type": "stream",
     "text": [
      "fit_time:  30.551946687698365 ,test_accuracy:  0.999569303512283 ,test_precision:  0.9438704893982257 ,test_recall: 0.7867297422888528 ,test_f1:  0.8581021955421487 ,test_roc_auc:  0.9806465757019641\n"
     ]
    }
   ],
   "source": [
    "selected_vars =['V4','V14','V10','V16','V9','V21','V8','V27','V26','V25','V20','V22','V24','V13']\n",
    "df1=df[selected_vars]\n",
    "cv = ShuffleSplit(n_splits=5, test_size=0.3, random_state=0)\n",
    "scoring = ['accuracy','precision','recall','f1','roc_auc']\n",
    "clf = LGBMClassifier(colsample_bytree=0.7, is_unbalance=False, learning_rate=0.01,num_iterations=600,\n",
    "               max_bin=100, max_depth=16, metric='f1', min_child_samples=100,\n",
    "               min_child_weight=0,n_estimators=5000,\n",
    "               num_leaves=1000,\n",
    "                subsample_freq=0);\n",
    "scores = cross_validate(clf, df[selected_vars], Target,cv=cv ,scoring=scoring)\n",
    "print(\"fit_time: \",scores['fit_time'].mean(),\",test_accuracy: \",scores['test_accuracy'].mean(),\",test_precision: \",scores['test_precision'].mean(),\",test_recall:\",scores['test_recall'].mean(),\",test_f1: \",scores['test_f1'].mean(),\",test_roc_auc: \",scores['test_roc_auc'].mean())"
   ]
  },
  {
   "attachments": {},
   "cell_type": "markdown",
   "metadata": {},
   "source": [
    "Fature selected by Extra_Trees"
   ]
  },
  {
   "cell_type": "code",
   "execution_count": 11,
   "metadata": {},
   "outputs": [
    {
     "name": "stdout",
     "output_type": "stream",
     "text": [
      "fit_time:  26.667902278900147 ,test_accuracy:  0.9994592886485727 ,test_precision:  0.8836939650128365 ,test_recall: 0.7777178508581484 ,test_f1:  0.8267494425282702 ,test_roc_auc:  0.9806590778928685\n"
     ]
    }
   ],
   "source": [
    "selected_vars =['V4','V14','V10','V16','V9','V12','V11','V17','V7','V21','V18','V8','V3','V5']\n",
    "df1=df[selected_vars]\n",
    "cv = ShuffleSplit(n_splits=5, test_size=0.3, random_state=0)\n",
    "scoring = ['accuracy','precision','recall','f1','roc_auc']\n",
    "clf = LGBMClassifier(colsample_bytree=0.7, is_unbalance=False, learning_rate=0.01,num_iterations=600,\n",
    "               max_bin=100, max_depth=16, metric='f1', min_child_samples=100,\n",
    "               min_child_weight=0,n_estimators=5000,\n",
    "               num_leaves=1000,\n",
    "                subsample_freq=0);\n",
    "scores = cross_validate(clf, df[selected_vars], Target,cv=cv ,scoring=scoring)\n",
    "print(\"fit_time: \",scores['fit_time'].mean(),\",test_accuracy: \",scores['test_accuracy'].mean(),\",test_precision: \",scores['test_precision'].mean(),\",test_recall:\",scores['test_recall'].mean(),\",test_f1: \",scores['test_f1'].mean(),\",test_roc_auc: \",scores['test_roc_auc'].mean())"
   ]
  },
  {
   "attachments": {},
   "cell_type": "markdown",
   "metadata": {},
   "source": [
    "Fature selected by Chi_Square"
   ]
  },
  {
   "cell_type": "code",
   "execution_count": 12,
   "metadata": {},
   "outputs": [
    {
     "name": "stdout",
     "output_type": "stream",
     "text": [
      "fit_time:  29.722787046432494 ,test_accuracy:  0.9994499256814484 ,test_precision:  0.881219119222656 ,test_recall: 0.773550898522903 ,test_f1:  0.8236777876966664 ,test_roc_auc:  0.97628580089169\n"
     ]
    }
   ],
   "source": [
    "selected_vars =['V4','V14','V10','V16','V9','V12','V11','V17','V7','V18','V1','V3','V5','V19']\n",
    "df1=df[selected_vars]\n",
    "cv = ShuffleSplit(n_splits=5, test_size=0.3, random_state=0)\n",
    "scoring = ['accuracy','precision','recall','f1','roc_auc']\n",
    "clf = LGBMClassifier(colsample_bytree=0.7, is_unbalance=False, learning_rate=0.01,num_iterations=600,\n",
    "               max_bin=100, max_depth=16, metric='f1', min_child_samples=100,\n",
    "               min_child_weight=0,n_estimators=5000,\n",
    "               num_leaves=1000,\n",
    "                subsample_freq=0);\n",
    "scores = cross_validate(clf, df[selected_vars], Target,cv=cv ,scoring=scoring)\n",
    "print(\"fit_time: \",scores['fit_time'].mean(),\",test_accuracy: \",scores['test_accuracy'].mean(),\",test_precision: \",scores['test_precision'].mean(),\",test_recall:\",scores['test_recall'].mean(),\",test_f1: \",scores['test_f1'].mean(),\",test_roc_auc: \",scores['test_roc_auc'].mean())"
   ]
  },
  {
   "attachments": {},
   "cell_type": "markdown",
   "metadata": {},
   "source": [
    "Fature selected by L_One"
   ]
  },
  {
   "cell_type": "code",
   "execution_count": 13,
   "metadata": {},
   "outputs": [
    {
     "name": "stdout",
     "output_type": "stream",
     "text": [
      "fit_time:  27.762001514434814 ,test_accuracy:  0.999468651615697 ,test_precision:  0.8841940000218761 ,test_recall: 0.7831904990439625 ,test_f1:  0.8302535058446135 ,test_roc_auc:  0.9808388672195691\n"
     ]
    }
   ],
   "source": [
    "selected_vars =['V4','V14','V10','V16','V9','V12','V11','V17','V7','V21','V18','V8','V1','V2']\n",
    "df1=df[selected_vars]\n",
    "cv = ShuffleSplit(n_splits=5, test_size=0.3, random_state=0)\n",
    "scoring = ['accuracy','precision','recall','f1','roc_auc']\n",
    "clf = LGBMClassifier(colsample_bytree=0.7, is_unbalance=False, learning_rate=0.01,num_iterations=600,\n",
    "               max_bin=100, max_depth=16, metric='f1', min_child_samples=100,\n",
    "               min_child_weight=0,n_estimators=5000,\n",
    "               num_leaves=1000,\n",
    "                subsample_freq=0);\n",
    "scores = cross_validate(clf, df[selected_vars], Target,cv=cv ,scoring=scoring)\n",
    "print(\"fit_time: \",scores['fit_time'].mean(),\",test_accuracy: \",scores['test_accuracy'].mean(),\",test_precision: \",scores['test_precision'].mean(),\",test_recall:\",scores['test_recall'].mean(),\",test_f1: \",scores['test_f1'].mean(),\",test_roc_auc: \",scores['test_roc_auc'].mean())"
   ]
  }
 ],
 "metadata": {
  "colab": {
   "collapsed_sections": [
    "Bp27SWISTBMm",
    "6C_tIniEucVD",
    "f608xbR3ucVI",
    "u37HWxt0ucVT",
    "QZ-v89wQucVT",
    "fx3gW9DlucVW",
    "eltEwu7eucVY",
    "iDP-BEb9ucVb",
    "tFMPFkLaucVe",
    "CSNkI02zucVf",
    "5Q0HksyPucVf",
    "pzBDMQl6ucVi",
    "6ezxCai0ucVk",
    "ssSTnXSlucVn",
    "8XDc0m34ucVn",
    "kkx2ae3SucVp",
    "o9MTWjlbt7TS",
    "5NDtSJtSt7TU",
    "po8OfVBft7TW",
    "bwmbgQLaucVs",
    "eNQWyqKnucVs",
    "kqj56CPtucVu",
    "BH4_EORN7tXs"
   ],
   "name": "credit_card_kaggle_v7.ipynb",
   "provenance": [],
   "toc_visible": true
  },
  "interpreter": {
   "hash": "408d89a3b80ac34e5cdc914373b09bb69ba3e3a6a7f756d6d7498fd367058138"
  },
  "kernelspec": {
   "display_name": "Python 3 (ipykernel)",
   "language": "python",
   "name": "python3"
  },
  "language_info": {
   "codemirror_mode": {
    "name": "ipython",
    "version": 3
   },
   "file_extension": ".py",
   "mimetype": "text/x-python",
   "name": "python",
   "nbconvert_exporter": "python",
   "pygments_lexer": "ipython3",
   "version": "3.9.7"
  }
 },
 "nbformat": 4,
 "nbformat_minor": 1
}
