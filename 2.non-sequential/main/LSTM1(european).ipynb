{
 "cells": [
  {
   "cell_type": "code",
   "execution_count": 1,
   "metadata": {
    "id": "gRu9kpkYyztz"
   },
   "outputs": [],
   "source": [
    "import pandas as pd\n",
    "from matplotlib import pyplot\n",
    "from sklearn.model_selection import train_test_split\n",
    "import numpy as np\n",
    "from sklearn.metrics import accuracy_score\n",
    "from keras.layers import LSTM, Dense,Input,Layer\n",
    "from keras import backend as K,Model\n",
    "from numpy.random import seed\n",
    "from imblearn.under_sampling import RandomUnderSampler \n",
    "seed(0)\n",
    "import os\n",
    "os.environ['PYTHONHASHSEED']=str(0)\n",
    "import tensorflow as tf\n",
    "tf.random.set_seed(0)\n",
    "import random\n",
    "import random as python_random\n",
    "python_random.seed(0)\n",
    "random.seed(0)"
   ]
  },
  {
   "cell_type": "code",
   "execution_count": 2,
   "metadata": {
    "id": "Mlth1eViyz_p"
   },
   "outputs": [],
   "source": [
    "data = pd.read_csv('creditcard.csv', na_filter=True)\n",
    "\n",
    "data.drop(['Time'], axis=1, inplace=True)\n",
    "selected_vars =['V4','V14','V10','V16','V9','V12','V11','V17','V7','V21','V18','V8','V1','V3','V6','V2','V27','V5','V26','Class']\n"
   ]
  },
  {
   "cell_type": "code",
   "execution_count": 3,
   "metadata": {
    "colab": {
     "base_uri": "https://localhost:8080/"
    },
    "id": "0D1roi0fy9hN",
    "outputId": "1c7dad73-e697-47a5-9102-3fa04511a11d"
   },
   "outputs": [
    {
     "data": {
      "text/plain": [
       "(284807, 20)"
      ]
     },
     "execution_count": 3,
     "metadata": {},
     "output_type": "execute_result"
    }
   ],
   "source": [
    "tr_data = data[selected_vars]\n",
    "tr_data.shape"
   ]
  },
  {
   "cell_type": "code",
   "execution_count": 4,
   "metadata": {
    "id": "SFjcDF3s2QId"
   },
   "outputs": [],
   "source": [
    "X = tr_data.drop(['Class'], axis = 'columns')\n",
    "Label_Data = tr_data['Class']"
   ]
  },
  {
   "cell_type": "code",
   "execution_count": 5,
   "metadata": {
    "id": "o4GOSe4tzcTv"
   },
   "outputs": [],
   "source": [
    "y=tr_data['Class']"
   ]
  },
  {
   "cell_type": "code",
   "execution_count": 6,
   "metadata": {
    "id": "rz6JhCFr0Iin"
   },
   "outputs": [],
   "source": [
    "from sklearn.preprocessing import StandardScaler\n",
    "## Standardizing the data\n",
    "X=pd.DataFrame(StandardScaler().fit_transform(X))"
   ]
  },
  {
   "cell_type": "code",
   "execution_count": 7,
   "metadata": {
    "id": "t7l5EpLY0IqL"
   },
   "outputs": [
    {
     "name": "stdout",
     "output_type": "stream",
     "text": [
      "2155\n"
     ]
    }
   ],
   "source": [
    "X_train,X_test,y_train,y_test = train_test_split(X, y, test_size=0.3, shuffle=False,random_state=0)\n",
    "from sklearn.linear_model import SGDOneClassSVM\n",
    "df1_normal=X_train[y_train==0]\n",
    "clf = SGDOneClassSVM(nu=0.01,random_state=0)\n",
    "res = clf.fit_predict(df1_normal)\n",
    "print(len(res[res==-1]))\n",
    "res[res==1] = 0\n",
    "res[res==-1] = 1\n",
    "ros = RandomUnderSampler(sampling_strategy=0.95)\n",
    "ros.fit_resample(df1_normal,res)\n",
    "index=ros.sample_indices_\n",
    "X_train.drop(X_train.index[index], inplace=True)\n",
    "y_train.drop(y_train.index[index], inplace=True)"
   ]
  },
  {
   "cell_type": "code",
   "execution_count": 8,
   "metadata": {
    "colab": {
     "base_uri": "https://localhost:8080/"
    },
    "id": "a4uohF3BPMIU",
    "outputId": "b1d24e82-da51-42ca-f9ed-0d021c2538ea"
   },
   "outputs": [
    {
     "data": {
      "text/plain": [
       "(194941, 19)"
      ]
     },
     "execution_count": 8,
     "metadata": {},
     "output_type": "execute_result"
    }
   ],
   "source": [
    "X_train.shape"
   ]
  },
  {
   "cell_type": "code",
   "execution_count": 9,
   "metadata": {
    "colab": {
     "base_uri": "https://localhost:8080/"
    },
    "id": "4OaLUwRhPPhW",
    "outputId": "170cccab-ded4-4110-e701-3d103902a590"
   },
   "outputs": [
    {
     "data": {
      "text/plain": [
       "(85443, 19)"
      ]
     },
     "execution_count": 9,
     "metadata": {},
     "output_type": "execute_result"
    }
   ],
   "source": [
    "X_test.shape"
   ]
  },
  {
   "cell_type": "code",
   "execution_count": 10,
   "metadata": {
    "id": "eN6iBsXh0UJj"
   },
   "outputs": [],
   "source": [
    "# X_train et X_test sont des dataframe qui contient les features\n",
    "train_LSTM_X=X_train.to_numpy()\n",
    "test_LSTM_X=X_test.to_numpy()\n",
    "\n",
    "## Reshape input to be 3D [samples, timesteps, features] (format requis par LSTM)\n",
    "train_LSTM_X = train_LSTM_X.reshape((train_LSTM_X.shape[0], 1, train_LSTM_X.shape[1]))\n",
    "test_LSTM_X = test_LSTM_X.reshape((test_LSTM_X.shape[0], 1, test_LSTM_X.shape[1]))\n",
    "\n",
    "## Recuperation des labels\n",
    "train_LSTM_y=y_train\n",
    "test_LSTM_y=y_test"
   ]
  },
  {
   "cell_type": "code",
   "execution_count": 11,
   "metadata": {
    "id": "XOlGVbif0U-i"
   },
   "outputs": [],
   "source": [
    "inputs=Input((1,19))\n",
    "x1=LSTM(50)(inputs)\n",
    "outputs=Dense(1,activation='sigmoid')(x1)\n",
    "model=Model(inputs,outputs)"
   ]
  },
  {
   "cell_type": "code",
   "execution_count": 12,
   "metadata": {
    "id": "rw1IxnEn0i7d"
   },
   "outputs": [],
   "source": [
    "model.compile(loss='binary_crossentropy', optimizer='adam', metrics=['Precision','Recall'])"
   ]
  },
  {
   "cell_type": "code",
   "execution_count": 13,
   "metadata": {
    "id": "_jVAHW330VTL"
   },
   "outputs": [
    {
     "name": "stdout",
     "output_type": "stream",
     "text": [
      "Epoch 1/4\n",
      "488/488 [==============================] - 6s 8ms/step - loss: 0.1656 - precision: 0.0559 - recall: 0.5734 - val_loss: 0.0218 - val_precision: 0.9412 - val_recall: 0.5926\n",
      "Epoch 2/4\n",
      "488/488 [==============================] - 3s 6ms/step - loss: 0.0088 - precision: 0.8644 - recall: 0.7590 - val_loss: 0.0070 - val_precision: 0.9524 - val_recall: 0.7407\n",
      "Epoch 3/4\n",
      "488/488 [==============================] - 3s 6ms/step - loss: 0.0046 - precision: 0.8896 - recall: 0.8033 - val_loss: 0.0043 - val_precision: 0.9500 - val_recall: 0.7037\n",
      "Epoch 4/4\n",
      "488/488 [==============================] - 3s 6ms/step - loss: 0.0035 - precision: 0.9111 - recall: 0.7950 - val_loss: 0.0032 - val_precision: 0.9419 - val_recall: 0.7500\n"
     ]
    }
   ],
   "source": [
    "history=model.fit(train_LSTM_X, train_LSTM_y,epochs=4,batch_size=400,validation_data=(test_LSTM_X, test_LSTM_y))"
   ]
  },
  {
   "cell_type": "code",
   "execution_count": 14,
   "metadata": {
    "id": "lUAD5FIS3Z1I"
   },
   "outputs": [],
   "source": [
    "# predict probabilities for test set\n",
    "yhat_probs = model.predict(test_LSTM_X, verbose=0)\n",
    "# reduce to 1d array\n",
    "yhat_probs = yhat_probs[:, 0]> 0.5"
   ]
  },
  {
   "cell_type": "code",
   "execution_count": 15,
   "metadata": {
    "colab": {
     "base_uri": "https://localhost:8080/"
    },
    "id": "eiN2cjwX4Dzp",
    "outputId": "86ee0069-2931-41b4-bbb3-90a6a3940a21"
   },
   "outputs": [
    {
     "name": "stdout",
     "output_type": "stream",
     "text": [
      "Accuracy: 0.999625\n",
      "Precision: 0.941860\n",
      "Recall: 0.750000\n",
      "f1: 0.835052\n"
     ]
    }
   ],
   "source": [
    "# demonstration of calculating metrics for a neural network model using sklearn\n",
    "from sklearn.metrics import accuracy_score\n",
    "from sklearn.metrics import precision_score\n",
    "from sklearn.metrics import recall_score\n",
    "from sklearn.metrics import f1_score\n",
    "from sklearn.metrics import confusion_matrix\n",
    "\n",
    "# accuracy: (tp + tn) / (p + n)\n",
    "accuracy = accuracy_score(test_LSTM_y, yhat_probs)\n",
    "print('Accuracy: %f' % accuracy)\n",
    "# precision tp / (tp + fp)\n",
    "precision = precision_score(test_LSTM_y, yhat_probs)\n",
    "print('Precision: %f' % precision)\n",
    "# recall: tp / (tp + fn)\n",
    "recall = recall_score(test_LSTM_y, yhat_probs)\n",
    "print('Recall: %f' % recall)\n",
    "f1 = f1_score(test_LSTM_y, yhat_probs)\n",
    "print('f1: %f' % f1)"
   ]
  },
  {
   "cell_type": "code",
   "execution_count": 16,
   "metadata": {
    "id": "02D_-hIJ4JiB"
   },
   "outputs": [],
   "source": [
    "%matplotlib inline\n",
    "from sklearn.metrics import confusion_matrix\n",
    "import itertools\n",
    "import matplotlib.pyplot as plt"
   ]
  },
  {
   "cell_type": "code",
   "execution_count": 17,
   "metadata": {
    "id": "D5jRpnhBCKKM"
   },
   "outputs": [],
   "source": [
    "cm = confusion_matrix(y_true=test_LSTM_y, y_pred=yhat_probs)"
   ]
  },
  {
   "cell_type": "code",
   "execution_count": 18,
   "metadata": {
    "id": "G6wvKPIQCKYs"
   },
   "outputs": [],
   "source": [
    "def plot_confusion_matrix(cm, classes,\n",
    "                        normalize=False,\n",
    "                        title='Confusion matrix',\n",
    "                        cmap=plt.cm.Blues):\n",
    "    \"\"\"\n",
    "    This function prints and plots the confusion matrix.\n",
    "    Normalization can be applied by setting `normalize=True`.\n",
    "    \"\"\"\n",
    "    plt.imshow(cm, interpolation='nearest', cmap=cmap)\n",
    "    plt.title(title)\n",
    "    plt.colorbar()\n",
    "    tick_marks = np.arange(len(classes))\n",
    "    plt.xticks(tick_marks, classes, rotation=45)\n",
    "    plt.yticks(tick_marks, classes)\n",
    "\n",
    "    if normalize:\n",
    "        cm = cm.astype('float') / cm.sum(axis=1)[:, np.newaxis]\n",
    "        print(\"Normalized confusion matrix\")\n",
    "    else:\n",
    "        print('Confusion matrix, without normalization')\n",
    "\n",
    "    print(cm)\n",
    "\n",
    "    thresh = cm.max() / 2.\n",
    "    for i, j in itertools.product(range(cm.shape[0]), range(cm.shape[1])):\n",
    "        plt.text(j, i, cm[i, j],\n",
    "            horizontalalignment=\"center\",\n",
    "            color=\"white\" if cm[i, j] > thresh else \"black\")\n",
    "\n",
    "    plt.tight_layout()\n",
    "    plt.ylabel('True label')\n",
    "    plt.xlabel('Predicted label')\n",
    "labels = ['Normal','Fraud']"
   ]
  },
  {
   "cell_type": "code",
   "execution_count": 19,
   "metadata": {
    "colab": {
     "base_uri": "https://localhost:8080/",
     "height": 362
    },
    "id": "K3CQINI1VyI8",
    "outputId": "4d02c5dc-54cc-4414-d8da-fe62508573c9"
   },
   "outputs": [
    {
     "name": "stdout",
     "output_type": "stream",
     "text": [
      "Confusion matrix, without normalization\n",
      "[[85330     5]\n",
      " [   27    81]]\n"
     ]
    },
    {
     "data": {
      "image/png": "[encoded data removed]",
      "text/plain": [
       "<Figure size 432x288 with 2 Axes>"
      ]
     },
     "metadata": {
      "needs_background": "light"
     },
     "output_type": "display_data"
    }
   ],
   "source": [
    "plot_confusion_matrix(cm=cm, classes=labels, title='LSTM')"
   ]
  },
  {
   "cell_type": "code",
   "execution_count": 20,
   "metadata": {
    "id": "9eyxl7gxDjKk"
   },
   "outputs": [],
   "source": [
    "class attention(Layer):\n",
    "    def __init__(self,**kwargs):\n",
    "        super(attention,self).__init__(**kwargs)\n",
    "\n",
    "    def build(self,input_shape):\n",
    "        self.W=self.add_weight(name=\"att_weight\",shape=(input_shape[-1],1),initializer=\"normal\")\n",
    "        self.b=self.add_weight(name=\"att_bias\",shape=(input_shape[1],1),initializer=\"zeros\")        \n",
    "        super(attention, self).build(input_shape)\n",
    "\n",
    "    def call(self,x):\n",
    "        et=K.squeeze(K.tanh(K.dot(x,self.W)+self.b),axis=-1)\n",
    "        at=K.softmax(et)\n",
    "        at=K.expand_dims(at,axis=-1)\n",
    "        output=x*at\n",
    "        return K.sum(output,axis=1)\n",
    "\n",
    "    def compute_output_shape(self,input_shape):\n",
    "        return (input_shape[0],input_shape[-1])\n",
    "\n",
    "    def get_config(self):\n",
    "        return super(attention,self).get_config()"
   ]
  },
  {
   "cell_type": "code",
   "execution_count": 21,
   "metadata": {
    "id": "UdJq4u3EC_Sy"
   },
   "outputs": [],
   "source": [
    "inputs1=Input((1,19))\n",
    "att_in=LSTM(50,return_sequences=True)(inputs1)\n",
    "att_out=attention()(att_in)\n",
    "outputs1=Dense(1,activation='sigmoid',trainable=True)(att_out)\n",
    "model1=Model(inputs1,outputs1)"
   ]
  },
  {
   "cell_type": "code",
   "execution_count": 22,
   "metadata": {
    "id": "vl454wu1C_sr"
   },
   "outputs": [],
   "source": [
    "model1.compile(loss='binary_crossentropy', optimizer='adam',metrics=['Precision','Recall'])"
   ]
  },
  {
   "cell_type": "code",
   "execution_count": 23,
   "metadata": {
    "id": "wvr6t9ivDryi"
   },
   "outputs": [
    {
     "name": "stdout",
     "output_type": "stream",
     "text": [
      "Epoch 1/5\n",
      "390/390 [==============================] - 5s 5ms/step - loss: 0.1909 - precision: 0.0554 - recall: 0.6260\n",
      "Epoch 2/5\n",
      "390/390 [==============================] - 2s 5ms/step - loss: 0.0119 - precision: 0.8703 - recall: 0.7618\n",
      "Epoch 3/5\n",
      "390/390 [==============================] - 2s 5ms/step - loss: 0.0057 - precision: 0.8800 - recall: 0.7922\n",
      "Epoch 4/5\n",
      "390/390 [==============================] - 2s 5ms/step - loss: 0.0041 - precision: 0.8984 - recall: 0.7839\n",
      "Epoch 5/5\n",
      "390/390 [==============================] - 2s 5ms/step - loss: 0.0034 - precision: 0.9031 - recall: 0.8006\n"
     ]
    }
   ],
   "source": [
    "history1=model1.fit(train_LSTM_X, train_LSTM_y,epochs=5,batch_size=500)"
   ]
  },
  {
   "cell_type": "code",
   "execution_count": 24,
   "metadata": {
    "id": "FowJ3_QvDsD6"
   },
   "outputs": [],
   "source": [
    "# predict probabilities for test set\n",
    "yhat_probs1 = model1.predict(test_LSTM_X, verbose=0)\n",
    "# reduce to 1d array\n",
    "yhat_probs1 = yhat_probs1[:, 0]> 0.5"
   ]
  },
  {
   "cell_type": "code",
   "execution_count": 25,
   "metadata": {
    "colab": {
     "base_uri": "https://localhost:8080/"
    },
    "id": "91TI5B2sESst",
    "outputId": "0fe68a3e-4217-42d1-9619-472263c2d804"
   },
   "outputs": [
    {
     "name": "stdout",
     "output_type": "stream",
     "text": [
      "Accuracy: 0.999649\n",
      "Precision: 0.975610\n",
      "Recall: 0.740741\n",
      "f1: 0.842105\n"
     ]
    }
   ],
   "source": [
    "# accuracy: (tp + tn) / (p + n)\n",
    "accuracy = accuracy_score(test_LSTM_y, yhat_probs1)\n",
    "print('Accuracy: %f' % accuracy)\n",
    "# precision tp / (tp + fp)\n",
    "precision = precision_score(test_LSTM_y, yhat_probs1)\n",
    "print('Precision: %f' % precision)\n",
    "# recall: tp / (tp + fn)\n",
    "recall = recall_score(test_LSTM_y, yhat_probs1)\n",
    "print('Recall: %f' % recall)\n",
    "f1 = f1_score(test_LSTM_y, yhat_probs1)\n",
    "print('f1: %f' % f1)"
   ]
  },
  {
   "cell_type": "code",
   "execution_count": 26,
   "metadata": {
    "id": "GaFfUn6xEpMn"
   },
   "outputs": [],
   "source": [
    "cm1 = confusion_matrix(y_true=test_LSTM_y, y_pred=yhat_probs1)"
   ]
  },
  {
   "cell_type": "code",
   "execution_count": 27,
   "metadata": {
    "colab": {
     "base_uri": "https://localhost:8080/",
     "height": 362
    },
    "id": "ZFXwEl17ES7A",
    "outputId": "92daea33-c2f5-4354-ee72-eb9e4759e176"
   },
   "outputs": [
    {
     "name": "stdout",
     "output_type": "stream",
     "text": [
      "Confusion matrix, without normalization\n",
      "[[85333     2]\n",
      " [   28    80]]\n"
     ]
    },
    {
     "data": {
      "image/png": "[encoded data removed]",
      "text/plain": [
       "<Figure size 432x288 with 2 Axes>"
      ]
     },
     "metadata": {
      "needs_background": "light"
     },
     "output_type": "display_data"
    }
   ],
   "source": [
    "plot_confusion_matrix(cm=cm1, classes=labels, title='LSTM-Attention', normalize=False)"
   ]
  }
 ],
 "metadata": {
  "colab": {
   "collapsed_sections": [],
   "name": "LSTM_Models.ipynb",
   "provenance": []
  },
  "kernelspec": {
   "display_name": "Python 3.9.7 ('base')",
   "language": "python",
   "name": "python3"
  },
  "language_info": {
   "codemirror_mode": {
    "name": "ipython",
    "version": 3
   },
   "file_extension": ".py",
   "mimetype": "text/x-python",
   "name": "python",
   "nbconvert_exporter": "python",
   "pygments_lexer": "ipython3",
   "version": "3.9.7"
  },
  "vscode": {
   "interpreter": {
    "hash": "408d89a3b80ac34e5cdc914373b09bb69ba3e3a6a7f756d6d7498fd367058138"
   }
  }
 },
 "nbformat": 4,
 "nbformat_minor": 1
}
